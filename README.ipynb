{
 "cells": [
  {
   "cell_type": "markdown",
   "metadata": {},
   "source": [
    "<p style=\"font-size:300%; text-align:center\"> Telco Customer Churn modeling</p>\n",
    "<p style=\"font-size:150%; text-align:center\"> How to retain Telco customers via machine learning <br>\n",
    "\n",
    "\n",
    "## Introduction\n",
    "\n",
    "Build a binary classifier to predict whether a customer will (\"soon\") stop doing business with Telco, a telecommunications company. The dataset of customer recored with both numerical and categorical data is considered this project. \n",
    "\n",
    "\n",
    "## Objectives\n",
    "\n",
    "- Understand all required aspects of the features\n",
    "- clean data \n",
    "- choose classifiers \n",
    "\n",
    "\n",
    "## The Project\n",
    "\n",
    "The main goal of this project is to create a classification model. For this project you have the choice to either:\n",
    "\n",
    "- choose a data set from a curated list\n",
    "- choose your own data set _outside_ of the curated list. \n",
    "\n",
    "The data guidelines for either option are shown below\n",
    "\n",
    "For this project, you're going to select a dataset of your choosing and create a classification model. You'll start by identifying a problem you can solve with classification, and then identify a dataset. You'll then use everything you've learned about Data Science and Machine Learning thus far to source a dataset, preprocess and explore it, and then build and interpret a classification model that answers your chosen question.\n",
    "\n",
    "\n",
    "\n",
    "\n",
    "## Methodology and code origanization\n",
    "![](img/osemn.png)\n",
    "1. **1-Obtain.ipynb**: Data loading and initial visualization and exploration of target. outliers. \n",
    "2. **2-Scrub.ipynb**: Cleaning data and verifying integrety. initial feature engineering based on domain expertiese. Assess the degree of multicolliniarity and possible ways of handling it.  \n",
    "3. **3-EDA.ipynb**: visualization and exploration of features in relation to the target. \n",
    "4. **4-Model.ipynb**: Build a baseline model. Handel class imballance. Build several classification models. Compare evaluation matrices and bias variance tradoff off amoung them. Tune hyper parameters to achieve highest possible accuracy for acceptable level of recall. Prepare a suitable feature engineering strategy and impliment it to the best possible models.  \n",
    "5. **5-iNterpret.ipynb**: Further analyse the most important features obtained from the best model. Draw conclusion from the model and the predicted features. Build necessary figures to complement recommendation to Telco \n",
    "\n",
    "## final model summary\n",
    "![](img/RandForest_feature_importance.png)\n",
    "\n",
    "## comparison of churn prediction \n",
    "![](img/model_comparison.png)\n"
   ]
  },
  {
   "cell_type": "code",
   "execution_count": null,
   "metadata": {},
   "outputs": [],
   "source": []
  }
 ],
 "metadata": {
  "kernelspec": {
   "display_name": "Python [conda env:learn-env] *",
   "language": "python",
   "name": "conda-env-learn-env-py"
  },
  "language_info": {
   "codemirror_mode": {
    "name": "ipython",
    "version": 3
   },
   "file_extension": ".py",
   "mimetype": "text/x-python",
   "name": "python",
   "nbconvert_exporter": "python",
   "pygments_lexer": "ipython3",
   "version": "3.6.9"
  },
  "toc": {
   "base_numbering": 1,
   "nav_menu": {},
   "number_sections": true,
   "sideBar": true,
   "skip_h1_title": false,
   "title_cell": "Table of Contents",
   "title_sidebar": "Contents",
   "toc_cell": false,
   "toc_position": {},
   "toc_section_display": true,
   "toc_window_display": false
  }
 },
 "nbformat": 4,
 "nbformat_minor": 2
}
