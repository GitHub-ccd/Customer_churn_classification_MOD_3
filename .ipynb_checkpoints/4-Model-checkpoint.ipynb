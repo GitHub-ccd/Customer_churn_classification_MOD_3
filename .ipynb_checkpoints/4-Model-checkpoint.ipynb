{
 "cells": [
  {
   "cell_type": "markdown",
   "metadata": {},
   "source": [
    "<p style=\"font-size:300%; text-align:center\"> Telco Customer Churn modeling</p>\n",
    "<p style=\"font-size:150%; text-align:center\"> Focused customer retention programs <br> MOD3 Project - 4. Modeling</p>"
   ]
  },
  {
   "cell_type": "code",
   "execution_count": 1,
   "metadata": {},
   "outputs": [],
   "source": [
    "# import important libraries\n",
    "import numpy as np\n",
    "import pandas as pd\n",
    "import seaborn as sns\n",
    "import matplotlib.pyplot as plt"
   ]
  },
  {
   "cell_type": "code",
   "execution_count": 2,
   "metadata": {},
   "outputs": [],
   "source": [
    "# import important cleaned data\n",
    "df = pd.read_csv(\"data/telco_clean.csv\") # replace this \n",
    "#df.sample(6).T"
   ]
  },
  {
   "cell_type": "code",
   "execution_count": 3,
   "metadata": {},
   "outputs": [],
   "source": [
    "df['Churn'] = df['Churn'].apply(lambda x: x.strip().replace(\"Yes\", \"1\").replace(\"No\", \"0\"))\n",
    "df['Churn'] = df['Churn'].astype('int') "
   ]
  },
  {
   "cell_type": "code",
   "execution_count": 4,
   "metadata": {},
   "outputs": [],
   "source": [
    "def results(y_train, y_test, prediction_train, prediction_test):\n",
    "    print('-'*60)\n",
    "    print('Training accuracy Score:', accuracy_score(y_train, prediction_train))\n",
    "    print('Model accuracy Score:', accuracy_score(y_test, prediction_test))\n",
    "\n",
    "    print('-'*60)\n",
    "    #print('Confusion Matrix:\\n', confusion_matrix(y_test, prediction_test))\n",
    "    print('Confusion Matrix:\\n', pd.crosstab(y_test, prediction_test, rownames=['Actual'], colnames=['Predicted'],margins = True))\n",
    "\n",
    "    print('-'*60)\n",
    "    print('Classification Matrix:')\n",
    "    print(classification_report(y_test, prediction_test))"
   ]
  },
  {
   "cell_type": "markdown",
   "metadata": {},
   "source": [
    "## Seperate x, y and make dummy vatriables "
   ]
  },
  {
   "cell_type": "code",
   "execution_count": 5,
   "metadata": {},
   "outputs": [
    {
     "data": {
      "text/plain": [
       "Index(['SeniorCitizen', 'tenure', 'MonthlyCharges', 'TotalCharges', 'Churn',\n",
       "       'gender_Female', 'gender_Male', 'Partner_No', 'Partner_Yes',\n",
       "       'Dependents_No', 'Dependents_Yes', 'PhoneService_No',\n",
       "       'PhoneService_Yes', 'MultipleLines_No', 'MultipleLines_No_phone',\n",
       "       'MultipleLines_Yes', 'InternetService_DSL',\n",
       "       'InternetService_Fiber_optic', 'InternetService_No',\n",
       "       'OnlineSecurity_No', 'OnlineSecurity_No_internet', 'OnlineSecurity_Yes',\n",
       "       'OnlineBackup_No', 'OnlineBackup_No_internet', 'OnlineBackup_Yes',\n",
       "       'DeviceProtection_No', 'DeviceProtection_No_internet',\n",
       "       'DeviceProtection_Yes', 'TechSupport_No', 'TechSupport_No_internet',\n",
       "       'TechSupport_Yes', 'StreamingTV_No', 'StreamingTV_No_internet',\n",
       "       'StreamingTV_Yes', 'StreamingMovies_No', 'StreamingMovies_No_internet',\n",
       "       'StreamingMovies_Yes', 'Contract_Month_to_month', 'Contract_One_year',\n",
       "       'Contract_Two_year', 'PaperlessBilling_No', 'PaperlessBilling_Yes',\n",
       "       'PaymentMethod_Bank_transfer', 'PaymentMethod_Credit_card',\n",
       "       'PaymentMethod_Electronic_check', 'PaymentMethod_Mailed_check'],\n",
       "      dtype='object')"
      ]
     },
     "metadata": {},
     "output_type": "display_data"
    }
   ],
   "source": [
    "df = pd.get_dummies(df)\n",
    "display(df.columns)"
   ]
  },
  {
   "cell_type": "code",
   "execution_count": 6,
   "metadata": {},
   "outputs": [
    {
     "data": {
      "text/plain": [
       "Index(['SeniorCitizen', 'tenure', 'MonthlyCharges', 'TotalCharges', 'Churn',\n",
       "       'gender_Female', 'Partner_No', 'Dependents_No', 'PhoneService_Yes',\n",
       "       'MultipleLines_No', 'MultipleLines_Yes', 'InternetService_DSL',\n",
       "       'InternetService_Fiber_optic', 'OnlineSecurity_No',\n",
       "       'OnlineSecurity_Yes', 'OnlineBackup_No', 'OnlineBackup_Yes',\n",
       "       'DeviceProtection_No', 'DeviceProtection_Yes', 'TechSupport_No',\n",
       "       'TechSupport_Yes', 'StreamingTV_No', 'StreamingTV_Yes',\n",
       "       'StreamingMovies_No', 'StreamingMovies_Yes', 'Contract_Month_to_month',\n",
       "       'Contract_One_year', 'PaperlessBilling_Yes',\n",
       "       'PaymentMethod_Bank_transfer', 'PaymentMethod_Credit_card',\n",
       "       'PaymentMethod_Electronic_check'],\n",
       "      dtype='object')"
      ]
     },
     "metadata": {},
     "output_type": "display_data"
    }
   ],
   "source": [
    "# I manually droped the selected columns was to removes columns like \"OnlineSecurity_No_internet\" so the model results is more \n",
    "# interpretable \n",
    "df.drop(['gender_Male','Partner_Yes','Dependents_Yes','PhoneService_No','MultipleLines_No_phone',\n",
    "        'InternetService_No','OnlineSecurity_No_internet','OnlineBackup_No_internet',\n",
    "        'DeviceProtection_No_internet', 'TechSupport_No_internet', 'StreamingTV_No_internet',\n",
    "        'StreamingMovies_No_internet', 'Contract_Two_year', 'PaperlessBilling_No', \n",
    "         'PaymentMethod_Mailed_check'], axis=1, inplace=True)\n",
    "display(df.columns)"
   ]
  },
  {
   "cell_type": "code",
   "execution_count": 7,
   "metadata": {},
   "outputs": [],
   "source": [
    "X = df.drop(['Churn'], axis = 1)\n",
    "y = df['Churn']"
   ]
  },
  {
   "cell_type": "markdown",
   "metadata": {},
   "source": [
    "## Baseline model\n",
    "\n",
    "__which evaluation metric is most essential for this project ?__ <br>\n",
    "$$ \\text{Precision} = \\frac{\\text{Number of True Positives}}{\\text{Number of Predicted Positives}} = \\frac{\\text{TP}}{\\text{TP+FP}} $$    \n",
    "\n",
    "$$ \\text{Recall} = \\frac{\\text{Number of True Positives}}{\\text{Number of Actual Total Positives}} = \\frac{\\text{TP}}{\\text{TP+FN}}$$  \n",
    "  \n",
    "$$ \\text{Accuracy} = \\frac{\\text{Number of True Positives + True Negatives}}{\\text{Total Observations}} = \\frac{\\text{TP + TN}}{\\text{TP+TN+FP+FN}}  $$\n",
    "\n",
    "0 - not churned\n",
    "1 - churned.\n",
    "We want to predict churned (1) as accurately as possible. So, __FN__ is bad for us. Meaning model predict not churn but the customer actually churned. Then __recall__ is the important score for us. When evaluating between models we should pay more attention to recall and try to reduce FN as much as possible."
   ]
  },
  {
   "cell_type": "code",
   "execution_count": 8,
   "metadata": {},
   "outputs": [],
   "source": [
    "# make a test-train split\n",
    "from sklearn.model_selection import train_test_split\n",
    "split_size = 0.25\n",
    "\n",
    "X_train, X_test, y_train, y_test = train_test_split(X,y,test_size=split_size,random_state=63) #stratify=y"
   ]
  },
  {
   "cell_type": "code",
   "execution_count": 9,
   "metadata": {
    "scrolled": true
   },
   "outputs": [
    {
     "name": "stdout",
     "output_type": "stream",
     "text": [
      "Train dataset: (5274, 30)(5274,)\n",
      "Test dataset: (1758, 30)(1758,)\n"
     ]
    }
   ],
   "source": [
    "# What does the split data diemention look like \n",
    "print(\"Train dataset: {0}{1}\".format(X_train.shape, y_train.shape))\n",
    "print(\"Test dataset: {0}{1}\".format(X_test.shape, y_test.shape))"
   ]
  },
  {
   "cell_type": "code",
   "execution_count": 10,
   "metadata": {},
   "outputs": [],
   "source": [
    "#scale features \n",
    "from sklearn.preprocessing import StandardScaler\n",
    "ss = StandardScaler()\n",
    "# Scale the train and test data\n",
    "X_train = ss.fit_transform(X_train)\n",
    "X_test = ss.transform(X_test)"
   ]
  },
  {
   "cell_type": "markdown",
   "metadata": {},
   "source": [
    "### Logistic Regression"
   ]
  },
  {
   "cell_type": "code",
   "execution_count": 11,
   "metadata": {},
   "outputs": [
    {
     "name": "stderr",
     "output_type": "stream",
     "text": [
      "C:\\Anaconda3\\envs\\learn-env\\lib\\site-packages\\sklearn\\linear_model\\logistic.py:432: FutureWarning: Default solver will be changed to 'lbfgs' in 0.22. Specify a solver to silence this warning.\n",
      "  FutureWarning)\n"
     ]
    },
    {
     "name": "stdout",
     "output_type": "stream",
     "text": [
      "------------------------------------------------------------\n",
      "Training accuracy Score: 0.8100113765642776\n",
      "Model accuracy Score: 0.7986348122866894\n",
      "------------------------------------------------------------\n",
      "Confusion Matrix:\n",
      " Predicted     0    1   All\n",
      "Actual                    \n",
      "0          1159  118  1277\n",
      "1           236  245   481\n",
      "All        1395  363  1758\n",
      "------------------------------------------------------------\n",
      "Classification Matrix:\n",
      "              precision    recall  f1-score   support\n",
      "\n",
      "           0       0.83      0.91      0.87      1277\n",
      "           1       0.67      0.51      0.58       481\n",
      "\n",
      "    accuracy                           0.80      1758\n",
      "   macro avg       0.75      0.71      0.72      1758\n",
      "weighted avg       0.79      0.80      0.79      1758\n",
      "\n"
     ]
    }
   ],
   "source": [
    "from sklearn.linear_model import LogisticRegression\n",
    "from sklearn.metrics import accuracy_score, confusion_matrix, classification_report\n",
    "# fit the baseline model \n",
    "#create an instance and fit the model \n",
    "logreg_base = LogisticRegression() # all default parameters\n",
    "logreg_base.fit(X_train, y_train)\n",
    "\n",
    "#predictions\n",
    "prediction_train = logreg_base.predict(X_train)\n",
    "prediction_test = logreg_base.predict(X_test)\n",
    "\n",
    "# model results\n",
    "results(y_train, y_test, prediction_train, prediction_test)"
   ]
  },
  {
   "cell_type": "code",
   "execution_count": 12,
   "metadata": {},
   "outputs": [
    {
     "name": "stderr",
     "output_type": "stream",
     "text": [
      "C:\\Anaconda3\\envs\\learn-env\\lib\\site-packages\\sklearn\\externals\\six.py:31: DeprecationWarning: The module is deprecated in version 0.21 and will be removed in version 0.23 since we've dropped support for Python 2.7. Please rely on the official version of six (https://pypi.org/project/six/).\n",
      "  \"(https://pypi.org/project/six/).\", DeprecationWarning)\n"
     ]
    },
    {
     "name": "stdout",
     "output_type": "stream",
     "text": [
      "1    3886\n",
      "0    3886\n",
      "dtype: int64\n"
     ]
    }
   ],
   "source": [
    "'''\n",
    "smote\n",
    "refre to install docs \n",
    "https://imbalanced-learn.readthedocs.io/en/stable/install.html\n",
    "'''\n",
    "from imblearn.over_sampling import SMOTE\n",
    "\n",
    "smote = SMOTE()\n",
    "X_train_resampled, y_train_resampled = smote.fit_sample(X_train, y_train) \n",
    "print(pd.Series(y_train_resampled).value_counts())"
   ]
  },
  {
   "cell_type": "code",
   "execution_count": 13,
   "metadata": {},
   "outputs": [
    {
     "name": "stderr",
     "output_type": "stream",
     "text": [
      "C:\\Anaconda3\\envs\\learn-env\\lib\\site-packages\\sklearn\\linear_model\\logistic.py:432: FutureWarning: Default solver will be changed to 'lbfgs' in 0.22. Specify a solver to silence this warning.\n",
      "  FutureWarning)\n"
     ]
    },
    {
     "name": "stdout",
     "output_type": "stream",
     "text": [
      "------------------------------------------------------------\n",
      "Training accuracy Score: 0.7584376185058779\n",
      "Model accuracy Score: 0.7463026166097838\n",
      "------------------------------------------------------------\n",
      "Confusion Matrix:\n",
      " Predicted     0    1   All\n",
      "Actual                    \n",
      "0           953  324  1277\n",
      "1           122  359   481\n",
      "All        1075  683  1758\n",
      "------------------------------------------------------------\n",
      "Classification Matrix:\n",
      "              precision    recall  f1-score   support\n",
      "\n",
      "           0       0.89      0.75      0.81      1277\n",
      "           1       0.53      0.75      0.62       481\n",
      "\n",
      "    accuracy                           0.75      1758\n",
      "   macro avg       0.71      0.75      0.71      1758\n",
      "weighted avg       0.79      0.75      0.76      1758\n",
      "\n"
     ]
    }
   ],
   "source": [
    "# after SMOTE\n",
    "logreg_1 = LogisticRegression()\n",
    "logreg_1.fit(X_train_resampled, y_train_resampled)\n",
    "\n",
    "#predictions\n",
    "prediction_train = logreg_1.predict(X_train)\n",
    "prediction_test = logreg_1.predict(X_test)\n",
    "\n",
    "# model results\n",
    "results(y_train, y_test, prediction_train, prediction_test)"
   ]
  },
  {
   "cell_type": "code",
   "execution_count": 14,
   "metadata": {},
   "outputs": [
    {
     "name": "stdout",
     "output_type": "stream",
     "text": [
      "Train AUC: 0.8530955539800749\n",
      "Test AUC: 0.8310611376390549\n"
     ]
    },
    {
     "data": {
      "image/png": "[encoded data removed]",
      "text/plain": [
       "<Figure size 720x576 with 1 Axes>"
      ]
     },
     "metadata": {},
     "output_type": "display_data"
    }
   ],
   "source": [
    "from sklearn.metrics import roc_curve, auc\n",
    "\n",
    "y_score_test = logreg_1.decision_function(X_test)\n",
    "test_fpr, test_tpr, test_thresholds = roc_curve(y_test, y_score_test)\n",
    "\n",
    "y_score_train = logreg_1.decision_function(X_train)\n",
    "train_fpr, train_tpr, train_thresholds = roc_curve(y_train, y_score_train)\n",
    "\n",
    "# Train AUC\n",
    "print('Train AUC: {}'.format(auc(train_fpr, train_tpr)))\n",
    "print('Test AUC: {}'.format(auc(test_fpr, test_tpr)))\n",
    "\n",
    "# Seaborn's beautiful styling\n",
    "sns.set_style('darkgrid', {'axes.facecolor': '0.9'})\n",
    "\n",
    "plt.figure(figsize=(10,8))\n",
    "lw = 2\n",
    "\n",
    "plt.plot(train_fpr, train_tpr, color='blue',\n",
    "         lw=lw, label='Train ROC curve')\n",
    "plt.plot(test_fpr, test_tpr, color='darkorange',\n",
    "         lw=lw, label='Test ROC curve')\n",
    "\n",
    "plt.plot([0, 1], [0, 1], color='navy', lw=lw, linestyle='--')\n",
    "plt.xlim([0.0, 1.0])\n",
    "plt.ylim([0.0, 1.05])\n",
    "plt.yticks([i/20.0 for i in range(21)])\n",
    "plt.xticks([i/20.0 for i in range(21)])\n",
    "plt.xlabel('False Positive Rate')\n",
    "plt.ylabel('True Positive Rate')\n",
    "plt.title('Receiver operating characteristic (ROC) Curve')\n",
    "plt.legend(loc='lower right')\n",
    "plt.show()"
   ]
  },
  {
   "cell_type": "code",
   "execution_count": 15,
   "metadata": {},
   "outputs": [
    {
     "data": {
      "image/png": "[encoded data removed]",
      "text/plain": [
       "<Figure size 1080x432 with 1 Axes>"
      ]
     },
     "metadata": {},
     "output_type": "display_data"
    }
   ],
   "source": [
    "weights_LogReg = pd.Series(logreg_1.coef_[0], index=X.columns.values)\n",
    "weights_LogReg.sort_values(inplace=True)\n",
    "plt.figure(figsize=(15, 6))\n",
    "plt.xticks(rotation=90)\n",
    "features=plt.bar(weights_LogReg.index,weights_LogReg.values)"
   ]
  },
  {
   "cell_type": "code",
   "execution_count": 16,
   "metadata": {},
   "outputs": [
    {
     "name": "stdout",
     "output_type": "stream",
     "text": [
      "C: 100\n",
      "Training accuracy: 0.7821667524446732\n",
      "Test accuracy: 0.7480091012514221\n",
      "recall score :  0.7505197505197505\n",
      "\n",
      "C: 90\n",
      "Training accuracy: 0.7819094184251159\n",
      "Test accuracy: 0.7468714448236633\n",
      "recall score :  0.7484407484407485\n",
      "\n",
      "C: 10\n",
      "Training accuracy: 0.7821667524446732\n",
      "Test accuracy: 0.7485779294653014\n",
      "recall score :  0.7505197505197505\n",
      "\n",
      "C: 1\n",
      "Training accuracy: 0.7842254246011323\n",
      "Test accuracy: 0.7468714448236633\n",
      "recall score :  0.7484407484407485\n",
      "\n",
      "C: 0.1\n",
      "Training accuracy: 0.7822954194544519\n",
      "Test accuracy: 0.745164960182025\n",
      "recall score :  0.7422037422037422\n",
      "\n",
      "C: 0.001\n",
      "Training accuracy: 0.7361039629439012\n",
      "Test accuracy: 0.6575654152445961\n",
      "recall score :  0.8523908523908524\n",
      "\n",
      "C: 0.0001\n",
      "Training accuracy: 0.5\n",
      "Test accuracy: 0.7263936291240045\n",
      "recall score :  0.0\n",
      "\n"
     ]
    }
   ],
   "source": [
    "'''\n",
    "with tol=1e-6, max_iter=1000 increased precision added no benifit and increased calculation time. \n",
    "'''\n",
    "from sklearn.metrics import recall_score\n",
    "C = [100, 90, 10, 1, .1, .001, 0.0001]\n",
    "for c in C:\n",
    "    logmodel_tune = LogisticRegression(penalty='l1', C=c, solver='liblinear')\n",
    "    logmodel_tune.fit(X_train_resampled, y_train_resampled)\n",
    "    print('C:', c)\n",
    "    print('Training accuracy:', logmodel_tune.score(X_train_resampled, y_train_resampled))\n",
    "    print('Test accuracy:', logmodel_tune.score(X_test, y_test))\n",
    "    print('recall score : ', recall_score(y_test, logmodel_tune.predict(X_test)))\n",
    "    print('')"
   ]
  },
  {
   "cell_type": "code",
   "execution_count": 17,
   "metadata": {},
   "outputs": [
    {
     "name": "stdout",
     "output_type": "stream",
     "text": [
      "------------------------------------------------------------\n",
      "Training accuracy Score: 0.6526355707243079\n",
      "Model accuracy Score: 0.6575654152445961\n",
      "------------------------------------------------------------\n",
      "Confusion Matrix:\n",
      " Predicted    0    1   All\n",
      "Actual                   \n",
      "0          746  531  1277\n",
      "1           71  410   481\n",
      "All        817  941  1758\n",
      "------------------------------------------------------------\n",
      "Classification Matrix:\n",
      "              precision    recall  f1-score   support\n",
      "\n",
      "           0       0.91      0.58      0.71      1277\n",
      "           1       0.44      0.85      0.58       481\n",
      "\n",
      "    accuracy                           0.66      1758\n",
      "   macro avg       0.67      0.72      0.64      1758\n",
      "weighted avg       0.78      0.66      0.68      1758\n",
      "\n"
     ]
    }
   ],
   "source": [
    "\"\"\"\n",
    "from the hyper-parameter c optimization above \n",
    "c = 1 --> 0.001 accuracy went down from 0.75 -> 0.65 and recall increased 0.79 --> 0.88. Is this worth it ? \n",
    "\"\"\"\n",
    "\n",
    "logreg_2 = LogisticRegression(penalty='l1', C=0.001, solver='liblinear')\n",
    "logreg_2.fit(X_train_resampled, y_train_resampled)\n",
    "\n",
    "#predictions\n",
    "prediction_train = logreg_2.predict(X_train)\n",
    "prediction_test = logreg_2.predict(X_test)\n",
    "\n",
    "# model results\n",
    "results(y_train, y_test, prediction_train, prediction_test)\n"
   ]
  },
  {
   "cell_type": "code",
   "execution_count": 18,
   "metadata": {},
   "outputs": [
    {
     "data": {
      "image/png": "[encoded data removed]",
      "text/plain": [
       "<Figure size 432x288 with 2 Axes>"
      ]
     },
     "metadata": {},
     "output_type": "display_data"
    }
   ],
   "source": [
    "### Something wrong with the visualization \n",
    "import itertools\n",
    "\n",
    "# Create the basic matrix\n",
    "cnf_matrix=confusion_matrix(y_test, prediction_test)\n",
    "plt.imshow(cnf_matrix,  cmap=plt.cm.Blues) \n",
    "\n",
    "# Add title and axis labels\n",
    "plt.title('Confusion Matrix')\n",
    "plt.ylabel('True label')\n",
    "plt.xlabel('Predicted label')\n",
    "\n",
    "# Add appropriate axis scales\n",
    "class_names = set(y) # Get class labels to add to matrix\n",
    "tick_marks = np.arange(len(class_names))\n",
    "plt.xticks(tick_marks, class_names)\n",
    "plt.yticks(tick_marks, class_names)\n",
    "\n",
    "# Add labels to each cell\n",
    "thresh = cnf_matrix.max() / 2. # Used for text coloring below\n",
    "# Here we iterate through the confusion matrix and append labels to our visualization \n",
    "for i, j in itertools.product(range(cnf_matrix.shape[0]), range(cnf_matrix.shape[1])):\n",
    "        plt.text(j, i, cnf_matrix[i, j],\n",
    "                 horizontalalignment='center',\n",
    "                 color='white' if cnf_matrix[i, j] > thresh else 'black')\n",
    "\n",
    "# Add a legend\n",
    "plt.colorbar()\n",
    "plt.show()"
   ]
  },
  {
   "cell_type": "markdown",
   "metadata": {},
   "source": [
    "## Decision Tree"
   ]
  },
  {
   "cell_type": "code",
   "execution_count": 19,
   "metadata": {},
   "outputs": [
    {
     "name": "stdout",
     "output_type": "stream",
     "text": [
      "------------------------------------------------------------\n",
      "Training accuracy Score: 0.7785362153962837\n",
      "Model accuracy Score: 0.7542662116040956\n",
      "------------------------------------------------------------\n",
      "Confusion Matrix:\n",
      " Predicted     0    1   All\n",
      "Actual                    \n",
      "0          1023  254  1277\n",
      "1           178  303   481\n",
      "All        1201  557  1758\n",
      "------------------------------------------------------------\n",
      "Classification Matrix:\n",
      "              precision    recall  f1-score   support\n",
      "\n",
      "           0       0.85      0.80      0.83      1277\n",
      "           1       0.54      0.63      0.58       481\n",
      "\n",
      "    accuracy                           0.75      1758\n",
      "   macro avg       0.70      0.72      0.70      1758\n",
      "weighted avg       0.77      0.75      0.76      1758\n",
      "\n"
     ]
    }
   ],
   "source": [
    "from sklearn.tree import DecisionTreeClassifier \n",
    "# Create Decision Tree classifer object\n",
    "clf = DecisionTreeClassifier(criterion=\"entropy\", max_depth=5)\n",
    "\n",
    "# Train Decision Tree Classifer\n",
    "clf = clf.fit(X_train_resampled, y_train_resampled)\n",
    "#clf = clf.fit(X_train_resampled, y_train_resampled)\n",
    "\n",
    "\n",
    "#Predict the response for test dataset\n",
    "prediction_test = clf.predict(X_test)\n",
    "prediction_train = clf.predict(X_train)\n",
    "\n",
    "# model results\n",
    "results(y_train, y_test, prediction_train, prediction_test)"
   ]
  },
  {
   "cell_type": "code",
   "execution_count": 20,
   "metadata": {},
   "outputs": [
    {
     "ename": "InvocationException",
     "evalue": "GraphViz's executables not found",
     "output_type": "error",
     "traceback": [
      "\u001b[1;31m---------------------------------------------------------------------------\u001b[0m",
      "\u001b[1;31mInvocationException\u001b[0m                       Traceback (most recent call last)",
      "\u001b[1;32m<ipython-input-20-d22d717f1367>\u001b[0m in \u001b[0;36m<module>\u001b[1;34m\u001b[0m\n\u001b[0;32m     10\u001b[0m                 special_characters=True,feature_names = col_names,class_names=['0','1'])\n\u001b[0;32m     11\u001b[0m \u001b[0mgraph\u001b[0m \u001b[1;33m=\u001b[0m \u001b[0mpydotplus\u001b[0m\u001b[1;33m.\u001b[0m\u001b[0mgraph_from_dot_data\u001b[0m\u001b[1;33m(\u001b[0m\u001b[0mdot_data\u001b[0m\u001b[1;33m.\u001b[0m\u001b[0mgetvalue\u001b[0m\u001b[1;33m(\u001b[0m\u001b[1;33m)\u001b[0m\u001b[1;33m)\u001b[0m\u001b[1;33m\u001b[0m\u001b[1;33m\u001b[0m\u001b[0m\n\u001b[1;32m---> 12\u001b[1;33m \u001b[0mgraph\u001b[0m\u001b[1;33m.\u001b[0m\u001b[0mwrite_png\u001b[0m\u001b[1;33m(\u001b[0m\u001b[1;34m'img/tree1.png'\u001b[0m\u001b[1;33m)\u001b[0m\u001b[1;33m\u001b[0m\u001b[1;33m\u001b[0m\u001b[0m\n\u001b[0m\u001b[0;32m     13\u001b[0m \u001b[0mImage\u001b[0m\u001b[1;33m(\u001b[0m\u001b[0mgraph\u001b[0m\u001b[1;33m.\u001b[0m\u001b[0mcreate_png\u001b[0m\u001b[1;33m(\u001b[0m\u001b[1;33m)\u001b[0m\u001b[1;33m)\u001b[0m\u001b[1;33m\u001b[0m\u001b[1;33m\u001b[0m\u001b[0m\n",
      "\u001b[1;32mC:\\Anaconda3\\envs\\learn-env\\lib\\site-packages\\pydotplus\\graphviz.py\u001b[0m in \u001b[0;36m<lambda>\u001b[1;34m(path, f, prog)\u001b[0m\n\u001b[0;32m   1808\u001b[0m                 \u001b[1;32mlambda\u001b[0m \u001b[0mpath\u001b[0m\u001b[1;33m,\u001b[0m\u001b[1;33m\u001b[0m\u001b[1;33m\u001b[0m\u001b[0m\n\u001b[0;32m   1809\u001b[0m                 \u001b[0mf\u001b[0m\u001b[1;33m=\u001b[0m\u001b[0mfrmt\u001b[0m\u001b[1;33m,\u001b[0m\u001b[1;33m\u001b[0m\u001b[1;33m\u001b[0m\u001b[0m\n\u001b[1;32m-> 1810\u001b[1;33m                 \u001b[0mprog\u001b[0m\u001b[1;33m=\u001b[0m\u001b[0mself\u001b[0m\u001b[1;33m.\u001b[0m\u001b[0mprog\u001b[0m\u001b[1;33m:\u001b[0m \u001b[0mself\u001b[0m\u001b[1;33m.\u001b[0m\u001b[0mwrite\u001b[0m\u001b[1;33m(\u001b[0m\u001b[0mpath\u001b[0m\u001b[1;33m,\u001b[0m \u001b[0mformat\u001b[0m\u001b[1;33m=\u001b[0m\u001b[0mf\u001b[0m\u001b[1;33m,\u001b[0m \u001b[0mprog\u001b[0m\u001b[1;33m=\u001b[0m\u001b[0mprog\u001b[0m\u001b[1;33m)\u001b[0m\u001b[1;33m\u001b[0m\u001b[1;33m\u001b[0m\u001b[0m\n\u001b[0m\u001b[0;32m   1811\u001b[0m             )\n\u001b[0;32m   1812\u001b[0m \u001b[1;33m\u001b[0m\u001b[0m\n",
      "\u001b[1;32mC:\\Anaconda3\\envs\\learn-env\\lib\\site-packages\\pydotplus\\graphviz.py\u001b[0m in \u001b[0;36mwrite\u001b[1;34m(self, path, prog, format)\u001b[0m\n\u001b[0;32m   1916\u001b[0m \u001b[1;33m\u001b[0m\u001b[0m\n\u001b[0;32m   1917\u001b[0m             \u001b[1;32melse\u001b[0m\u001b[1;33m:\u001b[0m\u001b[1;33m\u001b[0m\u001b[1;33m\u001b[0m\u001b[0m\n\u001b[1;32m-> 1918\u001b[1;33m                 \u001b[0mfobj\u001b[0m\u001b[1;33m.\u001b[0m\u001b[0mwrite\u001b[0m\u001b[1;33m(\u001b[0m\u001b[0mself\u001b[0m\u001b[1;33m.\u001b[0m\u001b[0mcreate\u001b[0m\u001b[1;33m(\u001b[0m\u001b[0mprog\u001b[0m\u001b[1;33m,\u001b[0m \u001b[0mformat\u001b[0m\u001b[1;33m)\u001b[0m\u001b[1;33m)\u001b[0m\u001b[1;33m\u001b[0m\u001b[1;33m\u001b[0m\u001b[0m\n\u001b[0m\u001b[0;32m   1919\u001b[0m         \u001b[1;32mfinally\u001b[0m\u001b[1;33m:\u001b[0m\u001b[1;33m\u001b[0m\u001b[1;33m\u001b[0m\u001b[0m\n\u001b[0;32m   1920\u001b[0m             \u001b[1;32mif\u001b[0m \u001b[0mclose\u001b[0m\u001b[1;33m:\u001b[0m\u001b[1;33m\u001b[0m\u001b[1;33m\u001b[0m\u001b[0m\n",
      "\u001b[1;32mC:\\Anaconda3\\envs\\learn-env\\lib\\site-packages\\pydotplus\\graphviz.py\u001b[0m in \u001b[0;36mcreate\u001b[1;34m(self, prog, format)\u001b[0m\n\u001b[0;32m   1958\u001b[0m             \u001b[1;32mif\u001b[0m \u001b[0mself\u001b[0m\u001b[1;33m.\u001b[0m\u001b[0mprogs\u001b[0m \u001b[1;32mis\u001b[0m \u001b[1;32mNone\u001b[0m\u001b[1;33m:\u001b[0m\u001b[1;33m\u001b[0m\u001b[1;33m\u001b[0m\u001b[0m\n\u001b[0;32m   1959\u001b[0m                 raise InvocationException(\n\u001b[1;32m-> 1960\u001b[1;33m                     'GraphViz\\'s executables not found')\n\u001b[0m\u001b[0;32m   1961\u001b[0m \u001b[1;33m\u001b[0m\u001b[0m\n\u001b[0;32m   1962\u001b[0m         \u001b[1;32mif\u001b[0m \u001b[0mprog\u001b[0m \u001b[1;32mnot\u001b[0m \u001b[1;32min\u001b[0m \u001b[0mself\u001b[0m\u001b[1;33m.\u001b[0m\u001b[0mprogs\u001b[0m\u001b[1;33m:\u001b[0m\u001b[1;33m\u001b[0m\u001b[1;33m\u001b[0m\u001b[0m\n",
      "\u001b[1;31mInvocationException\u001b[0m: GraphViz's executables not found"
     ]
    }
   ],
   "source": [
    "from sklearn.tree import export_graphviz\n",
    "from sklearn.externals.six import StringIO  \n",
    "from IPython.display import Image  \n",
    "import pydotplus\n",
    "\n",
    "col_names = list(X.columns)\n",
    "dot_data = StringIO()\n",
    "export_graphviz(clf, out_file=dot_data,  \n",
    "                filled=True, rounded=True,\n",
    "                special_characters=True,feature_names = col_names,class_names=['0','1'])\n",
    "graph = pydotplus.graph_from_dot_data(dot_data.getvalue())  \n",
    "graph.write_png('img/tree1.png')\n",
    "Image(graph.create_png())"
   ]
  },
  {
   "cell_type": "markdown",
   "metadata": {},
   "source": [
    "## SVM"
   ]
  },
  {
   "cell_type": "code",
   "execution_count": 28,
   "metadata": {},
   "outputs": [
    {
     "name": "stdout",
     "output_type": "stream",
     "text": [
      "------------------------------------------------------------\n",
      "Training accuracy Score: 0.7364429275692075\n",
      "Model accuracy Score: 0.7332195676905574\n",
      "------------------------------------------------------------\n",
      "Confusion Matrix:\n",
      " Predicted     0    1   All\n",
      "Actual                    \n",
      "0           926  351  1277\n",
      "1           118  363   481\n",
      "All        1044  714  1758\n",
      "------------------------------------------------------------\n",
      "Classification Matrix:\n",
      "              precision    recall  f1-score   support\n",
      "\n",
      "           0       0.89      0.73      0.80      1277\n",
      "           1       0.51      0.75      0.61       481\n",
      "\n",
      "    accuracy                           0.73      1758\n",
      "   macro avg       0.70      0.74      0.70      1758\n",
      "weighted avg       0.78      0.73      0.75      1758\n",
      "\n"
     ]
    }
   ],
   "source": [
    "from sklearn.svm import SVC\n",
    "\n",
    "clf_svm_1 = SVC(kernel='linear')\n",
    "clf_svm_1.fit(X_train_resampled, y_train_resampled)\n",
    "\n",
    "#Predict the response for test dataset\n",
    "prediction_test = clf_svm_1.predict(X_test)\n",
    "prediction_train = clf_svm_1.predict(X_train)\n",
    "\n",
    "# model results\n",
    "results(y_train, y_test, prediction_train, prediction_test)"
   ]
  },
  {
   "cell_type": "code",
   "execution_count": 29,
   "metadata": {},
   "outputs": [
    {
     "data": {
      "image/png": "[encoded data removed]",
      "text/plain": [
       "<Figure size 1080x432 with 1 Axes>"
      ]
     },
     "metadata": {},
     "output_type": "display_data"
    }
   ],
   "source": [
    "weights_svm = pd.Series(clf_svm_1.coef_[0], index=X.columns.values)\n",
    "weights_svm.sort_values(inplace=True)\n",
    "plt.figure(figsize=(15, 6))\n",
    "plt.xticks(rotation=90)\n",
    "features=plt.bar(weights_svm.index,weights_svm.values)"
   ]
  },
  {
   "cell_type": "markdown",
   "metadata": {},
   "source": [
    "## model comparison"
   ]
  },
  {
   "cell_type": "code",
   "execution_count": 38,
   "metadata": {},
   "outputs": [
    {
     "name": "stderr",
     "output_type": "stream",
     "text": [
      "C:\\Anaconda3\\envs\\learn-env\\lib\\site-packages\\sklearn\\linear_model\\logistic.py:432: FutureWarning:\n",
      "\n",
      "Default solver will be changed to 'lbfgs' in 0.22. Specify a solver to silence this warning.\n",
      "\n"
     ]
    },
    {
     "data": {
      "text/html": [
       "<div>\n",
       "<style scoped>\n",
       "    .dataframe tbody tr th:only-of-type {\n",
       "        vertical-align: middle;\n",
       "    }\n",
       "\n",
       "    .dataframe tbody tr th {\n",
       "        vertical-align: top;\n",
       "    }\n",
       "\n",
       "    .dataframe thead th {\n",
       "        text-align: right;\n",
       "    }\n",
       "</style>\n",
       "<table border=\"1\" class=\"dataframe\">\n",
       "  <thead>\n",
       "    <tr style=\"text-align: right;\">\n",
       "      <th></th>\n",
       "      <th>Model</th>\n",
       "      <th>Accuracy_score</th>\n",
       "      <th>Recall_score</th>\n",
       "      <th>Precision</th>\n",
       "      <th>f1_score</th>\n",
       "      <th>Area_under_curve</th>\n",
       "    </tr>\n",
       "  </thead>\n",
       "  <tbody>\n",
       "    <tr>\n",
       "      <td>0</td>\n",
       "      <td>Logistic Regression(Baseline_model)</td>\n",
       "      <td>0.746303</td>\n",
       "      <td>0.746362</td>\n",
       "      <td>0.525622</td>\n",
       "      <td>0.616838</td>\n",
       "      <td>0.746321</td>\n",
       "    </tr>\n",
       "    <tr>\n",
       "      <td>1</td>\n",
       "      <td>Decision Tree</td>\n",
       "      <td>0.740046</td>\n",
       "      <td>0.665281</td>\n",
       "      <td>0.519481</td>\n",
       "      <td>0.583409</td>\n",
       "      <td>0.716744</td>\n",
       "    </tr>\n",
       "    <tr>\n",
       "      <td>2</td>\n",
       "      <td>KNN Classifier</td>\n",
       "      <td>0.684869</td>\n",
       "      <td>0.669439</td>\n",
       "      <td>0.449093</td>\n",
       "      <td>0.537563</td>\n",
       "      <td>0.680060</td>\n",
       "    </tr>\n",
       "    <tr>\n",
       "      <td>3</td>\n",
       "      <td>Random Forest Classifier</td>\n",
       "      <td>0.765074</td>\n",
       "      <td>0.669439</td>\n",
       "      <td>0.559028</td>\n",
       "      <td>0.609272</td>\n",
       "      <td>0.735267</td>\n",
       "    </tr>\n",
       "    <tr>\n",
       "      <td>4</td>\n",
       "      <td>Naive Bayes</td>\n",
       "      <td>0.751422</td>\n",
       "      <td>0.708940</td>\n",
       "      <td>0.534483</td>\n",
       "      <td>0.609473</td>\n",
       "      <td>0.738182</td>\n",
       "    </tr>\n",
       "    <tr>\n",
       "      <td>5</td>\n",
       "      <td>SVM Classifier Linear</td>\n",
       "      <td>0.733220</td>\n",
       "      <td>0.754678</td>\n",
       "      <td>0.508403</td>\n",
       "      <td>0.607531</td>\n",
       "      <td>0.739907</td>\n",
       "    </tr>\n",
       "    <tr>\n",
       "      <td>6</td>\n",
       "      <td>XGBoost Classifier</td>\n",
       "      <td>0.758817</td>\n",
       "      <td>0.521830</td>\n",
       "      <td>0.564045</td>\n",
       "      <td>0.542117</td>\n",
       "      <td>0.684955</td>\n",
       "    </tr>\n",
       "  </tbody>\n",
       "</table>\n",
       "</div>"
      ],
      "text/plain": [
       "                                 Model  Accuracy_score  Recall_score  \\\n",
       "0  Logistic Regression(Baseline_model)        0.746303      0.746362   \n",
       "1                        Decision Tree        0.740046      0.665281   \n",
       "2                       KNN Classifier        0.684869      0.669439   \n",
       "3             Random Forest Classifier        0.765074      0.669439   \n",
       "4                          Naive Bayes        0.751422      0.708940   \n",
       "5                SVM Classifier Linear        0.733220      0.754678   \n",
       "6                   XGBoost Classifier        0.758817      0.521830   \n",
       "\n",
       "   Precision  f1_score  Area_under_curve  \n",
       "0   0.525622  0.616838          0.746321  \n",
       "1   0.519481  0.583409          0.716744  \n",
       "2   0.449093  0.537563          0.680060  \n",
       "3   0.559028  0.609272          0.735267  \n",
       "4   0.534483  0.609473          0.738182  \n",
       "5   0.508403  0.607531          0.739907  \n",
       "6   0.564045  0.542117          0.684955  "
      ]
     },
     "metadata": {},
     "output_type": "display_data"
    }
   ],
   "source": [
    "from sklearn.metrics import f1_score\n",
    "from sklearn.metrics import cohen_kappa_score\n",
    "from sklearn.metrics import precision_score\n",
    "from sklearn.metrics import roc_auc_score\n",
    "from sklearn.neighbors import KNeighborsClassifier\n",
    "from sklearn.ensemble import RandomForestClassifier\n",
    "from sklearn.svm import SVC\n",
    "from sklearn.naive_bayes import GaussianNB\n",
    "from xgboost import XGBClassifier\n",
    "\n",
    "#gives model report in dataframe\n",
    "def model_report(model,training_x,testing_x,training_y,testing_y,name) :\n",
    "    model.fit(training_x,training_y)\n",
    "    predictions  = model.predict(testing_x)\n",
    "    accuracy     = accuracy_score(testing_y,predictions)\n",
    "    recallscore  = recall_score(testing_y,predictions)\n",
    "    precision    = precision_score(testing_y,predictions)\n",
    "    roc_auc      = roc_auc_score(testing_y,predictions)\n",
    "    f1score      = f1_score(testing_y,predictions) \n",
    "\n",
    "    \n",
    "    df = pd.DataFrame({\"Model\"           : [name],\n",
    "                       \"Accuracy_score\"  : [accuracy],\n",
    "                       \"Recall_score\"    : [recallscore],\n",
    "                       \"Precision\"       : [precision],\n",
    "                       \"f1_score\"        : [f1score],\n",
    "                       \"Area_under_curve\": [roc_auc],\n",
    "                      })\n",
    "    return df\n",
    "\n",
    "#outputs for every model\n",
    "logit = LogisticRegression()\n",
    "model1 = model_report(logit,X_train_resampled,X_test,y_train_resampled,y_test,\n",
    "                      \"Logistic Regression(Baseline_model)\")\n",
    "decision_tree = DecisionTreeClassifier(max_depth = 9,\n",
    "                                       random_state = 123,\n",
    "                                       splitter  = \"best\",\n",
    "                                       criterion = \"gini\",\n",
    "                                      )\n",
    "model4 = model_report(decision_tree,X_train_resampled,X_test,y_train_resampled,y_test,\n",
    "                      \"Decision Tree\")\n",
    "knn = KNeighborsClassifier(algorithm='auto', leaf_size=30, metric='minkowski',\n",
    "           metric_params=None, n_jobs=1, n_neighbors=5, p=2,\n",
    "           weights='uniform')\n",
    "\n",
    "model5 = model_report(knn,X_train_resampled,X_test,y_train_resampled,y_test,\n",
    "                      \"KNN Classifier\")\n",
    "rfc = RandomForestClassifier(n_estimators = 1000,\n",
    "                             random_state = 123,\n",
    "                             max_depth = 9,\n",
    "                             criterion = \"gini\")\n",
    "model6 = model_report(rfc,X_train_resampled,X_test,y_train_resampled,y_test,\n",
    "                      \"Random Forest Classifier\")\n",
    "gnb = GaussianNB(priors=None)\n",
    "model7 = model_report(gnb,X_train_resampled,X_test,y_train_resampled,y_test,\n",
    "                      \"Naive Bayes\")\n",
    "svc_lin  = SVC(C=1.0, cache_size=200, class_weight=None, coef0=0.0,\n",
    "               decision_function_shape='ovr', degree=3, gamma=1.0, kernel='linear',\n",
    "               max_iter=-1, probability=True, random_state=None, shrinking=True,\n",
    "               tol=0.001, verbose=False)\n",
    "model8 = model_report(svc_lin,X_train_resampled,X_test,y_train_resampled,y_test,\n",
    "                      \"SVM Classifier Linear\")\n",
    "xgc = XGBClassifier(base_score=0.5, booster='gbtree', colsample_bylevel=1,\n",
    "                    colsample_bytree=1, gamma=0, learning_rate=0.9, max_delta_step=0,\n",
    "                    max_depth = 7, min_child_weight=1, missing=None, n_estimators=100,\n",
    "                    n_jobs=1, nthread=None, objective='binary:logistic', random_state=0,\n",
    "                    reg_alpha=0, reg_lambda=1, scale_pos_weight=1, seed=None,\n",
    "                    silent=True, subsample=1)\n",
    "model11 = model_report(xgc,X_train_resampled,X_test,y_train_resampled,y_test,\n",
    "                      \"XGBoost Classifier\")\n",
    "\n",
    "#concat all models\n",
    "model_performances = pd.concat([model1,model4,model5,model6,\n",
    "                                model7,model8,model11],axis = 0).reset_index()\n",
    "\n",
    "model_performances = model_performances.drop(columns = \"index\",axis =1)\n",
    "display(model_performances)"
   ]
  },
  {
   "cell_type": "code",
   "execution_count": 39,
   "metadata": {},
   "outputs": [
    {
     "data": {
      "text/html": [
       "        <script type=\"text/javascript\">\n",
       "        window.PlotlyConfig = {MathJaxConfig: 'local'};\n",
       "        if (window.MathJax) {MathJax.Hub.Config({SVG: {font: \"STIX-Web\"}});}\n",
       "        if (typeof require !== 'undefined') {\n",
       "        require.undef(\"plotly\");\n",
       "        requirejs.config({\n",
       "            paths: {\n",
       "                'plotly': ['https://cdn.plot.ly/plotly-latest.min']\n",
       "            }\n",
       "        });\n",
       "        require(['plotly'], function(Plotly) {\n",
       "            window._Plotly = Plotly;\n",
       "        });\n",
       "        }\n",
       "        </script>\n",
       "        "
      ]
     },
     "metadata": {},
     "output_type": "display_data"
    },
    {
     "data": {
      "application/vnd.plotly.v1+json": {
       "config": {
        "linkText": "Export to plot.ly",
        "plotlyServerURL": "https://plot.ly",
        "showLink": false
       },
       "data": [
        {
         "marker": {
          "color": "#6699FF",
          "line": {
           "width": 0.7
          }
         },
         "name": "Accuracy_score",
         "orientation": "h",
         "type": "bar",
         "x": [
          0.7463026166097838,
          0.7400455062571104,
          0.6848691695108078,
          0.7650739476678043,
          0.7514220705346986,
          0.7332195676905574,
          0.7588168373151308
         ],
         "y": [
          "Logistic Regression(Baseline_model)",
          "Decision Tree",
          "KNN Classifier",
          "Random Forest Classifier",
          "Naive Bayes",
          "SVM Classifier Linear",
          "XGBoost Classifier"
         ]
        },
        {
         "marker": {
          "color": "red",
          "line": {
           "width": 0.7
          }
         },
         "name": "Recall_score",
         "orientation": "h",
         "type": "bar",
         "x": [
          0.7463617463617463,
          0.6652806652806653,
          0.6694386694386695,
          0.6694386694386695,
          0.7089397089397089,
          0.7546777546777547,
          0.5218295218295218
         ],
         "y": [
          "Logistic Regression(Baseline_model)",
          "Decision Tree",
          "KNN Classifier",
          "Random Forest Classifier",
          "Naive Bayes",
          "SVM Classifier Linear",
          "XGBoost Classifier"
         ]
        },
        {
         "marker": {
          "color": "#33CC99",
          "line": {
           "width": 0.7
          }
         },
         "name": "Precision",
         "orientation": "h",
         "type": "bar",
         "x": [
          0.5256222547584187,
          0.5194805194805194,
          0.4490934449093445,
          0.5590277777777778,
          0.5344827586206896,
          0.5084033613445378,
          0.5640449438202247
         ],
         "y": [
          "Logistic Regression(Baseline_model)",
          "Decision Tree",
          "KNN Classifier",
          "Random Forest Classifier",
          "Naive Bayes",
          "SVM Classifier Linear",
          "XGBoost Classifier"
         ]
        },
        {
         "marker": {
          "color": "lightgrey",
          "line": {
           "width": 0.7
          }
         },
         "name": "f1_score",
         "orientation": "h",
         "type": "bar",
         "x": [
          0.6168384879725086,
          0.5834092980856882,
          0.5375626043405676,
          0.609271523178808,
          0.6094727435210008,
          0.6075313807531381,
          0.5421166306695464
         ],
         "y": [
          "Logistic Regression(Baseline_model)",
          "Decision Tree",
          "KNN Classifier",
          "Random Forest Classifier",
          "Naive Bayes",
          "SVM Classifier Linear",
          "XGBoost Classifier"
         ]
        }
       ],
       "layout": {
        "height": 780,
        "margin": {
         "l": 250
        },
        "paper_bgcolor": "rgb(243,243,243)",
        "plot_bgcolor": "rgb(243,243,243)",
        "template": {
         "data": {
          "bar": [
           {
            "error_x": {
             "color": "#2a3f5f"
            },
            "error_y": {
             "color": "#2a3f5f"
            },
            "marker": {
             "line": {
              "color": "#E5ECF6",
              "width": 0.5
             }
            },
            "type": "bar"
           }
          ],
          "barpolar": [
           {
            "marker": {
             "line": {
              "color": "#E5ECF6",
              "width": 0.5
             }
            },
            "type": "barpolar"
           }
          ],
          "carpet": [
           {
            "aaxis": {
             "endlinecolor": "#2a3f5f",
             "gridcolor": "white",
             "linecolor": "white",
             "minorgridcolor": "white",
             "startlinecolor": "#2a3f5f"
            },
            "baxis": {
             "endlinecolor": "#2a3f5f",
             "gridcolor": "white",
             "linecolor": "white",
             "minorgridcolor": "white",
             "startlinecolor": "#2a3f5f"
            },
            "type": "carpet"
           }
          ],
          "choropleth": [
           {
            "colorbar": {
             "outlinewidth": 0,
             "ticks": ""
            },
            "type": "choropleth"
           }
          ],
          "contour": [
           {
            "colorbar": {
             "outlinewidth": 0,
             "ticks": ""
            },
            "colorscale": [
             [
              0,
              "#0d0887"
             ],
             [
              0.1111111111111111,
              "#46039f"
             ],
             [
              0.2222222222222222,
              "#7201a8"
             ],
             [
              0.3333333333333333,
              "#9c179e"
             ],
             [
              0.4444444444444444,
              "#bd3786"
             ],
             [
              0.5555555555555556,
              "#d8576b"
             ],
             [
              0.6666666666666666,
              "#ed7953"
             ],
             [
              0.7777777777777778,
              "#fb9f3a"
             ],
             [
              0.8888888888888888,
              "#fdca26"
             ],
             [
              1,
              "#f0f921"
             ]
            ],
            "type": "contour"
           }
          ],
          "contourcarpet": [
           {
            "colorbar": {
             "outlinewidth": 0,
             "ticks": ""
            },
            "type": "contourcarpet"
           }
          ],
          "heatmap": [
           {
            "colorbar": {
             "outlinewidth": 0,
             "ticks": ""
            },
            "colorscale": [
             [
              0,
              "#0d0887"
             ],
             [
              0.1111111111111111,
              "#46039f"
             ],
             [
              0.2222222222222222,
              "#7201a8"
             ],
             [
              0.3333333333333333,
              "#9c179e"
             ],
             [
              0.4444444444444444,
              "#bd3786"
             ],
             [
              0.5555555555555556,
              "#d8576b"
             ],
             [
              0.6666666666666666,
              "#ed7953"
             ],
             [
              0.7777777777777778,
              "#fb9f3a"
             ],
             [
              0.8888888888888888,
              "#fdca26"
             ],
             [
              1,
              "#f0f921"
             ]
            ],
            "type": "heatmap"
           }
          ],
          "heatmapgl": [
           {
            "colorbar": {
             "outlinewidth": 0,
             "ticks": ""
            },
            "colorscale": [
             [
              0,
              "#0d0887"
             ],
             [
              0.1111111111111111,
              "#46039f"
             ],
             [
              0.2222222222222222,
              "#7201a8"
             ],
             [
              0.3333333333333333,
              "#9c179e"
             ],
             [
              0.4444444444444444,
              "#bd3786"
             ],
             [
              0.5555555555555556,
              "#d8576b"
             ],
             [
              0.6666666666666666,
              "#ed7953"
             ],
             [
              0.7777777777777778,
              "#fb9f3a"
             ],
             [
              0.8888888888888888,
              "#fdca26"
             ],
             [
              1,
              "#f0f921"
             ]
            ],
            "type": "heatmapgl"
           }
          ],
          "histogram": [
           {
            "marker": {
             "colorbar": {
              "outlinewidth": 0,
              "ticks": ""
             }
            },
            "type": "histogram"
           }
          ],
          "histogram2d": [
           {
            "colorbar": {
             "outlinewidth": 0,
             "ticks": ""
            },
            "colorscale": [
             [
              0,
              "#0d0887"
             ],
             [
              0.1111111111111111,
              "#46039f"
             ],
             [
              0.2222222222222222,
              "#7201a8"
             ],
             [
              0.3333333333333333,
              "#9c179e"
             ],
             [
              0.4444444444444444,
              "#bd3786"
             ],
             [
              0.5555555555555556,
              "#d8576b"
             ],
             [
              0.6666666666666666,
              "#ed7953"
             ],
             [
              0.7777777777777778,
              "#fb9f3a"
             ],
             [
              0.8888888888888888,
              "#fdca26"
             ],
             [
              1,
              "#f0f921"
             ]
            ],
            "type": "histogram2d"
           }
          ],
          "histogram2dcontour": [
           {
            "colorbar": {
             "outlinewidth": 0,
             "ticks": ""
            },
            "colorscale": [
             [
              0,
              "#0d0887"
             ],
             [
              0.1111111111111111,
              "#46039f"
             ],
             [
              0.2222222222222222,
              "#7201a8"
             ],
             [
              0.3333333333333333,
              "#9c179e"
             ],
             [
              0.4444444444444444,
              "#bd3786"
             ],
             [
              0.5555555555555556,
              "#d8576b"
             ],
             [
              0.6666666666666666,
              "#ed7953"
             ],
             [
              0.7777777777777778,
              "#fb9f3a"
             ],
             [
              0.8888888888888888,
              "#fdca26"
             ],
             [
              1,
              "#f0f921"
             ]
            ],
            "type": "histogram2dcontour"
           }
          ],
          "mesh3d": [
           {
            "colorbar": {
             "outlinewidth": 0,
             "ticks": ""
            },
            "type": "mesh3d"
           }
          ],
          "parcoords": [
           {
            "line": {
             "colorbar": {
              "outlinewidth": 0,
              "ticks": ""
             }
            },
            "type": "parcoords"
           }
          ],
          "scatter": [
           {
            "marker": {
             "colorbar": {
              "outlinewidth": 0,
              "ticks": ""
             }
            },
            "type": "scatter"
           }
          ],
          "scatter3d": [
           {
            "line": {
             "colorbar": {
              "outlinewidth": 0,
              "ticks": ""
             }
            },
            "marker": {
             "colorbar": {
              "outlinewidth": 0,
              "ticks": ""
             }
            },
            "type": "scatter3d"
           }
          ],
          "scattercarpet": [
           {
            "marker": {
             "colorbar": {
              "outlinewidth": 0,
              "ticks": ""
             }
            },
            "type": "scattercarpet"
           }
          ],
          "scattergeo": [
           {
            "marker": {
             "colorbar": {
              "outlinewidth": 0,
              "ticks": ""
             }
            },
            "type": "scattergeo"
           }
          ],
          "scattergl": [
           {
            "marker": {
             "colorbar": {
              "outlinewidth": 0,
              "ticks": ""
             }
            },
            "type": "scattergl"
           }
          ],
          "scattermapbox": [
           {
            "marker": {
             "colorbar": {
              "outlinewidth": 0,
              "ticks": ""
             }
            },
            "type": "scattermapbox"
           }
          ],
          "scatterpolar": [
           {
            "marker": {
             "colorbar": {
              "outlinewidth": 0,
              "ticks": ""
             }
            },
            "type": "scatterpolar"
           }
          ],
          "scatterpolargl": [
           {
            "marker": {
             "colorbar": {
              "outlinewidth": 0,
              "ticks": ""
             }
            },
            "type": "scatterpolargl"
           }
          ],
          "scatterternary": [
           {
            "marker": {
             "colorbar": {
              "outlinewidth": 0,
              "ticks": ""
             }
            },
            "type": "scatterternary"
           }
          ],
          "surface": [
           {
            "colorbar": {
             "outlinewidth": 0,
             "ticks": ""
            },
            "colorscale": [
             [
              0,
              "#0d0887"
             ],
             [
              0.1111111111111111,
              "#46039f"
             ],
             [
              0.2222222222222222,
              "#7201a8"
             ],
             [
              0.3333333333333333,
              "#9c179e"
             ],
             [
              0.4444444444444444,
              "#bd3786"
             ],
             [
              0.5555555555555556,
              "#d8576b"
             ],
             [
              0.6666666666666666,
              "#ed7953"
             ],
             [
              0.7777777777777778,
              "#fb9f3a"
             ],
             [
              0.8888888888888888,
              "#fdca26"
             ],
             [
              1,
              "#f0f921"
             ]
            ],
            "type": "surface"
           }
          ],
          "table": [
           {
            "cells": {
             "fill": {
              "color": "#EBF0F8"
             },
             "line": {
              "color": "white"
             }
            },
            "header": {
             "fill": {
              "color": "#C8D4E3"
             },
             "line": {
              "color": "white"
             }
            },
            "type": "table"
           }
          ]
         },
         "layout": {
          "annotationdefaults": {
           "arrowcolor": "#2a3f5f",
           "arrowhead": 0,
           "arrowwidth": 1
          },
          "colorscale": {
           "diverging": [
            [
             0,
             "#8e0152"
            ],
            [
             0.1,
             "#c51b7d"
            ],
            [
             0.2,
             "#de77ae"
            ],
            [
             0.3,
             "#f1b6da"
            ],
            [
             0.4,
             "#fde0ef"
            ],
            [
             0.5,
             "#f7f7f7"
            ],
            [
             0.6,
             "#e6f5d0"
            ],
            [
             0.7,
             "#b8e186"
            ],
            [
             0.8,
             "#7fbc41"
            ],
            [
             0.9,
             "#4d9221"
            ],
            [
             1,
             "#276419"
            ]
           ],
           "sequential": [
            [
             0,
             "#0d0887"
            ],
            [
             0.1111111111111111,
             "#46039f"
            ],
            [
             0.2222222222222222,
             "#7201a8"
            ],
            [
             0.3333333333333333,
             "#9c179e"
            ],
            [
             0.4444444444444444,
             "#bd3786"
            ],
            [
             0.5555555555555556,
             "#d8576b"
            ],
            [
             0.6666666666666666,
             "#ed7953"
            ],
            [
             0.7777777777777778,
             "#fb9f3a"
            ],
            [
             0.8888888888888888,
             "#fdca26"
            ],
            [
             1,
             "#f0f921"
            ]
           ],
           "sequentialminus": [
            [
             0,
             "#0d0887"
            ],
            [
             0.1111111111111111,
             "#46039f"
            ],
            [
             0.2222222222222222,
             "#7201a8"
            ],
            [
             0.3333333333333333,
             "#9c179e"
            ],
            [
             0.4444444444444444,
             "#bd3786"
            ],
            [
             0.5555555555555556,
             "#d8576b"
            ],
            [
             0.6666666666666666,
             "#ed7953"
            ],
            [
             0.7777777777777778,
             "#fb9f3a"
            ],
            [
             0.8888888888888888,
             "#fdca26"
            ],
            [
             1,
             "#f0f921"
            ]
           ]
          },
          "colorway": [
           "#636efa",
           "#EF553B",
           "#00cc96",
           "#ab63fa",
           "#FFA15A",
           "#19d3f3",
           "#FF6692",
           "#B6E880",
           "#FF97FF",
           "#FECB52"
          ],
          "font": {
           "color": "#2a3f5f"
          },
          "geo": {
           "bgcolor": "white",
           "lakecolor": "white",
           "landcolor": "#E5ECF6",
           "showlakes": true,
           "showland": true,
           "subunitcolor": "white"
          },
          "hoverlabel": {
           "align": "left"
          },
          "hovermode": "closest",
          "mapbox": {
           "style": "light"
          },
          "paper_bgcolor": "white",
          "plot_bgcolor": "#E5ECF6",
          "polar": {
           "angularaxis": {
            "gridcolor": "white",
            "linecolor": "white",
            "ticks": ""
           },
           "bgcolor": "#E5ECF6",
           "radialaxis": {
            "gridcolor": "white",
            "linecolor": "white",
            "ticks": ""
           }
          },
          "scene": {
           "xaxis": {
            "backgroundcolor": "#E5ECF6",
            "gridcolor": "white",
            "gridwidth": 2,
            "linecolor": "white",
            "showbackground": true,
            "ticks": "",
            "zerolinecolor": "white"
           },
           "yaxis": {
            "backgroundcolor": "#E5ECF6",
            "gridcolor": "white",
            "gridwidth": 2,
            "linecolor": "white",
            "showbackground": true,
            "ticks": "",
            "zerolinecolor": "white"
           },
           "zaxis": {
            "backgroundcolor": "#E5ECF6",
            "gridcolor": "white",
            "gridwidth": 2,
            "linecolor": "white",
            "showbackground": true,
            "ticks": "",
            "zerolinecolor": "white"
           }
          },
          "shapedefaults": {
           "line": {
            "color": "#2a3f5f"
           }
          },
          "ternary": {
           "aaxis": {
            "gridcolor": "white",
            "linecolor": "white",
            "ticks": ""
           },
           "baxis": {
            "gridcolor": "white",
            "linecolor": "white",
            "ticks": ""
           },
           "bgcolor": "#E5ECF6",
           "caxis": {
            "gridcolor": "white",
            "linecolor": "white",
            "ticks": ""
           }
          },
          "title": {
           "x": 0.05
          },
          "xaxis": {
           "automargin": true,
           "gridcolor": "white",
           "linecolor": "white",
           "ticks": "",
           "zerolinecolor": "white",
           "zerolinewidth": 2
          },
          "yaxis": {
           "automargin": true,
           "gridcolor": "white",
           "linecolor": "white",
           "ticks": "",
           "zerolinecolor": "white",
           "zerolinewidth": 2
          }
         }
        },
        "title": {
         "text": "Model performances"
        },
        "xaxis": {
         "gridcolor": "rgb(255, 255, 255)",
         "gridwidth": 2,
         "ticklen": 5,
         "title": {
          "text": "metric"
         },
         "zerolinewidth": 1
        },
        "yaxis": {
         "gridcolor": "rgb(255, 255, 255)",
         "gridwidth": 2,
         "ticklen": 5,
         "zerolinewidth": 1
        }
       }
      },
      "text/html": [
       "<div>\n",
       "        \n",
       "        \n",
       "            <div id=\"420acbfa-6343-4133-8e06-ed787d933012\" class=\"plotly-graph-div\" style=\"height:780px; width:100%;\"></div>\n",
       "            <script type=\"text/javascript\">\n",
       "                require([\"plotly\"], function(Plotly) {\n",
       "                    window.PLOTLYENV=window.PLOTLYENV || {};\n",
       "                    \n",
       "                if (document.getElementById(\"420acbfa-6343-4133-8e06-ed787d933012\")) {\n",
       "                    Plotly.newPlot(\n",
       "                        '420acbfa-6343-4133-8e06-ed787d933012',\n",
       "                        [{\"marker\": {\"color\": \"#6699FF\", \"line\": {\"width\": 0.7}}, \"name\": \"Accuracy_score\", \"orientation\": \"h\", \"type\": \"bar\", \"x\": [0.7463026166097838, 0.7400455062571104, 0.6848691695108078, 0.7650739476678043, 0.7514220705346986, 0.7332195676905574, 0.7588168373151308], \"y\": [\"Logistic Regression(Baseline_model)\", \"Decision Tree\", \"KNN Classifier\", \"Random Forest Classifier\", \"Naive Bayes\", \"SVM Classifier Linear\", \"XGBoost Classifier\"]}, {\"marker\": {\"color\": \"red\", \"line\": {\"width\": 0.7}}, \"name\": \"Recall_score\", \"orientation\": \"h\", \"type\": \"bar\", \"x\": [0.7463617463617463, 0.6652806652806653, 0.6694386694386695, 0.6694386694386695, 0.7089397089397089, 0.7546777546777547, 0.5218295218295218], \"y\": [\"Logistic Regression(Baseline_model)\", \"Decision Tree\", \"KNN Classifier\", \"Random Forest Classifier\", \"Naive Bayes\", \"SVM Classifier Linear\", \"XGBoost Classifier\"]}, {\"marker\": {\"color\": \"#33CC99\", \"line\": {\"width\": 0.7}}, \"name\": \"Precision\", \"orientation\": \"h\", \"type\": \"bar\", \"x\": [0.5256222547584187, 0.5194805194805194, 0.4490934449093445, 0.5590277777777778, 0.5344827586206896, 0.5084033613445378, 0.5640449438202247], \"y\": [\"Logistic Regression(Baseline_model)\", \"Decision Tree\", \"KNN Classifier\", \"Random Forest Classifier\", \"Naive Bayes\", \"SVM Classifier Linear\", \"XGBoost Classifier\"]}, {\"marker\": {\"color\": \"lightgrey\", \"line\": {\"width\": 0.7}}, \"name\": \"f1_score\", \"orientation\": \"h\", \"type\": \"bar\", \"x\": [0.6168384879725086, 0.5834092980856882, 0.5375626043405676, 0.609271523178808, 0.6094727435210008, 0.6075313807531381, 0.5421166306695464], \"y\": [\"Logistic Regression(Baseline_model)\", \"Decision Tree\", \"KNN Classifier\", \"Random Forest Classifier\", \"Naive Bayes\", \"SVM Classifier Linear\", \"XGBoost Classifier\"]}],\n",
       "                        {\"height\": 780, \"margin\": {\"l\": 250}, \"paper_bgcolor\": \"rgb(243,243,243)\", \"plot_bgcolor\": \"rgb(243,243,243)\", \"template\": {\"data\": {\"bar\": [{\"error_x\": {\"color\": \"#2a3f5f\"}, \"error_y\": {\"color\": \"#2a3f5f\"}, \"marker\": {\"line\": {\"color\": \"#E5ECF6\", \"width\": 0.5}}, \"type\": \"bar\"}], \"barpolar\": [{\"marker\": {\"line\": {\"color\": \"#E5ECF6\", \"width\": 0.5}}, \"type\": \"barpolar\"}], \"carpet\": [{\"aaxis\": {\"endlinecolor\": \"#2a3f5f\", \"gridcolor\": \"white\", \"linecolor\": \"white\", \"minorgridcolor\": \"white\", \"startlinecolor\": \"#2a3f5f\"}, \"baxis\": {\"endlinecolor\": \"#2a3f5f\", \"gridcolor\": \"white\", \"linecolor\": \"white\", \"minorgridcolor\": \"white\", \"startlinecolor\": \"#2a3f5f\"}, \"type\": \"carpet\"}], \"choropleth\": [{\"colorbar\": {\"outlinewidth\": 0, \"ticks\": \"\"}, \"type\": \"choropleth\"}], \"contour\": [{\"colorbar\": {\"outlinewidth\": 0, \"ticks\": \"\"}, \"colorscale\": [[0.0, \"#0d0887\"], [0.1111111111111111, \"#46039f\"], [0.2222222222222222, \"#7201a8\"], [0.3333333333333333, \"#9c179e\"], [0.4444444444444444, \"#bd3786\"], [0.5555555555555556, \"#d8576b\"], [0.6666666666666666, \"#ed7953\"], [0.7777777777777778, \"#fb9f3a\"], [0.8888888888888888, \"#fdca26\"], [1.0, \"#f0f921\"]], \"type\": \"contour\"}], \"contourcarpet\": [{\"colorbar\": {\"outlinewidth\": 0, \"ticks\": \"\"}, \"type\": \"contourcarpet\"}], \"heatmap\": [{\"colorbar\": {\"outlinewidth\": 0, \"ticks\": \"\"}, \"colorscale\": [[0.0, \"#0d0887\"], [0.1111111111111111, \"#46039f\"], [0.2222222222222222, \"#7201a8\"], [0.3333333333333333, \"#9c179e\"], [0.4444444444444444, \"#bd3786\"], [0.5555555555555556, \"#d8576b\"], [0.6666666666666666, \"#ed7953\"], [0.7777777777777778, \"#fb9f3a\"], [0.8888888888888888, \"#fdca26\"], [1.0, \"#f0f921\"]], \"type\": \"heatmap\"}], \"heatmapgl\": [{\"colorbar\": {\"outlinewidth\": 0, \"ticks\": \"\"}, \"colorscale\": [[0.0, \"#0d0887\"], [0.1111111111111111, \"#46039f\"], [0.2222222222222222, \"#7201a8\"], [0.3333333333333333, \"#9c179e\"], [0.4444444444444444, \"#bd3786\"], [0.5555555555555556, \"#d8576b\"], [0.6666666666666666, \"#ed7953\"], [0.7777777777777778, \"#fb9f3a\"], [0.8888888888888888, \"#fdca26\"], [1.0, \"#f0f921\"]], \"type\": \"heatmapgl\"}], \"histogram\": [{\"marker\": {\"colorbar\": {\"outlinewidth\": 0, \"ticks\": \"\"}}, \"type\": \"histogram\"}], \"histogram2d\": [{\"colorbar\": {\"outlinewidth\": 0, \"ticks\": \"\"}, \"colorscale\": [[0.0, \"#0d0887\"], [0.1111111111111111, \"#46039f\"], [0.2222222222222222, \"#7201a8\"], [0.3333333333333333, \"#9c179e\"], [0.4444444444444444, \"#bd3786\"], [0.5555555555555556, \"#d8576b\"], [0.6666666666666666, \"#ed7953\"], [0.7777777777777778, \"#fb9f3a\"], [0.8888888888888888, \"#fdca26\"], [1.0, \"#f0f921\"]], \"type\": \"histogram2d\"}], \"histogram2dcontour\": [{\"colorbar\": {\"outlinewidth\": 0, \"ticks\": \"\"}, \"colorscale\": [[0.0, \"#0d0887\"], [0.1111111111111111, \"#46039f\"], [0.2222222222222222, \"#7201a8\"], [0.3333333333333333, \"#9c179e\"], [0.4444444444444444, \"#bd3786\"], [0.5555555555555556, \"#d8576b\"], [0.6666666666666666, \"#ed7953\"], [0.7777777777777778, \"#fb9f3a\"], [0.8888888888888888, \"#fdca26\"], [1.0, \"#f0f921\"]], \"type\": \"histogram2dcontour\"}], \"mesh3d\": [{\"colorbar\": {\"outlinewidth\": 0, \"ticks\": \"\"}, \"type\": \"mesh3d\"}], \"parcoords\": [{\"line\": {\"colorbar\": {\"outlinewidth\": 0, \"ticks\": \"\"}}, \"type\": \"parcoords\"}], \"scatter\": [{\"marker\": {\"colorbar\": {\"outlinewidth\": 0, \"ticks\": \"\"}}, \"type\": \"scatter\"}], \"scatter3d\": [{\"line\": {\"colorbar\": {\"outlinewidth\": 0, \"ticks\": \"\"}}, \"marker\": {\"colorbar\": {\"outlinewidth\": 0, \"ticks\": \"\"}}, \"type\": \"scatter3d\"}], \"scattercarpet\": [{\"marker\": {\"colorbar\": {\"outlinewidth\": 0, \"ticks\": \"\"}}, \"type\": \"scattercarpet\"}], \"scattergeo\": [{\"marker\": {\"colorbar\": {\"outlinewidth\": 0, \"ticks\": \"\"}}, \"type\": \"scattergeo\"}], \"scattergl\": [{\"marker\": {\"colorbar\": {\"outlinewidth\": 0, \"ticks\": \"\"}}, \"type\": \"scattergl\"}], \"scattermapbox\": [{\"marker\": {\"colorbar\": {\"outlinewidth\": 0, \"ticks\": \"\"}}, \"type\": \"scattermapbox\"}], \"scatterpolar\": [{\"marker\": {\"colorbar\": {\"outlinewidth\": 0, \"ticks\": \"\"}}, \"type\": \"scatterpolar\"}], \"scatterpolargl\": [{\"marker\": {\"colorbar\": {\"outlinewidth\": 0, \"ticks\": \"\"}}, \"type\": \"scatterpolargl\"}], \"scatterternary\": [{\"marker\": {\"colorbar\": {\"outlinewidth\": 0, \"ticks\": \"\"}}, \"type\": \"scatterternary\"}], \"surface\": [{\"colorbar\": {\"outlinewidth\": 0, \"ticks\": \"\"}, \"colorscale\": [[0.0, \"#0d0887\"], [0.1111111111111111, \"#46039f\"], [0.2222222222222222, \"#7201a8\"], [0.3333333333333333, \"#9c179e\"], [0.4444444444444444, \"#bd3786\"], [0.5555555555555556, \"#d8576b\"], [0.6666666666666666, \"#ed7953\"], [0.7777777777777778, \"#fb9f3a\"], [0.8888888888888888, \"#fdca26\"], [1.0, \"#f0f921\"]], \"type\": \"surface\"}], \"table\": [{\"cells\": {\"fill\": {\"color\": \"#EBF0F8\"}, \"line\": {\"color\": \"white\"}}, \"header\": {\"fill\": {\"color\": \"#C8D4E3\"}, \"line\": {\"color\": \"white\"}}, \"type\": \"table\"}]}, \"layout\": {\"annotationdefaults\": {\"arrowcolor\": \"#2a3f5f\", \"arrowhead\": 0, \"arrowwidth\": 1}, \"colorscale\": {\"diverging\": [[0, \"#8e0152\"], [0.1, \"#c51b7d\"], [0.2, \"#de77ae\"], [0.3, \"#f1b6da\"], [0.4, \"#fde0ef\"], [0.5, \"#f7f7f7\"], [0.6, \"#e6f5d0\"], [0.7, \"#b8e186\"], [0.8, \"#7fbc41\"], [0.9, \"#4d9221\"], [1, \"#276419\"]], \"sequential\": [[0.0, \"#0d0887\"], [0.1111111111111111, \"#46039f\"], [0.2222222222222222, \"#7201a8\"], [0.3333333333333333, \"#9c179e\"], [0.4444444444444444, \"#bd3786\"], [0.5555555555555556, \"#d8576b\"], [0.6666666666666666, \"#ed7953\"], [0.7777777777777778, \"#fb9f3a\"], [0.8888888888888888, \"#fdca26\"], [1.0, \"#f0f921\"]], \"sequentialminus\": [[0.0, \"#0d0887\"], [0.1111111111111111, \"#46039f\"], [0.2222222222222222, \"#7201a8\"], [0.3333333333333333, \"#9c179e\"], [0.4444444444444444, \"#bd3786\"], [0.5555555555555556, \"#d8576b\"], [0.6666666666666666, \"#ed7953\"], [0.7777777777777778, \"#fb9f3a\"], [0.8888888888888888, \"#fdca26\"], [1.0, \"#f0f921\"]]}, \"colorway\": [\"#636efa\", \"#EF553B\", \"#00cc96\", \"#ab63fa\", \"#FFA15A\", \"#19d3f3\", \"#FF6692\", \"#B6E880\", \"#FF97FF\", \"#FECB52\"], \"font\": {\"color\": \"#2a3f5f\"}, \"geo\": {\"bgcolor\": \"white\", \"lakecolor\": \"white\", \"landcolor\": \"#E5ECF6\", \"showlakes\": true, \"showland\": true, \"subunitcolor\": \"white\"}, \"hoverlabel\": {\"align\": \"left\"}, \"hovermode\": \"closest\", \"mapbox\": {\"style\": \"light\"}, \"paper_bgcolor\": \"white\", \"plot_bgcolor\": \"#E5ECF6\", \"polar\": {\"angularaxis\": {\"gridcolor\": \"white\", \"linecolor\": \"white\", \"ticks\": \"\"}, \"bgcolor\": \"#E5ECF6\", \"radialaxis\": {\"gridcolor\": \"white\", \"linecolor\": \"white\", \"ticks\": \"\"}}, \"scene\": {\"xaxis\": {\"backgroundcolor\": \"#E5ECF6\", \"gridcolor\": \"white\", \"gridwidth\": 2, \"linecolor\": \"white\", \"showbackground\": true, \"ticks\": \"\", \"zerolinecolor\": \"white\"}, \"yaxis\": {\"backgroundcolor\": \"#E5ECF6\", \"gridcolor\": \"white\", \"gridwidth\": 2, \"linecolor\": \"white\", \"showbackground\": true, \"ticks\": \"\", \"zerolinecolor\": \"white\"}, \"zaxis\": {\"backgroundcolor\": \"#E5ECF6\", \"gridcolor\": \"white\", \"gridwidth\": 2, \"linecolor\": \"white\", \"showbackground\": true, \"ticks\": \"\", \"zerolinecolor\": \"white\"}}, \"shapedefaults\": {\"line\": {\"color\": \"#2a3f5f\"}}, \"ternary\": {\"aaxis\": {\"gridcolor\": \"white\", \"linecolor\": \"white\", \"ticks\": \"\"}, \"baxis\": {\"gridcolor\": \"white\", \"linecolor\": \"white\", \"ticks\": \"\"}, \"bgcolor\": \"#E5ECF6\", \"caxis\": {\"gridcolor\": \"white\", \"linecolor\": \"white\", \"ticks\": \"\"}}, \"title\": {\"x\": 0.05}, \"xaxis\": {\"automargin\": true, \"gridcolor\": \"white\", \"linecolor\": \"white\", \"ticks\": \"\", \"zerolinecolor\": \"white\", \"zerolinewidth\": 2}, \"yaxis\": {\"automargin\": true, \"gridcolor\": \"white\", \"linecolor\": \"white\", \"ticks\": \"\", \"zerolinecolor\": \"white\", \"zerolinewidth\": 2}}}, \"title\": {\"text\": \"Model performances\"}, \"xaxis\": {\"gridcolor\": \"rgb(255, 255, 255)\", \"gridwidth\": 2, \"ticklen\": 5, \"title\": {\"text\": \"metric\"}, \"zerolinewidth\": 1}, \"yaxis\": {\"gridcolor\": \"rgb(255, 255, 255)\", \"gridwidth\": 2, \"ticklen\": 5, \"zerolinewidth\": 1}},\n",
       "                        {\"responsive\": true}\n",
       "                    ).then(function(){\n",
       "                            \n",
       "var gd = document.getElementById('420acbfa-6343-4133-8e06-ed787d933012');\n",
       "var x = new MutationObserver(function (mutations, observer) {{\n",
       "        var display = window.getComputedStyle(gd).display;\n",
       "        if (!display || display === 'none') {{\n",
       "            console.log([gd, 'removed!']);\n",
       "            Plotly.purge(gd);\n",
       "            observer.disconnect();\n",
       "        }}\n",
       "}});\n",
       "\n",
       "// Listen for the removal of the full notebook cells\n",
       "var notebookContainer = gd.closest('#notebook-container');\n",
       "if (notebookContainer) {{\n",
       "    x.observe(notebookContainer, {childList: true});\n",
       "}}\n",
       "\n",
       "// Listen for the clearing of the current output cell\n",
       "var outputEl = gd.closest('.output');\n",
       "if (outputEl) {{\n",
       "    x.observe(outputEl, {childList: true});\n",
       "}}\n",
       "\n",
       "                        })\n",
       "                };\n",
       "                });\n",
       "            </script>\n",
       "        </div>"
      ]
     },
     "metadata": {},
     "output_type": "display_data"
    }
   ],
   "source": [
    "import plotly.graph_objs as go\n",
    "import plotly.offline as py#visualization\n",
    "py.init_notebook_mode(connected=True)#visualization\n",
    "\n",
    "model_performances\n",
    "def output_tracer(metric,color) :\n",
    "    tracer = go.Bar(y = model_performances[\"Model\"] ,\n",
    "                    x = model_performances[metric],\n",
    "                    orientation = \"h\",name = metric ,\n",
    "                    marker = dict(line = dict(width =.7),\n",
    "                                  color = color)\n",
    "                   )\n",
    "    return tracer\n",
    "\n",
    "layout = go.Layout(dict(title = \"Model performances\",\n",
    "                        plot_bgcolor  = \"rgb(243,243,243)\",\n",
    "                        paper_bgcolor = \"rgb(243,243,243)\",\n",
    "                        xaxis = dict(gridcolor = 'rgb(255, 255, 255)',\n",
    "                                     title = \"metric\",\n",
    "                                     zerolinewidth=1,\n",
    "                                     ticklen=5,gridwidth=2),\n",
    "                        yaxis = dict(gridcolor = 'rgb(255, 255, 255)',\n",
    "                                     zerolinewidth=1,ticklen=5,gridwidth=2),\n",
    "                        margin = dict(l = 250),\n",
    "                        height = 780\n",
    "                       )\n",
    "                  )\n",
    "\n",
    "\n",
    "trace1  = output_tracer(\"Accuracy_score\",\"#6699FF\")\n",
    "trace2  = output_tracer('Recall_score',\"red\")\n",
    "trace3  = output_tracer('Precision',\"#33CC99\")\n",
    "trace4  = output_tracer('f1_score',\"lightgrey\")\n",
    "\n",
    "data = [trace1,trace2,trace3,trace4]\n",
    "fig = go.Figure(data=data,layout=layout)\n",
    "py.iplot(fig)"
   ]
  },
  {
   "cell_type": "code",
   "execution_count": 41,
   "metadata": {},
   "outputs": [
    {
     "data": {
      "image/png": "[encoded data removed]",
      "text/plain": [
       "<Figure size 936x1080 with 14 Axes>"
      ]
     },
     "metadata": {},
     "output_type": "display_data"
    }
   ],
   "source": [
    "lst    = [logit,decision_tree,knn,rfc,\n",
    "          gnb,svc_lin,xgc]\n",
    "\n",
    "length = len(lst)\n",
    "\n",
    "mods   = ['Logistic Regression(Baseline_model)',\n",
    "          'Decision Tree','KNN Classifier','Random Forest Classifier',\"Naive Bayes\",\n",
    "          'SVM Classifier Linear','XGBoost Classifier']\n",
    "\n",
    "fig = plt.figure(figsize=(13,15))\n",
    "fig.set_facecolor(\"#F3F3F3\")\n",
    "for i,j,k in itertools.zip_longest(lst,range(length),mods) :\n",
    "    plt.subplot(4,3,j+1)\n",
    "    predictions = i.predict(X_test)\n",
    "    conf_matrix = confusion_matrix(predictions,y_test)\n",
    "    sns.heatmap(conf_matrix,annot=True,fmt = \"d\",square = True,\n",
    "                xticklabels=[\"not churn\",\"churn\"],\n",
    "                yticklabels=[\"not churn\",\"churn\"],\n",
    "                linewidths = 2,linecolor = \"w\",cmap = \"Set1\")\n",
    "    plt.title(k,color = \"b\")\n",
    "    plt.subplots_adjust(wspace = .3,hspace = .3)"
   ]
  },
  {
   "cell_type": "code",
   "execution_count": null,
   "metadata": {},
   "outputs": [],
   "source": []
  }
 ],
 "metadata": {
  "kernelspec": {
   "display_name": "Python [conda env:learn-env] *",
   "language": "python",
   "name": "conda-env-learn-env-py"
  },
  "language_info": {
   "codemirror_mode": {
    "name": "ipython",
    "version": 3
   },
   "file_extension": ".py",
   "mimetype": "text/x-python",
   "name": "python",
   "nbconvert_exporter": "python",
   "pygments_lexer": "ipython3",
   "version": "3.6.9"
  },
  "toc": {
   "base_numbering": 1,
   "nav_menu": {},
   "number_sections": true,
   "sideBar": true,
   "skip_h1_title": true,
   "title_cell": "Table of Contents",
   "title_sidebar": "Contents",
   "toc_cell": false,
   "toc_position": {
    "height": "calc(100% - 180px)",
    "left": "10px",
    "top": "150px",
    "width": "348.594px"
   },
   "toc_section_display": true,
   "toc_window_display": false
  }
 },
 "nbformat": 4,
 "nbformat_minor": 2
}
