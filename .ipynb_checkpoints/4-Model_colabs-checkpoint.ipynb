{
 "cells": [
  {
   "cell_type": "markdown",
   "metadata": {
    "colab_type": "text",
    "id": "J4z1H-kuUMvS"
   },
   "source": [
    "<p style=\"font-size:300%; text-align:center\"> Telco Customer Churn modeling</p>\n",
    "<p style=\"font-size:150%; text-align:center\"> Focused customer retention programs <br> MOD3 Project - 4. Modeling</p>"
   ]
  },
  {
   "cell_type": "code",
   "execution_count": 3,
   "metadata": {
    "colab": {
     "base_uri": "https://localhost:8080/",
     "height": 72
    },
    "colab_type": "code",
    "executionInfo": {
     "elapsed": 758,
     "status": "ok",
     "timestamp": 1591295318929,
     "user": {
      "displayName": "chamila dharmawardhana",
      "photoUrl": "https://lh3.googleusercontent.com/a-/AOh14GiMQL71je5gYAe__JMO5G3ZCfpatswl8ZaS0hraFw=s64",
      "userId": "10886394829232968298"
     },
     "user_tz": 300
    },
    "id": "MXlGV7jXUMvV",
    "outputId": "9ed80b27-ff1c-45e2-fec1-0c8dca0c8e0e"
   },
   "outputs": [],
   "source": [
    "# import important libraries\n",
    "import numpy as np\n",
    "import pandas as pd\n",
    "import seaborn as sns\n",
    "import matplotlib.pyplot as plt\n",
    "import itertools"
   ]
  },
  {
   "cell_type": "code",
   "execution_count": 4,
   "metadata": {
    "colab": {},
    "colab_type": "code",
    "id": "qYbrCzMyUMvf"
   },
   "outputs": [],
   "source": [
    "# import important cleaned data\n",
    "df = pd.read_csv(\"data/telco_clean.csv\") # replace this \n",
    "#df.sample(6).T"
   ]
  },
  {
   "cell_type": "code",
   "execution_count": 5,
   "metadata": {
    "colab": {
     "base_uri": "https://localhost:8080/",
     "height": 121
    },
    "colab_type": "code",
    "executionInfo": {
     "elapsed": 257,
     "status": "ok",
     "timestamp": 1591295324036,
     "user": {
      "displayName": "chamila dharmawardhana",
      "photoUrl": "https://lh3.googleusercontent.com/a-/AOh14GiMQL71je5gYAe__JMO5G3ZCfpatswl8ZaS0hraFw=s64",
      "userId": "10886394829232968298"
     },
     "user_tz": 300
    },
    "id": "E63T8UDlUMvm",
    "outputId": "f2c24612-bc27-48ec-961f-0194f22be8fb"
   },
   "outputs": [
    {
     "data": {
      "text/plain": [
       "Index(['gender', 'SeniorCitizen', 'Partner', 'Dependents', 'tenure',\n",
       "       'PhoneService', 'MultipleLines', 'InternetService', 'OnlineSecurity',\n",
       "       'OnlineBackup', 'DeviceProtection', 'TechSupport', 'StreamingTV',\n",
       "       'StreamingMovies', 'Contract', 'PaperlessBilling', 'PaymentMethod',\n",
       "       'MonthlyCharges', 'TotalCharges', 'Churn'],\n",
       "      dtype='object')"
      ]
     },
     "execution_count": 5,
     "metadata": {},
     "output_type": "execute_result"
    }
   ],
   "source": [
    "df.columns"
   ]
  },
  {
   "cell_type": "markdown",
   "metadata": {
    "colab_type": "text",
    "id": "3vffgrD0UMvx"
   },
   "source": [
    "## Seperate x, y and make dummy vatriables "
   ]
  },
  {
   "cell_type": "code",
   "execution_count": 6,
   "metadata": {
    "colab": {
     "base_uri": "https://localhost:8080/",
     "height": 295
    },
    "colab_type": "code",
    "executionInfo": {
     "elapsed": 349,
     "status": "ok",
     "timestamp": 1591295326934,
     "user": {
      "displayName": "chamila dharmawardhana",
      "photoUrl": "https://lh3.googleusercontent.com/a-/AOh14GiMQL71je5gYAe__JMO5G3ZCfpatswl8ZaS0hraFw=s64",
      "userId": "10886394829232968298"
     },
     "user_tz": 300
    },
    "id": "teQuWuOPUMvy",
    "outputId": "818988e7-0a8e-45a8-dd6e-c185c3bfa34e"
   },
   "outputs": [
    {
     "data": {
      "text/plain": [
       "Index(['SeniorCitizen', 'Partner', 'Dependents', 'tenure', 'PhoneService',\n",
       "       'PaperlessBilling', 'MonthlyCharges', 'TotalCharges', 'Churn',\n",
       "       'gender_Female', 'gender_Male', 'MultipleLines_No',\n",
       "       'MultipleLines_No_phone', 'MultipleLines_Yes', 'InternetService_DSL',\n",
       "       'InternetService_Fiber_optic', 'InternetService_No',\n",
       "       'OnlineSecurity_No', 'OnlineSecurity_No_internet', 'OnlineSecurity_Yes',\n",
       "       'OnlineBackup_No', 'OnlineBackup_No_internet', 'OnlineBackup_Yes',\n",
       "       'DeviceProtection_No', 'DeviceProtection_No_internet',\n",
       "       'DeviceProtection_Yes', 'TechSupport_No', 'TechSupport_No_internet',\n",
       "       'TechSupport_Yes', 'StreamingTV_No', 'StreamingTV_No_internet',\n",
       "       'StreamingTV_Yes', 'StreamingMovies_No', 'StreamingMovies_No_internet',\n",
       "       'StreamingMovies_Yes', 'Contract_Month_to_month', 'Contract_One_year',\n",
       "       'Contract_Two_year', 'PaymentMethod_Bank_transfer',\n",
       "       'PaymentMethod_Credit_card', 'PaymentMethod_Electronic_check',\n",
       "       'PaymentMethod_Mailed_check'],\n",
       "      dtype='object')"
      ]
     },
     "metadata": {},
     "output_type": "display_data"
    }
   ],
   "source": [
    "df = pd.get_dummies(df)\n",
    "display(df.columns)"
   ]
  },
  {
   "cell_type": "code",
   "execution_count": 7,
   "metadata": {
    "colab": {
     "base_uri": "https://localhost:8080/",
     "height": 225
    },
    "colab_type": "code",
    "executionInfo": {
     "elapsed": 396,
     "status": "ok",
     "timestamp": 1591295329691,
     "user": {
      "displayName": "chamila dharmawardhana",
      "photoUrl": "https://lh3.googleusercontent.com/a-/AOh14GiMQL71je5gYAe__JMO5G3ZCfpatswl8ZaS0hraFw=s64",
      "userId": "10886394829232968298"
     },
     "user_tz": 300
    },
    "id": "DAhPqoDzUMv2",
    "outputId": "64314c20-eb57-430c-ded6-60f78662b38f"
   },
   "outputs": [
    {
     "data": {
      "text/plain": [
       "Index(['SeniorCitizen', 'Partner', 'Dependents', 'tenure', 'PhoneService',\n",
       "       'PaperlessBilling', 'MonthlyCharges', 'TotalCharges', 'Churn',\n",
       "       'gender_Male', 'MultipleLines_No', 'MultipleLines_Yes',\n",
       "       'InternetService_DSL', 'InternetService_Fiber_optic',\n",
       "       'OnlineSecurity_No', 'OnlineSecurity_Yes', 'OnlineBackup_No',\n",
       "       'OnlineBackup_Yes', 'DeviceProtection_No', 'DeviceProtection_Yes',\n",
       "       'TechSupport_No', 'TechSupport_Yes', 'StreamingTV_No',\n",
       "       'StreamingTV_Yes', 'StreamingMovies_No', 'StreamingMovies_Yes',\n",
       "       'Contract_Month_to_month', 'Contract_Two_year',\n",
       "       'PaymentMethod_Credit_card', 'PaymentMethod_Electronic_check',\n",
       "       'PaymentMethod_Mailed_check'],\n",
       "      dtype='object')"
      ]
     },
     "metadata": {},
     "output_type": "display_data"
    }
   ],
   "source": [
    "# I manually droped the selected columns was to removes columns like \"OnlineSecurity_No_internet\" so the model results is more \n",
    "# interpretable \n",
    "df.drop(['gender_Female', 'MultipleLines_No_phone', 'InternetService_No', 'OnlineSecurity_No_internet',\n",
    "         'OnlineBackup_No_internet', 'DeviceProtection_No_internet', 'TechSupport_No_internet', \n",
    "         'StreamingTV_No_internet', 'StreamingMovies_No_internet', 'Contract_One_year',\n",
    "         'PaymentMethod_Bank_transfer'], axis=1, inplace=True)\n",
    "display(df.columns)"
   ]
  },
  {
   "cell_type": "code",
   "execution_count": 8,
   "metadata": {
    "colab": {},
    "colab_type": "code",
    "id": "Y1YkO6jKUMv5"
   },
   "outputs": [],
   "source": [
    "X = df.drop(['Churn'], axis = 1)\n",
    "y = df['Churn']"
   ]
  },
  {
   "cell_type": "markdown",
   "metadata": {
    "colab_type": "text",
    "id": "86M-D_CLUMv8"
   },
   "source": [
    "## Baseline model\n",
    "\n",
    "__which evaluation metric is most essential for this project ?__ <br>\n",
    "$$ \\text{Precision} = \\frac{\\text{Number of True Positives}}{\\text{Number of Predicted Positives}} = \\frac{\\text{TP}}{\\text{TP+FP}} $$    \n",
    "\n",
    "$$ \\text{Recall} = \\frac{\\text{Number of True Positives}}{\\text{Number of Actual Total Positives}} = \\frac{\\text{TP}}{\\text{TP+FN}}$$  \n",
    "  \n",
    "$$ \\text{Accuracy} = \\frac{\\text{Number of True Positives + True Negatives}}{\\text{Total Observations}} = \\frac{\\text{TP + TN}}{\\text{TP+TN+FP+FN}}  $$\n",
    "\n",
    "0 - not churned\n",
    "1 - churned.\n",
    "We want to predict churned (1) as accurately as possible. So, __FN__ is bad for us. Meaning model predict not churn but the customer actually churned. Then __recall__ is the important score for us. When evaluating between models we should pay more attention to recall and try to reduce FN as much as possible."
   ]
  },
  {
   "cell_type": "code",
   "execution_count": 9,
   "metadata": {
    "colab": {
     "base_uri": "https://localhost:8080/",
     "height": 107
    },
    "colab_type": "code",
    "executionInfo": {
     "elapsed": 676,
     "status": "ok",
     "timestamp": 1591295342797,
     "user": {
      "displayName": "chamila dharmawardhana",
      "photoUrl": "https://lh3.googleusercontent.com/a-/AOh14GiMQL71je5gYAe__JMO5G3ZCfpatswl8ZaS0hraFw=s64",
      "userId": "10886394829232968298"
     },
     "user_tz": 300
    },
    "id": "fCa7_M9aUMv9",
    "outputId": "b1430fb3-e0a0-4d4a-9c70-ac7934da0c2e"
   },
   "outputs": [
    {
     "name": "stderr",
     "output_type": "stream",
     "text": [
      "Using TensorFlow backend.\n"
     ]
    },
    {
     "data": {
      "text/html": [
       "        <script type=\"text/javascript\">\n",
       "        window.PlotlyConfig = {MathJaxConfig: 'local'};\n",
       "        if (window.MathJax) {MathJax.Hub.Config({SVG: {font: \"STIX-Web\"}});}\n",
       "        if (typeof require !== 'undefined') {\n",
       "        require.undef(\"plotly\");\n",
       "        requirejs.config({\n",
       "            paths: {\n",
       "                'plotly': ['https://cdn.plot.ly/plotly-latest.min']\n",
       "            }\n",
       "        });\n",
       "        require(['plotly'], function(Plotly) {\n",
       "            window._Plotly = Plotly;\n",
       "        });\n",
       "        }\n",
       "        </script>\n",
       "        "
      ]
     },
     "metadata": {},
     "output_type": "display_data"
    }
   ],
   "source": [
    "from sklearn.preprocessing import StandardScaler\n",
    "from sklearn.metrics import recall_score\n",
    "from sklearn.metrics import f1_score\n",
    "from sklearn.metrics import cohen_kappa_score\n",
    "from sklearn.metrics import precision_score\n",
    "from sklearn.metrics import roc_auc_score\n",
    "from sklearn.linear_model import LogisticRegression\n",
    "from sklearn.metrics import accuracy_score, confusion_matrix, classification_report\n",
    "from sklearn.neighbors import KNeighborsClassifier\n",
    "from sklearn.ensemble import RandomForestClassifier\n",
    "from sklearn.tree import DecisionTreeClassifier \n",
    "from sklearn.metrics import roc_curve, auc\n",
    "from sklearn.svm import SVC\n",
    "from sklearn.naive_bayes import GaussianNB\n",
    "from xgboost import XGBClassifier\n",
    "from sklearn.model_selection import train_test_split\n",
    "from sklearn.model_selection import GridSearchCV\n",
    "from sklearn.pipeline import Pipeline\n",
    "from imblearn.over_sampling import SMOTE\n",
    "\n",
    "import plotly.graph_objs as go\n",
    "import plotly.offline as py#visualization\n",
    "import plotly.figure_factory as ff\n",
    "py.init_notebook_mode(connected=True)#visualization"
   ]
  },
  {
   "cell_type": "code",
   "execution_count": 10,
   "metadata": {
    "colab": {
     "base_uri": "https://localhost:8080/",
     "height": 55
    },
    "colab_type": "code",
    "executionInfo": {
     "elapsed": 303,
     "status": "ok",
     "timestamp": 1591295346708,
     "user": {
      "displayName": "chamila dharmawardhana",
      "photoUrl": "https://lh3.googleusercontent.com/a-/AOh14GiMQL71je5gYAe__JMO5G3ZCfpatswl8ZaS0hraFw=s64",
      "userId": "10886394829232968298"
     },
     "user_tz": 300
    },
    "id": "KMqTqqdDUMwE",
    "outputId": "73978e43-34b7-4de4-b088-5898f7d8b6af"
   },
   "outputs": [
    {
     "data": {
      "text/plain": [
       "'    \\n    print(\\'-\\'*90)\\n    #print(\\'Confusion Matrix:\\n\\', confusion_matrix(y_test, prediction_test))\\n    print(\\'Confusion Matrix:\\n\\', pd.crosstab(y_test_1, prediction_test, rownames=[\\'Actual\\'], colnames=[\\'Predicted\\'],margins = True))\\n    conf_matrix = confusion_matrix(y_test_1, prediction_test)\\n    z=[list(conf_matrix[i]) for i in [1,0]]\\n    x = [\"not Churn\", \"churn\"]\\n    y = [\"Churn\", \"not churn\"]\\n    # change each element of z to type string for annotations\\n    z_text = [[str(y) for y in x] for x in z]\\n    # set up figure \\n    fig1 = ff.create_annotated_heatmap(z, x=[\"not Churn\", \"churn\"], y=[\"Churn\", \"not churn\"],\\n                                      annotation_text=z_text, colorscale=\\'Viridis\\')\\n    fig1.update_layout( autosize=False, width=350, height=350,\\n        yaxis=dict( title_text=\"Actual\", tickmode=\"array\", titlefont=dict(size=21)),\\n        xaxis=dict(title_text=\"Predics\", tickmode=\"array\", titlefont=dict(size=21)),\\n        )\\n    fig1.show()    \\n\\n    #roc_auc_score\\n    if notfig != \\'fig2\\':\\n        # \\n        y_score_test = model.decision_function(X_test_1)\\n        test_fpr, test_tpr, test_thresholds = roc_curve(y_test_1, y_score_test)\\n        test_model_roc_auc = roc_auc_score(y_test_1,y_score_test) \\n\\n        y_score_train = model.decision_function(X_train_1)\\n        train_fpr, train_tpr, train_thresholds = roc_curve(y_train_1, y_score_train)\\n        train_model_roc_auc = roc_auc_score(y_train_1,y_score_train) \\n\\n        #plot roc curve          #rgb(31, 119, 180)   #rgb(22, 96, 167)\\n        trace1 = go.Scatter(x = train_fpr,y = train_tpr,\\n                            name = \"Train_Roc : \" + str(train_model_roc_auc),\\n                            line = dict(color = (\\'blue\\'),width = 2))\\n        trace2 = go.Scatter(x = test_fpr,y = test_tpr,\\n                            name = \"test_Roc : \" + str(test_model_roc_auc),\\n                            line = dict(color = (\\'orange\\'),width = 2))\\n        trace3 = go.Scatter(x = [0,1],y=[0,1],\\n                            line = dict(color = (\\'rgb(205, 12, 24)\\'),width = 2,\\n                            dash = \\'dot\\'))\\n        data2 = [trace1,trace2,trace3]\\n        fig2 = go.Figure(data=data2)\\n        fig2.update_layout( autosize=False, width=700, height=500, title=\\'Receiver operating characteristic\\',\\n            yaxis=dict(title_text=\"True positive rate\"),\\n            xaxis=dict(title_text=\"False positive rate\"),\\n            )\\n        fig2.show()\\n\\n    #best coefficients and important features\\n    if notfig != \\'fig3\\':\\n        #\\n        if   cf == \"coefficients\" :\\n            coefficients  = pd.DataFrame(model.coef_.ravel())\\n        elif cf == \"features\" :\\n            coefficients  = pd.DataFrame(model.feature_importances_)\\n\\n        cols    = [i for i in X_1.columns]\\n        column_df     = pd.DataFrame(cols)\\n        coef_sumry    = (pd.merge(coefficients,column_df,left_index= True,\\n                                  right_index= True, how = \"left\"))\\n        coef_sumry.columns = [\"coefficients\",\"features\"]\\n        coef_sumry    = coef_sumry.sort_values(by = \"coefficients\",ascending = False)\\n        trace4 = go.Bar(x = coef_sumry[\"features\"],y = coef_sumry[\"coefficients\"],\\n                        name = \"coefficients\",\\n                        marker = dict(color = coef_sumry[\"coefficients\"],\\n                                      colorscale = \"Picnic\",\\n                                      line = dict(width = .6,color = \"black\")))\\n        data = [trace4]\\n        fig3  = go.Figure(data=data)\\n        fig3.update_layout(title_text=\\'important \\'+cf)\\n        #fig.update_xaxes(tickangle=45)\\n        fig3.show()\\n'"
      ]
     },
     "execution_count": 10,
     "metadata": {},
     "output_type": "execute_result"
    }
   ],
   "source": [
    "def results(model, X_1, X_train_1, y_train_1, X_test_1, y_test_1, cf, notfig):\n",
    "    # fit model and get predictions \n",
    "    model.fit(X_train_1, y_train_1)\n",
    "    #predictions\n",
    "    prediction_train = model.predict(X_train_1)\n",
    "    prediction_test = model.predict(X_test_1)\n",
    "    \n",
    "    print('-'*90)\n",
    "    print(model)\n",
    "    \n",
    "    print('-'*90)\n",
    "    print('Training accuracy Score:', accuracy_score(y_train_1, prediction_train))\n",
    "    print('Model accuracy Score:', accuracy_score(y_test_1, prediction_test))\n",
    "\n",
    "    print('-'*90)\n",
    "    print('Classification Matrix:')\n",
    "    print(classification_report(y_test_1, prediction_test))    \n",
    "\"\"\"    \n",
    "    print('-'*90)\n",
    "    #print('Confusion Matrix:\\n', confusion_matrix(y_test, prediction_test))\n",
    "    print('Confusion Matrix:\\n', pd.crosstab(y_test_1, prediction_test, rownames=['Actual'], colnames=['Predicted'],margins = True))\n",
    "    conf_matrix = confusion_matrix(y_test_1, prediction_test)\n",
    "    z=[list(conf_matrix[i]) for i in [1,0]]\n",
    "    x = [\"not Churn\", \"churn\"]\n",
    "    y = [\"Churn\", \"not churn\"]\n",
    "    # change each element of z to type string for annotations\n",
    "    z_text = [[str(y) for y in x] for x in z]\n",
    "    # set up figure \n",
    "    fig1 = ff.create_annotated_heatmap(z, x=[\"not Churn\", \"churn\"], y=[\"Churn\", \"not churn\"],\n",
    "                                      annotation_text=z_text, colorscale='Viridis')\n",
    "    fig1.update_layout( autosize=False, width=350, height=350,\n",
    "        yaxis=dict( title_text=\"Actual\", tickmode=\"array\", titlefont=dict(size=21)),\n",
    "        xaxis=dict(title_text=\"Predics\", tickmode=\"array\", titlefont=dict(size=21)),\n",
    "        )\n",
    "    fig1.show()    \n",
    "\n",
    "    #roc_auc_score\n",
    "    if notfig != 'fig2':\n",
    "        # \n",
    "        y_score_test = model.decision_function(X_test_1)\n",
    "        test_fpr, test_tpr, test_thresholds = roc_curve(y_test_1, y_score_test)\n",
    "        test_model_roc_auc = roc_auc_score(y_test_1,y_score_test) \n",
    "\n",
    "        y_score_train = model.decision_function(X_train_1)\n",
    "        train_fpr, train_tpr, train_thresholds = roc_curve(y_train_1, y_score_train)\n",
    "        train_model_roc_auc = roc_auc_score(y_train_1,y_score_train) \n",
    "\n",
    "        #plot roc curve          #rgb(31, 119, 180)   #rgb(22, 96, 167)\n",
    "        trace1 = go.Scatter(x = train_fpr,y = train_tpr,\n",
    "                            name = \"Train_Roc : \" + str(train_model_roc_auc),\n",
    "                            line = dict(color = ('blue'),width = 2))\n",
    "        trace2 = go.Scatter(x = test_fpr,y = test_tpr,\n",
    "                            name = \"test_Roc : \" + str(test_model_roc_auc),\n",
    "                            line = dict(color = ('orange'),width = 2))\n",
    "        trace3 = go.Scatter(x = [0,1],y=[0,1],\n",
    "                            line = dict(color = ('rgb(205, 12, 24)'),width = 2,\n",
    "                            dash = 'dot'))\n",
    "        data2 = [trace1,trace2,trace3]\n",
    "        fig2 = go.Figure(data=data2)\n",
    "        fig2.update_layout( autosize=False, width=700, height=500, title='Receiver operating characteristic',\n",
    "            yaxis=dict(title_text=\"True positive rate\"),\n",
    "            xaxis=dict(title_text=\"False positive rate\"),\n",
    "            )\n",
    "        fig2.show()\n",
    "\n",
    "    #best coefficients and important features\n",
    "    if notfig != 'fig3':\n",
    "        #\n",
    "        if   cf == \"coefficients\" :\n",
    "            coefficients  = pd.DataFrame(model.coef_.ravel())\n",
    "        elif cf == \"features\" :\n",
    "            coefficients  = pd.DataFrame(model.feature_importances_)\n",
    "\n",
    "        cols    = [i for i in X_1.columns]\n",
    "        column_df     = pd.DataFrame(cols)\n",
    "        coef_sumry    = (pd.merge(coefficients,column_df,left_index= True,\n",
    "                                  right_index= True, how = \"left\"))\n",
    "        coef_sumry.columns = [\"coefficients\",\"features\"]\n",
    "        coef_sumry    = coef_sumry.sort_values(by = \"coefficients\",ascending = False)\n",
    "        trace4 = go.Bar(x = coef_sumry[\"features\"],y = coef_sumry[\"coefficients\"],\n",
    "                        name = \"coefficients\",\n",
    "                        marker = dict(color = coef_sumry[\"coefficients\"],\n",
    "                                      colorscale = \"Picnic\",\n",
    "                                      line = dict(width = .6,color = \"black\")))\n",
    "        data = [trace4]\n",
    "        fig3  = go.Figure(data=data)\n",
    "        fig3.update_layout(title_text='important '+cf)\n",
    "        #fig.update_xaxes(tickangle=45)\n",
    "        fig3.show()\n",
    "\"\"\""
   ]
  },
  {
   "cell_type": "code",
   "execution_count": 11,
   "metadata": {
    "colab": {},
    "colab_type": "code",
    "id": "Rh3f-k0jUMwL"
   },
   "outputs": [],
   "source": [
    "#model_performances\n",
    "def output_tracer(model_performances, metric,color) :\n",
    "    tracer = go.Bar(y = model_performances[\"Model\"] ,\n",
    "                    x = model_performances[metric],\n",
    "                    orientation = \"h\",name = metric ,\n",
    "                    marker = dict(line = dict(width =.7),\n",
    "                                  color = color)\n",
    "                   )\n",
    "    return tracer\n",
    "def plot_tracers(model_performances):\n",
    "    layout = go.Layout(dict(title = \"Model performances\",\n",
    "                            plot_bgcolor  = \"rgb(243,243,243)\",\n",
    "                            paper_bgcolor = \"rgb(243,243,243)\",\n",
    "                            xaxis = dict(gridcolor = 'rgb(255, 255, 255)',\n",
    "                                         title = \"metric\",\n",
    "                                         zerolinewidth=1,\n",
    "                                         ticklen=5,gridwidth=2),\n",
    "                            yaxis = dict(gridcolor = 'rgb(255, 255, 255)',\n",
    "                                         zerolinewidth=1,ticklen=5,gridwidth=2),\n",
    "                            margin = dict(l = 250),\n",
    "                            height = 780\n",
    "                           )\n",
    "                      )\n",
    "\n",
    "\n",
    "    trace1  = output_tracer(model_performances, \"Accuracy_score\",\"#6699FF\")\n",
    "    trace2  = output_tracer(model_performances, 'Recall_score',\"red\")\n",
    "    trace3  = output_tracer(model_performances, 'Precision',\"#33CC99\")\n",
    "    trace4  = output_tracer(model_performances, 'f1_score',\"lightgrey\")\n",
    "\n",
    "    data = [trace1,trace2,trace3,trace4]\n",
    "    fig = go.Figure(data=data,layout=layout)\n",
    "    fig.show()\n"
   ]
  },
  {
   "cell_type": "code",
   "execution_count": 12,
   "metadata": {
    "colab": {},
    "colab_type": "code",
    "id": "azaKMU2RUMwS"
   },
   "outputs": [],
   "source": [
    "#gives model report in dataframe\n",
    "def model_report(model,training_x,testing_x,training_y,testing_y,name) :\n",
    "    model.fit(training_x,training_y)\n",
    "    predictions  = model.predict(testing_x)\n",
    "    accuracy     = accuracy_score(testing_y,predictions)\n",
    "    recallscore  = recall_score(testing_y,predictions)\n",
    "    precision    = precision_score(testing_y,predictions)\n",
    "    roc_auc      = roc_auc_score(testing_y,predictions)\n",
    "    f1score      = f1_score(testing_y,predictions) \n",
    "\n",
    "    \n",
    "    df = pd.DataFrame({\"Model\"           : [name],\n",
    "                       \"Accuracy_score\"  : [accuracy],\n",
    "                       \"Recall_score\"    : [recallscore],\n",
    "                       \"Precision\"       : [precision],\n",
    "                       \"f1_score\"        : [f1score],\n",
    "                       \"Area_under_curve\": [roc_auc],\n",
    "                      })\n",
    "    return df\n"
   ]
  },
  {
   "cell_type": "code",
   "execution_count": 13,
   "metadata": {
    "colab": {},
    "colab_type": "code",
    "id": "xVPvrqDdUMwW"
   },
   "outputs": [],
   "source": [
    "# make a test-train split\n",
    "split_size=0.33\n",
    "X_train, X_test, y_train, y_test = train_test_split(X,y,test_size=split_size,random_state=42) #stratify=y"
   ]
  },
  {
   "cell_type": "code",
   "execution_count": 14,
   "metadata": {
    "colab": {
     "base_uri": "https://localhost:8080/",
     "height": 52
    },
    "colab_type": "code",
    "executionInfo": {
     "elapsed": 383,
     "status": "ok",
     "timestamp": 1591295371686,
     "user": {
      "displayName": "chamila dharmawardhana",
      "photoUrl": "https://lh3.googleusercontent.com/a-/AOh14GiMQL71je5gYAe__JMO5G3ZCfpatswl8ZaS0hraFw=s64",
      "userId": "10886394829232968298"
     },
     "user_tz": 300
    },
    "id": "_uNWd52PUMwc",
    "outputId": "69407217-dde4-4067-e203-c410de0e1b54",
    "scrolled": true
   },
   "outputs": [
    {
     "name": "stdout",
     "output_type": "stream",
     "text": [
      "Train dataset: (4711, 30)(4711,)\n",
      "Test dataset: (2321, 30)(2321,)\n"
     ]
    }
   ],
   "source": [
    "# What does the split data diemention look like \n",
    "print(\"Train dataset: {0}{1}\".format(X_train.shape, y_train.shape))\n",
    "print(\"Test dataset: {0}{1}\".format(X_test.shape, y_test.shape))"
   ]
  },
  {
   "cell_type": "code",
   "execution_count": 15,
   "metadata": {
    "colab": {},
    "colab_type": "code",
    "id": "1V_P3Y7nUMwf"
   },
   "outputs": [],
   "source": [
    "#scale features \n",
    "ss = StandardScaler()\n",
    "# Scale the train and test data\n",
    "X_train = ss.fit_transform(X_train)\n",
    "X_test = ss.transform(X_test)"
   ]
  },
  {
   "cell_type": "code",
   "execution_count": 16,
   "metadata": {
    "colab": {
     "base_uri": "https://localhost:8080/",
     "height": 233
    },
    "colab_type": "code",
    "executionInfo": {
     "elapsed": 3761,
     "status": "ok",
     "timestamp": 1591295383071,
     "user": {
      "displayName": "chamila dharmawardhana",
      "photoUrl": "https://lh3.googleusercontent.com/a-/AOh14GiMQL71je5gYAe__JMO5G3ZCfpatswl8ZaS0hraFw=s64",
      "userId": "10886394829232968298"
     },
     "user_tz": 300
    },
    "id": "251I7IOfUMwk",
    "outputId": "6f4d9e6b-4059-4d36-dae4-f9a7fe1a576b"
   },
   "outputs": [
    {
     "name": "stderr",
     "output_type": "stream",
     "text": [
      "C:\\Anaconda3\\envs\\learn-env\\lib\\site-packages\\sklearn\\linear_model\\logistic.py:432: FutureWarning:\n",
      "\n",
      "Default solver will be changed to 'lbfgs' in 0.22. Specify a solver to silence this warning.\n",
      "\n",
      "C:\\Anaconda3\\envs\\learn-env\\lib\\site-packages\\sklearn\\ensemble\\forest.py:245: FutureWarning:\n",
      "\n",
      "The default value of n_estimators will change from 10 in version 0.20 to 100 in 0.22.\n",
      "\n"
     ]
    },
    {
     "data": {
      "text/html": [
       "<div>\n",
       "<style scoped>\n",
       "    .dataframe tbody tr th:only-of-type {\n",
       "        vertical-align: middle;\n",
       "    }\n",
       "\n",
       "    .dataframe tbody tr th {\n",
       "        vertical-align: top;\n",
       "    }\n",
       "\n",
       "    .dataframe thead th {\n",
       "        text-align: right;\n",
       "    }\n",
       "</style>\n",
       "<table border=\"1\" class=\"dataframe\">\n",
       "  <thead>\n",
       "    <tr style=\"text-align: right;\">\n",
       "      <th></th>\n",
       "      <th>Model</th>\n",
       "      <th>Accuracy_score</th>\n",
       "      <th>Recall_score</th>\n",
       "      <th>Precision</th>\n",
       "      <th>f1_score</th>\n",
       "      <th>Area_under_curve</th>\n",
       "    </tr>\n",
       "  </thead>\n",
       "  <tbody>\n",
       "    <tr>\n",
       "      <td>0</td>\n",
       "      <td>Logistic Regression</td>\n",
       "      <td>0.800517</td>\n",
       "      <td>0.544262</td>\n",
       "      <td>0.642166</td>\n",
       "      <td>0.589175</td>\n",
       "      <td>0.718069</td>\n",
       "    </tr>\n",
       "    <tr>\n",
       "      <td>1</td>\n",
       "      <td>Decision Tree</td>\n",
       "      <td>0.720810</td>\n",
       "      <td>0.493443</td>\n",
       "      <td>0.470313</td>\n",
       "      <td>0.481600</td>\n",
       "      <td>0.647656</td>\n",
       "    </tr>\n",
       "    <tr>\n",
       "      <td>2</td>\n",
       "      <td>KNN Classifier</td>\n",
       "      <td>0.764757</td>\n",
       "      <td>0.552459</td>\n",
       "      <td>0.552459</td>\n",
       "      <td>0.552459</td>\n",
       "      <td>0.696452</td>\n",
       "    </tr>\n",
       "    <tr>\n",
       "      <td>3</td>\n",
       "      <td>Random Forest Classifier</td>\n",
       "      <td>0.767342</td>\n",
       "      <td>0.431148</td>\n",
       "      <td>0.576754</td>\n",
       "      <td>0.493433</td>\n",
       "      <td>0.659174</td>\n",
       "    </tr>\n",
       "    <tr>\n",
       "      <td>4</td>\n",
       "      <td>SVM Classifier Linear</td>\n",
       "      <td>0.795778</td>\n",
       "      <td>0.532787</td>\n",
       "      <td>0.632296</td>\n",
       "      <td>0.578292</td>\n",
       "      <td>0.711163</td>\n",
       "    </tr>\n",
       "    <tr>\n",
       "      <td>5</td>\n",
       "      <td>XGBoost Classifier</td>\n",
       "      <td>0.807411</td>\n",
       "      <td>0.527869</td>\n",
       "      <td>0.669439</td>\n",
       "      <td>0.590284</td>\n",
       "      <td>0.717470</td>\n",
       "    </tr>\n",
       "  </tbody>\n",
       "</table>\n",
       "</div>"
      ],
      "text/plain": [
       "                      Model  Accuracy_score  Recall_score  Precision  \\\n",
       "0       Logistic Regression        0.800517      0.544262   0.642166   \n",
       "1             Decision Tree        0.720810      0.493443   0.470313   \n",
       "2            KNN Classifier        0.764757      0.552459   0.552459   \n",
       "3  Random Forest Classifier        0.767342      0.431148   0.576754   \n",
       "4     SVM Classifier Linear        0.795778      0.532787   0.632296   \n",
       "5        XGBoost Classifier        0.807411      0.527869   0.669439   \n",
       "\n",
       "   f1_score  Area_under_curve  \n",
       "0  0.589175          0.718069  \n",
       "1  0.481600          0.647656  \n",
       "2  0.552459          0.696452  \n",
       "3  0.493433          0.659174  \n",
       "4  0.578292          0.711163  \n",
       "5  0.590284          0.717470  "
      ]
     },
     "metadata": {},
     "output_type": "display_data"
    }
   ],
   "source": [
    "# Let's create a baseline model for all models. Let's statr with as minimum amount of parameters as possible \n",
    "\n",
    "# LogisticRegression\n",
    "name = \"Logistic Regression\"\n",
    "logit = LogisticRegression()\n",
    "model1 = model_report(logit,X_train,X_test,y_train,y_test,name)\n",
    "\n",
    "# DecisionTree Classifier\n",
    "name = \"Decision Tree\"\n",
    "decision_tree = DecisionTreeClassifier(random_state = 0)\n",
    "# X_train_resampled,X_test,y_train_resampled,y_test,name\n",
    "model2 = model_report(decision_tree,X_train,X_test,y_train,y_test,name)\n",
    "\n",
    "# KNeighborsClassifier\n",
    "name = \"KNN Classifier\"\n",
    "knn = KNeighborsClassifier(n_neighbors=3)\n",
    "model3 = model_report(knn,X_train,X_test,y_train,y_test,name)\n",
    "\n",
    "name = \"Random Forest Classifier\"\n",
    "rfc = RandomForestClassifier(random_state=0)\n",
    "model4 = model_report(rfc,X_train,X_test,y_train,y_test,name)\n",
    "\n",
    "name = \"SVM Classifier Linear\"\n",
    "svc  = SVC(gamma='auto', kernel='linear')\n",
    "model5 = model_report(svc,X_train,X_test,y_train,y_test,name)\n",
    "\n",
    "name = \"XGBoost Classifier\"\n",
    "xgc = XGBClassifier()\n",
    "model6 = model_report(xgc,X_train,X_test,y_train,y_test,name)\n",
    "\n",
    "#concat all models\n",
    "model_performances = pd.concat([model1,model2,model3,model4,\n",
    "                                model5,model6],axis = 0).reset_index()\n",
    "\n",
    "model_performances = model_performances.drop(columns = \"index\",axis =1)\n",
    "display(model_performances)\n",
    "\n",
    "#plot_tracers(model_performances)"
   ]
  },
  {
   "cell_type": "markdown",
   "metadata": {
    "colab_type": "text",
    "id": "iyYofFKaUMwq"
   },
   "source": [
    "### Improving model with SMOTE"
   ]
  },
  {
   "cell_type": "code",
   "execution_count": 17,
   "metadata": {
    "colab": {
     "base_uri": "https://localhost:8080/",
     "height": 139
    },
    "colab_type": "code",
    "executionInfo": {
     "elapsed": 450,
     "status": "ok",
     "timestamp": 1591295388370,
     "user": {
      "displayName": "chamila dharmawardhana",
      "photoUrl": "https://lh3.googleusercontent.com/a-/AOh14GiMQL71je5gYAe__JMO5G3ZCfpatswl8ZaS0hraFw=s64",
      "userId": "10886394829232968298"
     },
     "user_tz": 300
    },
    "id": "IUrxK-4uUMwr",
    "outputId": "a9e11945-1903-45e0-e014-3bd698ccf02a"
   },
   "outputs": [
    {
     "name": "stdout",
     "output_type": "stream",
     "text": [
      "1    3452\n",
      "0    3452\n",
      "dtype: int64\n"
     ]
    }
   ],
   "source": [
    "'''\n",
    "smote\n",
    "refre to install docs \n",
    "https://imbalanced-learn.readthedocs.io/en/stable/install.html\n",
    "'''\n",
    "smote = SMOTE()\n",
    "X_train_smote, y_train_smote = smote.fit_sample(X_train, y_train) \n",
    "print(pd.Series(y_train_smote).value_counts())"
   ]
  },
  {
   "cell_type": "code",
   "execution_count": 18,
   "metadata": {
    "colab": {
     "base_uri": "https://localhost:8080/",
     "height": 233
    },
    "colab_type": "code",
    "executionInfo": {
     "elapsed": 6689,
     "status": "ok",
     "timestamp": 1591295398152,
     "user": {
      "displayName": "chamila dharmawardhana",
      "photoUrl": "https://lh3.googleusercontent.com/a-/AOh14GiMQL71je5gYAe__JMO5G3ZCfpatswl8ZaS0hraFw=s64",
      "userId": "10886394829232968298"
     },
     "user_tz": 300
    },
    "id": "FcERjAqiUMwx",
    "outputId": "b50a07c3-e4a8-4074-d885-42bfdc73aad2"
   },
   "outputs": [
    {
     "name": "stderr",
     "output_type": "stream",
     "text": [
      "C:\\Anaconda3\\envs\\learn-env\\lib\\site-packages\\sklearn\\linear_model\\logistic.py:432: FutureWarning:\n",
      "\n",
      "Default solver will be changed to 'lbfgs' in 0.22. Specify a solver to silence this warning.\n",
      "\n",
      "C:\\Anaconda3\\envs\\learn-env\\lib\\site-packages\\sklearn\\ensemble\\forest.py:245: FutureWarning:\n",
      "\n",
      "The default value of n_estimators will change from 10 in version 0.20 to 100 in 0.22.\n",
      "\n"
     ]
    },
    {
     "data": {
      "text/html": [
       "<div>\n",
       "<style scoped>\n",
       "    .dataframe tbody tr th:only-of-type {\n",
       "        vertical-align: middle;\n",
       "    }\n",
       "\n",
       "    .dataframe tbody tr th {\n",
       "        vertical-align: top;\n",
       "    }\n",
       "\n",
       "    .dataframe thead th {\n",
       "        text-align: right;\n",
       "    }\n",
       "</style>\n",
       "<table border=\"1\" class=\"dataframe\">\n",
       "  <thead>\n",
       "    <tr style=\"text-align: right;\">\n",
       "      <th></th>\n",
       "      <th>Model</th>\n",
       "      <th>Accuracy_score</th>\n",
       "      <th>Recall_score</th>\n",
       "      <th>Precision</th>\n",
       "      <th>f1_score</th>\n",
       "      <th>Area_under_curve</th>\n",
       "    </tr>\n",
       "  </thead>\n",
       "  <tbody>\n",
       "    <tr>\n",
       "      <td>0</td>\n",
       "      <td>Logistic Regression</td>\n",
       "      <td>0.749677</td>\n",
       "      <td>0.804918</td>\n",
       "      <td>0.515215</td>\n",
       "      <td>0.628279</td>\n",
       "      <td>0.767450</td>\n",
       "    </tr>\n",
       "    <tr>\n",
       "      <td>1</td>\n",
       "      <td>Decision Tree</td>\n",
       "      <td>0.713055</td>\n",
       "      <td>0.562295</td>\n",
       "      <td>0.462264</td>\n",
       "      <td>0.507396</td>\n",
       "      <td>0.664549</td>\n",
       "    </tr>\n",
       "    <tr>\n",
       "      <td>2</td>\n",
       "      <td>KNN Classifier</td>\n",
       "      <td>0.694959</td>\n",
       "      <td>0.704918</td>\n",
       "      <td>0.448852</td>\n",
       "      <td>0.548469</td>\n",
       "      <td>0.698163</td>\n",
       "    </tr>\n",
       "    <tr>\n",
       "      <td>3</td>\n",
       "      <td>Random Forest Classifier</td>\n",
       "      <td>0.769927</td>\n",
       "      <td>0.555738</td>\n",
       "      <td>0.563123</td>\n",
       "      <td>0.559406</td>\n",
       "      <td>0.701013</td>\n",
       "    </tr>\n",
       "    <tr>\n",
       "      <td>4</td>\n",
       "      <td>SVM Classifier Linear</td>\n",
       "      <td>0.714778</td>\n",
       "      <td>0.809836</td>\n",
       "      <td>0.475000</td>\n",
       "      <td>0.598788</td>\n",
       "      <td>0.745362</td>\n",
       "    </tr>\n",
       "    <tr>\n",
       "      <td>5</td>\n",
       "      <td>XGBoost Classifier</td>\n",
       "      <td>0.780267</td>\n",
       "      <td>0.706557</td>\n",
       "      <td>0.565617</td>\n",
       "      <td>0.628280</td>\n",
       "      <td>0.756552</td>\n",
       "    </tr>\n",
       "  </tbody>\n",
       "</table>\n",
       "</div>"
      ],
      "text/plain": [
       "                      Model  Accuracy_score  Recall_score  Precision  \\\n",
       "0       Logistic Regression        0.749677      0.804918   0.515215   \n",
       "1             Decision Tree        0.713055      0.562295   0.462264   \n",
       "2            KNN Classifier        0.694959      0.704918   0.448852   \n",
       "3  Random Forest Classifier        0.769927      0.555738   0.563123   \n",
       "4     SVM Classifier Linear        0.714778      0.809836   0.475000   \n",
       "5        XGBoost Classifier        0.780267      0.706557   0.565617   \n",
       "\n",
       "   f1_score  Area_under_curve  \n",
       "0  0.628279          0.767450  \n",
       "1  0.507396          0.664549  \n",
       "2  0.548469          0.698163  \n",
       "3  0.559406          0.701013  \n",
       "4  0.598788          0.745362  \n",
       "5  0.628280          0.756552  "
      ]
     },
     "metadata": {},
     "output_type": "display_data"
    }
   ],
   "source": [
    "# LogisticRegression\n",
    "name = \"Logistic Regression\"\n",
    "logit = LogisticRegression()\n",
    "model1 = model_report(logit,X_train_smote,X_test,y_train_smote,y_test,name)\n",
    "\n",
    "# DecisionTree Classifier\n",
    "name = \"Decision Tree\"\n",
    "decision_tree = DecisionTreeClassifier(random_state = 0)\n",
    "# X_train_resampled,X_test,y_train_resampled,y_test,name\n",
    "model2 = model_report(decision_tree,X_train_smote,X_test,y_train_smote,y_test,name)\n",
    "\n",
    "# KNeighborsClassifier\n",
    "name = \"KNN Classifier\"\n",
    "knn = KNeighborsClassifier(n_neighbors=3)\n",
    "model3 = model_report(knn,X_train_smote,X_test,y_train_smote,y_test,name)\n",
    "\n",
    "name = \"Random Forest Classifier\"\n",
    "rfc = RandomForestClassifier(random_state=0)\n",
    "model4 = model_report(rfc,X_train_smote,X_test,y_train_smote,y_test,name)\n",
    "\n",
    "name = \"SVM Classifier Linear\"\n",
    "svc  = SVC(gamma='auto', kernel='linear')\n",
    "model5 = model_report(svc,X_train_smote,X_test,y_train_smote,y_test,name)\n",
    "\n",
    "name = \"XGBoost Classifier\"\n",
    "xgc = XGBClassifier()\n",
    "model6 = model_report(xgc,X_train_smote,X_test,y_train_smote,y_test,name)\n",
    "\n",
    "#concat all models\n",
    "model_performances = pd.concat([model1,model2,model3,model4,\n",
    "                                model5,model6],axis = 0).reset_index()\n",
    "\n",
    "model_performances = model_performances.drop(columns = \"index\",axis =1)\n",
    "display(model_performances)\n",
    "\n",
    "#plot_tracers(model_performances)\n"
   ]
  },
  {
   "cell_type": "markdown",
   "metadata": {
    "colab_type": "text",
    "id": "biSDBN7RUMw8"
   },
   "source": [
    "with SMOTE we can see that the model accuray score reduces a little but the __recall__ improves considerablly. As recall is the main evaluation metric of interest for churn dataset it is better to use SMOTE. \n",
    "From the evaluation comparison above clearly Logistic regression and SVM classifiers give the best performance and worth exploring further. However, since XGboots is been known to perform well with the correct set of hyper parameters let's explot XGboost further as well. "
   ]
  },
  {
   "cell_type": "markdown",
   "metadata": {
    "colab_type": "text",
    "id": "GpUkD-1DUMw9"
   },
   "source": [
    "## Improving model accuracy "
   ]
  },
  {
   "cell_type": "code",
   "execution_count": 19,
   "metadata": {
    "colab": {},
    "colab_type": "code",
    "id": "zEdlJ0hlUMw-"
   },
   "outputs": [],
   "source": [
    "def get_pl(name, classifier, parms, score='recall'):\n",
    "    # function\n",
    "    pl = Pipeline([(name, classifier)])\n",
    "\n",
    "    gs = GridSearchCV(pl, parms, scoring=score, cv=5, n_jobs=-1)\n",
    "\n",
    "    gs.fit(X_train_smote, y_train_smote)\n",
    "\n",
    "    best_parameters = gs.best_params_\n",
    "    print(\"Grid Search found the following optimal parameters: \")\n",
    "    for param_name in sorted(best_parameters.keys()):\n",
    "        print(\"%s: %r\" % (param_name, best_parameters[param_name]))\n",
    "\n",
    "    if score == 'accuracy':\n",
    "        # optimize for accuracy\n",
    "        training_preds = gs.predict(X_train_smote)\n",
    "        val_preds = gs.predict(X_test)\n",
    "        training_accuracy = accuracy_score(y_train_smote, training_preds)\n",
    "        val_accuracy = accuracy_score(y_test, val_preds)\n",
    "\n",
    "        print(\"\")\n",
    "        print(\"Training accuracy : {:.4}%\".format(training_accuracy * 100))\n",
    "        print(\"Validation accuracy: {:.4}%\".format(val_accuracy * 100))\n",
    "    elif score == 'recall':\n",
    "        # optimize for recall\n",
    "        training_preds = gs.predict(X_train_smote)\n",
    "        val_preds = gs.predict(X_test)\n",
    "        training_recall = recall_score(y_train_smote, training_preds)\n",
    "        val_recall = recall_score(y_test, val_preds)\n",
    "\n",
    "        print(\"\")\n",
    "        print(\"Training recall: {:.4}%\".format(training_recall * 100))\n",
    "        print(\"Validation recall: {:.4}%\".format(val_recall * 100))\n",
    "    return None"
   ]
  },
  {
   "cell_type": "markdown",
   "metadata": {
    "colab_type": "text",
    "id": "EcRfG41lUMxI"
   },
   "source": [
    "### Logistic Regression\n",
    "\n",
    "Following parameters maybe set and changed to get better accuracy \n",
    "\n",
    "* \"penalty\": 'l2' => Churn dataset have lot of multicoliniarity\n",
    "* 'C': [100, 10, 1, 0.1, 0.01, 0.001]  => have to test strenth of regularization is best\n",
    "* 'fit_intercept': True, False\n",
    "* 'random_state': [11],\n",
    "* 'solver': 'liblinear',\n",
    "* 'max_iter': [200]\n"
   ]
  },
  {
   "cell_type": "code",
   "execution_count": 20,
   "metadata": {
    "colab": {
     "base_uri": "https://localhost:8080/",
     "height": 55
    },
    "colab_type": "code",
    "executionInfo": {
     "elapsed": 484,
     "status": "ok",
     "timestamp": 1591295414849,
     "user": {
      "displayName": "chamila dharmawardhana",
      "photoUrl": "https://lh3.googleusercontent.com/a-/AOh14GiMQL71je5gYAe__JMO5G3ZCfpatswl8ZaS0hraFw=s64",
      "userId": "10886394829232968298"
     },
     "user_tz": 300
    },
    "id": "H3lREuCrUMxJ",
    "outputId": "3b06a7d8-a816-46c8-8825-5dd5004f9c72",
    "scrolled": true
   },
   "outputs": [
    {
     "data": {
      "text/plain": [
       "\"\\nGrid Search found the following optimal parameters: \\nlogit__C: 100\\nlogit__class_weight: 'balanced'\\nlogit__fit_intercept: False\\nlogit__intercept_scaling: 10\\nlogit__max_iter: 200\\nlogit__penalty: 'l1'\\nlogit__random_state: 11\\nlogit__solver: 'liblinear'\\n\\nTraining recall: 90.73%\\nValidation recall: 88.36%\\n\""
      ]
     },
     "execution_count": 20,
     "metadata": {},
     "output_type": "execute_result"
    }
   ],
   "source": [
    "# call function \n",
    "param_grid = {    \n",
    "    \"logit__penalty\": ['l1','l2'],\n",
    "    'logit__C': [100, 10, 1, 0.1, 0.01, 0.001],\n",
    "    'logit__fit_intercept': [True, False],\n",
    "    'logit__random_state': [11],\n",
    "    'logit__solver': ['newton-cg', 'lbfgs', 'liblinear', 'sag', 'saga'],\n",
    "    'logit__max_iter': [200],\n",
    "    'logit__intercept_scaling': [10, 1, 0.1, 0.001],\n",
    "    'logit__class_weight': ['balanced', None],\n",
    "}\n",
    "\n",
    "#get_pl('logit', LogisticRegression(), param_grid, 'recall')\n",
    "\"\"\"\n",
    "Grid Search found the following optimal parameters: \n",
    "logit__C: 100\n",
    "logit__class_weight: 'balanced'\n",
    "logit__fit_intercept: False\n",
    "logit__intercept_scaling: 10\n",
    "logit__max_iter: 200\n",
    "logit__penalty: 'l1'\n",
    "logit__random_state: 11\n",
    "logit__solver: 'liblinear'\n",
    "\n",
    "Training recall: 90.73%\n",
    "Validation recall: 88.36%\n",
    "\"\"\""
   ]
  },
  {
   "cell_type": "code",
   "execution_count": 21,
   "metadata": {
    "colab": {
     "base_uri": "https://localhost:8080/",
     "height": 364
    },
    "colab_type": "code",
    "executionInfo": {
     "elapsed": 2069,
     "status": "ok",
     "timestamp": 1591295422606,
     "user": {
      "displayName": "chamila dharmawardhana",
      "photoUrl": "https://lh3.googleusercontent.com/a-/AOh14GiMQL71je5gYAe__JMO5G3ZCfpatswl8ZaS0hraFw=s64",
      "userId": "10886394829232968298"
     },
     "user_tz": 300
    },
    "id": "l0Cu86t0UMxP",
    "outputId": "39cdc244-5c0b-4015-d7e5-3a5298af71da",
    "scrolled": false
   },
   "outputs": [
    {
     "name": "stdout",
     "output_type": "stream",
     "text": [
      "------------------------------------------------------------------------------------------\n",
      "LogisticRegression(C=100, class_weight='balanced', dual=False,\n",
      "                   fit_intercept=False, intercept_scaling=10, l1_ratio=None,\n",
      "                   max_iter=200, multi_class='warn', n_jobs=None, penalty='l1',\n",
      "                   random_state=11, solver='liblinear', tol=0.0001, verbose=0,\n",
      "                   warm_start=False)\n",
      "------------------------------------------------------------------------------------------\n",
      "Training accuracy Score: 0.7626013904982619\n",
      "Model accuracy Score: 0.6820336062042223\n",
      "------------------------------------------------------------------------------------------\n",
      "Classification Matrix:\n",
      "              precision    recall  f1-score   support\n",
      "\n",
      "           0       0.94      0.61      0.74      1711\n",
      "           1       0.45      0.88      0.59       610\n",
      "\n",
      "    accuracy                           0.68      2321\n",
      "   macro avg       0.69      0.75      0.67      2321\n",
      "weighted avg       0.81      0.68      0.70      2321\n",
      "\n"
     ]
    }
   ],
   "source": [
    "# after Gridsearch with recall for scoring\n",
    "logreg_1 = LogisticRegression(C = 100 , class_weight = 'balanced', fit_intercept = False , \n",
    "                              intercept_scaling = 10 , max_iter = 200 , penalty = 'l1' ,\n",
    "                              random_state = 11 , solver = 'liblinear')\n",
    "                            \n",
    "# model results\n",
    "results(logreg_1, X, X_train_smote, y_train_smote, X_test, y_test, 'coefficients', None)"
   ]
  },
  {
   "cell_type": "code",
   "execution_count": 22,
   "metadata": {
    "colab": {
     "base_uri": "https://localhost:8080/",
     "height": 55
    },
    "colab_type": "code",
    "executionInfo": {
     "elapsed": 438,
     "status": "ok",
     "timestamp": 1591295438204,
     "user": {
      "displayName": "chamila dharmawardhana",
      "photoUrl": "https://lh3.googleusercontent.com/a-/AOh14GiMQL71je5gYAe__JMO5G3ZCfpatswl8ZaS0hraFw=s64",
      "userId": "10886394829232968298"
     },
     "user_tz": 300
    },
    "id": "tJXzBVLOUMxW",
    "outputId": "9dc25afa-1b1b-4979-d2cb-1c7d86338f11"
   },
   "outputs": [
    {
     "data": {
      "text/plain": [
       "\"\\nGrid Search found the following optimal parameters: \\nlogit__C: 1\\nlogit__fit_intercept: True\\nlogit__max_iter: 200\\nlogit__penalty: 'l2'\\nlogit__random_state: 11\\nlogit__solver: 'liblinear'\\n\\nTraining accuracy : 77.89%\\nValidation accuracy: 75.74%\\n\""
      ]
     },
     "execution_count": 22,
     "metadata": {},
     "output_type": "execute_result"
    }
   ],
   "source": [
    "# call function \n",
    "param_grid = {    \n",
    "    \"logit__penalty\": ['l1','l2'],\n",
    "    'logit__C': [100, 10, 1, 0.1, 0.01, 0.001],\n",
    "    'logit__fit_intercept': [True, False],\n",
    "    'logit__random_state': [11],\n",
    "    'logit__solver': ['newton-cg', 'lbfgs', 'liblinear', 'sag', 'saga'],\n",
    "    'logit__max_iter': [200],\n",
    "    'logit__intercept_scaling': [10, 1, 0.1, 0.001],\n",
    "    'logit__class_weight': ['balanced', None],\n",
    "}\n",
    "\n",
    "#get_pl('logit', LogisticRegression(), param_grid, 'accuracy')\n",
    "\n",
    "\"\"\"\n",
    "Grid Search found the following optimal parameters: \n",
    "logit__C: 1\n",
    "logit__fit_intercept: True\n",
    "logit__max_iter: 200\n",
    "logit__penalty: 'l2'\n",
    "logit__random_state: 11\n",
    "logit__solver: 'liblinear'\n",
    "\n",
    "Training accuracy : 77.89%\n",
    "Validation accuracy: 75.74%\n",
    "\"\"\""
   ]
  },
  {
   "cell_type": "code",
   "execution_count": 23,
   "metadata": {
    "colab": {
     "base_uri": "https://localhost:8080/",
     "height": 364
    },
    "colab_type": "code",
    "executionInfo": {
     "elapsed": 315,
     "status": "ok",
     "timestamp": 1591295447349,
     "user": {
      "displayName": "chamila dharmawardhana",
      "photoUrl": "https://lh3.googleusercontent.com/a-/AOh14GiMQL71je5gYAe__JMO5G3ZCfpatswl8ZaS0hraFw=s64",
      "userId": "10886394829232968298"
     },
     "user_tz": 300
    },
    "id": "wjGagS2BUMxb",
    "outputId": "90a3da98-76ef-432f-9589-4672f56ac1e9"
   },
   "outputs": [
    {
     "name": "stdout",
     "output_type": "stream",
     "text": [
      "------------------------------------------------------------------------------------------\n",
      "LogisticRegression(C=1, class_weight='balanced', dual=False, fit_intercept=True,\n",
      "                   intercept_scaling=10, l1_ratio=None, max_iter=200,\n",
      "                   multi_class='warn', n_jobs=None, penalty='l2',\n",
      "                   random_state=11, solver='newton-cg', tol=0.0001, verbose=0,\n",
      "                   warm_start=False)\n",
      "------------------------------------------------------------------------------------------\n",
      "Training accuracy Score: 0.7728852838933952\n",
      "Model accuracy Score: 0.7496768634209392\n",
      "------------------------------------------------------------------------------------------\n",
      "Classification Matrix:\n",
      "              precision    recall  f1-score   support\n",
      "\n",
      "           0       0.91      0.73      0.81      1711\n",
      "           1       0.52      0.80      0.63       610\n",
      "\n",
      "    accuracy                           0.75      2321\n",
      "   macro avg       0.71      0.77      0.72      2321\n",
      "weighted avg       0.81      0.75      0.76      2321\n",
      "\n"
     ]
    }
   ],
   "source": [
    "# after Gridsearch with recall for scoring\n",
    "logreg_1 = LogisticRegression(C = 1 , class_weight = 'balanced', fit_intercept = True , \n",
    "                              intercept_scaling = 10 , max_iter = 200 , penalty = 'l2' ,\n",
    "                              random_state = 11 , solver = 'newton-cg')\n",
    "# model results\n",
    "results(logreg_1, X, X_train_smote, y_train_smote, X_test, y_test, 'coefficients', None)"
   ]
  },
  {
   "cell_type": "markdown",
   "metadata": {
    "colab_type": "text",
    "id": "gs0sCVMgUMxg"
   },
   "source": [
    "### SVM\n",
    "\n",
    "Following parameters maybe set and changed to get better accuracy \n",
    "\n",
    "* kernal: [‘linear’, ‘poly’, ‘rbf’]\n",
    "* C:  [100, 10, 1, 0.1, 0.01, 0.001] => how soft is the soft margin. low C means errors matter less\n",
    "* degree: [2, 3] => highest order of poly kernal. ignored for other kernals \n",
    "* 'tol': [1e-4] => stopping criterion increased a little here\n",
    "\n"
   ]
  },
  {
   "cell_type": "code",
   "execution_count": 24,
   "metadata": {
    "colab": {
     "base_uri": "https://localhost:8080/",
     "height": 55
    },
    "colab_type": "code",
    "executionInfo": {
     "elapsed": 430,
     "status": "ok",
     "timestamp": 1591295477046,
     "user": {
      "displayName": "chamila dharmawardhana",
      "photoUrl": "https://lh3.googleusercontent.com/a-/AOh14GiMQL71je5gYAe__JMO5G3ZCfpatswl8ZaS0hraFw=s64",
      "userId": "10886394829232968298"
     },
     "user_tz": 300
    },
    "id": "PCsGEbWAUMxh",
    "outputId": "961e58e0-0934-42d7-d39f-3519d7fe201c"
   },
   "outputs": [
    {
     "data": {
      "text/plain": [
       "\"\\nGrid Search found the following optimal parameters: \\nsvm__C: 0.01\\nsvm__class_weight: 'balanced'\\nsvm__coef0: 1.0\\nsvm__degree: 2\\nsvm__gamma: 'scale'\\nsvm__kernel: 'sigmoid'\\nsvm__max_iter: 200\\nsvm__random_state: 42\\nsvm__shrinking: True\\n\\nTraining recall: 94.52%\\nValidation recall: 94.92%\\n\""
      ]
     },
     "execution_count": 24,
     "metadata": {},
     "output_type": "execute_result"
    }
   ],
   "source": [
    "# Pipeline par grid for SVC\n",
    "param_grid = {\n",
    "    'svm__C': [100, 0.1, 0.01, 0.001],\n",
    "    'svm__kernel': ['linear', 'poly', 'rbf', 'sigmoid'],\n",
    "    'svm__degree': [2, 3, 4],\n",
    "    'svm__gamma': ['auto', 'scale'],\n",
    "    'svm__coef0': [10.0, 1.0, 0.1, 0.001],\n",
    "    'svm__shrinking': [True, False], \n",
    "    'svm__class_weight': ['balanced', None],\n",
    "    'svm__max_iter': [200],\n",
    "    'svm__random_state': [42],\n",
    "}\n",
    "\n",
    "#get_pl('svm', SVC(), param_grid, 'recall')\n",
    "\"\"\"\n",
    "Grid Search found the following optimal parameters: \n",
    "svm__C: 0.01\n",
    "svm__class_weight: 'balanced'\n",
    "svm__coef0: 1.0\n",
    "svm__degree: 2\n",
    "svm__gamma: 'scale'\n",
    "svm__kernel: 'sigmoid'\n",
    "svm__max_iter: 200\n",
    "svm__random_state: 42\n",
    "svm__shrinking: True\n",
    "\n",
    "Training recall: 94.52%\n",
    "Validation recall: 94.92%\n",
    "\"\"\""
   ]
  },
  {
   "cell_type": "code",
   "execution_count": 25,
   "metadata": {
    "colab": {
     "base_uri": "https://localhost:8080/",
     "height": 416
    },
    "colab_type": "code",
    "executionInfo": {
     "elapsed": 781,
     "status": "ok",
     "timestamp": 1591295485349,
     "user": {
      "displayName": "chamila dharmawardhana",
      "photoUrl": "https://lh3.googleusercontent.com/a-/AOh14GiMQL71je5gYAe__JMO5G3ZCfpatswl8ZaS0hraFw=s64",
      "userId": "10886394829232968298"
     },
     "user_tz": 300
    },
    "id": "h4V5fLnXUMxm",
    "outputId": "264da52e-4a70-48ee-e109-c3832c50e489",
    "scrolled": true
   },
   "outputs": [
    {
     "name": "stdout",
     "output_type": "stream",
     "text": [
      "------------------------------------------------------------------------------------------\n",
      "SVC(C=0.01, cache_size=200, class_weight='balanced', coef0=1.0,\n",
      "    decision_function_shape='ovr', degree=2, gamma='scale', kernel='sigmoid',\n",
      "    max_iter=200, probability=False, random_state=42, shrinking=True, tol=0.001,\n",
      "    verbose=False)\n",
      "------------------------------------------------------------------------------------------\n",
      "Training accuracy Score: 0.6157300115874855\n",
      "Model accuracy Score: 0.43601895734597157\n",
      "------------------------------------------------------------------------------------------\n",
      "Classification Matrix:\n",
      "              precision    recall  f1-score   support\n",
      "\n",
      "           0       0.95      0.25      0.39      1711\n",
      "           1       0.31      0.96      0.47       610\n",
      "\n",
      "    accuracy                           0.44      2321\n",
      "   macro avg       0.63      0.61      0.43      2321\n",
      "weighted avg       0.78      0.44      0.41      2321\n",
      "\n"
     ]
    },
    {
     "name": "stderr",
     "output_type": "stream",
     "text": [
      "C:\\Anaconda3\\envs\\learn-env\\lib\\site-packages\\sklearn\\svm\\base.py:241: ConvergenceWarning:\n",
      "\n",
      "Solver terminated early (max_iter=200).  Consider pre-processing your data with StandardScaler or MinMaxScaler.\n",
      "\n"
     ]
    }
   ],
   "source": [
    "# accuracy matric of the best set of parameters   kernel ='rbf', C=100, degree= 2,  tol = 0.0001, gamma = 'auto'\n",
    "clf_svm_1 = SVC(C = 0.01, class_weight = 'balanced', coef0 = 1.0, degree = 2, gamma = 'scale', \n",
    "                kernel = 'sigmoid', max_iter = 200, random_state = 42, shrinking = True,)\n",
    "\n",
    "results(clf_svm_1, X, X_train_smote, y_train_smote, X_test, y_test, 'coefficients', 'fig3')"
   ]
  },
  {
   "cell_type": "code",
   "execution_count": 26,
   "metadata": {
    "colab": {
     "base_uri": "https://localhost:8080/",
     "height": 55
    },
    "colab_type": "code",
    "executionInfo": {
     "elapsed": 500,
     "status": "ok",
     "timestamp": 1591295503180,
     "user": {
      "displayName": "chamila dharmawardhana",
      "photoUrl": "https://lh3.googleusercontent.com/a-/AOh14GiMQL71je5gYAe__JMO5G3ZCfpatswl8ZaS0hraFw=s64",
      "userId": "10886394829232968298"
     },
     "user_tz": 300
    },
    "id": "BI7frgz8UMxo",
    "outputId": "4b855baf-44a5-4b12-b5d3-246920004057"
   },
   "outputs": [
    {
     "data": {
      "text/plain": [
       "\"\\nGrid Search found the following optimal parameters: \\nsvm__C: 100\\nsvm__class_weight: None\\nsvm__coef0: 10.0\\nsvm__degree: 2\\nsvm__gamma: 'auto'\\nsvm__kernel: 'sigmoid'\\nsvm__max_iter: 200\\nsvm__random_state: 42\\nsvm__shrinking: True\\n\\nTraining accuracy : 74.74%\\nValidation accuracy: 67.82%\\n\""
      ]
     },
     "execution_count": 26,
     "metadata": {},
     "output_type": "execute_result"
    }
   ],
   "source": [
    "# Pipeline par grid for SVC with accuracy measure\n",
    "param_grid = {    \n",
    "    'svm__C': [100, 0.1, 0.01, 0.001],\n",
    "    'svm__kernel': ['linear', 'poly', 'rbf', 'sigmoid'],\n",
    "    'svm__degree': [2, 3, 4],\n",
    "    'svm__gamma': ['auto', 'scale'],\n",
    "    'svm__coef0': [10.0, 1.0, 0.1, 0.001],\n",
    "    'svm__shrinking': [True, False], \n",
    "    'svm__class_weight': ['balanced', None],\n",
    "    'svm__max_iter': [200],\n",
    "    'svm__random_state': [42],\n",
    "}\n",
    "\n",
    "#get_pl('svm', SVC(), param_grid, 'accuracy')\n",
    "\"\"\"\n",
    "Grid Search found the following optimal parameters: \n",
    "svm__C: 100\n",
    "svm__class_weight: None\n",
    "svm__coef0: 10.0\n",
    "svm__degree: 2\n",
    "svm__gamma: 'auto'\n",
    "svm__kernel: 'sigmoid'\n",
    "svm__max_iter: 200\n",
    "svm__random_state: 42\n",
    "svm__shrinking: True\n",
    "\n",
    "Training accuracy : 74.74%\n",
    "Validation accuracy: 67.82%\n",
    "\"\"\""
   ]
  },
  {
   "cell_type": "code",
   "execution_count": 27,
   "metadata": {
    "colab": {
     "base_uri": "https://localhost:8080/",
     "height": 416
    },
    "colab_type": "code",
    "executionInfo": {
     "elapsed": 810,
     "status": "ok",
     "timestamp": 1591295512681,
     "user": {
      "displayName": "chamila dharmawardhana",
      "photoUrl": "https://lh3.googleusercontent.com/a-/AOh14GiMQL71je5gYAe__JMO5G3ZCfpatswl8ZaS0hraFw=s64",
      "userId": "10886394829232968298"
     },
     "user_tz": 300
    },
    "id": "050JQxVdUMxs",
    "outputId": "430a89d7-3ccb-4a90-af29-28eff67581cd"
   },
   "outputs": [
    {
     "name": "stdout",
     "output_type": "stream",
     "text": [
      "------------------------------------------------------------------------------------------\n",
      "SVC(C=100, cache_size=200, class_weight=None, coef0=10.0,\n",
      "    decision_function_shape='ovr', degree=2, gamma='auto', kernel='sigmoid',\n",
      "    max_iter=200, probability=False, random_state=42, shrinking=True, tol=0.001,\n",
      "    verbose=False)\n",
      "------------------------------------------------------------------------------------------\n",
      "Training accuracy Score: 0.7453650057937428\n",
      "Model accuracy Score: 0.6781559672554933\n",
      "------------------------------------------------------------------------------------------\n",
      "Classification Matrix:\n",
      "              precision    recall  f1-score   support\n",
      "\n",
      "           0       0.93      0.61      0.74      1711\n",
      "           1       0.44      0.87      0.59       610\n",
      "\n",
      "    accuracy                           0.68      2321\n",
      "   macro avg       0.69      0.74      0.66      2321\n",
      "weighted avg       0.80      0.68      0.70      2321\n",
      "\n"
     ]
    },
    {
     "name": "stderr",
     "output_type": "stream",
     "text": [
      "C:\\Anaconda3\\envs\\learn-env\\lib\\site-packages\\sklearn\\svm\\base.py:241: ConvergenceWarning:\n",
      "\n",
      "Solver terminated early (max_iter=200).  Consider pre-processing your data with StandardScaler or MinMaxScaler.\n",
      "\n"
     ]
    }
   ],
   "source": [
    "# accuracy matric of the best set of parameters  \n",
    "clf_svm_1 = SVC(C = 100, class_weight = None, coef0 = 10.0, degree = 2, gamma = 'auto', \n",
    "kernel = 'sigmoid', max_iter = 200, random_state = 42, shrinking = True)\n",
    "\n",
    "results(clf_svm_1, X, X_train_smote, y_train_smote, X_test, y_test,'coefficients', 'fig3')"
   ]
  },
  {
   "cell_type": "code",
   "execution_count": 28,
   "metadata": {
    "colab": {
     "base_uri": "https://localhost:8080/",
     "height": 347
    },
    "colab_type": "code",
    "executionInfo": {
     "elapsed": 3257,
     "status": "ok",
     "timestamp": 1591295523249,
     "user": {
      "displayName": "chamila dharmawardhana",
      "photoUrl": "https://lh3.googleusercontent.com/a-/AOh14GiMQL71je5gYAe__JMO5G3ZCfpatswl8ZaS0hraFw=s64",
      "userId": "10886394829232968298"
     },
     "user_tz": 300
    },
    "id": "2nH0zoumUMxv",
    "outputId": "dfe6aaa5-bd53-42a2-8fa0-ef49b708d14f"
   },
   "outputs": [
    {
     "name": "stdout",
     "output_type": "stream",
     "text": [
      "------------------------------------------------------------------------------------------\n",
      "SVC(C=0.001, cache_size=200, class_weight=None, coef0=0.0,\n",
      "    decision_function_shape='ovr', degree=3, gamma='auto', kernel='linear',\n",
      "    max_iter=-1, probability=False, random_state=None, shrinking=True,\n",
      "    tol=0.0001, verbose=False)\n",
      "------------------------------------------------------------------------------------------\n",
      "Training accuracy Score: 0.7644843568945539\n",
      "Model accuracy Score: 0.7268418785006463\n",
      "------------------------------------------------------------------------------------------\n",
      "Classification Matrix:\n",
      "              precision    recall  f1-score   support\n",
      "\n",
      "           0       0.91      0.69      0.79      1711\n",
      "           1       0.49      0.82      0.61       610\n",
      "\n",
      "    accuracy                           0.73      2321\n",
      "   macro avg       0.70      0.76      0.70      2321\n",
      "weighted avg       0.80      0.73      0.74      2321\n",
      "\n"
     ]
    }
   ],
   "source": [
    "# accuracy matric of the best set of parameters  \n",
    "clf_svm_1 = SVC(kernel ='linear', C=0.001, tol = 0.0001, gamma = 'auto')\n",
    "\n",
    "results(clf_svm_1, X, X_train_smote, y_train_smote, X_test, y_test,'coefficients', 'fig3')"
   ]
  },
  {
   "cell_type": "markdown",
   "metadata": {
    "colab_type": "text",
    "id": "41cZTqUbUMxy"
   },
   "source": [
    "### XGBoost\n",
    "parameters: \n",
    "* learning_rate: must be set to 1 when training random forest regression. controls the contribution of estimators in the final combination. \n",
    "* max_depth:  depth of a given tree \n",
    "* min_child_weight': Minimum sum of instance weight needed in a child. If the tree partition step results in a leaf node with the sum of instance weight less than min_child_weight, then the building process will give up further partitioning.\n",
    "* subsample: Subsample ratio of the training instances.                 \n",
    "* n_estimator: The number of trees in the forrest."
   ]
  },
  {
   "cell_type": "code",
   "execution_count": 29,
   "metadata": {
    "colab": {
     "base_uri": "https://localhost:8080/",
     "height": 55
    },
    "colab_type": "code",
    "executionInfo": {
     "elapsed": 491,
     "status": "ok",
     "timestamp": 1591295569322,
     "user": {
      "displayName": "chamila dharmawardhana",
      "photoUrl": "https://lh3.googleusercontent.com/a-/AOh14GiMQL71je5gYAe__JMO5G3ZCfpatswl8ZaS0hraFw=s64",
      "userId": "10886394829232968298"
     },
     "user_tz": 300
    },
    "id": "WOLVRpcZUMxy",
    "outputId": "f4c6aa02-a7c7-423e-9cc2-bc076d06188c"
   },
   "outputs": [
    {
     "data": {
      "text/plain": [
       "\"\\nGrid Search found the following optimal parameters: \\nxgb__booster: 'gbtree'\\nxgb__colsample_bynode: 0.4\\nxgb__eta: 1\\nxgb__max_depth: 5\\nxgb__min_child_weight: 50\\nxgb__n_estimators: 5\\nxgb__num_boost_round: 1\\nxgb__objective: 'binary:logistic'\\nxgb__random_state: 42\\nxgb__subsample: 0.2\\n\\nTraining recall: 79.35%\\nValidation recall: 75.9%\\n\""
      ]
     },
     "execution_count": 29,
     "metadata": {},
     "output_type": "execute_result"
    }
   ],
   "source": [
    "param_grid = {    \n",
    "     'xgb__booster': ['gbtree'],\n",
    "     'xgb__subsample': [0.2, 0.4, 0.8, 0.9],\n",
    "     'xgb__colsample_bynode': [0.2, 0.4, 0.8, 0.9],\n",
    "     'xgb__num_boost_round': [1],\n",
    "     'xgb__random_state': [42],\n",
    "     'xgb__eta': [1],\n",
    "     'xgb__max_depth': [5, 9, 15, 20],\n",
    "     'xgb__min_child_weight': [5, 10, 18, 50],\n",
    "     'xgb__n_estimators': [5, 30, 100, 250],\n",
    "     'xgb__objective': ['binary:logistic'],\n",
    "}\n",
    "\n",
    "#get_pl('xgb', XGBClassifier(), param_grid, 'recall')\n",
    "\"\"\"\n",
    "Grid Search found the following optimal parameters: \n",
    "xgb__booster: 'gbtree'\n",
    "xgb__colsample_bynode: 0.4\n",
    "xgb__eta: 1\n",
    "xgb__max_depth: 5\n",
    "xgb__min_child_weight: 50\n",
    "xgb__n_estimators: 5\n",
    "xgb__num_boost_round: 1\n",
    "xgb__objective: 'binary:logistic'\n",
    "xgb__random_state: 42\n",
    "xgb__subsample: 0.2\n",
    "\n",
    "Training recall: 79.35%\n",
    "Validation recall: 75.9%\n",
    "\"\"\""
   ]
  },
  {
   "cell_type": "code",
   "execution_count": 30,
   "metadata": {
    "colab": {
     "base_uri": "https://localhost:8080/",
     "height": 399
    },
    "colab_type": "code",
    "executionInfo": {
     "elapsed": 465,
     "status": "ok",
     "timestamp": 1591295576476,
     "user": {
      "displayName": "chamila dharmawardhana",
      "photoUrl": "https://lh3.googleusercontent.com/a-/AOh14GiMQL71je5gYAe__JMO5G3ZCfpatswl8ZaS0hraFw=s64",
      "userId": "10886394829232968298"
     },
     "user_tz": 300
    },
    "id": "IHHjgadFUMx1",
    "outputId": "ddcf9c2d-0a92-4e32-eb4c-17504c5e6052"
   },
   "outputs": [
    {
     "name": "stdout",
     "output_type": "stream",
     "text": [
      "------------------------------------------------------------------------------------------\n",
      "XGBClassifier(base_score=0.5, booster='gbtree', colsample_bylevel=1,\n",
      "              colsample_bynode=0.4, colsample_bytree=1, eta=1, gamma=0,\n",
      "              learning_rate=0.1, max_delta_step=0, max_depth=5,\n",
      "              min_child_weight=50, missing=None, n_estimators=5, n_jobs=1,\n",
      "              nthread=None, num_boost_round=1, objective='binary:logistic',\n",
      "              random_state=42, reg_alpha=0, reg_lambda=1, scale_pos_weight=1,\n",
      "              seed=None, silent=None, subsample=0.2, verbosity=1)\n",
      "------------------------------------------------------------------------------------------\n",
      "Training accuracy Score: 0.7773754345307068\n",
      "Model accuracy Score: 0.7626023265833692\n",
      "------------------------------------------------------------------------------------------\n",
      "Classification Matrix:\n",
      "              precision    recall  f1-score   support\n",
      "\n",
      "           0       0.90      0.77      0.83      1711\n",
      "           1       0.53      0.76      0.63       610\n",
      "\n",
      "    accuracy                           0.76      2321\n",
      "   macro avg       0.72      0.76      0.73      2321\n",
      "weighted avg       0.80      0.76      0.77      2321\n",
      "\n"
     ]
    }
   ],
   "source": [
    "# Create XBoost classifer object\n",
    "clf_xgb = XGBClassifier(booster = 'gbtree', colsample_bynode = 0.4, eta = 1, max_depth = 5, \n",
    "                        min_child_weight = 50, n_estimators = 5, num_boost_round = 1, subsample = 0.2, \n",
    "                        objective = 'binary:logistic', random_state = 42)\n",
    "results(clf_xgb, X, X_train_smote, y_train_smote, X_test, y_test, 'features', 'fig2')\n",
    "\n",
    "#Plot features importances\n",
    "#imp = pd.Series(data=clf_xgb.feature_importances_, index=X.columns).sort_values(ascending=False)\n",
    "#plt.figure(figsize=(10,12))\n",
    "#plt.title(\"Feature importance\")\n",
    "#ax = sns.barplot(y=imp.index, x=imp.values,palette=\"coolwarm\", orient='h')"
   ]
  },
  {
   "cell_type": "code",
   "execution_count": 31,
   "metadata": {
    "colab": {
     "base_uri": "https://localhost:8080/",
     "height": 277
    },
    "colab_type": "code",
    "executionInfo": {
     "elapsed": 3177285,
     "status": "ok",
     "timestamp": 1591298765013,
     "user": {
      "displayName": "chamila dharmawardhana",
      "photoUrl": "https://lh3.googleusercontent.com/a-/AOh14GiMQL71je5gYAe__JMO5G3ZCfpatswl8ZaS0hraFw=s64",
      "userId": "10886394829232968298"
     },
     "user_tz": 300
    },
    "id": "ytiyXn1DBQPQ",
    "outputId": "867f6363-26d8-4eb1-cf5b-8225257dc9dd"
   },
   "outputs": [
    {
     "data": {
      "text/plain": [
       "\"\\nGrid Search found the following optimal parameters: \\nxgb__booster: 'gbtree'\\nxgb__colsample_bynode: 0.8\\nxgb__eta: 1\\nxgb__max_depth: 20\\nxgb__min_child_weight: 5\\nxgb__n_estimators: 100\\nxgb__num_boost_round: 1\\nxgb__objective: 'binary:logistic'\\nxgb__random_state: 42\\nxgb__subsample: 0.8\\n\\nTraining accuracy : 95.9%\\nValidation accuracy: 76.86%\\n\""
      ]
     },
     "execution_count": 31,
     "metadata": {},
     "output_type": "execute_result"
    }
   ],
   "source": [
    "param_grid = {    \n",
    "     'xgb__booster': ['gbtree'],\n",
    "     'xgb__subsample': [0.2, 0.4, 0.8, 0.9],\n",
    "     'xgb__colsample_bynode': [0.2, 0.4, 0.8, 0.9],\n",
    "     'xgb__num_boost_round': [1],\n",
    "     'xgb__random_state': [42],\n",
    "     'xgb__eta': [1],\n",
    "     'xgb__max_depth': [5, 9, 15, 20],\n",
    "     'xgb__min_child_weight': [5, 10, 18, 50],\n",
    "     'xgb__n_estimators': [5, 30, 100, 250],\n",
    "     'xgb__objective': ['binary:logistic'],\n",
    "}\n",
    "\n",
    "#get_pl('xgb', XGBClassifier(), param_grid, 'accuracy')\n",
    "\"\"\"\n",
    "Grid Search found the following optimal parameters: \n",
    "xgb__booster: 'gbtree'\n",
    "xgb__colsample_bynode: 0.8\n",
    "xgb__eta: 1\n",
    "xgb__max_depth: 20\n",
    "xgb__min_child_weight: 5\n",
    "xgb__n_estimators: 100\n",
    "xgb__num_boost_round: 1\n",
    "xgb__objective: 'binary:logistic'\n",
    "xgb__random_state: 42\n",
    "xgb__subsample: 0.8\n",
    "\n",
    "Training accuracy : 95.9%\n",
    "Validation accuracy: 76.86%\n",
    "\"\"\""
   ]
  },
  {
   "cell_type": "code",
   "execution_count": 32,
   "metadata": {
    "colab": {
     "base_uri": "https://localhost:8080/",
     "height": 399
    },
    "colab_type": "code",
    "executionInfo": {
     "elapsed": 3501,
     "status": "ok",
     "timestamp": 1591301519105,
     "user": {
      "displayName": "chamila dharmawardhana",
      "photoUrl": "https://lh3.googleusercontent.com/a-/AOh14GiMQL71je5gYAe__JMO5G3ZCfpatswl8ZaS0hraFw=s64",
      "userId": "10886394829232968298"
     },
     "user_tz": 300
    },
    "id": "O5x6fZ0X9Wz7",
    "outputId": "06012443-3ce1-417c-94d3-309538552bc8"
   },
   "outputs": [
    {
     "name": "stdout",
     "output_type": "stream",
     "text": [
      "------------------------------------------------------------------------------------------\n",
      "XGBClassifier(base_score=0.5, booster='gbtree', colsample_bylevel=1,\n",
      "              colsample_bynode=0.8, colsample_bytree=1, eta=1, gamma=0,\n",
      "              learning_rate=0.1, max_delta_step=0, max_depth=20,\n",
      "              min_child_weight=5, missing=None, n_estimators=100, n_jobs=1,\n",
      "              nthread=None, num_boost_round=1, objective='binary:logistic',\n",
      "              random_state=42, reg_alpha=0, reg_lambda=1, scale_pos_weight=1,\n",
      "              seed=None, silent=None, subsample=0.8, verbosity=1)\n",
      "------------------------------------------------------------------------------------------\n",
      "Training accuracy Score: 0.9597334878331402\n",
      "Model accuracy Score: 0.7677725118483413\n",
      "------------------------------------------------------------------------------------------\n",
      "Classification Matrix:\n",
      "              precision    recall  f1-score   support\n",
      "\n",
      "           0       0.85      0.84      0.84      1711\n",
      "           1       0.56      0.58      0.57       610\n",
      "\n",
      "    accuracy                           0.77      2321\n",
      "   macro avg       0.70      0.71      0.70      2321\n",
      "weighted avg       0.77      0.77      0.77      2321\n",
      "\n"
     ]
    }
   ],
   "source": [
    "# Create XBoost classifer object\n",
    "clf_xgb = XGBClassifier( booster = 'gbtree', colsample_bynode = 0.8, \n",
    "                        eta = 1, max_depth = 20, min_child_weight = 5, \n",
    "                        n_estimators = 100, num_boost_round = 1, \n",
    "                        random_state = 42, subsample = 0.8, \n",
    "                        objective = 'binary:logistic')\n",
    "results(clf_xgb, X, X_train_smote, y_train_smote, X_test, y_test, 'features', 'fig2')\n",
    "\n",
    "#Plot features importances\n",
    "#imp = pd.Series(data=clf_xgb.feature_importances_, index=X.columns).sort_values(ascending=False)\n",
    "#plt.figure(figsize=(10,12))\n",
    "#plt.title(\"Feature importance\")\n",
    "#ax = sns.barplot(y=imp.index, x=imp.values,palette=\"coolwarm\", orient='h')"
   ]
  },
  {
   "cell_type": "markdown",
   "metadata": {
    "colab_type": "text",
    "id": "Wdm0GinIUMx3"
   },
   "source": [
    "### Random Forrest\n",
    "\n",
    "parameters: \n",
    "* criterion':  loss function. gini  entropy\n",
    "* n_estimator: The number of trees in the forrest.\n",
    "* max_depth:  depth of a given tree \n",
    "* max_features: every split takes only subset of features. Thus, this will pick how many number of features \n",
    "               are tacken at every split [auto, none, sqrt, log2, 0.9....etc]\n",
    "* min_samples_leaf: The minimum number of samples in newly created tree. \n",
    "* oob_score: out of bag score improves accuracy. "
   ]
  },
  {
   "cell_type": "code",
   "execution_count": 0,
   "metadata": {
    "colab": {},
    "colab_type": "code",
    "id": "Q3L1F_6DUMx3"
   },
   "outputs": [],
   "source": [
    "# Pipeline par grid for Random Forrest\n",
    "param_grid = {    \n",
    "    'rf__n_estimators': [5,10, 50, 100, 250],\n",
    "    'rf__criterion': ['gini','entropy'],\n",
    "    'rf__max_depth': [5, 9, 15, 20, 50],\n",
    "    'rf__min_samples_split': [6, 10, 20, 50, 100],\n",
    "    'rf__min_samples_leaf': [4, 6, 10, 20],\n",
    "    'rf__min_weight_fraction_leaf': [0.0, 0.2, 0.5],\n",
    "    'rf__max_features':['auto', 'log2', 0.9, 0.5],\n",
    "    'rf__bootstrap': [True, False],\n",
    "    'rf__oob_score': [True, False],\n",
    "    'rf__random_state': [42],\n",
    "    'rf__class_weight': [ 'balanced', 'balanced_subsample', None],\n",
    "    'rf__max_samples': [5, 10, 15, 20, 50],\n",
    "    'rf__n_jobs': [-1],\n",
    "}\n",
    "\n",
    "get_pl('rf', RandomForestClassifier(), param_grid, 'recall')\n",
    "\"\"\"\n",
    "Grid Search found the following optimal parameters: \n",
    "rf__criterion: 'gini'\n",
    "rf__max_depth: 5\n",
    "rf__max_features: 0.9\n",
    "rf__min_samples_leaf: 5\n",
    "rf__min_samples_split: 5\n",
    "rf__n_estimators: 10\n",
    "\n",
    "Training recall: 86.94%\n",
    "Validation recall: 78.34%\n",
    "\"\"\""
   ]
  },
  {
   "cell_type": "code",
   "execution_count": 0,
   "metadata": {
    "colab": {},
    "colab_type": "code",
    "id": "ty6mfhDCUMx7",
    "outputId": "6783345d-07f9-47c1-a40a-b389dca2ecaf"
   },
   "outputs": [
    {
     "name": "stdout",
     "output_type": "stream",
     "text": [
      "------------------------------------------------------------------------------------------\n",
      "RandomForestClassifier(bootstrap=True, class_weight=None, criterion='gini',\n",
      "                       max_depth=5, max_features=0.9, max_leaf_nodes=None,\n",
      "                       min_impurity_decrease=0.0, min_impurity_split=None,\n",
      "                       min_samples_leaf=5, min_samples_split=5,\n",
      "                       min_weight_fraction_leaf=0.0, n_estimators=10,\n",
      "                       n_jobs=None, oob_score=True, random_state=None,\n",
      "                       verbose=0, warm_start=False)\n",
      "------------------------------------------------------------------------------------------\n",
      "Training accuracy Score: 0.8254152182309772\n",
      "Model accuracy Score: 0.7542662116040956\n",
      "------------------------------------------------------------------------------------------\n",
      "Classification Matrix:\n",
      "              precision    recall  f1-score   support\n",
      "\n",
      "           0       0.90      0.75      0.82      2574\n",
      "           1       0.53      0.77      0.63       942\n",
      "\n",
      "    accuracy                           0.75      3516\n",
      "   macro avg       0.71      0.76      0.72      3516\n",
      "weighted avg       0.80      0.75      0.77      3516\n",
      "\n",
      "------------------------------------------------------------------------------------------\n",
      "Confusion Matrix:\n",
      " Predicted     0     1   All\n",
      "Actual                     \n",
      "0          1923   651  2574\n",
      "1           213   729   942\n",
      "All        2136  1380  3516\n"
     ]
    },
    {
     "name": "stderr",
     "output_type": "stream",
     "text": [
      "C:\\Anaconda3\\envs\\learn-env\\lib\\site-packages\\sklearn\\ensemble\\forest.py:460: UserWarning:\n",
      "\n",
      "Some inputs do not have OOB scores. This probably means too few trees were used to compute any reliable oob estimates.\n",
      "\n",
      "C:\\Anaconda3\\envs\\learn-env\\lib\\site-packages\\sklearn\\ensemble\\forest.py:465: RuntimeWarning:\n",
      "\n",
      "invalid value encountered in true_divide\n",
      "\n"
     ]
    },
    {
     "data": {
      "application/vnd.plotly.v1+json": {
       "config": {
        "plotlyServerURL": "https://plot.ly"
       },
       "data": [
        {
         "colorscale": [
          [
           0,
           "#440154"
          ],
          [
           0.1111111111111111,
           "#482878"
          ],
          [
           0.2222222222222222,
           "#3e4989"
          ],
          [
           0.3333333333333333,
           "#31688e"
          ],
          [
           0.4444444444444444,
           "#26828e"
          ],
          [
           0.5555555555555556,
           "#1f9e89"
          ],
          [
           0.6666666666666666,
           "#35b779"
          ],
          [
           0.7777777777777778,
           "#6ece58"
          ],
          [
           0.8888888888888888,
           "#b5de2b"
          ],
          [
           1,
           "#fde725"
          ]
         ],
         "reversescale": false,
         "showscale": false,
         "type": "heatmap",
         "x": [
          "not Churn",
          "churn"
         ],
         "y": [
          "Churn",
          "not churn"
         ],
         "z": [
          [
           213,
           729
          ],
          [
           1923,
           651
          ]
         ]
        }
       ],
       "layout": {
        "annotations": [
         {
          "font": {
           "color": "#FFFFFF"
          },
          "showarrow": false,
          "text": "213",
          "x": "not Churn",
          "xref": "x",
          "y": "Churn",
          "yref": "y"
         },
         {
          "font": {
           "color": "#FFFFFF"
          },
          "showarrow": false,
          "text": "729",
          "x": "churn",
          "xref": "x",
          "y": "Churn",
          "yref": "y"
         },
         {
          "font": {
           "color": "#000000"
          },
          "showarrow": false,
          "text": "1923",
          "x": "not Churn",
          "xref": "x",
          "y": "not churn",
          "yref": "y"
         },
         {
          "font": {
           "color": "#FFFFFF"
          },
          "showarrow": false,
          "text": "651",
          "x": "churn",
          "xref": "x",
          "y": "not churn",
          "yref": "y"
         }
        ],
        "autosize": false,
        "height": 350,
        "template": {
         "data": {
          "bar": [
           {
            "error_x": {
             "color": "#2a3f5f"
            },
            "error_y": {
             "color": "#2a3f5f"
            },
            "marker": {
             "line": {
              "color": "#E5ECF6",
              "width": 0.5
             }
            },
            "type": "bar"
           }
          ],
          "barpolar": [
           {
            "marker": {
             "line": {
              "color": "#E5ECF6",
              "width": 0.5
             }
            },
            "type": "barpolar"
           }
          ],
          "carpet": [
           {
            "aaxis": {
             "endlinecolor": "#2a3f5f",
             "gridcolor": "white",
             "linecolor": "white",
             "minorgridcolor": "white",
             "startlinecolor": "#2a3f5f"
            },
            "baxis": {
             "endlinecolor": "#2a3f5f",
             "gridcolor": "white",
             "linecolor": "white",
             "minorgridcolor": "white",
             "startlinecolor": "#2a3f5f"
            },
            "type": "carpet"
           }
          ],
          "choropleth": [
           {
            "colorbar": {
             "outlinewidth": 0,
             "ticks": ""
            },
            "type": "choropleth"
           }
          ],
          "contour": [
           {
            "colorbar": {
             "outlinewidth": 0,
             "ticks": ""
            },
            "colorscale": [
             [
              0,
              "#0d0887"
             ],
             [
              0.1111111111111111,
              "#46039f"
             ],
             [
              0.2222222222222222,
              "#7201a8"
             ],
             [
              0.3333333333333333,
              "#9c179e"
             ],
             [
              0.4444444444444444,
              "#bd3786"
             ],
             [
              0.5555555555555556,
              "#d8576b"
             ],
             [
              0.6666666666666666,
              "#ed7953"
             ],
             [
              0.7777777777777778,
              "#fb9f3a"
             ],
             [
              0.8888888888888888,
              "#fdca26"
             ],
             [
              1,
              "#f0f921"
             ]
            ],
            "type": "contour"
           }
          ],
          "contourcarpet": [
           {
            "colorbar": {
             "outlinewidth": 0,
             "ticks": ""
            },
            "type": "contourcarpet"
           }
          ],
          "heatmap": [
           {
            "colorbar": {
             "outlinewidth": 0,
             "ticks": ""
            },
            "colorscale": [
             [
              0,
              "#0d0887"
             ],
             [
              0.1111111111111111,
              "#46039f"
             ],
             [
              0.2222222222222222,
              "#7201a8"
             ],
             [
              0.3333333333333333,
              "#9c179e"
             ],
             [
              0.4444444444444444,
              "#bd3786"
             ],
             [
              0.5555555555555556,
              "#d8576b"
             ],
             [
              0.6666666666666666,
              "#ed7953"
             ],
             [
              0.7777777777777778,
              "#fb9f3a"
             ],
             [
              0.8888888888888888,
              "#fdca26"
             ],
             [
              1,
              "#f0f921"
             ]
            ],
            "type": "heatmap"
           }
          ],
          "heatmapgl": [
           {
            "colorbar": {
             "outlinewidth": 0,
             "ticks": ""
            },
            "colorscale": [
             [
              0,
              "#0d0887"
             ],
             [
              0.1111111111111111,
              "#46039f"
             ],
             [
              0.2222222222222222,
              "#7201a8"
             ],
             [
              0.3333333333333333,
              "#9c179e"
             ],
             [
              0.4444444444444444,
              "#bd3786"
             ],
             [
              0.5555555555555556,
              "#d8576b"
             ],
             [
              0.6666666666666666,
              "#ed7953"
             ],
             [
              0.7777777777777778,
              "#fb9f3a"
             ],
             [
              0.8888888888888888,
              "#fdca26"
             ],
             [
              1,
              "#f0f921"
             ]
            ],
            "type": "heatmapgl"
           }
          ],
          "histogram": [
           {
            "marker": {
             "colorbar": {
              "outlinewidth": 0,
              "ticks": ""
             }
            },
            "type": "histogram"
           }
          ],
          "histogram2d": [
           {
            "colorbar": {
             "outlinewidth": 0,
             "ticks": ""
            },
            "colorscale": [
             [
              0,
              "#0d0887"
             ],
             [
              0.1111111111111111,
              "#46039f"
             ],
             [
              0.2222222222222222,
              "#7201a8"
             ],
             [
              0.3333333333333333,
              "#9c179e"
             ],
             [
              0.4444444444444444,
              "#bd3786"
             ],
             [
              0.5555555555555556,
              "#d8576b"
             ],
             [
              0.6666666666666666,
              "#ed7953"
             ],
             [
              0.7777777777777778,
              "#fb9f3a"
             ],
             [
              0.8888888888888888,
              "#fdca26"
             ],
             [
              1,
              "#f0f921"
             ]
            ],
            "type": "histogram2d"
           }
          ],
          "histogram2dcontour": [
           {
            "colorbar": {
             "outlinewidth": 0,
             "ticks": ""
            },
            "colorscale": [
             [
              0,
              "#0d0887"
             ],
             [
              0.1111111111111111,
              "#46039f"
             ],
             [
              0.2222222222222222,
              "#7201a8"
             ],
             [
              0.3333333333333333,
              "#9c179e"
             ],
             [
              0.4444444444444444,
              "#bd3786"
             ],
             [
              0.5555555555555556,
              "#d8576b"
             ],
             [
              0.6666666666666666,
              "#ed7953"
             ],
             [
              0.7777777777777778,
              "#fb9f3a"
             ],
             [
              0.8888888888888888,
              "#fdca26"
             ],
             [
              1,
              "#f0f921"
             ]
            ],
            "type": "histogram2dcontour"
           }
          ],
          "mesh3d": [
           {
            "colorbar": {
             "outlinewidth": 0,
             "ticks": ""
            },
            "type": "mesh3d"
           }
          ],
          "parcoords": [
           {
            "line": {
             "colorbar": {
              "outlinewidth": 0,
              "ticks": ""
             }
            },
            "type": "parcoords"
           }
          ],
          "scatter": [
           {
            "marker": {
             "colorbar": {
              "outlinewidth": 0,
              "ticks": ""
             }
            },
            "type": "scatter"
           }
          ],
          "scatter3d": [
           {
            "line": {
             "colorbar": {
              "outlinewidth": 0,
              "ticks": ""
             }
            },
            "marker": {
             "colorbar": {
              "outlinewidth": 0,
              "ticks": ""
             }
            },
            "type": "scatter3d"
           }
          ],
          "scattercarpet": [
           {
            "marker": {
             "colorbar": {
              "outlinewidth": 0,
              "ticks": ""
             }
            },
            "type": "scattercarpet"
           }
          ],
          "scattergeo": [
           {
            "marker": {
             "colorbar": {
              "outlinewidth": 0,
              "ticks": ""
             }
            },
            "type": "scattergeo"
           }
          ],
          "scattergl": [
           {
            "marker": {
             "colorbar": {
              "outlinewidth": 0,
              "ticks": ""
             }
            },
            "type": "scattergl"
           }
          ],
          "scattermapbox": [
           {
            "marker": {
             "colorbar": {
              "outlinewidth": 0,
              "ticks": ""
             }
            },
            "type": "scattermapbox"
           }
          ],
          "scatterpolar": [
           {
            "marker": {
             "colorbar": {
              "outlinewidth": 0,
              "ticks": ""
             }
            },
            "type": "scatterpolar"
           }
          ],
          "scatterpolargl": [
           {
            "marker": {
             "colorbar": {
              "outlinewidth": 0,
              "ticks": ""
             }
            },
            "type": "scatterpolargl"
           }
          ],
          "scatterternary": [
           {
            "marker": {
             "colorbar": {
              "outlinewidth": 0,
              "ticks": ""
             }
            },
            "type": "scatterternary"
           }
          ],
          "surface": [
           {
            "colorbar": {
             "outlinewidth": 0,
             "ticks": ""
            },
            "colorscale": [
             [
              0,
              "#0d0887"
             ],
             [
              0.1111111111111111,
              "#46039f"
             ],
             [
              0.2222222222222222,
              "#7201a8"
             ],
             [
              0.3333333333333333,
              "#9c179e"
             ],
             [
              0.4444444444444444,
              "#bd3786"
             ],
             [
              0.5555555555555556,
              "#d8576b"
             ],
             [
              0.6666666666666666,
              "#ed7953"
             ],
             [
              0.7777777777777778,
              "#fb9f3a"
             ],
             [
              0.8888888888888888,
              "#fdca26"
             ],
             [
              1,
              "#f0f921"
             ]
            ],
            "type": "surface"
           }
          ],
          "table": [
           {
            "cells": {
             "fill": {
              "color": "#EBF0F8"
             },
             "line": {
              "color": "white"
             }
            },
            "header": {
             "fill": {
              "color": "#C8D4E3"
             },
             "line": {
              "color": "white"
             }
            },
            "type": "table"
           }
          ]
         },
         "layout": {
          "annotationdefaults": {
           "arrowcolor": "#2a3f5f",
           "arrowhead": 0,
           "arrowwidth": 1
          },
          "colorscale": {
           "diverging": [
            [
             0,
             "#8e0152"
            ],
            [
             0.1,
             "#c51b7d"
            ],
            [
             0.2,
             "#de77ae"
            ],
            [
             0.3,
             "#f1b6da"
            ],
            [
             0.4,
             "#fde0ef"
            ],
            [
             0.5,
             "#f7f7f7"
            ],
            [
             0.6,
             "#e6f5d0"
            ],
            [
             0.7,
             "#b8e186"
            ],
            [
             0.8,
             "#7fbc41"
            ],
            [
             0.9,
             "#4d9221"
            ],
            [
             1,
             "#276419"
            ]
           ],
           "sequential": [
            [
             0,
             "#0d0887"
            ],
            [
             0.1111111111111111,
             "#46039f"
            ],
            [
             0.2222222222222222,
             "#7201a8"
            ],
            [
             0.3333333333333333,
             "#9c179e"
            ],
            [
             0.4444444444444444,
             "#bd3786"
            ],
            [
             0.5555555555555556,
             "#d8576b"
            ],
            [
             0.6666666666666666,
             "#ed7953"
            ],
            [
             0.7777777777777778,
             "#fb9f3a"
            ],
            [
             0.8888888888888888,
             "#fdca26"
            ],
            [
             1,
             "#f0f921"
            ]
           ],
           "sequentialminus": [
            [
             0,
             "#0d0887"
            ],
            [
             0.1111111111111111,
             "#46039f"
            ],
            [
             0.2222222222222222,
             "#7201a8"
            ],
            [
             0.3333333333333333,
             "#9c179e"
            ],
            [
             0.4444444444444444,
             "#bd3786"
            ],
            [
             0.5555555555555556,
             "#d8576b"
            ],
            [
             0.6666666666666666,
             "#ed7953"
            ],
            [
             0.7777777777777778,
             "#fb9f3a"
            ],
            [
             0.8888888888888888,
             "#fdca26"
            ],
            [
             1,
             "#f0f921"
            ]
           ]
          },
          "colorway": [
           "#636efa",
           "#EF553B",
           "#00cc96",
           "#ab63fa",
           "#FFA15A",
           "#19d3f3",
           "#FF6692",
           "#B6E880",
           "#FF97FF",
           "#FECB52"
          ],
          "font": {
           "color": "#2a3f5f"
          },
          "geo": {
           "bgcolor": "white",
           "lakecolor": "white",
           "landcolor": "#E5ECF6",
           "showlakes": true,
           "showland": true,
           "subunitcolor": "white"
          },
          "hoverlabel": {
           "align": "left"
          },
          "hovermode": "closest",
          "mapbox": {
           "style": "light"
          },
          "paper_bgcolor": "white",
          "plot_bgcolor": "#E5ECF6",
          "polar": {
           "angularaxis": {
            "gridcolor": "white",
            "linecolor": "white",
            "ticks": ""
           },
           "bgcolor": "#E5ECF6",
           "radialaxis": {
            "gridcolor": "white",
            "linecolor": "white",
            "ticks": ""
           }
          },
          "scene": {
           "xaxis": {
            "backgroundcolor": "#E5ECF6",
            "gridcolor": "white",
            "gridwidth": 2,
            "linecolor": "white",
            "showbackground": true,
            "ticks": "",
            "zerolinecolor": "white"
           },
           "yaxis": {
            "backgroundcolor": "#E5ECF6",
            "gridcolor": "white",
            "gridwidth": 2,
            "linecolor": "white",
            "showbackground": true,
            "ticks": "",
            "zerolinecolor": "white"
           },
           "zaxis": {
            "backgroundcolor": "#E5ECF6",
            "gridcolor": "white",
            "gridwidth": 2,
            "linecolor": "white",
            "showbackground": true,
            "ticks": "",
            "zerolinecolor": "white"
           }
          },
          "shapedefaults": {
           "line": {
            "color": "#2a3f5f"
           }
          },
          "ternary": {
           "aaxis": {
            "gridcolor": "white",
            "linecolor": "white",
            "ticks": ""
           },
           "baxis": {
            "gridcolor": "white",
            "linecolor": "white",
            "ticks": ""
           },
           "bgcolor": "#E5ECF6",
           "caxis": {
            "gridcolor": "white",
            "linecolor": "white",
            "ticks": ""
           }
          },
          "title": {
           "x": 0.05
          },
          "xaxis": {
           "automargin": true,
           "gridcolor": "white",
           "linecolor": "white",
           "ticks": "",
           "zerolinecolor": "white",
           "zerolinewidth": 2
          },
          "yaxis": {
           "automargin": true,
           "gridcolor": "white",
           "linecolor": "white",
           "ticks": "",
           "zerolinecolor": "white",
           "zerolinewidth": 2
          }
         }
        },
        "width": 350,
        "xaxis": {
         "dtick": 1,
         "gridcolor": "rgb(0, 0, 0)",
         "side": "top",
         "tickmode": "array",
         "ticks": "",
         "title": {
          "font": {
           "size": 21
          },
          "text": "Predics"
         }
        },
        "yaxis": {
         "dtick": 1,
         "tickmode": "array",
         "ticks": "",
         "ticksuffix": "  ",
         "title": {
          "font": {
           "size": 21
          },
          "text": "Actual"
         }
        }
       }
      },
      "text/html": [
       "<div>\n",
       "        \n",
       "        \n",
       "            <div id=\"5bc95eab-f0ef-48cf-ad35-07d84459b455\" class=\"plotly-graph-div\" style=\"height:350px; width:350px;\"></div>\n",
       "            <script type=\"text/javascript\">\n",
       "                require([\"plotly\"], function(Plotly) {\n",
       "                    window.PLOTLYENV=window.PLOTLYENV || {};\n",
       "                    \n",
       "                if (document.getElementById(\"5bc95eab-f0ef-48cf-ad35-07d84459b455\")) {\n",
       "                    Plotly.newPlot(\n",
       "                        '5bc95eab-f0ef-48cf-ad35-07d84459b455',\n",
       "                        [{\"colorscale\": [[0.0, \"#440154\"], [0.1111111111111111, \"#482878\"], [0.2222222222222222, \"#3e4989\"], [0.3333333333333333, \"#31688e\"], [0.4444444444444444, \"#26828e\"], [0.5555555555555556, \"#1f9e89\"], [0.6666666666666666, \"#35b779\"], [0.7777777777777778, \"#6ece58\"], [0.8888888888888888, \"#b5de2b\"], [1.0, \"#fde725\"]], \"reversescale\": false, \"showscale\": false, \"type\": \"heatmap\", \"x\": [\"not Churn\", \"churn\"], \"y\": [\"Churn\", \"not churn\"], \"z\": [[213, 729], [1923, 651]]}],\n",
       "                        {\"annotations\": [{\"font\": {\"color\": \"#FFFFFF\"}, \"showarrow\": false, \"text\": \"213\", \"x\": \"not Churn\", \"xref\": \"x\", \"y\": \"Churn\", \"yref\": \"y\"}, {\"font\": {\"color\": \"#FFFFFF\"}, \"showarrow\": false, \"text\": \"729\", \"x\": \"churn\", \"xref\": \"x\", \"y\": \"Churn\", \"yref\": \"y\"}, {\"font\": {\"color\": \"#000000\"}, \"showarrow\": false, \"text\": \"1923\", \"x\": \"not Churn\", \"xref\": \"x\", \"y\": \"not churn\", \"yref\": \"y\"}, {\"font\": {\"color\": \"#FFFFFF\"}, \"showarrow\": false, \"text\": \"651\", \"x\": \"churn\", \"xref\": \"x\", \"y\": \"not churn\", \"yref\": \"y\"}], \"autosize\": false, \"height\": 350, \"template\": {\"data\": {\"bar\": [{\"error_x\": {\"color\": \"#2a3f5f\"}, \"error_y\": {\"color\": \"#2a3f5f\"}, \"marker\": {\"line\": {\"color\": \"#E5ECF6\", \"width\": 0.5}}, \"type\": \"bar\"}], \"barpolar\": [{\"marker\": {\"line\": {\"color\": \"#E5ECF6\", \"width\": 0.5}}, \"type\": \"barpolar\"}], \"carpet\": [{\"aaxis\": {\"endlinecolor\": \"#2a3f5f\", \"gridcolor\": \"white\", \"linecolor\": \"white\", \"minorgridcolor\": \"white\", \"startlinecolor\": \"#2a3f5f\"}, \"baxis\": {\"endlinecolor\": \"#2a3f5f\", \"gridcolor\": \"white\", \"linecolor\": \"white\", \"minorgridcolor\": \"white\", \"startlinecolor\": \"#2a3f5f\"}, \"type\": \"carpet\"}], \"choropleth\": [{\"colorbar\": {\"outlinewidth\": 0, \"ticks\": \"\"}, \"type\": \"choropleth\"}], \"contour\": [{\"colorbar\": {\"outlinewidth\": 0, \"ticks\": \"\"}, \"colorscale\": [[0.0, \"#0d0887\"], [0.1111111111111111, \"#46039f\"], [0.2222222222222222, \"#7201a8\"], [0.3333333333333333, \"#9c179e\"], [0.4444444444444444, \"#bd3786\"], [0.5555555555555556, \"#d8576b\"], [0.6666666666666666, \"#ed7953\"], [0.7777777777777778, \"#fb9f3a\"], [0.8888888888888888, \"#fdca26\"], [1.0, \"#f0f921\"]], \"type\": \"contour\"}], \"contourcarpet\": [{\"colorbar\": {\"outlinewidth\": 0, \"ticks\": \"\"}, \"type\": \"contourcarpet\"}], \"heatmap\": [{\"colorbar\": {\"outlinewidth\": 0, \"ticks\": \"\"}, \"colorscale\": [[0.0, \"#0d0887\"], [0.1111111111111111, \"#46039f\"], [0.2222222222222222, \"#7201a8\"], [0.3333333333333333, \"#9c179e\"], [0.4444444444444444, \"#bd3786\"], [0.5555555555555556, \"#d8576b\"], [0.6666666666666666, \"#ed7953\"], [0.7777777777777778, \"#fb9f3a\"], [0.8888888888888888, \"#fdca26\"], [1.0, \"#f0f921\"]], \"type\": \"heatmap\"}], \"heatmapgl\": [{\"colorbar\": {\"outlinewidth\": 0, \"ticks\": \"\"}, \"colorscale\": [[0.0, \"#0d0887\"], [0.1111111111111111, \"#46039f\"], [0.2222222222222222, \"#7201a8\"], [0.3333333333333333, \"#9c179e\"], [0.4444444444444444, \"#bd3786\"], [0.5555555555555556, \"#d8576b\"], [0.6666666666666666, \"#ed7953\"], [0.7777777777777778, \"#fb9f3a\"], [0.8888888888888888, \"#fdca26\"], [1.0, \"#f0f921\"]], \"type\": \"heatmapgl\"}], \"histogram\": [{\"marker\": {\"colorbar\": {\"outlinewidth\": 0, \"ticks\": \"\"}}, \"type\": \"histogram\"}], \"histogram2d\": [{\"colorbar\": {\"outlinewidth\": 0, \"ticks\": \"\"}, \"colorscale\": [[0.0, \"#0d0887\"], [0.1111111111111111, \"#46039f\"], [0.2222222222222222, \"#7201a8\"], [0.3333333333333333, \"#9c179e\"], [0.4444444444444444, \"#bd3786\"], [0.5555555555555556, \"#d8576b\"], [0.6666666666666666, \"#ed7953\"], [0.7777777777777778, \"#fb9f3a\"], [0.8888888888888888, \"#fdca26\"], [1.0, \"#f0f921\"]], \"type\": \"histogram2d\"}], \"histogram2dcontour\": [{\"colorbar\": {\"outlinewidth\": 0, \"ticks\": \"\"}, \"colorscale\": [[0.0, \"#0d0887\"], [0.1111111111111111, \"#46039f\"], [0.2222222222222222, \"#7201a8\"], [0.3333333333333333, \"#9c179e\"], [0.4444444444444444, \"#bd3786\"], [0.5555555555555556, \"#d8576b\"], [0.6666666666666666, \"#ed7953\"], [0.7777777777777778, \"#fb9f3a\"], [0.8888888888888888, \"#fdca26\"], [1.0, \"#f0f921\"]], \"type\": \"histogram2dcontour\"}], \"mesh3d\": [{\"colorbar\": {\"outlinewidth\": 0, \"ticks\": \"\"}, \"type\": \"mesh3d\"}], \"parcoords\": [{\"line\": {\"colorbar\": {\"outlinewidth\": 0, \"ticks\": \"\"}}, \"type\": \"parcoords\"}], \"scatter\": [{\"marker\": {\"colorbar\": {\"outlinewidth\": 0, \"ticks\": \"\"}}, \"type\": \"scatter\"}], \"scatter3d\": [{\"line\": {\"colorbar\": {\"outlinewidth\": 0, \"ticks\": \"\"}}, \"marker\": {\"colorbar\": {\"outlinewidth\": 0, \"ticks\": \"\"}}, \"type\": \"scatter3d\"}], \"scattercarpet\": [{\"marker\": {\"colorbar\": {\"outlinewidth\": 0, \"ticks\": \"\"}}, \"type\": \"scattercarpet\"}], \"scattergeo\": [{\"marker\": {\"colorbar\": {\"outlinewidth\": 0, \"ticks\": \"\"}}, \"type\": \"scattergeo\"}], \"scattergl\": [{\"marker\": {\"colorbar\": {\"outlinewidth\": 0, \"ticks\": \"\"}}, \"type\": \"scattergl\"}], \"scattermapbox\": [{\"marker\": {\"colorbar\": {\"outlinewidth\": 0, \"ticks\": \"\"}}, \"type\": \"scattermapbox\"}], \"scatterpolar\": [{\"marker\": {\"colorbar\": {\"outlinewidth\": 0, \"ticks\": \"\"}}, \"type\": \"scatterpolar\"}], \"scatterpolargl\": [{\"marker\": {\"colorbar\": {\"outlinewidth\": 0, \"ticks\": \"\"}}, \"type\": \"scatterpolargl\"}], \"scatterternary\": [{\"marker\": {\"colorbar\": {\"outlinewidth\": 0, \"ticks\": \"\"}}, \"type\": \"scatterternary\"}], \"surface\": [{\"colorbar\": {\"outlinewidth\": 0, \"ticks\": \"\"}, \"colorscale\": [[0.0, \"#0d0887\"], [0.1111111111111111, \"#46039f\"], [0.2222222222222222, \"#7201a8\"], [0.3333333333333333, \"#9c179e\"], [0.4444444444444444, \"#bd3786\"], [0.5555555555555556, \"#d8576b\"], [0.6666666666666666, \"#ed7953\"], [0.7777777777777778, \"#fb9f3a\"], [0.8888888888888888, \"#fdca26\"], [1.0, \"#f0f921\"]], \"type\": \"surface\"}], \"table\": [{\"cells\": {\"fill\": {\"color\": \"#EBF0F8\"}, \"line\": {\"color\": \"white\"}}, \"header\": {\"fill\": {\"color\": \"#C8D4E3\"}, \"line\": {\"color\": \"white\"}}, \"type\": \"table\"}]}, \"layout\": {\"annotationdefaults\": {\"arrowcolor\": \"#2a3f5f\", \"arrowhead\": 0, \"arrowwidth\": 1}, \"colorscale\": {\"diverging\": [[0, \"#8e0152\"], [0.1, \"#c51b7d\"], [0.2, \"#de77ae\"], [0.3, \"#f1b6da\"], [0.4, \"#fde0ef\"], [0.5, \"#f7f7f7\"], [0.6, \"#e6f5d0\"], [0.7, \"#b8e186\"], [0.8, \"#7fbc41\"], [0.9, \"#4d9221\"], [1, \"#276419\"]], \"sequential\": [[0.0, \"#0d0887\"], [0.1111111111111111, \"#46039f\"], [0.2222222222222222, \"#7201a8\"], [0.3333333333333333, \"#9c179e\"], [0.4444444444444444, \"#bd3786\"], [0.5555555555555556, \"#d8576b\"], [0.6666666666666666, \"#ed7953\"], [0.7777777777777778, \"#fb9f3a\"], [0.8888888888888888, \"#fdca26\"], [1.0, \"#f0f921\"]], \"sequentialminus\": [[0.0, \"#0d0887\"], [0.1111111111111111, \"#46039f\"], [0.2222222222222222, \"#7201a8\"], [0.3333333333333333, \"#9c179e\"], [0.4444444444444444, \"#bd3786\"], [0.5555555555555556, \"#d8576b\"], [0.6666666666666666, \"#ed7953\"], [0.7777777777777778, \"#fb9f3a\"], [0.8888888888888888, \"#fdca26\"], [1.0, \"#f0f921\"]]}, \"colorway\": [\"#636efa\", \"#EF553B\", \"#00cc96\", \"#ab63fa\", \"#FFA15A\", \"#19d3f3\", \"#FF6692\", \"#B6E880\", \"#FF97FF\", \"#FECB52\"], \"font\": {\"color\": \"#2a3f5f\"}, \"geo\": {\"bgcolor\": \"white\", \"lakecolor\": \"white\", \"landcolor\": \"#E5ECF6\", \"showlakes\": true, \"showland\": true, \"subunitcolor\": \"white\"}, \"hoverlabel\": {\"align\": \"left\"}, \"hovermode\": \"closest\", \"mapbox\": {\"style\": \"light\"}, \"paper_bgcolor\": \"white\", \"plot_bgcolor\": \"#E5ECF6\", \"polar\": {\"angularaxis\": {\"gridcolor\": \"white\", \"linecolor\": \"white\", \"ticks\": \"\"}, \"bgcolor\": \"#E5ECF6\", \"radialaxis\": {\"gridcolor\": \"white\", \"linecolor\": \"white\", \"ticks\": \"\"}}, \"scene\": {\"xaxis\": {\"backgroundcolor\": \"#E5ECF6\", \"gridcolor\": \"white\", \"gridwidth\": 2, \"linecolor\": \"white\", \"showbackground\": true, \"ticks\": \"\", \"zerolinecolor\": \"white\"}, \"yaxis\": {\"backgroundcolor\": \"#E5ECF6\", \"gridcolor\": \"white\", \"gridwidth\": 2, \"linecolor\": \"white\", \"showbackground\": true, \"ticks\": \"\", \"zerolinecolor\": \"white\"}, \"zaxis\": {\"backgroundcolor\": \"#E5ECF6\", \"gridcolor\": \"white\", \"gridwidth\": 2, \"linecolor\": \"white\", \"showbackground\": true, \"ticks\": \"\", \"zerolinecolor\": \"white\"}}, \"shapedefaults\": {\"line\": {\"color\": \"#2a3f5f\"}}, \"ternary\": {\"aaxis\": {\"gridcolor\": \"white\", \"linecolor\": \"white\", \"ticks\": \"\"}, \"baxis\": {\"gridcolor\": \"white\", \"linecolor\": \"white\", \"ticks\": \"\"}, \"bgcolor\": \"#E5ECF6\", \"caxis\": {\"gridcolor\": \"white\", \"linecolor\": \"white\", \"ticks\": \"\"}}, \"title\": {\"x\": 0.05}, \"xaxis\": {\"automargin\": true, \"gridcolor\": \"white\", \"linecolor\": \"white\", \"ticks\": \"\", \"zerolinecolor\": \"white\", \"zerolinewidth\": 2}, \"yaxis\": {\"automargin\": true, \"gridcolor\": \"white\", \"linecolor\": \"white\", \"ticks\": \"\", \"zerolinecolor\": \"white\", \"zerolinewidth\": 2}}}, \"width\": 350, \"xaxis\": {\"dtick\": 1, \"gridcolor\": \"rgb(0, 0, 0)\", \"side\": \"top\", \"tickmode\": \"array\", \"ticks\": \"\", \"title\": {\"font\": {\"size\": 21}, \"text\": \"Predics\"}}, \"yaxis\": {\"dtick\": 1, \"tickmode\": \"array\", \"ticks\": \"\", \"ticksuffix\": \"  \", \"title\": {\"font\": {\"size\": 21}, \"text\": \"Actual\"}}},\n",
       "                        {\"responsive\": true}\n",
       "                    ).then(function(){\n",
       "                            \n",
       "var gd = document.getElementById('5bc95eab-f0ef-48cf-ad35-07d84459b455');\n",
       "var x = new MutationObserver(function (mutations, observer) {{\n",
       "        var display = window.getComputedStyle(gd).display;\n",
       "        if (!display || display === 'none') {{\n",
       "            console.log([gd, 'removed!']);\n",
       "            Plotly.purge(gd);\n",
       "            observer.disconnect();\n",
       "        }}\n",
       "}});\n",
       "\n",
       "// Listen for the removal of the full notebook cells\n",
       "var notebookContainer = gd.closest('#notebook-container');\n",
       "if (notebookContainer) {{\n",
       "    x.observe(notebookContainer, {childList: true});\n",
       "}}\n",
       "\n",
       "// Listen for the clearing of the current output cell\n",
       "var outputEl = gd.closest('.output');\n",
       "if (outputEl) {{\n",
       "    x.observe(outputEl, {childList: true});\n",
       "}}\n",
       "\n",
       "                        })\n",
       "                };\n",
       "                });\n",
       "            </script>\n",
       "        </div>"
      ]
     },
     "metadata": {
      "tags": []
     },
     "output_type": "display_data"
    },
    {
     "data": {
      "application/vnd.plotly.v1+json": {
       "config": {
        "plotlyServerURL": "https://plot.ly"
       },
       "data": [
        {
         "marker": {
          "color": [
           0.6154649640085548,
           0.08816583593400108,
           0.05690942986089282,
           0.0446009704894417,
           0.04282707109175176,
           0.0276307899599951,
           0.023739018090496534,
           0.015877454082767792,
           0.010422337503476634,
           0.010417314928289944,
           0.008870467571165275,
           0.008499313973447433,
           0.007792494841559028,
           0.007030084029355862,
           0.006084000249963282,
           0.005433358162945584,
           0.0052955474785565115,
           0.0035964992699133065,
           0.003071253249700401,
           0.002271520048384095,
           0.0016616013196116006,
           0.0012935614350261173,
           0.0009093696096852493,
           0.0008050027547167817,
           0.0005732365244290512,
           0.00043110980555371997,
           0.00022998719331691835,
           9.068315807771692e-05,
           5.723374923809703e-06,
           0
          ],
          "colorscale": [
           [
            0,
            "rgb(0,0,255)"
           ],
           [
            0.1,
            "rgb(51,153,255)"
           ],
           [
            0.2,
            "rgb(102,204,255)"
           ],
           [
            0.3,
            "rgb(153,204,255)"
           ],
           [
            0.4,
            "rgb(204,204,255)"
           ],
           [
            0.5,
            "rgb(255,255,255)"
           ],
           [
            0.6,
            "rgb(255,204,255)"
           ],
           [
            0.7,
            "rgb(255,153,255)"
           ],
           [
            0.8,
            "rgb(255,102,204)"
           ],
           [
            0.9,
            "rgb(255,102,102)"
           ],
           [
            1,
            "rgb(255,0,0)"
           ]
          ],
          "line": {
           "color": "black",
           "width": 0.6
          }
         },
         "name": "coefficients",
         "type": "bar",
         "x": [
          "Contract_Month_to_month",
          "tenure",
          "InternetService_Fiber_optic",
          "MonthlyCharges",
          "OnlineSecurity_No",
          "PaymentMethod_Electronic_check",
          "PaperlessBilling",
          "TotalCharges",
          "Dependents",
          "Contract_Two_year",
          "gender_Male",
          "PhoneService",
          "InternetService_DSL",
          "TechSupport_No",
          "OnlineSecurity_Yes",
          "TechSupport_Yes",
          "StreamingMovies_Yes",
          "PaymentMethod_Credit_card",
          "StreamingMovies_No",
          "PaymentMethod_Mailed_check",
          "DeviceProtection_No",
          "OnlineBackup_Yes",
          "OnlineBackup_No",
          "MultipleLines_Yes",
          "MultipleLines_No",
          "SeniorCitizen",
          "Partner",
          "DeviceProtection_Yes",
          "StreamingTV_No",
          "StreamingTV_Yes"
         ],
         "y": [
          0.6154649640085548,
          0.08816583593400108,
          0.05690942986089282,
          0.0446009704894417,
          0.04282707109175176,
          0.0276307899599951,
          0.023739018090496534,
          0.015877454082767792,
          0.010422337503476634,
          0.010417314928289944,
          0.008870467571165275,
          0.008499313973447433,
          0.007792494841559028,
          0.007030084029355862,
          0.006084000249963282,
          0.005433358162945584,
          0.0052955474785565115,
          0.0035964992699133065,
          0.003071253249700401,
          0.002271520048384095,
          0.0016616013196116006,
          0.0012935614350261173,
          0.0009093696096852493,
          0.0008050027547167817,
          0.0005732365244290512,
          0.00043110980555371997,
          0.00022998719331691835,
          9.068315807771692e-05,
          5.723374923809703e-06,
          0
         ]
        }
       ],
       "layout": {
        "template": {
         "data": {
          "bar": [
           {
            "error_x": {
             "color": "#2a3f5f"
            },
            "error_y": {
             "color": "#2a3f5f"
            },
            "marker": {
             "line": {
              "color": "#E5ECF6",
              "width": 0.5
             }
            },
            "type": "bar"
           }
          ],
          "barpolar": [
           {
            "marker": {
             "line": {
              "color": "#E5ECF6",
              "width": 0.5
             }
            },
            "type": "barpolar"
           }
          ],
          "carpet": [
           {
            "aaxis": {
             "endlinecolor": "#2a3f5f",
             "gridcolor": "white",
             "linecolor": "white",
             "minorgridcolor": "white",
             "startlinecolor": "#2a3f5f"
            },
            "baxis": {
             "endlinecolor": "#2a3f5f",
             "gridcolor": "white",
             "linecolor": "white",
             "minorgridcolor": "white",
             "startlinecolor": "#2a3f5f"
            },
            "type": "carpet"
           }
          ],
          "choropleth": [
           {
            "colorbar": {
             "outlinewidth": 0,
             "ticks": ""
            },
            "type": "choropleth"
           }
          ],
          "contour": [
           {
            "colorbar": {
             "outlinewidth": 0,
             "ticks": ""
            },
            "colorscale": [
             [
              0,
              "#0d0887"
             ],
             [
              0.1111111111111111,
              "#46039f"
             ],
             [
              0.2222222222222222,
              "#7201a8"
             ],
             [
              0.3333333333333333,
              "#9c179e"
             ],
             [
              0.4444444444444444,
              "#bd3786"
             ],
             [
              0.5555555555555556,
              "#d8576b"
             ],
             [
              0.6666666666666666,
              "#ed7953"
             ],
             [
              0.7777777777777778,
              "#fb9f3a"
             ],
             [
              0.8888888888888888,
              "#fdca26"
             ],
             [
              1,
              "#f0f921"
             ]
            ],
            "type": "contour"
           }
          ],
          "contourcarpet": [
           {
            "colorbar": {
             "outlinewidth": 0,
             "ticks": ""
            },
            "type": "contourcarpet"
           }
          ],
          "heatmap": [
           {
            "colorbar": {
             "outlinewidth": 0,
             "ticks": ""
            },
            "colorscale": [
             [
              0,
              "#0d0887"
             ],
             [
              0.1111111111111111,
              "#46039f"
             ],
             [
              0.2222222222222222,
              "#7201a8"
             ],
             [
              0.3333333333333333,
              "#9c179e"
             ],
             [
              0.4444444444444444,
              "#bd3786"
             ],
             [
              0.5555555555555556,
              "#d8576b"
             ],
             [
              0.6666666666666666,
              "#ed7953"
             ],
             [
              0.7777777777777778,
              "#fb9f3a"
             ],
             [
              0.8888888888888888,
              "#fdca26"
             ],
             [
              1,
              "#f0f921"
             ]
            ],
            "type": "heatmap"
           }
          ],
          "heatmapgl": [
           {
            "colorbar": {
             "outlinewidth": 0,
             "ticks": ""
            },
            "colorscale": [
             [
              0,
              "#0d0887"
             ],
             [
              0.1111111111111111,
              "#46039f"
             ],
             [
              0.2222222222222222,
              "#7201a8"
             ],
             [
              0.3333333333333333,
              "#9c179e"
             ],
             [
              0.4444444444444444,
              "#bd3786"
             ],
             [
              0.5555555555555556,
              "#d8576b"
             ],
             [
              0.6666666666666666,
              "#ed7953"
             ],
             [
              0.7777777777777778,
              "#fb9f3a"
             ],
             [
              0.8888888888888888,
              "#fdca26"
             ],
             [
              1,
              "#f0f921"
             ]
            ],
            "type": "heatmapgl"
           }
          ],
          "histogram": [
           {
            "marker": {
             "colorbar": {
              "outlinewidth": 0,
              "ticks": ""
             }
            },
            "type": "histogram"
           }
          ],
          "histogram2d": [
           {
            "colorbar": {
             "outlinewidth": 0,
             "ticks": ""
            },
            "colorscale": [
             [
              0,
              "#0d0887"
             ],
             [
              0.1111111111111111,
              "#46039f"
             ],
             [
              0.2222222222222222,
              "#7201a8"
             ],
             [
              0.3333333333333333,
              "#9c179e"
             ],
             [
              0.4444444444444444,
              "#bd3786"
             ],
             [
              0.5555555555555556,
              "#d8576b"
             ],
             [
              0.6666666666666666,
              "#ed7953"
             ],
             [
              0.7777777777777778,
              "#fb9f3a"
             ],
             [
              0.8888888888888888,
              "#fdca26"
             ],
             [
              1,
              "#f0f921"
             ]
            ],
            "type": "histogram2d"
           }
          ],
          "histogram2dcontour": [
           {
            "colorbar": {
             "outlinewidth": 0,
             "ticks": ""
            },
            "colorscale": [
             [
              0,
              "#0d0887"
             ],
             [
              0.1111111111111111,
              "#46039f"
             ],
             [
              0.2222222222222222,
              "#7201a8"
             ],
             [
              0.3333333333333333,
              "#9c179e"
             ],
             [
              0.4444444444444444,
              "#bd3786"
             ],
             [
              0.5555555555555556,
              "#d8576b"
             ],
             [
              0.6666666666666666,
              "#ed7953"
             ],
             [
              0.7777777777777778,
              "#fb9f3a"
             ],
             [
              0.8888888888888888,
              "#fdca26"
             ],
             [
              1,
              "#f0f921"
             ]
            ],
            "type": "histogram2dcontour"
           }
          ],
          "mesh3d": [
           {
            "colorbar": {
             "outlinewidth": 0,
             "ticks": ""
            },
            "type": "mesh3d"
           }
          ],
          "parcoords": [
           {
            "line": {
             "colorbar": {
              "outlinewidth": 0,
              "ticks": ""
             }
            },
            "type": "parcoords"
           }
          ],
          "scatter": [
           {
            "marker": {
             "colorbar": {
              "outlinewidth": 0,
              "ticks": ""
             }
            },
            "type": "scatter"
           }
          ],
          "scatter3d": [
           {
            "line": {
             "colorbar": {
              "outlinewidth": 0,
              "ticks": ""
             }
            },
            "marker": {
             "colorbar": {
              "outlinewidth": 0,
              "ticks": ""
             }
            },
            "type": "scatter3d"
           }
          ],
          "scattercarpet": [
           {
            "marker": {
             "colorbar": {
              "outlinewidth": 0,
              "ticks": ""
             }
            },
            "type": "scattercarpet"
           }
          ],
          "scattergeo": [
           {
            "marker": {
             "colorbar": {
              "outlinewidth": 0,
              "ticks": ""
             }
            },
            "type": "scattergeo"
           }
          ],
          "scattergl": [
           {
            "marker": {
             "colorbar": {
              "outlinewidth": 0,
              "ticks": ""
             }
            },
            "type": "scattergl"
           }
          ],
          "scattermapbox": [
           {
            "marker": {
             "colorbar": {
              "outlinewidth": 0,
              "ticks": ""
             }
            },
            "type": "scattermapbox"
           }
          ],
          "scatterpolar": [
           {
            "marker": {
             "colorbar": {
              "outlinewidth": 0,
              "ticks": ""
             }
            },
            "type": "scatterpolar"
           }
          ],
          "scatterpolargl": [
           {
            "marker": {
             "colorbar": {
              "outlinewidth": 0,
              "ticks": ""
             }
            },
            "type": "scatterpolargl"
           }
          ],
          "scatterternary": [
           {
            "marker": {
             "colorbar": {
              "outlinewidth": 0,
              "ticks": ""
             }
            },
            "type": "scatterternary"
           }
          ],
          "surface": [
           {
            "colorbar": {
             "outlinewidth": 0,
             "ticks": ""
            },
            "colorscale": [
             [
              0,
              "#0d0887"
             ],
             [
              0.1111111111111111,
              "#46039f"
             ],
             [
              0.2222222222222222,
              "#7201a8"
             ],
             [
              0.3333333333333333,
              "#9c179e"
             ],
             [
              0.4444444444444444,
              "#bd3786"
             ],
             [
              0.5555555555555556,
              "#d8576b"
             ],
             [
              0.6666666666666666,
              "#ed7953"
             ],
             [
              0.7777777777777778,
              "#fb9f3a"
             ],
             [
              0.8888888888888888,
              "#fdca26"
             ],
             [
              1,
              "#f0f921"
             ]
            ],
            "type": "surface"
           }
          ],
          "table": [
           {
            "cells": {
             "fill": {
              "color": "#EBF0F8"
             },
             "line": {
              "color": "white"
             }
            },
            "header": {
             "fill": {
              "color": "#C8D4E3"
             },
             "line": {
              "color": "white"
             }
            },
            "type": "table"
           }
          ]
         },
         "layout": {
          "annotationdefaults": {
           "arrowcolor": "#2a3f5f",
           "arrowhead": 0,
           "arrowwidth": 1
          },
          "colorscale": {
           "diverging": [
            [
             0,
             "#8e0152"
            ],
            [
             0.1,
             "#c51b7d"
            ],
            [
             0.2,
             "#de77ae"
            ],
            [
             0.3,
             "#f1b6da"
            ],
            [
             0.4,
             "#fde0ef"
            ],
            [
             0.5,
             "#f7f7f7"
            ],
            [
             0.6,
             "#e6f5d0"
            ],
            [
             0.7,
             "#b8e186"
            ],
            [
             0.8,
             "#7fbc41"
            ],
            [
             0.9,
             "#4d9221"
            ],
            [
             1,
             "#276419"
            ]
           ],
           "sequential": [
            [
             0,
             "#0d0887"
            ],
            [
             0.1111111111111111,
             "#46039f"
            ],
            [
             0.2222222222222222,
             "#7201a8"
            ],
            [
             0.3333333333333333,
             "#9c179e"
            ],
            [
             0.4444444444444444,
             "#bd3786"
            ],
            [
             0.5555555555555556,
             "#d8576b"
            ],
            [
             0.6666666666666666,
             "#ed7953"
            ],
            [
             0.7777777777777778,
             "#fb9f3a"
            ],
            [
             0.8888888888888888,
             "#fdca26"
            ],
            [
             1,
             "#f0f921"
            ]
           ],
           "sequentialminus": [
            [
             0,
             "#0d0887"
            ],
            [
             0.1111111111111111,
             "#46039f"
            ],
            [
             0.2222222222222222,
             "#7201a8"
            ],
            [
             0.3333333333333333,
             "#9c179e"
            ],
            [
             0.4444444444444444,
             "#bd3786"
            ],
            [
             0.5555555555555556,
             "#d8576b"
            ],
            [
             0.6666666666666666,
             "#ed7953"
            ],
            [
             0.7777777777777778,
             "#fb9f3a"
            ],
            [
             0.8888888888888888,
             "#fdca26"
            ],
            [
             1,
             "#f0f921"
            ]
           ]
          },
          "colorway": [
           "#636efa",
           "#EF553B",
           "#00cc96",
           "#ab63fa",
           "#FFA15A",
           "#19d3f3",
           "#FF6692",
           "#B6E880",
           "#FF97FF",
           "#FECB52"
          ],
          "font": {
           "color": "#2a3f5f"
          },
          "geo": {
           "bgcolor": "white",
           "lakecolor": "white",
           "landcolor": "#E5ECF6",
           "showlakes": true,
           "showland": true,
           "subunitcolor": "white"
          },
          "hoverlabel": {
           "align": "left"
          },
          "hovermode": "closest",
          "mapbox": {
           "style": "light"
          },
          "paper_bgcolor": "white",
          "plot_bgcolor": "#E5ECF6",
          "polar": {
           "angularaxis": {
            "gridcolor": "white",
            "linecolor": "white",
            "ticks": ""
           },
           "bgcolor": "#E5ECF6",
           "radialaxis": {
            "gridcolor": "white",
            "linecolor": "white",
            "ticks": ""
           }
          },
          "scene": {
           "xaxis": {
            "backgroundcolor": "#E5ECF6",
            "gridcolor": "white",
            "gridwidth": 2,
            "linecolor": "white",
            "showbackground": true,
            "ticks": "",
            "zerolinecolor": "white"
           },
           "yaxis": {
            "backgroundcolor": "#E5ECF6",
            "gridcolor": "white",
            "gridwidth": 2,
            "linecolor": "white",
            "showbackground": true,
            "ticks": "",
            "zerolinecolor": "white"
           },
           "zaxis": {
            "backgroundcolor": "#E5ECF6",
            "gridcolor": "white",
            "gridwidth": 2,
            "linecolor": "white",
            "showbackground": true,
            "ticks": "",
            "zerolinecolor": "white"
           }
          },
          "shapedefaults": {
           "line": {
            "color": "#2a3f5f"
           }
          },
          "ternary": {
           "aaxis": {
            "gridcolor": "white",
            "linecolor": "white",
            "ticks": ""
           },
           "baxis": {
            "gridcolor": "white",
            "linecolor": "white",
            "ticks": ""
           },
           "bgcolor": "#E5ECF6",
           "caxis": {
            "gridcolor": "white",
            "linecolor": "white",
            "ticks": ""
           }
          },
          "title": {
           "x": 0.05
          },
          "xaxis": {
           "automargin": true,
           "gridcolor": "white",
           "linecolor": "white",
           "ticks": "",
           "zerolinecolor": "white",
           "zerolinewidth": 2
          },
          "yaxis": {
           "automargin": true,
           "gridcolor": "white",
           "linecolor": "white",
           "ticks": "",
           "zerolinecolor": "white",
           "zerolinewidth": 2
          }
         }
        },
        "title": {
         "text": "important features"
        }
       }
      },
      "text/html": [
       "<div>\n",
       "        \n",
       "        \n",
       "            <div id=\"67aae6a9-be62-416f-b483-4ca39eff1ffa\" class=\"plotly-graph-div\" style=\"height:525px; width:100%;\"></div>\n",
       "            <script type=\"text/javascript\">\n",
       "                require([\"plotly\"], function(Plotly) {\n",
       "                    window.PLOTLYENV=window.PLOTLYENV || {};\n",
       "                    \n",
       "                if (document.getElementById(\"67aae6a9-be62-416f-b483-4ca39eff1ffa\")) {\n",
       "                    Plotly.newPlot(\n",
       "                        '67aae6a9-be62-416f-b483-4ca39eff1ffa',\n",
       "                        [{\"marker\": {\"color\": [0.6154649640085548, 0.08816583593400108, 0.05690942986089282, 0.0446009704894417, 0.04282707109175176, 0.0276307899599951, 0.023739018090496534, 0.015877454082767792, 0.010422337503476634, 0.010417314928289944, 0.008870467571165275, 0.008499313973447433, 0.007792494841559028, 0.007030084029355862, 0.006084000249963282, 0.005433358162945584, 0.0052955474785565115, 0.0035964992699133065, 0.003071253249700401, 0.002271520048384095, 0.0016616013196116006, 0.0012935614350261173, 0.0009093696096852493, 0.0008050027547167817, 0.0005732365244290512, 0.00043110980555371997, 0.00022998719331691835, 9.068315807771692e-05, 5.723374923809703e-06, 0.0], \"colorscale\": [[0.0, \"rgb(0,0,255)\"], [0.1, \"rgb(51,153,255)\"], [0.2, \"rgb(102,204,255)\"], [0.3, \"rgb(153,204,255)\"], [0.4, \"rgb(204,204,255)\"], [0.5, \"rgb(255,255,255)\"], [0.6, \"rgb(255,204,255)\"], [0.7, \"rgb(255,153,255)\"], [0.8, \"rgb(255,102,204)\"], [0.9, \"rgb(255,102,102)\"], [1.0, \"rgb(255,0,0)\"]], \"line\": {\"color\": \"black\", \"width\": 0.6}}, \"name\": \"coefficients\", \"type\": \"bar\", \"x\": [\"Contract_Month_to_month\", \"tenure\", \"InternetService_Fiber_optic\", \"MonthlyCharges\", \"OnlineSecurity_No\", \"PaymentMethod_Electronic_check\", \"PaperlessBilling\", \"TotalCharges\", \"Dependents\", \"Contract_Two_year\", \"gender_Male\", \"PhoneService\", \"InternetService_DSL\", \"TechSupport_No\", \"OnlineSecurity_Yes\", \"TechSupport_Yes\", \"StreamingMovies_Yes\", \"PaymentMethod_Credit_card\", \"StreamingMovies_No\", \"PaymentMethod_Mailed_check\", \"DeviceProtection_No\", \"OnlineBackup_Yes\", \"OnlineBackup_No\", \"MultipleLines_Yes\", \"MultipleLines_No\", \"SeniorCitizen\", \"Partner\", \"DeviceProtection_Yes\", \"StreamingTV_No\", \"StreamingTV_Yes\"], \"y\": [0.6154649640085548, 0.08816583593400108, 0.05690942986089282, 0.0446009704894417, 0.04282707109175176, 0.0276307899599951, 0.023739018090496534, 0.015877454082767792, 0.010422337503476634, 0.010417314928289944, 0.008870467571165275, 0.008499313973447433, 0.007792494841559028, 0.007030084029355862, 0.006084000249963282, 0.005433358162945584, 0.0052955474785565115, 0.0035964992699133065, 0.003071253249700401, 0.002271520048384095, 0.0016616013196116006, 0.0012935614350261173, 0.0009093696096852493, 0.0008050027547167817, 0.0005732365244290512, 0.00043110980555371997, 0.00022998719331691835, 9.068315807771692e-05, 5.723374923809703e-06, 0.0]}],\n",
       "                        {\"template\": {\"data\": {\"bar\": [{\"error_x\": {\"color\": \"#2a3f5f\"}, \"error_y\": {\"color\": \"#2a3f5f\"}, \"marker\": {\"line\": {\"color\": \"#E5ECF6\", \"width\": 0.5}}, \"type\": \"bar\"}], \"barpolar\": [{\"marker\": {\"line\": {\"color\": \"#E5ECF6\", \"width\": 0.5}}, \"type\": \"barpolar\"}], \"carpet\": [{\"aaxis\": {\"endlinecolor\": \"#2a3f5f\", \"gridcolor\": \"white\", \"linecolor\": \"white\", \"minorgridcolor\": \"white\", \"startlinecolor\": \"#2a3f5f\"}, \"baxis\": {\"endlinecolor\": \"#2a3f5f\", \"gridcolor\": \"white\", \"linecolor\": \"white\", \"minorgridcolor\": \"white\", \"startlinecolor\": \"#2a3f5f\"}, \"type\": \"carpet\"}], \"choropleth\": [{\"colorbar\": {\"outlinewidth\": 0, \"ticks\": \"\"}, \"type\": \"choropleth\"}], \"contour\": [{\"colorbar\": {\"outlinewidth\": 0, \"ticks\": \"\"}, \"colorscale\": [[0.0, \"#0d0887\"], [0.1111111111111111, \"#46039f\"], [0.2222222222222222, \"#7201a8\"], [0.3333333333333333, \"#9c179e\"], [0.4444444444444444, \"#bd3786\"], [0.5555555555555556, \"#d8576b\"], [0.6666666666666666, \"#ed7953\"], [0.7777777777777778, \"#fb9f3a\"], [0.8888888888888888, \"#fdca26\"], [1.0, \"#f0f921\"]], \"type\": \"contour\"}], \"contourcarpet\": [{\"colorbar\": {\"outlinewidth\": 0, \"ticks\": \"\"}, \"type\": \"contourcarpet\"}], \"heatmap\": [{\"colorbar\": {\"outlinewidth\": 0, \"ticks\": \"\"}, \"colorscale\": [[0.0, \"#0d0887\"], [0.1111111111111111, \"#46039f\"], [0.2222222222222222, \"#7201a8\"], [0.3333333333333333, \"#9c179e\"], [0.4444444444444444, \"#bd3786\"], [0.5555555555555556, \"#d8576b\"], [0.6666666666666666, \"#ed7953\"], [0.7777777777777778, \"#fb9f3a\"], [0.8888888888888888, \"#fdca26\"], [1.0, \"#f0f921\"]], \"type\": \"heatmap\"}], \"heatmapgl\": [{\"colorbar\": {\"outlinewidth\": 0, \"ticks\": \"\"}, \"colorscale\": [[0.0, \"#0d0887\"], [0.1111111111111111, \"#46039f\"], [0.2222222222222222, \"#7201a8\"], [0.3333333333333333, \"#9c179e\"], [0.4444444444444444, \"#bd3786\"], [0.5555555555555556, \"#d8576b\"], [0.6666666666666666, \"#ed7953\"], [0.7777777777777778, \"#fb9f3a\"], [0.8888888888888888, \"#fdca26\"], [1.0, \"#f0f921\"]], \"type\": \"heatmapgl\"}], \"histogram\": [{\"marker\": {\"colorbar\": {\"outlinewidth\": 0, \"ticks\": \"\"}}, \"type\": \"histogram\"}], \"histogram2d\": [{\"colorbar\": {\"outlinewidth\": 0, \"ticks\": \"\"}, \"colorscale\": [[0.0, \"#0d0887\"], [0.1111111111111111, \"#46039f\"], [0.2222222222222222, \"#7201a8\"], [0.3333333333333333, \"#9c179e\"], [0.4444444444444444, \"#bd3786\"], [0.5555555555555556, \"#d8576b\"], [0.6666666666666666, \"#ed7953\"], [0.7777777777777778, \"#fb9f3a\"], [0.8888888888888888, \"#fdca26\"], [1.0, \"#f0f921\"]], \"type\": \"histogram2d\"}], \"histogram2dcontour\": [{\"colorbar\": {\"outlinewidth\": 0, \"ticks\": \"\"}, \"colorscale\": [[0.0, \"#0d0887\"], [0.1111111111111111, \"#46039f\"], [0.2222222222222222, \"#7201a8\"], [0.3333333333333333, \"#9c179e\"], [0.4444444444444444, \"#bd3786\"], [0.5555555555555556, \"#d8576b\"], [0.6666666666666666, \"#ed7953\"], [0.7777777777777778, \"#fb9f3a\"], [0.8888888888888888, \"#fdca26\"], [1.0, \"#f0f921\"]], \"type\": \"histogram2dcontour\"}], \"mesh3d\": [{\"colorbar\": {\"outlinewidth\": 0, \"ticks\": \"\"}, \"type\": \"mesh3d\"}], \"parcoords\": [{\"line\": {\"colorbar\": {\"outlinewidth\": 0, \"ticks\": \"\"}}, \"type\": \"parcoords\"}], \"scatter\": [{\"marker\": {\"colorbar\": {\"outlinewidth\": 0, \"ticks\": \"\"}}, \"type\": \"scatter\"}], \"scatter3d\": [{\"line\": {\"colorbar\": {\"outlinewidth\": 0, \"ticks\": \"\"}}, \"marker\": {\"colorbar\": {\"outlinewidth\": 0, \"ticks\": \"\"}}, \"type\": \"scatter3d\"}], \"scattercarpet\": [{\"marker\": {\"colorbar\": {\"outlinewidth\": 0, \"ticks\": \"\"}}, \"type\": \"scattercarpet\"}], \"scattergeo\": [{\"marker\": {\"colorbar\": {\"outlinewidth\": 0, \"ticks\": \"\"}}, \"type\": \"scattergeo\"}], \"scattergl\": [{\"marker\": {\"colorbar\": {\"outlinewidth\": 0, \"ticks\": \"\"}}, \"type\": \"scattergl\"}], \"scattermapbox\": [{\"marker\": {\"colorbar\": {\"outlinewidth\": 0, \"ticks\": \"\"}}, \"type\": \"scattermapbox\"}], \"scatterpolar\": [{\"marker\": {\"colorbar\": {\"outlinewidth\": 0, \"ticks\": \"\"}}, \"type\": \"scatterpolar\"}], \"scatterpolargl\": [{\"marker\": {\"colorbar\": {\"outlinewidth\": 0, \"ticks\": \"\"}}, \"type\": \"scatterpolargl\"}], \"scatterternary\": [{\"marker\": {\"colorbar\": {\"outlinewidth\": 0, \"ticks\": \"\"}}, \"type\": \"scatterternary\"}], \"surface\": [{\"colorbar\": {\"outlinewidth\": 0, \"ticks\": \"\"}, \"colorscale\": [[0.0, \"#0d0887\"], [0.1111111111111111, \"#46039f\"], [0.2222222222222222, \"#7201a8\"], [0.3333333333333333, \"#9c179e\"], [0.4444444444444444, \"#bd3786\"], [0.5555555555555556, \"#d8576b\"], [0.6666666666666666, \"#ed7953\"], [0.7777777777777778, \"#fb9f3a\"], [0.8888888888888888, \"#fdca26\"], [1.0, \"#f0f921\"]], \"type\": \"surface\"}], \"table\": [{\"cells\": {\"fill\": {\"color\": \"#EBF0F8\"}, \"line\": {\"color\": \"white\"}}, \"header\": {\"fill\": {\"color\": \"#C8D4E3\"}, \"line\": {\"color\": \"white\"}}, \"type\": \"table\"}]}, \"layout\": {\"annotationdefaults\": {\"arrowcolor\": \"#2a3f5f\", \"arrowhead\": 0, \"arrowwidth\": 1}, \"colorscale\": {\"diverging\": [[0, \"#8e0152\"], [0.1, \"#c51b7d\"], [0.2, \"#de77ae\"], [0.3, \"#f1b6da\"], [0.4, \"#fde0ef\"], [0.5, \"#f7f7f7\"], [0.6, \"#e6f5d0\"], [0.7, \"#b8e186\"], [0.8, \"#7fbc41\"], [0.9, \"#4d9221\"], [1, \"#276419\"]], \"sequential\": [[0.0, \"#0d0887\"], [0.1111111111111111, \"#46039f\"], [0.2222222222222222, \"#7201a8\"], [0.3333333333333333, \"#9c179e\"], [0.4444444444444444, \"#bd3786\"], [0.5555555555555556, \"#d8576b\"], [0.6666666666666666, \"#ed7953\"], [0.7777777777777778, \"#fb9f3a\"], [0.8888888888888888, \"#fdca26\"], [1.0, \"#f0f921\"]], \"sequentialminus\": [[0.0, \"#0d0887\"], [0.1111111111111111, \"#46039f\"], [0.2222222222222222, \"#7201a8\"], [0.3333333333333333, \"#9c179e\"], [0.4444444444444444, \"#bd3786\"], [0.5555555555555556, \"#d8576b\"], [0.6666666666666666, \"#ed7953\"], [0.7777777777777778, \"#fb9f3a\"], [0.8888888888888888, \"#fdca26\"], [1.0, \"#f0f921\"]]}, \"colorway\": [\"#636efa\", \"#EF553B\", \"#00cc96\", \"#ab63fa\", \"#FFA15A\", \"#19d3f3\", \"#FF6692\", \"#B6E880\", \"#FF97FF\", \"#FECB52\"], \"font\": {\"color\": \"#2a3f5f\"}, \"geo\": {\"bgcolor\": \"white\", \"lakecolor\": \"white\", \"landcolor\": \"#E5ECF6\", \"showlakes\": true, \"showland\": true, \"subunitcolor\": \"white\"}, \"hoverlabel\": {\"align\": \"left\"}, \"hovermode\": \"closest\", \"mapbox\": {\"style\": \"light\"}, \"paper_bgcolor\": \"white\", \"plot_bgcolor\": \"#E5ECF6\", \"polar\": {\"angularaxis\": {\"gridcolor\": \"white\", \"linecolor\": \"white\", \"ticks\": \"\"}, \"bgcolor\": \"#E5ECF6\", \"radialaxis\": {\"gridcolor\": \"white\", \"linecolor\": \"white\", \"ticks\": \"\"}}, \"scene\": {\"xaxis\": {\"backgroundcolor\": \"#E5ECF6\", \"gridcolor\": \"white\", \"gridwidth\": 2, \"linecolor\": \"white\", \"showbackground\": true, \"ticks\": \"\", \"zerolinecolor\": \"white\"}, \"yaxis\": {\"backgroundcolor\": \"#E5ECF6\", \"gridcolor\": \"white\", \"gridwidth\": 2, \"linecolor\": \"white\", \"showbackground\": true, \"ticks\": \"\", \"zerolinecolor\": \"white\"}, \"zaxis\": {\"backgroundcolor\": \"#E5ECF6\", \"gridcolor\": \"white\", \"gridwidth\": 2, \"linecolor\": \"white\", \"showbackground\": true, \"ticks\": \"\", \"zerolinecolor\": \"white\"}}, \"shapedefaults\": {\"line\": {\"color\": \"#2a3f5f\"}}, \"ternary\": {\"aaxis\": {\"gridcolor\": \"white\", \"linecolor\": \"white\", \"ticks\": \"\"}, \"baxis\": {\"gridcolor\": \"white\", \"linecolor\": \"white\", \"ticks\": \"\"}, \"bgcolor\": \"#E5ECF6\", \"caxis\": {\"gridcolor\": \"white\", \"linecolor\": \"white\", \"ticks\": \"\"}}, \"title\": {\"x\": 0.05}, \"xaxis\": {\"automargin\": true, \"gridcolor\": \"white\", \"linecolor\": \"white\", \"ticks\": \"\", \"zerolinecolor\": \"white\", \"zerolinewidth\": 2}, \"yaxis\": {\"automargin\": true, \"gridcolor\": \"white\", \"linecolor\": \"white\", \"ticks\": \"\", \"zerolinecolor\": \"white\", \"zerolinewidth\": 2}}}, \"title\": {\"text\": \"important features\"}},\n",
       "                        {\"responsive\": true}\n",
       "                    ).then(function(){\n",
       "                            \n",
       "var gd = document.getElementById('67aae6a9-be62-416f-b483-4ca39eff1ffa');\n",
       "var x = new MutationObserver(function (mutations, observer) {{\n",
       "        var display = window.getComputedStyle(gd).display;\n",
       "        if (!display || display === 'none') {{\n",
       "            console.log([gd, 'removed!']);\n",
       "            Plotly.purge(gd);\n",
       "            observer.disconnect();\n",
       "        }}\n",
       "}});\n",
       "\n",
       "// Listen for the removal of the full notebook cells\n",
       "var notebookContainer = gd.closest('#notebook-container');\n",
       "if (notebookContainer) {{\n",
       "    x.observe(notebookContainer, {childList: true});\n",
       "}}\n",
       "\n",
       "// Listen for the clearing of the current output cell\n",
       "var outputEl = gd.closest('.output');\n",
       "if (outputEl) {{\n",
       "    x.observe(outputEl, {childList: true});\n",
       "}}\n",
       "\n",
       "                        })\n",
       "                };\n",
       "                });\n",
       "            </script>\n",
       "        </div>"
      ]
     },
     "metadata": {
      "tags": []
     },
     "output_type": "display_data"
    }
   ],
   "source": [
    "# let's try the best random forrest \n",
    "clf_rf = RandomForestClassifier(criterion='gini' , max_depth =5, max_features= 0.9, \n",
    "                                min_samples_leaf = 5, min_samples_split= 5, n_estimators=10, oob_score=True)\n",
    "#clf_rf = RandomForestClassifier(criterion='entropy' , max_depth =5, max_features= 0.5, \n",
    "#                                min_samples_leaf = 5, min_samples_split= 50, n_estimators=10)\n",
    "results(clf_rf, X, X_train_smote, y_train_smote, X_test, y_test, 'features', 'fig2')"
   ]
  },
  {
   "cell_type": "code",
   "execution_count": 0,
   "metadata": {
    "colab": {},
    "colab_type": "code",
    "id": "JvfOeK0lUMx-",
    "outputId": "fee2468d-399f-42d7-ff19-23a3a0ba44ea"
   },
   "outputs": [
    {
     "name": "stderr",
     "output_type": "stream",
     "text": [
      "C:\\Anaconda3\\envs\\learn-env\\lib\\site-packages\\sklearn\\externals\\six.py:31: DeprecationWarning:\n",
      "\n",
      "The module is deprecated in version 0.21 and will be removed in version 0.23 since we've dropped support for Python 2.7. Please rely on the official version of six (https://pypi.org/project/six/).\n",
      "\n"
     ]
    },
    {
     "data": {
      "image/svg+xml": [
       "<?xml version=\"1.0\" encoding=\"UTF-8\" standalone=\"no\"?>\r\n",
       "<!DOCTYPE svg PUBLIC \"-//W3C//DTD SVG 1.1//EN\"\r\n",
       " \"http://www.w3.org/Graphics/SVG/1.1/DTD/svg11.dtd\">\r\n",
       "<!-- Generated by graphviz version 2.38.0 (20140413.2041)\r\n",
       " -->\r\n",
       "<!-- Title: Tree Pages: 1 -->\r\n",
       "<svg width=\"2562pt\" height=\"671pt\"\r\n",
       " viewBox=\"0.00 0.00 2562.00 671.00\" xmlns=\"http://www.w3.org/2000/svg\" xmlns:xlink=\"http://www.w3.org/1999/xlink\">\r\n",
       "<g id=\"graph0\" class=\"graph\" transform=\"scale(1 1) rotate(0) translate(4 667)\">\r\n",
       "<title>Tree</title>\r\n",
       "<polygon fill=\"white\" stroke=\"none\" points=\"-4,4 -4,-667 2558,-667 2558,4 -4,4\"/>\r\n",
       "<!-- 0 -->\r\n",
       "<g id=\"node1\" class=\"node\"><title>0</title>\r\n",
       "<path fill=\"#fefcfb\" stroke=\"black\" d=\"M1842,-663C1842,-663 1673,-663 1673,-663 1667,-663 1661,-657 1661,-651 1661,-651 1661,-592 1661,-592 1661,-586 1667,-580 1673,-580 1673,-580 1842,-580 1842,-580 1848,-580 1854,-586 1854,-592 1854,-592 1854,-651 1854,-651 1854,-657 1848,-663 1842,-663\"/>\r\n",
       "<text text-anchor=\"middle\" x=\"1757.5\" y=\"-647.8\" font-family=\"Helvetica,sans-Serif\" font-size=\"14.00\">Contract_Two_year &lt;= 1.76</text>\r\n",
       "<text text-anchor=\"middle\" x=\"1757.5\" y=\"-632.8\" font-family=\"Helvetica,sans-Serif\" font-size=\"14.00\">entropy = 1.0</text>\r\n",
       "<text text-anchor=\"middle\" x=\"1757.5\" y=\"-617.8\" font-family=\"Helvetica,sans-Serif\" font-size=\"14.00\">samples = 3243</text>\r\n",
       "<text text-anchor=\"middle\" x=\"1757.5\" y=\"-602.8\" font-family=\"Helvetica,sans-Serif\" font-size=\"14.00\">value = [2617, 2561]</text>\r\n",
       "<text text-anchor=\"middle\" x=\"1757.5\" y=\"-587.8\" font-family=\"Helvetica,sans-Serif\" font-size=\"14.00\">class = 0</text>\r\n",
       "</g>\r\n",
       "<!-- 1 -->\r\n",
       "<g id=\"node2\" class=\"node\"><title>1</title>\r\n",
       "<path fill=\"#c2e1f7\" stroke=\"black\" d=\"M1580.5,-544C1580.5,-544 1362.5,-544 1362.5,-544 1356.5,-544 1350.5,-538 1350.5,-532 1350.5,-532 1350.5,-473 1350.5,-473 1350.5,-467 1356.5,-461 1362.5,-461 1362.5,-461 1580.5,-461 1580.5,-461 1586.5,-461 1592.5,-467 1592.5,-473 1592.5,-473 1592.5,-532 1592.5,-532 1592.5,-538 1586.5,-544 1580.5,-544\"/>\r\n",
       "<text text-anchor=\"middle\" x=\"1471.5\" y=\"-528.8\" font-family=\"Helvetica,sans-Serif\" font-size=\"14.00\">InternetService_Fiber_optic &lt;= &#45;0.8</text>\r\n",
       "<text text-anchor=\"middle\" x=\"1471.5\" y=\"-513.8\" font-family=\"Helvetica,sans-Serif\" font-size=\"14.00\">entropy = 0.98</text>\r\n",
       "<text text-anchor=\"middle\" x=\"1471.5\" y=\"-498.8\" font-family=\"Helvetica,sans-Serif\" font-size=\"14.00\">samples = 2703</text>\r\n",
       "<text text-anchor=\"middle\" x=\"1471.5\" y=\"-483.8\" font-family=\"Helvetica,sans-Serif\" font-size=\"14.00\">value = [1749, 2525]</text>\r\n",
       "<text text-anchor=\"middle\" x=\"1471.5\" y=\"-468.8\" font-family=\"Helvetica,sans-Serif\" font-size=\"14.00\">class = 1</text>\r\n",
       "</g>\r\n",
       "<!-- 0&#45;&gt;1 -->\r\n",
       "<g id=\"edge1\" class=\"edge\"><title>0&#45;&gt;1</title>\r\n",
       "<path fill=\"none\" stroke=\"black\" d=\"M1660.67,-580.889C1634.73,-570.274 1606.51,-558.729 1579.97,-547.875\"/>\r\n",
       "<polygon fill=\"black\" stroke=\"black\" points=\"1581.24,-544.614 1570.66,-544.067 1578.59,-551.093 1581.24,-544.614\"/>\r\n",
       "<text text-anchor=\"middle\" x=\"1580.33\" y=\"-563.422\" font-family=\"Helvetica,sans-Serif\" font-size=\"14.00\">True</text>\r\n",
       "</g>\r\n",
       "<!-- 30 -->\r\n",
       "<g id=\"node31\" class=\"node\"><title>30</title>\r\n",
       "<path fill=\"#e68641\" stroke=\"black\" d=\"M2141,-544C2141,-544 1920,-544 1920,-544 1914,-544 1908,-538 1908,-532 1908,-532 1908,-473 1908,-473 1908,-467 1914,-461 1920,-461 1920,-461 2141,-461 2141,-461 2147,-461 2153,-467 2153,-473 2153,-473 2153,-532 2153,-532 2153,-538 2147,-544 2141,-544\"/>\r\n",
       "<text text-anchor=\"middle\" x=\"2030.5\" y=\"-528.8\" font-family=\"Helvetica,sans-Serif\" font-size=\"14.00\">InternetService_Fiber_optic &lt;= 0.14</text>\r\n",
       "<text text-anchor=\"middle\" x=\"2030.5\" y=\"-513.8\" font-family=\"Helvetica,sans-Serif\" font-size=\"14.00\">entropy = 0.24</text>\r\n",
       "<text text-anchor=\"middle\" x=\"2030.5\" y=\"-498.8\" font-family=\"Helvetica,sans-Serif\" font-size=\"14.00\">samples = 540</text>\r\n",
       "<text text-anchor=\"middle\" x=\"2030.5\" y=\"-483.8\" font-family=\"Helvetica,sans-Serif\" font-size=\"14.00\">value = [868, 36]</text>\r\n",
       "<text text-anchor=\"middle\" x=\"2030.5\" y=\"-468.8\" font-family=\"Helvetica,sans-Serif\" font-size=\"14.00\">class = 0</text>\r\n",
       "</g>\r\n",
       "<!-- 0&#45;&gt;30 -->\r\n",
       "<g id=\"edge30\" class=\"edge\"><title>0&#45;&gt;30</title>\r\n",
       "<path fill=\"none\" stroke=\"black\" d=\"M1852.22,-579.907C1876.25,-569.607 1902.2,-558.487 1926.66,-548.004\"/>\r\n",
       "<polygon fill=\"black\" stroke=\"black\" points=\"1928.14,-551.177 1935.95,-544.021 1925.38,-544.743 1928.14,-551.177\"/>\r\n",
       "<text text-anchor=\"middle\" x=\"1926.67\" y=\"-563.533\" font-family=\"Helvetica,sans-Serif\" font-size=\"14.00\">False</text>\r\n",
       "</g>\r\n",
       "<!-- 2 -->\r\n",
       "<g id=\"node3\" class=\"node\"><title>2</title>\r\n",
       "<path fill=\"#f7d6bf\" stroke=\"black\" d=\"M875.5,-425C875.5,-425 761.5,-425 761.5,-425 755.5,-425 749.5,-419 749.5,-413 749.5,-413 749.5,-354 749.5,-354 749.5,-348 755.5,-342 761.5,-342 761.5,-342 875.5,-342 875.5,-342 881.5,-342 887.5,-348 887.5,-354 887.5,-354 887.5,-413 887.5,-413 887.5,-419 881.5,-425 875.5,-425\"/>\r\n",
       "<text text-anchor=\"middle\" x=\"818.5\" y=\"-409.8\" font-family=\"Helvetica,sans-Serif\" font-size=\"14.00\">tenure &lt;= &#45;1.03</text>\r\n",
       "<text text-anchor=\"middle\" x=\"818.5\" y=\"-394.8\" font-family=\"Helvetica,sans-Serif\" font-size=\"14.00\">entropy = 0.97</text>\r\n",
       "<text text-anchor=\"middle\" x=\"818.5\" y=\"-379.8\" font-family=\"Helvetica,sans-Serif\" font-size=\"14.00\">samples = 1131</text>\r\n",
       "<text text-anchor=\"middle\" x=\"818.5\" y=\"-364.8\" font-family=\"Helvetica,sans-Serif\" font-size=\"14.00\">value = [1076, 730]</text>\r\n",
       "<text text-anchor=\"middle\" x=\"818.5\" y=\"-349.8\" font-family=\"Helvetica,sans-Serif\" font-size=\"14.00\">class = 0</text>\r\n",
       "</g>\r\n",
       "<!-- 1&#45;&gt;2 -->\r\n",
       "<g id=\"edge2\" class=\"edge\"><title>1&#45;&gt;2</title>\r\n",
       "<path fill=\"none\" stroke=\"black\" d=\"M1350.21,-479.767C1218.09,-456.096 1010.6,-418.919 897.856,-398.718\"/>\r\n",
       "<polygon fill=\"black\" stroke=\"black\" points=\"898.372,-395.255 887.911,-396.937 897.137,-402.146 898.372,-395.255\"/>\r\n",
       "</g>\r\n",
       "<!-- 17 -->\r\n",
       "<g id=\"node18\" class=\"node\"><title>17</title>\r\n",
       "<path fill=\"#83c2ef\" stroke=\"black\" d=\"M1580,-425C1580,-425 1363,-425 1363,-425 1357,-425 1351,-419 1351,-413 1351,-413 1351,-354 1351,-354 1351,-348 1357,-342 1363,-342 1363,-342 1580,-342 1580,-342 1586,-342 1592,-348 1592,-354 1592,-354 1592,-413 1592,-413 1592,-419 1586,-425 1580,-425\"/>\r\n",
       "<text text-anchor=\"middle\" x=\"1471.5\" y=\"-409.8\" font-family=\"Helvetica,sans-Serif\" font-size=\"14.00\">Contract_Month_to_month &lt;= &#45;1.09</text>\r\n",
       "<text text-anchor=\"middle\" x=\"1471.5\" y=\"-394.8\" font-family=\"Helvetica,sans-Serif\" font-size=\"14.00\">entropy = 0.85</text>\r\n",
       "<text text-anchor=\"middle\" x=\"1471.5\" y=\"-379.8\" font-family=\"Helvetica,sans-Serif\" font-size=\"14.00\">samples = 1572</text>\r\n",
       "<text text-anchor=\"middle\" x=\"1471.5\" y=\"-364.8\" font-family=\"Helvetica,sans-Serif\" font-size=\"14.00\">value = [673, 1795]</text>\r\n",
       "<text text-anchor=\"middle\" x=\"1471.5\" y=\"-349.8\" font-family=\"Helvetica,sans-Serif\" font-size=\"14.00\">class = 1</text>\r\n",
       "</g>\r\n",
       "<!-- 1&#45;&gt;17 -->\r\n",
       "<g id=\"edge17\" class=\"edge\"><title>1&#45;&gt;17</title>\r\n",
       "<path fill=\"none\" stroke=\"black\" d=\"M1471.5,-460.907C1471.5,-452.649 1471.5,-443.864 1471.5,-435.302\"/>\r\n",
       "<polygon fill=\"black\" stroke=\"black\" points=\"1475,-435.021 1471.5,-425.021 1468,-435.021 1475,-435.021\"/>\r\n",
       "</g>\r\n",
       "<!-- 3 -->\r\n",
       "<g id=\"node4\" class=\"node\"><title>3</title>\r\n",
       "<path fill=\"#afd7f4\" stroke=\"black\" d=\"M502.5,-306C502.5,-306 350.5,-306 350.5,-306 344.5,-306 338.5,-300 338.5,-294 338.5,-294 338.5,-235 338.5,-235 338.5,-229 344.5,-223 350.5,-223 350.5,-223 502.5,-223 502.5,-223 508.5,-223 514.5,-229 514.5,-235 514.5,-235 514.5,-294 514.5,-294 514.5,-300 508.5,-306 502.5,-306\"/>\r\n",
       "<text text-anchor=\"middle\" x=\"426.5\" y=\"-290.8\" font-family=\"Helvetica,sans-Serif\" font-size=\"14.00\">PaperlessBilling &lt;= &#45;1.18</text>\r\n",
       "<text text-anchor=\"middle\" x=\"426.5\" y=\"-275.8\" font-family=\"Helvetica,sans-Serif\" font-size=\"14.00\">entropy = 0.95</text>\r\n",
       "<text text-anchor=\"middle\" x=\"426.5\" y=\"-260.8\" font-family=\"Helvetica,sans-Serif\" font-size=\"14.00\">samples = 453</text>\r\n",
       "<text text-anchor=\"middle\" x=\"426.5\" y=\"-245.8\" font-family=\"Helvetica,sans-Serif\" font-size=\"14.00\">value = [275, 462]</text>\r\n",
       "<text text-anchor=\"middle\" x=\"426.5\" y=\"-230.8\" font-family=\"Helvetica,sans-Serif\" font-size=\"14.00\">class = 1</text>\r\n",
       "</g>\r\n",
       "<!-- 2&#45;&gt;3 -->\r\n",
       "<g id=\"edge3\" class=\"edge\"><title>2&#45;&gt;3</title>\r\n",
       "<path fill=\"none\" stroke=\"black\" d=\"M749.321,-361.852C686.869,-343.212 594.313,-315.587 524.299,-294.69\"/>\r\n",
       "<polygon fill=\"black\" stroke=\"black\" points=\"525.158,-291.294 514.575,-291.788 523.156,-298.001 525.158,-291.294\"/>\r\n",
       "</g>\r\n",
       "<!-- 10 -->\r\n",
       "<g id=\"node11\" class=\"node\"><title>10</title>\r\n",
       "<path fill=\"#eeab7b\" stroke=\"black\" d=\"M953,-306C953,-306 684,-306 684,-306 678,-306 672,-300 672,-294 672,-294 672,-235 672,-235 672,-229 678,-223 684,-223 684,-223 953,-223 953,-223 959,-223 965,-229 965,-235 965,-235 965,-294 965,-294 965,-300 959,-306 953,-306\"/>\r\n",
       "<text text-anchor=\"middle\" x=\"818.5\" y=\"-290.8\" font-family=\"Helvetica,sans-Serif\" font-size=\"14.00\">PaymentMethod_Electronic_check &lt;= &#45;0.66</text>\r\n",
       "<text text-anchor=\"middle\" x=\"818.5\" y=\"-275.8\" font-family=\"Helvetica,sans-Serif\" font-size=\"14.00\">entropy = 0.81</text>\r\n",
       "<text text-anchor=\"middle\" x=\"818.5\" y=\"-260.8\" font-family=\"Helvetica,sans-Serif\" font-size=\"14.00\">samples = 678</text>\r\n",
       "<text text-anchor=\"middle\" x=\"818.5\" y=\"-245.8\" font-family=\"Helvetica,sans-Serif\" font-size=\"14.00\">value = [801, 268]</text>\r\n",
       "<text text-anchor=\"middle\" x=\"818.5\" y=\"-230.8\" font-family=\"Helvetica,sans-Serif\" font-size=\"14.00\">class = 0</text>\r\n",
       "</g>\r\n",
       "<!-- 2&#45;&gt;10 -->\r\n",
       "<g id=\"edge10\" class=\"edge\"><title>2&#45;&gt;10</title>\r\n",
       "<path fill=\"none\" stroke=\"black\" d=\"M818.5,-341.907C818.5,-333.649 818.5,-324.864 818.5,-316.302\"/>\r\n",
       "<polygon fill=\"black\" stroke=\"black\" points=\"822,-316.021 818.5,-306.021 815,-316.021 822,-316.021\"/>\r\n",
       "</g>\r\n",
       "<!-- 4 -->\r\n",
       "<g id=\"node5\" class=\"node\"><title>4</title>\r\n",
       "<path fill=\"#fbece1\" stroke=\"black\" d=\"M272.5,-187C272.5,-187 120.5,-187 120.5,-187 114.5,-187 108.5,-181 108.5,-175 108.5,-175 108.5,-116 108.5,-116 108.5,-110 114.5,-104 120.5,-104 120.5,-104 272.5,-104 272.5,-104 278.5,-104 284.5,-110 284.5,-116 284.5,-116 284.5,-175 284.5,-175 284.5,-181 278.5,-187 272.5,-187\"/>\r\n",
       "<text text-anchor=\"middle\" x=\"196.5\" y=\"-171.8\" font-family=\"Helvetica,sans-Serif\" font-size=\"14.00\">MonthlyCharges &lt;= &#45;1.47</text>\r\n",
       "<text text-anchor=\"middle\" x=\"196.5\" y=\"-156.8\" font-family=\"Helvetica,sans-Serif\" font-size=\"14.00\">entropy = 1.0</text>\r\n",
       "<text text-anchor=\"middle\" x=\"196.5\" y=\"-141.8\" font-family=\"Helvetica,sans-Serif\" font-size=\"14.00\">samples = 211</text>\r\n",
       "<text text-anchor=\"middle\" x=\"196.5\" y=\"-126.8\" font-family=\"Helvetica,sans-Serif\" font-size=\"14.00\">value = [184, 156]</text>\r\n",
       "<text text-anchor=\"middle\" x=\"196.5\" y=\"-111.8\" font-family=\"Helvetica,sans-Serif\" font-size=\"14.00\">class = 0</text>\r\n",
       "</g>\r\n",
       "<!-- 3&#45;&gt;4 -->\r\n",
       "<g id=\"edge4\" class=\"edge\"><title>3&#45;&gt;4</title>\r\n",
       "<path fill=\"none\" stroke=\"black\" d=\"M346.703,-222.907C326.811,-212.789 305.364,-201.879 285.078,-191.559\"/>\r\n",
       "<polygon fill=\"black\" stroke=\"black\" points=\"286.656,-188.435 276.156,-187.021 283.482,-194.674 286.656,-188.435\"/>\r\n",
       "</g>\r\n",
       "<!-- 7 -->\r\n",
       "<g id=\"node8\" class=\"node\"><title>7</title>\r\n",
       "<path fill=\"#74baed\" stroke=\"black\" d=\"M500,-187C500,-187 353,-187 353,-187 347,-187 341,-181 341,-175 341,-175 341,-116 341,-116 341,-110 347,-104 353,-104 353,-104 500,-104 500,-104 506,-104 512,-110 512,-116 512,-116 512,-175 512,-175 512,-181 506,-187 500,-187\"/>\r\n",
       "<text text-anchor=\"middle\" x=\"426.5\" y=\"-171.8\" font-family=\"Helvetica,sans-Serif\" font-size=\"14.00\">PaperlessBilling &lt;= 0.81</text>\r\n",
       "<text text-anchor=\"middle\" x=\"426.5\" y=\"-156.8\" font-family=\"Helvetica,sans-Serif\" font-size=\"14.00\">entropy = 0.78</text>\r\n",
       "<text text-anchor=\"middle\" x=\"426.5\" y=\"-141.8\" font-family=\"Helvetica,sans-Serif\" font-size=\"14.00\">samples = 242</text>\r\n",
       "<text text-anchor=\"middle\" x=\"426.5\" y=\"-126.8\" font-family=\"Helvetica,sans-Serif\" font-size=\"14.00\">value = [91, 306]</text>\r\n",
       "<text text-anchor=\"middle\" x=\"426.5\" y=\"-111.8\" font-family=\"Helvetica,sans-Serif\" font-size=\"14.00\">class = 1</text>\r\n",
       "</g>\r\n",
       "<!-- 3&#45;&gt;7 -->\r\n",
       "<g id=\"edge7\" class=\"edge\"><title>3&#45;&gt;7</title>\r\n",
       "<path fill=\"none\" stroke=\"black\" d=\"M426.5,-222.907C426.5,-214.649 426.5,-205.864 426.5,-197.302\"/>\r\n",
       "<polygon fill=\"black\" stroke=\"black\" points=\"430,-197.021 426.5,-187.021 423,-197.021 430,-197.021\"/>\r\n",
       "</g>\r\n",
       "<!-- 5 -->\r\n",
       "<g id=\"node6\" class=\"node\"><title>5</title>\r\n",
       "<path fill=\"#eca16c\" stroke=\"black\" d=\"M101,-68C101,-68 12,-68 12,-68 6,-68 0,-62 0,-56 0,-56 0,-12 0,-12 0,-6 6,-0 12,-0 12,-0 101,-0 101,-0 107,-0 113,-6 113,-12 113,-12 113,-56 113,-56 113,-62 107,-68 101,-68\"/>\r\n",
       "<text text-anchor=\"middle\" x=\"56.5\" y=\"-52.8\" font-family=\"Helvetica,sans-Serif\" font-size=\"14.00\">entropy = 0.73</text>\r\n",
       "<text text-anchor=\"middle\" x=\"56.5\" y=\"-37.8\" font-family=\"Helvetica,sans-Serif\" font-size=\"14.00\">samples = 55</text>\r\n",
       "<text text-anchor=\"middle\" x=\"56.5\" y=\"-22.8\" font-family=\"Helvetica,sans-Serif\" font-size=\"14.00\">value = [70, 18]</text>\r\n",
       "<text text-anchor=\"middle\" x=\"56.5\" y=\"-7.8\" font-family=\"Helvetica,sans-Serif\" font-size=\"14.00\">class = 0</text>\r\n",
       "</g>\r\n",
       "<!-- 4&#45;&gt;5 -->\r\n",
       "<g id=\"edge5\" class=\"edge\"><title>4&#45;&gt;5</title>\r\n",
       "<path fill=\"none\" stroke=\"black\" d=\"M144.369,-103.726C132.241,-94.2406 119.347,-84.1551 107.278,-74.7159\"/>\r\n",
       "<polygon fill=\"black\" stroke=\"black\" points=\"109.108,-71.7035 99.0748,-68.2996 104.795,-77.2173 109.108,-71.7035\"/>\r\n",
       "</g>\r\n",
       "<!-- 6 -->\r\n",
       "<g id=\"node7\" class=\"node\"><title>6</title>\r\n",
       "<path fill=\"#ddeefa\" stroke=\"black\" d=\"M249.5,-68C249.5,-68 143.5,-68 143.5,-68 137.5,-68 131.5,-62 131.5,-56 131.5,-56 131.5,-12 131.5,-12 131.5,-6 137.5,-0 143.5,-0 143.5,-0 249.5,-0 249.5,-0 255.5,-0 261.5,-6 261.5,-12 261.5,-12 261.5,-56 261.5,-56 261.5,-62 255.5,-68 249.5,-68\"/>\r\n",
       "<text text-anchor=\"middle\" x=\"196.5\" y=\"-52.8\" font-family=\"Helvetica,sans-Serif\" font-size=\"14.00\">entropy = 0.99</text>\r\n",
       "<text text-anchor=\"middle\" x=\"196.5\" y=\"-37.8\" font-family=\"Helvetica,sans-Serif\" font-size=\"14.00\">samples = 156</text>\r\n",
       "<text text-anchor=\"middle\" x=\"196.5\" y=\"-22.8\" font-family=\"Helvetica,sans-Serif\" font-size=\"14.00\">value = [114, 138]</text>\r\n",
       "<text text-anchor=\"middle\" x=\"196.5\" y=\"-7.8\" font-family=\"Helvetica,sans-Serif\" font-size=\"14.00\">class = 1</text>\r\n",
       "</g>\r\n",
       "<!-- 4&#45;&gt;6 -->\r\n",
       "<g id=\"edge6\" class=\"edge\"><title>4&#45;&gt;6</title>\r\n",
       "<path fill=\"none\" stroke=\"black\" d=\"M196.5,-103.726C196.5,-95.5175 196.5,-86.8595 196.5,-78.56\"/>\r\n",
       "<polygon fill=\"black\" stroke=\"black\" points=\"200,-78.2996 196.5,-68.2996 193,-78.2996 200,-78.2996\"/>\r\n",
       "</g>\r\n",
       "<!-- 8 -->\r\n",
       "<g id=\"node9\" class=\"node\"><title>8</title>\r\n",
       "<path fill=\"#399de5\" stroke=\"black\" d=\"M373,-68C373,-68 292,-68 292,-68 286,-68 280,-62 280,-56 280,-56 280,-12 280,-12 280,-6 286,-0 292,-0 292,-0 373,-0 373,-0 379,-0 385,-6 385,-12 385,-12 385,-56 385,-56 385,-62 379,-68 373,-68\"/>\r\n",
       "<text text-anchor=\"middle\" x=\"332.5\" y=\"-52.8\" font-family=\"Helvetica,sans-Serif\" font-size=\"14.00\">entropy = 0.0</text>\r\n",
       "<text text-anchor=\"middle\" x=\"332.5\" y=\"-37.8\" font-family=\"Helvetica,sans-Serif\" font-size=\"14.00\">samples = 31</text>\r\n",
       "<text text-anchor=\"middle\" x=\"332.5\" y=\"-22.8\" font-family=\"Helvetica,sans-Serif\" font-size=\"14.00\">value = [0, 53]</text>\r\n",
       "<text text-anchor=\"middle\" x=\"332.5\" y=\"-7.8\" font-family=\"Helvetica,sans-Serif\" font-size=\"14.00\">class = 1</text>\r\n",
       "</g>\r\n",
       "<!-- 7&#45;&gt;8 -->\r\n",
       "<g id=\"edge8\" class=\"edge\"><title>7&#45;&gt;8</title>\r\n",
       "<path fill=\"none\" stroke=\"black\" d=\"M391.498,-103.726C383.746,-94.6966 375.528,-85.1235 367.766,-76.0816\"/>\r\n",
       "<polygon fill=\"black\" stroke=\"black\" points=\"370.255,-73.6075 361.086,-68.2996 364.944,-78.1671 370.255,-73.6075\"/>\r\n",
       "</g>\r\n",
       "<!-- 9 -->\r\n",
       "<g id=\"node10\" class=\"node\"><title>9</title>\r\n",
       "<path fill=\"#80c0ee\" stroke=\"black\" d=\"M513.5,-68C513.5,-68 415.5,-68 415.5,-68 409.5,-68 403.5,-62 403.5,-56 403.5,-56 403.5,-12 403.5,-12 403.5,-6 409.5,-0 415.5,-0 415.5,-0 513.5,-0 513.5,-0 519.5,-0 525.5,-6 525.5,-12 525.5,-12 525.5,-56 525.5,-56 525.5,-62 519.5,-68 513.5,-68\"/>\r\n",
       "<text text-anchor=\"middle\" x=\"464.5\" y=\"-52.8\" font-family=\"Helvetica,sans-Serif\" font-size=\"14.00\">entropy = 0.83</text>\r\n",
       "<text text-anchor=\"middle\" x=\"464.5\" y=\"-37.8\" font-family=\"Helvetica,sans-Serif\" font-size=\"14.00\">samples = 211</text>\r\n",
       "<text text-anchor=\"middle\" x=\"464.5\" y=\"-22.8\" font-family=\"Helvetica,sans-Serif\" font-size=\"14.00\">value = [91, 253]</text>\r\n",
       "<text text-anchor=\"middle\" x=\"464.5\" y=\"-7.8\" font-family=\"Helvetica,sans-Serif\" font-size=\"14.00\">class = 1</text>\r\n",
       "</g>\r\n",
       "<!-- 7&#45;&gt;9 -->\r\n",
       "<g id=\"edge9\" class=\"edge\"><title>7&#45;&gt;9</title>\r\n",
       "<path fill=\"none\" stroke=\"black\" d=\"M440.65,-103.726C443.562,-95.3351 446.637,-86.4745 449.575,-78.0072\"/>\r\n",
       "<polygon fill=\"black\" stroke=\"black\" points=\"452.972,-78.8944 452.944,-68.2996 446.359,-76.5994 452.972,-78.8944\"/>\r\n",
       "</g>\r\n",
       "<!-- 11 -->\r\n",
       "<g id=\"node12\" class=\"node\"><title>11</title>\r\n",
       "<path fill=\"#ea9b62\" stroke=\"black\" d=\"M815,-187C815,-187 606,-187 606,-187 600,-187 594,-181 594,-175 594,-175 594,-116 594,-116 594,-110 600,-104 606,-104 606,-104 815,-104 815,-104 821,-104 827,-110 827,-116 827,-116 827,-175 827,-175 827,-181 821,-187 815,-187\"/>\r\n",
       "<text text-anchor=\"middle\" x=\"710.5\" y=\"-171.8\" font-family=\"Helvetica,sans-Serif\" font-size=\"14.00\">Contract_Month_to_month &lt;= &#45;1.0</text>\r\n",
       "<text text-anchor=\"middle\" x=\"710.5\" y=\"-156.8\" font-family=\"Helvetica,sans-Serif\" font-size=\"14.00\">entropy = 0.66</text>\r\n",
       "<text text-anchor=\"middle\" x=\"710.5\" y=\"-141.8\" font-family=\"Helvetica,sans-Serif\" font-size=\"14.00\">samples = 491</text>\r\n",
       "<text text-anchor=\"middle\" x=\"710.5\" y=\"-126.8\" font-family=\"Helvetica,sans-Serif\" font-size=\"14.00\">value = [639, 131]</text>\r\n",
       "<text text-anchor=\"middle\" x=\"710.5\" y=\"-111.8\" font-family=\"Helvetica,sans-Serif\" font-size=\"14.00\">class = 0</text>\r\n",
       "</g>\r\n",
       "<!-- 10&#45;&gt;11 -->\r\n",
       "<g id=\"edge11\" class=\"edge\"><title>10&#45;&gt;11</title>\r\n",
       "<path fill=\"none\" stroke=\"black\" d=\"M781.03,-222.907C772.569,-213.742 763.509,-203.927 754.798,-194.489\"/>\r\n",
       "<polygon fill=\"black\" stroke=\"black\" points=\"757.258,-191.995 747.904,-187.021 752.115,-196.743 757.258,-191.995\"/>\r\n",
       "</g>\r\n",
       "<!-- 14 -->\r\n",
       "<g id=\"node15\" class=\"node\"><title>14</title>\r\n",
       "<path fill=\"#fbece0\" stroke=\"black\" d=\"M996,-187C996,-187 857,-187 857,-187 851,-187 845,-181 845,-175 845,-175 845,-116 845,-116 845,-110 851,-104 857,-104 857,-104 996,-104 996,-104 1002,-104 1008,-110 1008,-116 1008,-116 1008,-175 1008,-175 1008,-181 1002,-187 996,-187\"/>\r\n",
       "<text text-anchor=\"middle\" x=\"926.5\" y=\"-171.8\" font-family=\"Helvetica,sans-Serif\" font-size=\"14.00\">PhoneService &lt;= &#45;1.32</text>\r\n",
       "<text text-anchor=\"middle\" x=\"926.5\" y=\"-156.8\" font-family=\"Helvetica,sans-Serif\" font-size=\"14.00\">entropy = 0.99</text>\r\n",
       "<text text-anchor=\"middle\" x=\"926.5\" y=\"-141.8\" font-family=\"Helvetica,sans-Serif\" font-size=\"14.00\">samples = 187</text>\r\n",
       "<text text-anchor=\"middle\" x=\"926.5\" y=\"-126.8\" font-family=\"Helvetica,sans-Serif\" font-size=\"14.00\">value = [162, 137]</text>\r\n",
       "<text text-anchor=\"middle\" x=\"926.5\" y=\"-111.8\" font-family=\"Helvetica,sans-Serif\" font-size=\"14.00\">class = 0</text>\r\n",
       "</g>\r\n",
       "<!-- 10&#45;&gt;14 -->\r\n",
       "<g id=\"edge14\" class=\"edge\"><title>10&#45;&gt;14</title>\r\n",
       "<path fill=\"none\" stroke=\"black\" d=\"M855.97,-222.907C864.431,-213.742 873.491,-203.927 882.202,-194.489\"/>\r\n",
       "<polygon fill=\"black\" stroke=\"black\" points=\"884.885,-196.743 889.096,-187.021 879.742,-191.995 884.885,-196.743\"/>\r\n",
       "</g>\r\n",
       "<!-- 12 -->\r\n",
       "<g id=\"node13\" class=\"node\"><title>12</title>\r\n",
       "<path fill=\"#e78a47\" stroke=\"black\" d=\"M653.5,-68C653.5,-68 555.5,-68 555.5,-68 549.5,-68 543.5,-62 543.5,-56 543.5,-56 543.5,-12 543.5,-12 543.5,-6 549.5,-0 555.5,-0 555.5,-0 653.5,-0 653.5,-0 659.5,-0 665.5,-6 665.5,-12 665.5,-12 665.5,-56 665.5,-56 665.5,-62 659.5,-68 653.5,-68\"/>\r\n",
       "<text text-anchor=\"middle\" x=\"604.5\" y=\"-52.8\" font-family=\"Helvetica,sans-Serif\" font-size=\"14.00\">entropy = 0.36</text>\r\n",
       "<text text-anchor=\"middle\" x=\"604.5\" y=\"-37.8\" font-family=\"Helvetica,sans-Serif\" font-size=\"14.00\">samples = 246</text>\r\n",
       "<text text-anchor=\"middle\" x=\"604.5\" y=\"-22.8\" font-family=\"Helvetica,sans-Serif\" font-size=\"14.00\">value = [357, 26]</text>\r\n",
       "<text text-anchor=\"middle\" x=\"604.5\" y=\"-7.8\" font-family=\"Helvetica,sans-Serif\" font-size=\"14.00\">class = 0</text>\r\n",
       "</g>\r\n",
       "<!-- 11&#45;&gt;12 -->\r\n",
       "<g id=\"edge12\" class=\"edge\"><title>11&#45;&gt;12</title>\r\n",
       "<path fill=\"none\" stroke=\"black\" d=\"M671.03,-103.726C662.112,-94.5142 652.647,-84.7364 643.739,-75.5343\"/>\r\n",
       "<polygon fill=\"black\" stroke=\"black\" points=\"646.205,-73.0502 636.735,-68.2996 641.176,-77.919 646.205,-73.0502\"/>\r\n",
       "</g>\r\n",
       "<!-- 13 -->\r\n",
       "<g id=\"node14\" class=\"node\"><title>13</title>\r\n",
       "<path fill=\"#efb083\" stroke=\"black\" d=\"M801.5,-68C801.5,-68 695.5,-68 695.5,-68 689.5,-68 683.5,-62 683.5,-56 683.5,-56 683.5,-12 683.5,-12 683.5,-6 689.5,-0 695.5,-0 695.5,-0 801.5,-0 801.5,-0 807.5,-0 813.5,-6 813.5,-12 813.5,-12 813.5,-56 813.5,-56 813.5,-62 807.5,-68 801.5,-68\"/>\r\n",
       "<text text-anchor=\"middle\" x=\"748.5\" y=\"-52.8\" font-family=\"Helvetica,sans-Serif\" font-size=\"14.00\">entropy = 0.84</text>\r\n",
       "<text text-anchor=\"middle\" x=\"748.5\" y=\"-37.8\" font-family=\"Helvetica,sans-Serif\" font-size=\"14.00\">samples = 245</text>\r\n",
       "<text text-anchor=\"middle\" x=\"748.5\" y=\"-22.8\" font-family=\"Helvetica,sans-Serif\" font-size=\"14.00\">value = [282, 105]</text>\r\n",
       "<text text-anchor=\"middle\" x=\"748.5\" y=\"-7.8\" font-family=\"Helvetica,sans-Serif\" font-size=\"14.00\">class = 0</text>\r\n",
       "</g>\r\n",
       "<!-- 11&#45;&gt;13 -->\r\n",
       "<g id=\"edge13\" class=\"edge\"><title>11&#45;&gt;13</title>\r\n",
       "<path fill=\"none\" stroke=\"black\" d=\"M724.65,-103.726C727.562,-95.3351 730.637,-86.4745 733.575,-78.0072\"/>\r\n",
       "<polygon fill=\"black\" stroke=\"black\" points=\"736.972,-78.8944 736.944,-68.2996 730.359,-76.5994 736.972,-78.8944\"/>\r\n",
       "</g>\r\n",
       "<!-- 15 -->\r\n",
       "<g id=\"node16\" class=\"node\"><title>15</title>\r\n",
       "<path fill=\"#87c4ef\" stroke=\"black\" d=\"M933,-68C933,-68 844,-68 844,-68 838,-68 832,-62 832,-56 832,-56 832,-12 832,-12 832,-6 838,-0 844,-0 844,-0 933,-0 933,-0 939,-0 945,-6 945,-12 945,-12 945,-56 945,-56 945,-62 939,-68 933,-68\"/>\r\n",
       "<text text-anchor=\"middle\" x=\"888.5\" y=\"-52.8\" font-family=\"Helvetica,sans-Serif\" font-size=\"14.00\">entropy = 0.86</text>\r\n",
       "<text text-anchor=\"middle\" x=\"888.5\" y=\"-37.8\" font-family=\"Helvetica,sans-Serif\" font-size=\"14.00\">samples = 71</text>\r\n",
       "<text text-anchor=\"middle\" x=\"888.5\" y=\"-22.8\" font-family=\"Helvetica,sans-Serif\" font-size=\"14.00\">value = [32, 81]</text>\r\n",
       "<text text-anchor=\"middle\" x=\"888.5\" y=\"-7.8\" font-family=\"Helvetica,sans-Serif\" font-size=\"14.00\">class = 1</text>\r\n",
       "</g>\r\n",
       "<!-- 14&#45;&gt;15 -->\r\n",
       "<g id=\"edge15\" class=\"edge\"><title>14&#45;&gt;15</title>\r\n",
       "<path fill=\"none\" stroke=\"black\" d=\"M912.35,-103.726C909.438,-95.3351 906.363,-86.4745 903.425,-78.0072\"/>\r\n",
       "<polygon fill=\"black\" stroke=\"black\" points=\"906.641,-76.5994 900.056,-68.2996 900.028,-78.8944 906.641,-76.5994\"/>\r\n",
       "</g>\r\n",
       "<!-- 16 -->\r\n",
       "<g id=\"node17\" class=\"node\"><title>16</title>\r\n",
       "<path fill=\"#f0b78e\" stroke=\"black\" d=\"M1073.5,-68C1073.5,-68 975.5,-68 975.5,-68 969.5,-68 963.5,-62 963.5,-56 963.5,-56 963.5,-12 963.5,-12 963.5,-6 969.5,-0 975.5,-0 975.5,-0 1073.5,-0 1073.5,-0 1079.5,-0 1085.5,-6 1085.5,-12 1085.5,-12 1085.5,-56 1085.5,-56 1085.5,-62 1079.5,-68 1073.5,-68\"/>\r\n",
       "<text text-anchor=\"middle\" x=\"1024.5\" y=\"-52.8\" font-family=\"Helvetica,sans-Serif\" font-size=\"14.00\">entropy = 0.88</text>\r\n",
       "<text text-anchor=\"middle\" x=\"1024.5\" y=\"-37.8\" font-family=\"Helvetica,sans-Serif\" font-size=\"14.00\">samples = 116</text>\r\n",
       "<text text-anchor=\"middle\" x=\"1024.5\" y=\"-22.8\" font-family=\"Helvetica,sans-Serif\" font-size=\"14.00\">value = [130, 56]</text>\r\n",
       "<text text-anchor=\"middle\" x=\"1024.5\" y=\"-7.8\" font-family=\"Helvetica,sans-Serif\" font-size=\"14.00\">class = 0</text>\r\n",
       "</g>\r\n",
       "<!-- 14&#45;&gt;16 -->\r\n",
       "<g id=\"edge16\" class=\"edge\"><title>14&#45;&gt;16</title>\r\n",
       "<path fill=\"none\" stroke=\"black\" d=\"M962.992,-103.726C971.155,-94.6054 979.814,-84.93 987.978,-75.8078\"/>\r\n",
       "<polygon fill=\"black\" stroke=\"black\" points=\"990.637,-78.0853 994.698,-68.2996 985.421,-73.417 990.637,-78.0853\"/>\r\n",
       "</g>\r\n",
       "<!-- 18 -->\r\n",
       "<g id=\"node19\" class=\"node\"><title>18</title>\r\n",
       "<path fill=\"#f3c4a2\" stroke=\"black\" d=\"M1460,-306C1460,-306 1287,-306 1287,-306 1281,-306 1275,-300 1275,-294 1275,-294 1275,-235 1275,-235 1275,-229 1281,-223 1287,-223 1287,-223 1460,-223 1460,-223 1466,-223 1472,-229 1472,-235 1472,-235 1472,-294 1472,-294 1472,-300 1466,-306 1460,-306\"/>\r\n",
       "<text text-anchor=\"middle\" x=\"1373.5\" y=\"-290.8\" font-family=\"Helvetica,sans-Serif\" font-size=\"14.00\">Contract_Two_year &lt;= &#45;0.46</text>\r\n",
       "<text text-anchor=\"middle\" x=\"1373.5\" y=\"-275.8\" font-family=\"Helvetica,sans-Serif\" font-size=\"14.00\">entropy = 0.93</text>\r\n",
       "<text text-anchor=\"middle\" x=\"1373.5\" y=\"-260.8\" font-family=\"Helvetica,sans-Serif\" font-size=\"14.00\">samples = 209</text>\r\n",
       "<text text-anchor=\"middle\" x=\"1373.5\" y=\"-245.8\" font-family=\"Helvetica,sans-Serif\" font-size=\"14.00\">value = [213, 113]</text>\r\n",
       "<text text-anchor=\"middle\" x=\"1373.5\" y=\"-230.8\" font-family=\"Helvetica,sans-Serif\" font-size=\"14.00\">class = 0</text>\r\n",
       "</g>\r\n",
       "<!-- 17&#45;&gt;18 -->\r\n",
       "<g id=\"edge18\" class=\"edge\"><title>17&#45;&gt;18</title>\r\n",
       "<path fill=\"none\" stroke=\"black\" d=\"M1437.5,-341.907C1429.9,-332.832 1421.76,-323.121 1413.93,-313.769\"/>\r\n",
       "<polygon fill=\"black\" stroke=\"black\" points=\"1416.54,-311.439 1407.44,-306.021 1411.18,-315.934 1416.54,-311.439\"/>\r\n",
       "</g>\r\n",
       "<!-- 23 -->\r\n",
       "<g id=\"node24\" class=\"node\"><title>23</title>\r\n",
       "<path fill=\"#6fb8ec\" stroke=\"black\" d=\"M1637,-306C1637,-306 1502,-306 1502,-306 1496,-306 1490,-300 1490,-294 1490,-294 1490,-235 1490,-235 1490,-229 1496,-223 1502,-223 1502,-223 1637,-223 1637,-223 1643,-223 1649,-229 1649,-235 1649,-235 1649,-294 1649,-294 1649,-300 1643,-306 1637,-306\"/>\r\n",
       "<text text-anchor=\"middle\" x=\"1569.5\" y=\"-290.8\" font-family=\"Helvetica,sans-Serif\" font-size=\"14.00\">TotalCharges &lt;= &#45;0.34</text>\r\n",
       "<text text-anchor=\"middle\" x=\"1569.5\" y=\"-275.8\" font-family=\"Helvetica,sans-Serif\" font-size=\"14.00\">entropy = 0.75</text>\r\n",
       "<text text-anchor=\"middle\" x=\"1569.5\" y=\"-260.8\" font-family=\"Helvetica,sans-Serif\" font-size=\"14.00\">samples = 1363</text>\r\n",
       "<text text-anchor=\"middle\" x=\"1569.5\" y=\"-245.8\" font-family=\"Helvetica,sans-Serif\" font-size=\"14.00\">value = [460, 1682]</text>\r\n",
       "<text text-anchor=\"middle\" x=\"1569.5\" y=\"-230.8\" font-family=\"Helvetica,sans-Serif\" font-size=\"14.00\">class = 1</text>\r\n",
       "</g>\r\n",
       "<!-- 17&#45;&gt;23 -->\r\n",
       "<g id=\"edge23\" class=\"edge\"><title>17&#45;&gt;23</title>\r\n",
       "<path fill=\"none\" stroke=\"black\" d=\"M1505.5,-341.907C1513.1,-332.832 1521.24,-323.121 1529.07,-313.769\"/>\r\n",
       "<polygon fill=\"black\" stroke=\"black\" points=\"1531.82,-315.934 1535.56,-306.021 1526.46,-311.439 1531.82,-315.934\"/>\r\n",
       "</g>\r\n",
       "<!-- 19 -->\r\n",
       "<g id=\"node20\" class=\"node\"><title>19</title>\r\n",
       "<path fill=\"#f1bc96\" stroke=\"black\" d=\"M1319,-187C1319,-187 1164,-187 1164,-187 1158,-187 1152,-181 1152,-175 1152,-175 1152,-116 1152,-116 1152,-110 1158,-104 1164,-104 1164,-104 1319,-104 1319,-104 1325,-104 1331,-110 1331,-116 1331,-116 1331,-175 1331,-175 1331,-181 1325,-187 1319,-187\"/>\r\n",
       "<text text-anchor=\"middle\" x=\"1241.5\" y=\"-171.8\" font-family=\"Helvetica,sans-Serif\" font-size=\"14.00\">StreamingTV_No &lt;= 1.15</text>\r\n",
       "<text text-anchor=\"middle\" x=\"1241.5\" y=\"-156.8\" font-family=\"Helvetica,sans-Serif\" font-size=\"14.00\">entropy = 0.9</text>\r\n",
       "<text text-anchor=\"middle\" x=\"1241.5\" y=\"-141.8\" font-family=\"Helvetica,sans-Serif\" font-size=\"14.00\">samples = 201</text>\r\n",
       "<text text-anchor=\"middle\" x=\"1241.5\" y=\"-126.8\" font-family=\"Helvetica,sans-Serif\" font-size=\"14.00\">value = [213, 100]</text>\r\n",
       "<text text-anchor=\"middle\" x=\"1241.5\" y=\"-111.8\" font-family=\"Helvetica,sans-Serif\" font-size=\"14.00\">class = 0</text>\r\n",
       "</g>\r\n",
       "<!-- 18&#45;&gt;19 -->\r\n",
       "<g id=\"edge19\" class=\"edge\"><title>18&#45;&gt;19</title>\r\n",
       "<path fill=\"none\" stroke=\"black\" d=\"M1327.7,-222.907C1317.16,-213.56 1305.85,-203.538 1295.01,-193.929\"/>\r\n",
       "<polygon fill=\"black\" stroke=\"black\" points=\"1297.02,-191.035 1287.22,-187.021 1292.38,-196.273 1297.02,-191.035\"/>\r\n",
       "</g>\r\n",
       "<!-- 22 -->\r\n",
       "<g id=\"node23\" class=\"node\"><title>22</title>\r\n",
       "<path fill=\"#399de5\" stroke=\"black\" d=\"M1442,-179.5C1442,-179.5 1361,-179.5 1361,-179.5 1355,-179.5 1349,-173.5 1349,-167.5 1349,-167.5 1349,-123.5 1349,-123.5 1349,-117.5 1355,-111.5 1361,-111.5 1361,-111.5 1442,-111.5 1442,-111.5 1448,-111.5 1454,-117.5 1454,-123.5 1454,-123.5 1454,-167.5 1454,-167.5 1454,-173.5 1448,-179.5 1442,-179.5\"/>\r\n",
       "<text text-anchor=\"middle\" x=\"1401.5\" y=\"-164.3\" font-family=\"Helvetica,sans-Serif\" font-size=\"14.00\">entropy = 0.0</text>\r\n",
       "<text text-anchor=\"middle\" x=\"1401.5\" y=\"-149.3\" font-family=\"Helvetica,sans-Serif\" font-size=\"14.00\">samples = 8</text>\r\n",
       "<text text-anchor=\"middle\" x=\"1401.5\" y=\"-134.3\" font-family=\"Helvetica,sans-Serif\" font-size=\"14.00\">value = [0, 13]</text>\r\n",
       "<text text-anchor=\"middle\" x=\"1401.5\" y=\"-119.3\" font-family=\"Helvetica,sans-Serif\" font-size=\"14.00\">class = 1</text>\r\n",
       "</g>\r\n",
       "<!-- 18&#45;&gt;22 -->\r\n",
       "<g id=\"edge22\" class=\"edge\"><title>18&#45;&gt;22</title>\r\n",
       "<path fill=\"none\" stroke=\"black\" d=\"M1383.21,-222.907C1385.8,-212.094 1388.61,-200.376 1391.22,-189.441\"/>\r\n",
       "<polygon fill=\"black\" stroke=\"black\" points=\"1394.64,-190.207 1393.56,-179.667 1387.83,-188.578 1394.64,-190.207\"/>\r\n",
       "</g>\r\n",
       "<!-- 20 -->\r\n",
       "<g id=\"node21\" class=\"node\"><title>20</title>\r\n",
       "<path fill=\"#f6d1b7\" stroke=\"black\" d=\"M1213.5,-68C1213.5,-68 1115.5,-68 1115.5,-68 1109.5,-68 1103.5,-62 1103.5,-56 1103.5,-56 1103.5,-12 1103.5,-12 1103.5,-6 1109.5,-0 1115.5,-0 1115.5,-0 1213.5,-0 1213.5,-0 1219.5,-0 1225.5,-6 1225.5,-12 1225.5,-12 1225.5,-56 1225.5,-56 1225.5,-62 1219.5,-68 1213.5,-68\"/>\r\n",
       "<text text-anchor=\"middle\" x=\"1164.5\" y=\"-52.8\" font-family=\"Helvetica,sans-Serif\" font-size=\"14.00\">entropy = 0.96</text>\r\n",
       "<text text-anchor=\"middle\" x=\"1164.5\" y=\"-37.8\" font-family=\"Helvetica,sans-Serif\" font-size=\"14.00\">samples = 159</text>\r\n",
       "<text text-anchor=\"middle\" x=\"1164.5\" y=\"-22.8\" font-family=\"Helvetica,sans-Serif\" font-size=\"14.00\">value = [143, 91]</text>\r\n",
       "<text text-anchor=\"middle\" x=\"1164.5\" y=\"-7.8\" font-family=\"Helvetica,sans-Serif\" font-size=\"14.00\">class = 0</text>\r\n",
       "</g>\r\n",
       "<!-- 19&#45;&gt;20 -->\r\n",
       "<g id=\"edge20\" class=\"edge\"><title>19&#45;&gt;20</title>\r\n",
       "<path fill=\"none\" stroke=\"black\" d=\"M1212.83,-103.726C1206.61,-94.879 1200.02,-85.51 1193.77,-76.6303\"/>\r\n",
       "<polygon fill=\"black\" stroke=\"black\" points=\"1196.53,-74.4664 1187.92,-68.2996 1190.81,-78.4929 1196.53,-74.4664\"/>\r\n",
       "</g>\r\n",
       "<!-- 21 -->\r\n",
       "<g id=\"node22\" class=\"node\"><title>21</title>\r\n",
       "<path fill=\"#e89152\" stroke=\"black\" d=\"M1339.5,-68C1339.5,-68 1255.5,-68 1255.5,-68 1249.5,-68 1243.5,-62 1243.5,-56 1243.5,-56 1243.5,-12 1243.5,-12 1243.5,-6 1249.5,-0 1255.5,-0 1255.5,-0 1339.5,-0 1339.5,-0 1345.5,-0 1351.5,-6 1351.5,-12 1351.5,-12 1351.5,-56 1351.5,-56 1351.5,-62 1345.5,-68 1339.5,-68\"/>\r\n",
       "<text text-anchor=\"middle\" x=\"1297.5\" y=\"-52.8\" font-family=\"Helvetica,sans-Serif\" font-size=\"14.00\">entropy = 0.51</text>\r\n",
       "<text text-anchor=\"middle\" x=\"1297.5\" y=\"-37.8\" font-family=\"Helvetica,sans-Serif\" font-size=\"14.00\">samples = 42</text>\r\n",
       "<text text-anchor=\"middle\" x=\"1297.5\" y=\"-22.8\" font-family=\"Helvetica,sans-Serif\" font-size=\"14.00\">value = [70, 9]</text>\r\n",
       "<text text-anchor=\"middle\" x=\"1297.5\" y=\"-7.8\" font-family=\"Helvetica,sans-Serif\" font-size=\"14.00\">class = 0</text>\r\n",
       "</g>\r\n",
       "<!-- 19&#45;&gt;21 -->\r\n",
       "<g id=\"edge21\" class=\"edge\"><title>19&#45;&gt;21</title>\r\n",
       "<path fill=\"none\" stroke=\"black\" d=\"M1262.35,-103.726C1266.74,-95.1527 1271.37,-86.0891 1275.79,-77.4555\"/>\r\n",
       "<polygon fill=\"black\" stroke=\"black\" points=\"1279.03,-78.7965 1280.47,-68.2996 1272.8,-75.6092 1279.03,-78.7965\"/>\r\n",
       "</g>\r\n",
       "<!-- 24 -->\r\n",
       "<g id=\"node25\" class=\"node\"><title>24</title>\r\n",
       "<path fill=\"#58ace9\" stroke=\"black\" d=\"M1612.5,-187C1612.5,-187 1498.5,-187 1498.5,-187 1492.5,-187 1486.5,-181 1486.5,-175 1486.5,-175 1486.5,-116 1486.5,-116 1486.5,-110 1492.5,-104 1498.5,-104 1498.5,-104 1612.5,-104 1612.5,-104 1618.5,-104 1624.5,-110 1624.5,-116 1624.5,-116 1624.5,-175 1624.5,-175 1624.5,-181 1618.5,-187 1612.5,-187\"/>\r\n",
       "<text text-anchor=\"middle\" x=\"1555.5\" y=\"-171.8\" font-family=\"Helvetica,sans-Serif\" font-size=\"14.00\">tenure &lt;= &#45;0.95</text>\r\n",
       "<text text-anchor=\"middle\" x=\"1555.5\" y=\"-156.8\" font-family=\"Helvetica,sans-Serif\" font-size=\"14.00\">entropy = 0.57</text>\r\n",
       "<text text-anchor=\"middle\" x=\"1555.5\" y=\"-141.8\" font-family=\"Helvetica,sans-Serif\" font-size=\"14.00\">samples = 791</text>\r\n",
       "<text text-anchor=\"middle\" x=\"1555.5\" y=\"-126.8\" font-family=\"Helvetica,sans-Serif\" font-size=\"14.00\">value = [169, 1086]</text>\r\n",
       "<text text-anchor=\"middle\" x=\"1555.5\" y=\"-111.8\" font-family=\"Helvetica,sans-Serif\" font-size=\"14.00\">class = 1</text>\r\n",
       "</g>\r\n",
       "<!-- 23&#45;&gt;24 -->\r\n",
       "<g id=\"edge24\" class=\"edge\"><title>23&#45;&gt;24</title>\r\n",
       "<path fill=\"none\" stroke=\"black\" d=\"M1564.64,-222.907C1563.64,-214.558 1562.58,-205.671 1561.55,-197.02\"/>\r\n",
       "<polygon fill=\"black\" stroke=\"black\" points=\"1565.01,-196.534 1560.35,-187.021 1558.06,-197.366 1565.01,-196.534\"/>\r\n",
       "</g>\r\n",
       "<!-- 27 -->\r\n",
       "<g id=\"node28\" class=\"node\"><title>27</title>\r\n",
       "<path fill=\"#9acdf2\" stroke=\"black\" d=\"M1802,-187C1802,-187 1655,-187 1655,-187 1649,-187 1643,-181 1643,-175 1643,-175 1643,-116 1643,-116 1643,-110 1649,-104 1655,-104 1655,-104 1802,-104 1802,-104 1808,-104 1814,-110 1814,-116 1814,-116 1814,-175 1814,-175 1814,-181 1808,-187 1802,-187\"/>\r\n",
       "<text text-anchor=\"middle\" x=\"1728.5\" y=\"-171.8\" font-family=\"Helvetica,sans-Serif\" font-size=\"14.00\">MonthlyCharges &lt;= 1.04</text>\r\n",
       "<text text-anchor=\"middle\" x=\"1728.5\" y=\"-156.8\" font-family=\"Helvetica,sans-Serif\" font-size=\"14.00\">entropy = 0.91</text>\r\n",
       "<text text-anchor=\"middle\" x=\"1728.5\" y=\"-141.8\" font-family=\"Helvetica,sans-Serif\" font-size=\"14.00\">samples = 572</text>\r\n",
       "<text text-anchor=\"middle\" x=\"1728.5\" y=\"-126.8\" font-family=\"Helvetica,sans-Serif\" font-size=\"14.00\">value = [291, 596]</text>\r\n",
       "<text text-anchor=\"middle\" x=\"1728.5\" y=\"-111.8\" font-family=\"Helvetica,sans-Serif\" font-size=\"14.00\">class = 1</text>\r\n",
       "</g>\r\n",
       "<!-- 23&#45;&gt;27 -->\r\n",
       "<g id=\"edge27\" class=\"edge\"><title>23&#45;&gt;27</title>\r\n",
       "<path fill=\"none\" stroke=\"black\" d=\"M1624.66,-222.907C1637.74,-213.288 1651.78,-202.953 1665.18,-193.09\"/>\r\n",
       "<polygon fill=\"black\" stroke=\"black\" points=\"1667.45,-195.767 1673.43,-187.021 1663.3,-190.129 1667.45,-195.767\"/>\r\n",
       "</g>\r\n",
       "<!-- 25 -->\r\n",
       "<g id=\"node26\" class=\"node\"><title>25</title>\r\n",
       "<path fill=\"#50a8e8\" stroke=\"black\" d=\"M1479.5,-68C1479.5,-68 1381.5,-68 1381.5,-68 1375.5,-68 1369.5,-62 1369.5,-56 1369.5,-56 1369.5,-12 1369.5,-12 1369.5,-6 1375.5,-0 1381.5,-0 1381.5,-0 1479.5,-0 1479.5,-0 1485.5,-0 1491.5,-6 1491.5,-12 1491.5,-12 1491.5,-56 1491.5,-56 1491.5,-62 1485.5,-68 1479.5,-68\"/>\r\n",
       "<text text-anchor=\"middle\" x=\"1430.5\" y=\"-52.8\" font-family=\"Helvetica,sans-Serif\" font-size=\"14.00\">entropy = 0.48</text>\r\n",
       "<text text-anchor=\"middle\" x=\"1430.5\" y=\"-37.8\" font-family=\"Helvetica,sans-Serif\" font-size=\"14.00\">samples = 546</text>\r\n",
       "<text text-anchor=\"middle\" x=\"1430.5\" y=\"-22.8\" font-family=\"Helvetica,sans-Serif\" font-size=\"14.00\">value = [89, 774]</text>\r\n",
       "<text text-anchor=\"middle\" x=\"1430.5\" y=\"-7.8\" font-family=\"Helvetica,sans-Serif\" font-size=\"14.00\">class = 1</text>\r\n",
       "</g>\r\n",
       "<!-- 24&#45;&gt;25 -->\r\n",
       "<g id=\"edge25\" class=\"edge\"><title>24&#45;&gt;25</title>\r\n",
       "<path fill=\"none\" stroke=\"black\" d=\"M1508.95,-103.726C1498.23,-94.3318 1486.83,-84.349 1476.15,-74.9883\"/>\r\n",
       "<polygon fill=\"black\" stroke=\"black\" points=\"1478.34,-72.2562 1468.51,-68.2996 1473.73,-77.5217 1478.34,-72.2562\"/>\r\n",
       "</g>\r\n",
       "<!-- 26 -->\r\n",
       "<g id=\"node27\" class=\"node\"><title>26</title>\r\n",
       "<path fill=\"#6cb6ec\" stroke=\"black\" d=\"M1619.5,-68C1619.5,-68 1521.5,-68 1521.5,-68 1515.5,-68 1509.5,-62 1509.5,-56 1509.5,-56 1509.5,-12 1509.5,-12 1509.5,-6 1515.5,-0 1521.5,-0 1521.5,-0 1619.5,-0 1619.5,-0 1625.5,-0 1631.5,-6 1631.5,-12 1631.5,-12 1631.5,-56 1631.5,-56 1631.5,-62 1625.5,-68 1619.5,-68\"/>\r\n",
       "<text text-anchor=\"middle\" x=\"1570.5\" y=\"-52.8\" font-family=\"Helvetica,sans-Serif\" font-size=\"14.00\">entropy = 0.73</text>\r\n",
       "<text text-anchor=\"middle\" x=\"1570.5\" y=\"-37.8\" font-family=\"Helvetica,sans-Serif\" font-size=\"14.00\">samples = 245</text>\r\n",
       "<text text-anchor=\"middle\" x=\"1570.5\" y=\"-22.8\" font-family=\"Helvetica,sans-Serif\" font-size=\"14.00\">value = [80, 312]</text>\r\n",
       "<text text-anchor=\"middle\" x=\"1570.5\" y=\"-7.8\" font-family=\"Helvetica,sans-Serif\" font-size=\"14.00\">class = 1</text>\r\n",
       "</g>\r\n",
       "<!-- 24&#45;&gt;26 -->\r\n",
       "<g id=\"edge26\" class=\"edge\"><title>24&#45;&gt;26</title>\r\n",
       "<path fill=\"none\" stroke=\"black\" d=\"M1561.09,-103.726C1562.22,-95.4263 1563.42,-86.6671 1564.57,-78.2834\"/>\r\n",
       "<polygon fill=\"black\" stroke=\"black\" points=\"1568.05,-78.6821 1565.94,-68.2996 1561.11,-77.732 1568.05,-78.6821\"/>\r\n",
       "</g>\r\n",
       "<!-- 28 -->\r\n",
       "<g id=\"node29\" class=\"node\"><title>28</title>\r\n",
       "<path fill=\"#c2e1f7\" stroke=\"black\" d=\"M1767.5,-68C1767.5,-68 1661.5,-68 1661.5,-68 1655.5,-68 1649.5,-62 1649.5,-56 1649.5,-56 1649.5,-12 1649.5,-12 1649.5,-6 1655.5,-0 1661.5,-0 1661.5,-0 1767.5,-0 1767.5,-0 1773.5,-0 1779.5,-6 1779.5,-12 1779.5,-12 1779.5,-56 1779.5,-56 1779.5,-62 1773.5,-68 1767.5,-68\"/>\r\n",
       "<text text-anchor=\"middle\" x=\"1714.5\" y=\"-52.8\" font-family=\"Helvetica,sans-Serif\" font-size=\"14.00\">entropy = 0.98</text>\r\n",
       "<text text-anchor=\"middle\" x=\"1714.5\" y=\"-37.8\" font-family=\"Helvetica,sans-Serif\" font-size=\"14.00\">samples = 329</text>\r\n",
       "<text text-anchor=\"middle\" x=\"1714.5\" y=\"-22.8\" font-family=\"Helvetica,sans-Serif\" font-size=\"14.00\">value = [211, 304]</text>\r\n",
       "<text text-anchor=\"middle\" x=\"1714.5\" y=\"-7.8\" font-family=\"Helvetica,sans-Serif\" font-size=\"14.00\">class = 1</text>\r\n",
       "</g>\r\n",
       "<!-- 27&#45;&gt;28 -->\r\n",
       "<g id=\"edge28\" class=\"edge\"><title>27&#45;&gt;28</title>\r\n",
       "<path fill=\"none\" stroke=\"black\" d=\"M1723.29,-103.726C1722.23,-95.4263 1721.11,-86.6671 1720.03,-78.2834\"/>\r\n",
       "<polygon fill=\"black\" stroke=\"black\" points=\"1723.5,-77.7749 1718.76,-68.2996 1716.55,-78.6628 1723.5,-77.7749\"/>\r\n",
       "</g>\r\n",
       "<!-- 29 -->\r\n",
       "<g id=\"node30\" class=\"node\"><title>29</title>\r\n",
       "<path fill=\"#6fb8ec\" stroke=\"black\" d=\"M1907.5,-68C1907.5,-68 1809.5,-68 1809.5,-68 1803.5,-68 1797.5,-62 1797.5,-56 1797.5,-56 1797.5,-12 1797.5,-12 1797.5,-6 1803.5,-0 1809.5,-0 1809.5,-0 1907.5,-0 1907.5,-0 1913.5,-0 1919.5,-6 1919.5,-12 1919.5,-12 1919.5,-56 1919.5,-56 1919.5,-62 1913.5,-68 1907.5,-68\"/>\r\n",
       "<text text-anchor=\"middle\" x=\"1858.5\" y=\"-52.8\" font-family=\"Helvetica,sans-Serif\" font-size=\"14.00\">entropy = 0.75</text>\r\n",
       "<text text-anchor=\"middle\" x=\"1858.5\" y=\"-37.8\" font-family=\"Helvetica,sans-Serif\" font-size=\"14.00\">samples = 243</text>\r\n",
       "<text text-anchor=\"middle\" x=\"1858.5\" y=\"-22.8\" font-family=\"Helvetica,sans-Serif\" font-size=\"14.00\">value = [80, 292]</text>\r\n",
       "<text text-anchor=\"middle\" x=\"1858.5\" y=\"-7.8\" font-family=\"Helvetica,sans-Serif\" font-size=\"14.00\">class = 1</text>\r\n",
       "</g>\r\n",
       "<!-- 27&#45;&gt;29 -->\r\n",
       "<g id=\"edge29\" class=\"edge\"><title>27&#45;&gt;29</title>\r\n",
       "<path fill=\"none\" stroke=\"black\" d=\"M1776.91,-103.726C1788.06,-94.3318 1799.91,-84.349 1811.03,-74.9883\"/>\r\n",
       "<polygon fill=\"black\" stroke=\"black\" points=\"1813.57,-77.4188 1818.97,-68.2996 1809.06,-72.065 1813.57,-77.4188\"/>\r\n",
       "</g>\r\n",
       "<!-- 31 -->\r\n",
       "<g id=\"node32\" class=\"node\"><title>31</title>\r\n",
       "<path fill=\"#e5833b\" stroke=\"black\" d=\"M2163,-425C2163,-425 1898,-425 1898,-425 1892,-425 1886,-419 1886,-413 1886,-413 1886,-354 1886,-354 1886,-348 1892,-342 1898,-342 1898,-342 2163,-342 2163,-342 2169,-342 2175,-348 2175,-354 2175,-354 2175,-413 2175,-413 2175,-419 2169,-425 2163,-425\"/>\r\n",
       "<text text-anchor=\"middle\" x=\"2030.5\" y=\"-409.8\" font-family=\"Helvetica,sans-Serif\" font-size=\"14.00\">PaymentMethod_Electronic_check &lt;= 0.33</text>\r\n",
       "<text text-anchor=\"middle\" x=\"2030.5\" y=\"-394.8\" font-family=\"Helvetica,sans-Serif\" font-size=\"14.00\">entropy = 0.09</text>\r\n",
       "<text text-anchor=\"middle\" x=\"2030.5\" y=\"-379.8\" font-family=\"Helvetica,sans-Serif\" font-size=\"14.00\">samples = 405</text>\r\n",
       "<text text-anchor=\"middle\" x=\"2030.5\" y=\"-364.8\" font-family=\"Helvetica,sans-Serif\" font-size=\"14.00\">value = [667, 8]</text>\r\n",
       "<text text-anchor=\"middle\" x=\"2030.5\" y=\"-349.8\" font-family=\"Helvetica,sans-Serif\" font-size=\"14.00\">class = 0</text>\r\n",
       "</g>\r\n",
       "<!-- 30&#45;&gt;31 -->\r\n",
       "<g id=\"edge31\" class=\"edge\"><title>30&#45;&gt;31</title>\r\n",
       "<path fill=\"none\" stroke=\"black\" d=\"M2030.5,-460.907C2030.5,-452.649 2030.5,-443.864 2030.5,-435.302\"/>\r\n",
       "<polygon fill=\"black\" stroke=\"black\" points=\"2034,-435.021 2030.5,-425.021 2027,-435.021 2034,-435.021\"/>\r\n",
       "</g>\r\n",
       "<!-- 38 -->\r\n",
       "<g id=\"node39\" class=\"node\"><title>38</title>\r\n",
       "<path fill=\"#e99355\" stroke=\"black\" d=\"M2339.5,-425C2339.5,-425 2241.5,-425 2241.5,-425 2235.5,-425 2229.5,-419 2229.5,-413 2229.5,-413 2229.5,-354 2229.5,-354 2229.5,-348 2235.5,-342 2241.5,-342 2241.5,-342 2339.5,-342 2339.5,-342 2345.5,-342 2351.5,-348 2351.5,-354 2351.5,-354 2351.5,-413 2351.5,-413 2351.5,-419 2345.5,-425 2339.5,-425\"/>\r\n",
       "<text text-anchor=\"middle\" x=\"2290.5\" y=\"-409.8\" font-family=\"Helvetica,sans-Serif\" font-size=\"14.00\">tenure &lt;= 1.62</text>\r\n",
       "<text text-anchor=\"middle\" x=\"2290.5\" y=\"-394.8\" font-family=\"Helvetica,sans-Serif\" font-size=\"14.00\">entropy = 0.54</text>\r\n",
       "<text text-anchor=\"middle\" x=\"2290.5\" y=\"-379.8\" font-family=\"Helvetica,sans-Serif\" font-size=\"14.00\">samples = 135</text>\r\n",
       "<text text-anchor=\"middle\" x=\"2290.5\" y=\"-364.8\" font-family=\"Helvetica,sans-Serif\" font-size=\"14.00\">value = [201, 28]</text>\r\n",
       "<text text-anchor=\"middle\" x=\"2290.5\" y=\"-349.8\" font-family=\"Helvetica,sans-Serif\" font-size=\"14.00\">class = 0</text>\r\n",
       "</g>\r\n",
       "<!-- 30&#45;&gt;38 -->\r\n",
       "<g id=\"edge38\" class=\"edge\"><title>30&#45;&gt;38</title>\r\n",
       "<path fill=\"none\" stroke=\"black\" d=\"M2120.71,-460.907C2153.27,-446.253 2189.52,-429.94 2220.14,-416.162\"/>\r\n",
       "<polygon fill=\"black\" stroke=\"black\" points=\"2221.77,-419.268 2229.45,-411.972 2218.89,-412.884 2221.77,-419.268\"/>\r\n",
       "</g>\r\n",
       "<!-- 32 -->\r\n",
       "<g id=\"node33\" class=\"node\"><title>32</title>\r\n",
       "<path fill=\"#e5823a\" stroke=\"black\" d=\"M2039,-306C2039,-306 1950,-306 1950,-306 1944,-306 1938,-300 1938,-294 1938,-294 1938,-235 1938,-235 1938,-229 1944,-223 1950,-223 1950,-223 2039,-223 2039,-223 2045,-223 2051,-229 2051,-235 2051,-235 2051,-294 2051,-294 2051,-300 2045,-306 2039,-306\"/>\r\n",
       "<text text-anchor=\"middle\" x=\"1994.5\" y=\"-290.8\" font-family=\"Helvetica,sans-Serif\" font-size=\"14.00\">tenure &lt;= 0.99</text>\r\n",
       "<text text-anchor=\"middle\" x=\"1994.5\" y=\"-275.8\" font-family=\"Helvetica,sans-Serif\" font-size=\"14.00\">entropy = 0.04</text>\r\n",
       "<text text-anchor=\"middle\" x=\"1994.5\" y=\"-260.8\" font-family=\"Helvetica,sans-Serif\" font-size=\"14.00\">samples = 374</text>\r\n",
       "<text text-anchor=\"middle\" x=\"1994.5\" y=\"-245.8\" font-family=\"Helvetica,sans-Serif\" font-size=\"14.00\">value = [616, 3]</text>\r\n",
       "<text text-anchor=\"middle\" x=\"1994.5\" y=\"-230.8\" font-family=\"Helvetica,sans-Serif\" font-size=\"14.00\">class = 0</text>\r\n",
       "</g>\r\n",
       "<!-- 31&#45;&gt;32 -->\r\n",
       "<g id=\"edge32\" class=\"edge\"><title>31&#45;&gt;32</title>\r\n",
       "<path fill=\"none\" stroke=\"black\" d=\"M2018.01,-341.907C2015.41,-333.468 2012.65,-324.477 2009.96,-315.738\"/>\r\n",
       "<polygon fill=\"black\" stroke=\"black\" points=\"2013.25,-314.549 2006.97,-306.021 2006.56,-316.608 2013.25,-314.549\"/>\r\n",
       "</g>\r\n",
       "<!-- 37 -->\r\n",
       "<g id=\"node38\" class=\"node\"><title>37</title>\r\n",
       "<path fill=\"#e88d4c\" stroke=\"black\" d=\"M2165.5,-298.5C2165.5,-298.5 2081.5,-298.5 2081.5,-298.5 2075.5,-298.5 2069.5,-292.5 2069.5,-286.5 2069.5,-286.5 2069.5,-242.5 2069.5,-242.5 2069.5,-236.5 2075.5,-230.5 2081.5,-230.5 2081.5,-230.5 2165.5,-230.5 2165.5,-230.5 2171.5,-230.5 2177.5,-236.5 2177.5,-242.5 2177.5,-242.5 2177.5,-286.5 2177.5,-286.5 2177.5,-292.5 2171.5,-298.5 2165.5,-298.5\"/>\r\n",
       "<text text-anchor=\"middle\" x=\"2123.5\" y=\"-283.3\" font-family=\"Helvetica,sans-Serif\" font-size=\"14.00\">entropy = 0.43</text>\r\n",
       "<text text-anchor=\"middle\" x=\"2123.5\" y=\"-268.3\" font-family=\"Helvetica,sans-Serif\" font-size=\"14.00\">samples = 31</text>\r\n",
       "<text text-anchor=\"middle\" x=\"2123.5\" y=\"-253.3\" font-family=\"Helvetica,sans-Serif\" font-size=\"14.00\">value = [51, 5]</text>\r\n",
       "<text text-anchor=\"middle\" x=\"2123.5\" y=\"-238.3\" font-family=\"Helvetica,sans-Serif\" font-size=\"14.00\">class = 0</text>\r\n",
       "</g>\r\n",
       "<!-- 31&#45;&gt;37 -->\r\n",
       "<g id=\"edge37\" class=\"edge\"><title>31&#45;&gt;37</title>\r\n",
       "<path fill=\"none\" stroke=\"black\" d=\"M2062.77,-341.907C2071.8,-330.542 2081.63,-318.178 2090.69,-306.774\"/>\r\n",
       "<polygon fill=\"black\" stroke=\"black\" points=\"2093.65,-308.673 2097.14,-298.667 2088.17,-304.317 2093.65,-308.673\"/>\r\n",
       "</g>\r\n",
       "<!-- 33 -->\r\n",
       "<g id=\"node34\" class=\"node\"><title>33</title>\r\n",
       "<path fill=\"#e5823b\" stroke=\"black\" d=\"M2062,-187C2062,-187 1927,-187 1927,-187 1921,-187 1915,-181 1915,-175 1915,-175 1915,-116 1915,-116 1915,-110 1921,-104 1927,-104 1927,-104 2062,-104 2062,-104 2068,-104 2074,-110 2074,-116 2074,-116 2074,-175 2074,-175 2074,-181 2068,-187 2062,-187\"/>\r\n",
       "<text text-anchor=\"middle\" x=\"1994.5\" y=\"-171.8\" font-family=\"Helvetica,sans-Serif\" font-size=\"14.00\">TotalCharges &lt;= &#45;0.53</text>\r\n",
       "<text text-anchor=\"middle\" x=\"1994.5\" y=\"-156.8\" font-family=\"Helvetica,sans-Serif\" font-size=\"14.00\">entropy = 0.09</text>\r\n",
       "<text text-anchor=\"middle\" x=\"1994.5\" y=\"-141.8\" font-family=\"Helvetica,sans-Serif\" font-size=\"14.00\">samples = 162</text>\r\n",
       "<text text-anchor=\"middle\" x=\"1994.5\" y=\"-126.8\" font-family=\"Helvetica,sans-Serif\" font-size=\"14.00\">value = [273, 3]</text>\r\n",
       "<text text-anchor=\"middle\" x=\"1994.5\" y=\"-111.8\" font-family=\"Helvetica,sans-Serif\" font-size=\"14.00\">class = 0</text>\r\n",
       "</g>\r\n",
       "<!-- 32&#45;&gt;33 -->\r\n",
       "<g id=\"edge33\" class=\"edge\"><title>32&#45;&gt;33</title>\r\n",
       "<path fill=\"none\" stroke=\"black\" d=\"M1994.5,-222.907C1994.5,-214.649 1994.5,-205.864 1994.5,-197.302\"/>\r\n",
       "<polygon fill=\"black\" stroke=\"black\" points=\"1998,-197.021 1994.5,-187.021 1991,-197.021 1998,-197.021\"/>\r\n",
       "</g>\r\n",
       "<!-- 36 -->\r\n",
       "<g id=\"node37\" class=\"node\"><title>36</title>\r\n",
       "<path fill=\"#e58139\" stroke=\"black\" d=\"M2193,-179.5C2193,-179.5 2104,-179.5 2104,-179.5 2098,-179.5 2092,-173.5 2092,-167.5 2092,-167.5 2092,-123.5 2092,-123.5 2092,-117.5 2098,-111.5 2104,-111.5 2104,-111.5 2193,-111.5 2193,-111.5 2199,-111.5 2205,-117.5 2205,-123.5 2205,-123.5 2205,-167.5 2205,-167.5 2205,-173.5 2199,-179.5 2193,-179.5\"/>\r\n",
       "<text text-anchor=\"middle\" x=\"2148.5\" y=\"-164.3\" font-family=\"Helvetica,sans-Serif\" font-size=\"14.00\">entropy = 0.0</text>\r\n",
       "<text text-anchor=\"middle\" x=\"2148.5\" y=\"-149.3\" font-family=\"Helvetica,sans-Serif\" font-size=\"14.00\">samples = 212</text>\r\n",
       "<text text-anchor=\"middle\" x=\"2148.5\" y=\"-134.3\" font-family=\"Helvetica,sans-Serif\" font-size=\"14.00\">value = [343, 0]</text>\r\n",
       "<text text-anchor=\"middle\" x=\"2148.5\" y=\"-119.3\" font-family=\"Helvetica,sans-Serif\" font-size=\"14.00\">class = 0</text>\r\n",
       "</g>\r\n",
       "<!-- 32&#45;&gt;36 -->\r\n",
       "<g id=\"edge36\" class=\"edge\"><title>32&#45;&gt;36</title>\r\n",
       "<path fill=\"none\" stroke=\"black\" d=\"M2047.93,-222.907C2063.76,-210.88 2081.06,-197.735 2096.78,-185.791\"/>\r\n",
       "<polygon fill=\"black\" stroke=\"black\" points=\"2099,-188.503 2104.84,-179.667 2094.76,-182.93 2099,-188.503\"/>\r\n",
       "</g>\r\n",
       "<!-- 34 -->\r\n",
       "<g id=\"node35\" class=\"node\"><title>34</title>\r\n",
       "<path fill=\"#e58139\" stroke=\"black\" d=\"M2039,-68C2039,-68 1950,-68 1950,-68 1944,-68 1938,-62 1938,-56 1938,-56 1938,-12 1938,-12 1938,-6 1944,-0 1950,-0 1950,-0 2039,-0 2039,-0 2045,-0 2051,-6 2051,-12 2051,-12 2051,-56 2051,-56 2051,-62 2045,-68 2039,-68\"/>\r\n",
       "<text text-anchor=\"middle\" x=\"1994.5\" y=\"-52.8\" font-family=\"Helvetica,sans-Serif\" font-size=\"14.00\">entropy = 0.0</text>\r\n",
       "<text text-anchor=\"middle\" x=\"1994.5\" y=\"-37.8\" font-family=\"Helvetica,sans-Serif\" font-size=\"14.00\">samples = 103</text>\r\n",
       "<text text-anchor=\"middle\" x=\"1994.5\" y=\"-22.8\" font-family=\"Helvetica,sans-Serif\" font-size=\"14.00\">value = [174, 0]</text>\r\n",
       "<text text-anchor=\"middle\" x=\"1994.5\" y=\"-7.8\" font-family=\"Helvetica,sans-Serif\" font-size=\"14.00\">class = 0</text>\r\n",
       "</g>\r\n",
       "<!-- 33&#45;&gt;34 -->\r\n",
       "<g id=\"edge34\" class=\"edge\"><title>33&#45;&gt;34</title>\r\n",
       "<path fill=\"none\" stroke=\"black\" d=\"M1994.5,-103.726C1994.5,-95.5175 1994.5,-86.8595 1994.5,-78.56\"/>\r\n",
       "<polygon fill=\"black\" stroke=\"black\" points=\"1998,-78.2996 1994.5,-68.2996 1991,-78.2996 1998,-78.2996\"/>\r\n",
       "</g>\r\n",
       "<!-- 35 -->\r\n",
       "<g id=\"node36\" class=\"node\"><title>35</title>\r\n",
       "<path fill=\"#e6853f\" stroke=\"black\" d=\"M2165.5,-68C2165.5,-68 2081.5,-68 2081.5,-68 2075.5,-68 2069.5,-62 2069.5,-56 2069.5,-56 2069.5,-12 2069.5,-12 2069.5,-6 2075.5,-0 2081.5,-0 2081.5,-0 2165.5,-0 2165.5,-0 2171.5,-0 2177.5,-6 2177.5,-12 2177.5,-12 2177.5,-56 2177.5,-56 2177.5,-62 2171.5,-68 2165.5,-68\"/>\r\n",
       "<text text-anchor=\"middle\" x=\"2123.5\" y=\"-52.8\" font-family=\"Helvetica,sans-Serif\" font-size=\"14.00\">entropy = 0.19</text>\r\n",
       "<text text-anchor=\"middle\" x=\"2123.5\" y=\"-37.8\" font-family=\"Helvetica,sans-Serif\" font-size=\"14.00\">samples = 59</text>\r\n",
       "<text text-anchor=\"middle\" x=\"2123.5\" y=\"-22.8\" font-family=\"Helvetica,sans-Serif\" font-size=\"14.00\">value = [99, 3]</text>\r\n",
       "<text text-anchor=\"middle\" x=\"2123.5\" y=\"-7.8\" font-family=\"Helvetica,sans-Serif\" font-size=\"14.00\">class = 0</text>\r\n",
       "</g>\r\n",
       "<!-- 33&#45;&gt;35 -->\r\n",
       "<g id=\"edge35\" class=\"edge\"><title>33&#45;&gt;35</title>\r\n",
       "<path fill=\"none\" stroke=\"black\" d=\"M2042.53,-103.726C2053.6,-94.3318 2065.36,-84.349 2076.39,-74.9883\"/>\r\n",
       "<polygon fill=\"black\" stroke=\"black\" points=\"2078.91,-77.4393 2084.27,-68.2996 2074.38,-72.1026 2078.91,-77.4393\"/>\r\n",
       "</g>\r\n",
       "<!-- 39 -->\r\n",
       "<g id=\"node40\" class=\"node\"><title>39</title>\r\n",
       "<path fill=\"#ea9b61\" stroke=\"black\" d=\"M2373.5,-306C2373.5,-306 2207.5,-306 2207.5,-306 2201.5,-306 2195.5,-300 2195.5,-294 2195.5,-294 2195.5,-235 2195.5,-235 2195.5,-229 2201.5,-223 2207.5,-223 2207.5,-223 2373.5,-223 2373.5,-223 2379.5,-223 2385.5,-229 2385.5,-235 2385.5,-235 2385.5,-294 2385.5,-294 2385.5,-300 2379.5,-306 2373.5,-306\"/>\r\n",
       "<text text-anchor=\"middle\" x=\"2290.5\" y=\"-290.8\" font-family=\"Helvetica,sans-Serif\" font-size=\"14.00\">OnlineBackup_Yes &lt;= 0.13</text>\r\n",
       "<text text-anchor=\"middle\" x=\"2290.5\" y=\"-275.8\" font-family=\"Helvetica,sans-Serif\" font-size=\"14.00\">entropy = 0.65</text>\r\n",
       "<text text-anchor=\"middle\" x=\"2290.5\" y=\"-260.8\" font-family=\"Helvetica,sans-Serif\" font-size=\"14.00\">samples = 95</text>\r\n",
       "<text text-anchor=\"middle\" x=\"2290.5\" y=\"-245.8\" font-family=\"Helvetica,sans-Serif\" font-size=\"14.00\">value = [138, 28]</text>\r\n",
       "<text text-anchor=\"middle\" x=\"2290.5\" y=\"-230.8\" font-family=\"Helvetica,sans-Serif\" font-size=\"14.00\">class = 0</text>\r\n",
       "</g>\r\n",
       "<!-- 38&#45;&gt;39 -->\r\n",
       "<g id=\"edge39\" class=\"edge\"><title>38&#45;&gt;39</title>\r\n",
       "<path fill=\"none\" stroke=\"black\" d=\"M2290.5,-341.907C2290.5,-333.649 2290.5,-324.864 2290.5,-316.302\"/>\r\n",
       "<polygon fill=\"black\" stroke=\"black\" points=\"2294,-316.021 2290.5,-306.021 2287,-316.021 2294,-316.021\"/>\r\n",
       "</g>\r\n",
       "<!-- 44 -->\r\n",
       "<g id=\"node45\" class=\"node\"><title>44</title>\r\n",
       "<path fill=\"#e58139\" stroke=\"black\" d=\"M2497,-298.5C2497,-298.5 2416,-298.5 2416,-298.5 2410,-298.5 2404,-292.5 2404,-286.5 2404,-286.5 2404,-242.5 2404,-242.5 2404,-236.5 2410,-230.5 2416,-230.5 2416,-230.5 2497,-230.5 2497,-230.5 2503,-230.5 2509,-236.5 2509,-242.5 2509,-242.5 2509,-286.5 2509,-286.5 2509,-292.5 2503,-298.5 2497,-298.5\"/>\r\n",
       "<text text-anchor=\"middle\" x=\"2456.5\" y=\"-283.3\" font-family=\"Helvetica,sans-Serif\" font-size=\"14.00\">entropy = 0.0</text>\r\n",
       "<text text-anchor=\"middle\" x=\"2456.5\" y=\"-268.3\" font-family=\"Helvetica,sans-Serif\" font-size=\"14.00\">samples = 40</text>\r\n",
       "<text text-anchor=\"middle\" x=\"2456.5\" y=\"-253.3\" font-family=\"Helvetica,sans-Serif\" font-size=\"14.00\">value = [63, 0]</text>\r\n",
       "<text text-anchor=\"middle\" x=\"2456.5\" y=\"-238.3\" font-family=\"Helvetica,sans-Serif\" font-size=\"14.00\">class = 0</text>\r\n",
       "</g>\r\n",
       "<!-- 38&#45;&gt;44 -->\r\n",
       "<g id=\"edge44\" class=\"edge\"><title>38&#45;&gt;44</title>\r\n",
       "<path fill=\"none\" stroke=\"black\" d=\"M2348.09,-341.907C2365.31,-329.769 2384.15,-316.493 2401.22,-304.462\"/>\r\n",
       "<polygon fill=\"black\" stroke=\"black\" points=\"2403.29,-307.289 2409.44,-298.667 2399.25,-301.567 2403.29,-307.289\"/>\r\n",
       "</g>\r\n",
       "<!-- 40 -->\r\n",
       "<g id=\"node41\" class=\"node\"><title>40</title>\r\n",
       "<path fill=\"#e6843d\" stroke=\"black\" d=\"M2326.5,-179.5C2326.5,-179.5 2242.5,-179.5 2242.5,-179.5 2236.5,-179.5 2230.5,-173.5 2230.5,-167.5 2230.5,-167.5 2230.5,-123.5 2230.5,-123.5 2230.5,-117.5 2236.5,-111.5 2242.5,-111.5 2242.5,-111.5 2326.5,-111.5 2326.5,-111.5 2332.5,-111.5 2338.5,-117.5 2338.5,-123.5 2338.5,-123.5 2338.5,-167.5 2338.5,-167.5 2338.5,-173.5 2332.5,-179.5 2326.5,-179.5\"/>\r\n",
       "<text text-anchor=\"middle\" x=\"2284.5\" y=\"-164.3\" font-family=\"Helvetica,sans-Serif\" font-size=\"14.00\">entropy = 0.15</text>\r\n",
       "<text text-anchor=\"middle\" x=\"2284.5\" y=\"-149.3\" font-family=\"Helvetica,sans-Serif\" font-size=\"14.00\">samples = 27</text>\r\n",
       "<text text-anchor=\"middle\" x=\"2284.5\" y=\"-134.3\" font-family=\"Helvetica,sans-Serif\" font-size=\"14.00\">value = [46, 1]</text>\r\n",
       "<text text-anchor=\"middle\" x=\"2284.5\" y=\"-119.3\" font-family=\"Helvetica,sans-Serif\" font-size=\"14.00\">class = 0</text>\r\n",
       "</g>\r\n",
       "<!-- 39&#45;&gt;40 -->\r\n",
       "<g id=\"edge40\" class=\"edge\"><title>39&#45;&gt;40</title>\r\n",
       "<path fill=\"none\" stroke=\"black\" d=\"M2288.42,-222.907C2287.87,-212.204 2287.28,-200.615 2286.72,-189.776\"/>\r\n",
       "<polygon fill=\"black\" stroke=\"black\" points=\"2290.21,-189.475 2286.2,-179.667 2283.22,-189.833 2290.21,-189.475\"/>\r\n",
       "</g>\r\n",
       "<!-- 41 -->\r\n",
       "<g id=\"node42\" class=\"node\"><title>41</title>\r\n",
       "<path fill=\"#eda673\" stroke=\"black\" d=\"M2496.5,-187C2496.5,-187 2368.5,-187 2368.5,-187 2362.5,-187 2356.5,-181 2356.5,-175 2356.5,-175 2356.5,-116 2356.5,-116 2356.5,-110 2362.5,-104 2368.5,-104 2368.5,-104 2496.5,-104 2496.5,-104 2502.5,-104 2508.5,-110 2508.5,-116 2508.5,-116 2508.5,-175 2508.5,-175 2508.5,-181 2502.5,-187 2496.5,-187\"/>\r\n",
       "<text text-anchor=\"middle\" x=\"2432.5\" y=\"-171.8\" font-family=\"Helvetica,sans-Serif\" font-size=\"14.00\">Dependents &lt;= &#45;0.57</text>\r\n",
       "<text text-anchor=\"middle\" x=\"2432.5\" y=\"-156.8\" font-family=\"Helvetica,sans-Serif\" font-size=\"14.00\">entropy = 0.77</text>\r\n",
       "<text text-anchor=\"middle\" x=\"2432.5\" y=\"-141.8\" font-family=\"Helvetica,sans-Serif\" font-size=\"14.00\">samples = 68</text>\r\n",
       "<text text-anchor=\"middle\" x=\"2432.5\" y=\"-126.8\" font-family=\"Helvetica,sans-Serif\" font-size=\"14.00\">value = [92, 27]</text>\r\n",
       "<text text-anchor=\"middle\" x=\"2432.5\" y=\"-111.8\" font-family=\"Helvetica,sans-Serif\" font-size=\"14.00\">class = 0</text>\r\n",
       "</g>\r\n",
       "<!-- 39&#45;&gt;41 -->\r\n",
       "<g id=\"edge41\" class=\"edge\"><title>39&#45;&gt;41</title>\r\n",
       "<path fill=\"none\" stroke=\"black\" d=\"M2339.77,-222.907C2351.22,-213.469 2363.51,-203.343 2375.28,-193.649\"/>\r\n",
       "<polygon fill=\"black\" stroke=\"black\" points=\"2377.83,-196.081 2383.32,-187.021 2373.38,-190.679 2377.83,-196.081\"/>\r\n",
       "</g>\r\n",
       "<!-- 42 -->\r\n",
       "<g id=\"node43\" class=\"node\"><title>42</title>\r\n",
       "<path fill=\"#e99355\" stroke=\"black\" d=\"M2410.5,-68C2410.5,-68 2326.5,-68 2326.5,-68 2320.5,-68 2314.5,-62 2314.5,-56 2314.5,-56 2314.5,-12 2314.5,-12 2314.5,-6 2320.5,-0 2326.5,-0 2326.5,-0 2410.5,-0 2410.5,-0 2416.5,-0 2422.5,-6 2422.5,-12 2422.5,-12 2422.5,-56 2422.5,-56 2422.5,-62 2416.5,-68 2410.5,-68\"/>\r\n",
       "<text text-anchor=\"middle\" x=\"2368.5\" y=\"-52.8\" font-family=\"Helvetica,sans-Serif\" font-size=\"14.00\">entropy = 0.54</text>\r\n",
       "<text text-anchor=\"middle\" x=\"2368.5\" y=\"-37.8\" font-family=\"Helvetica,sans-Serif\" font-size=\"14.00\">samples = 44</text>\r\n",
       "<text text-anchor=\"middle\" x=\"2368.5\" y=\"-22.8\" font-family=\"Helvetica,sans-Serif\" font-size=\"14.00\">value = [63, 9]</text>\r\n",
       "<text text-anchor=\"middle\" x=\"2368.5\" y=\"-7.8\" font-family=\"Helvetica,sans-Serif\" font-size=\"14.00\">class = 0</text>\r\n",
       "</g>\r\n",
       "<!-- 41&#45;&gt;42 -->\r\n",
       "<g id=\"edge42\" class=\"edge\"><title>41&#45;&gt;42</title>\r\n",
       "<path fill=\"none\" stroke=\"black\" d=\"M2408.67,-103.726C2403.6,-95.0615 2398.25,-85.8962 2393.15,-77.1802\"/>\r\n",
       "<polygon fill=\"black\" stroke=\"black\" points=\"2396.03,-75.167 2387.96,-68.2996 2389.99,-78.6992 2396.03,-75.167\"/>\r\n",
       "</g>\r\n",
       "<!-- 43 -->\r\n",
       "<g id=\"node44\" class=\"node\"><title>43</title>\r\n",
       "<path fill=\"#f5cfb4\" stroke=\"black\" d=\"M2542,-68C2542,-68 2453,-68 2453,-68 2447,-68 2441,-62 2441,-56 2441,-56 2441,-12 2441,-12 2441,-6 2447,-0 2453,-0 2453,-0 2542,-0 2542,-0 2548,-0 2554,-6 2554,-12 2554,-12 2554,-56 2554,-56 2554,-62 2548,-68 2542,-68\"/>\r\n",
       "<text text-anchor=\"middle\" x=\"2497.5\" y=\"-52.8\" font-family=\"Helvetica,sans-Serif\" font-size=\"14.00\">entropy = 0.96</text>\r\n",
       "<text text-anchor=\"middle\" x=\"2497.5\" y=\"-37.8\" font-family=\"Helvetica,sans-Serif\" font-size=\"14.00\">samples = 24</text>\r\n",
       "<text text-anchor=\"middle\" x=\"2497.5\" y=\"-22.8\" font-family=\"Helvetica,sans-Serif\" font-size=\"14.00\">value = [29, 18]</text>\r\n",
       "<text text-anchor=\"middle\" x=\"2497.5\" y=\"-7.8\" font-family=\"Helvetica,sans-Serif\" font-size=\"14.00\">class = 0</text>\r\n",
       "</g>\r\n",
       "<!-- 41&#45;&gt;43 -->\r\n",
       "<g id=\"edge43\" class=\"edge\"><title>41&#45;&gt;43</title>\r\n",
       "<path fill=\"none\" stroke=\"black\" d=\"M2456.7,-103.726C2461.9,-94.9703 2467.4,-85.7032 2472.62,-76.9051\"/>\r\n",
       "<polygon fill=\"black\" stroke=\"black\" points=\"2475.64,-78.6853 2477.73,-68.2996 2469.62,-75.1121 2475.64,-78.6853\"/>\r\n",
       "</g>\r\n",
       "</g>\r\n",
       "</svg>\r\n"
      ],
      "text/plain": [
       "<graphviz.files.Source at 0x1de2ae73128>"
      ]
     },
     "metadata": {
      "tags": []
     },
     "output_type": "display_data"
    }
   ],
   "source": [
    "\n",
    "\"\"\"\n",
    "from sklearn.tree import export_graphviz\n",
    "from sklearn.externals.six import StringIO  \n",
    "from sklearn import tree\n",
    "from IPython.display import Image  \n",
    "import pydotplus\n",
    "from IPython.display import SVG,display\n",
    "from graphviz import Source\n",
    "\n",
    "clf_rf = RandomForestClassifier(criterion='entropy' , max_depth =5, max_features= 0.5, \n",
    "                                min_samples_leaf = 5, min_samples_split= 50, n_estimators=10)\n",
    "clf_rf.fit(X_train_smote, y_train_smote)\n",
    "estimated_tree = clf_rf.estimators_[9]\n",
    "graph = Source(tree.export_graphviz(estimated_tree,out_file=None,\n",
    "                                    rounded=True,proportion = False,\n",
    "                        feature_names = X.columns, \n",
    "                        precision  = 2,\n",
    "                        class_names=[\"0\",\"1\"],\n",
    "                        filled = True))\n",
    "#graph = pydotplus.graph_from_dot_data(dot_data.getvalue())  \n",
    "#graph.write_png('img/rf.png')\n",
    "#Image(graph.create_png())\n",
    "display(graph)\n",
    "\"\"\""
   ]
  },
  {
   "cell_type": "markdown",
   "metadata": {
    "colab_type": "text",
    "id": "J5YgLaOfUMyA"
   },
   "source": [
    "## model comparison after parameter optimization"
   ]
  },
  {
   "cell_type": "code",
   "execution_count": 0,
   "metadata": {
    "colab": {},
    "colab_type": "code",
    "id": "9dfUldUJUMyA",
    "outputId": "49c359a9-7ce5-4e6f-be20-66096c692898"
   },
   "outputs": [
    {
     "name": "stderr",
     "output_type": "stream",
     "text": [
      "C:\\Anaconda3\\envs\\learn-env\\lib\\site-packages\\sklearn\\ensemble\\forest.py:460: UserWarning:\n",
      "\n",
      "Some inputs do not have OOB scores. This probably means too few trees were used to compute any reliable oob estimates.\n",
      "\n",
      "C:\\Anaconda3\\envs\\learn-env\\lib\\site-packages\\sklearn\\ensemble\\forest.py:465: RuntimeWarning:\n",
      "\n",
      "invalid value encountered in true_divide\n",
      "\n"
     ]
    },
    {
     "data": {
      "text/html": [
       "<div>\n",
       "<style scoped>\n",
       "    .dataframe tbody tr th:only-of-type {\n",
       "        vertical-align: middle;\n",
       "    }\n",
       "\n",
       "    .dataframe tbody tr th {\n",
       "        vertical-align: top;\n",
       "    }\n",
       "\n",
       "    .dataframe thead th {\n",
       "        text-align: right;\n",
       "    }\n",
       "</style>\n",
       "<table border=\"1\" class=\"dataframe\">\n",
       "  <thead>\n",
       "    <tr style=\"text-align: right;\">\n",
       "      <th></th>\n",
       "      <th>Model</th>\n",
       "      <th>Accuracy_score</th>\n",
       "      <th>Recall_score</th>\n",
       "      <th>Precision</th>\n",
       "      <th>f1_score</th>\n",
       "      <th>Area_under_curve</th>\n",
       "    </tr>\n",
       "  </thead>\n",
       "  <tbody>\n",
       "    <tr>\n",
       "      <td>0</td>\n",
       "      <td>Logistic Regression</td>\n",
       "      <td>0.755973</td>\n",
       "      <td>0.795117</td>\n",
       "      <td>0.529703</td>\n",
       "      <td>0.635823</td>\n",
       "      <td>0.768382</td>\n",
       "    </tr>\n",
       "    <tr>\n",
       "      <td>1</td>\n",
       "      <td>Random Forest Classifier</td>\n",
       "      <td>0.758248</td>\n",
       "      <td>0.747346</td>\n",
       "      <td>0.534954</td>\n",
       "      <td>0.623561</td>\n",
       "      <td>0.754792</td>\n",
       "    </tr>\n",
       "    <tr>\n",
       "      <td>2</td>\n",
       "      <td>SVM Classifier Linear</td>\n",
       "      <td>0.752275</td>\n",
       "      <td>0.776008</td>\n",
       "      <td>0.525521</td>\n",
       "      <td>0.626661</td>\n",
       "      <td>0.759799</td>\n",
       "    </tr>\n",
       "    <tr>\n",
       "      <td>3</td>\n",
       "      <td>XGBoost Classifier</td>\n",
       "      <td>0.719283</td>\n",
       "      <td>0.836518</td>\n",
       "      <td>0.486120</td>\n",
       "      <td>0.614904</td>\n",
       "      <td>0.756449</td>\n",
       "    </tr>\n",
       "  </tbody>\n",
       "</table>\n",
       "</div>"
      ],
      "text/plain": [
       "                      Model  Accuracy_score  Recall_score  Precision  \\\n",
       "0       Logistic Regression        0.755973      0.795117   0.529703   \n",
       "1  Random Forest Classifier        0.758248      0.747346   0.534954   \n",
       "2     SVM Classifier Linear        0.752275      0.776008   0.525521   \n",
       "3        XGBoost Classifier        0.719283      0.836518   0.486120   \n",
       "\n",
       "   f1_score  Area_under_curve  \n",
       "0  0.635823          0.768382  \n",
       "1  0.623561          0.754792  \n",
       "2  0.626661          0.759799  \n",
       "3  0.614904          0.756449  "
      ]
     },
     "metadata": {
      "tags": []
     },
     "output_type": "display_data"
    },
    {
     "data": {
      "application/vnd.plotly.v1+json": {
       "config": {
        "plotlyServerURL": "https://plot.ly"
       },
       "data": [
        {
         "marker": {
          "color": "#6699FF",
          "line": {
           "width": 0.7
          }
         },
         "name": "Accuracy_score",
         "orientation": "h",
         "type": "bar",
         "x": [
          0.7559726962457338,
          0.7582480091012515,
          0.7522753128555176,
          0.7192832764505119
         ],
         "y": [
          "Logistic Regression",
          "Random Forest Classifier",
          "SVM Classifier Linear",
          "XGBoost Classifier"
         ]
        },
        {
         "marker": {
          "color": "red",
          "line": {
           "width": 0.7
          }
         },
         "name": "Recall_score",
         "orientation": "h",
         "type": "bar",
         "x": [
          0.7951167728237792,
          0.7473460721868365,
          0.7760084925690022,
          0.8365180467091295
         ],
         "y": [
          "Logistic Regression",
          "Random Forest Classifier",
          "SVM Classifier Linear",
          "XGBoost Classifier"
         ]
        },
        {
         "marker": {
          "color": "#33CC99",
          "line": {
           "width": 0.7
          }
         },
         "name": "Precision",
         "orientation": "h",
         "type": "bar",
         "x": [
          0.5297029702970297,
          0.5349544072948328,
          0.5255212077641984,
          0.486119679210364
         ],
         "y": [
          "Logistic Regression",
          "Random Forest Classifier",
          "SVM Classifier Linear",
          "XGBoost Classifier"
         ]
        },
        {
         "marker": {
          "color": "lightgrey",
          "line": {
           "width": 0.7
          }
         },
         "name": "f1_score",
         "orientation": "h",
         "type": "bar",
         "x": [
          0.6358234295415959,
          0.6235606731620903,
          0.6266609515645092,
          0.6149044088958253
         ],
         "y": [
          "Logistic Regression",
          "Random Forest Classifier",
          "SVM Classifier Linear",
          "XGBoost Classifier"
         ]
        }
       ],
       "layout": {
        "height": 780,
        "margin": {
         "l": 250
        },
        "paper_bgcolor": "rgb(243,243,243)",
        "plot_bgcolor": "rgb(243,243,243)",
        "template": {
         "data": {
          "bar": [
           {
            "error_x": {
             "color": "#2a3f5f"
            },
            "error_y": {
             "color": "#2a3f5f"
            },
            "marker": {
             "line": {
              "color": "#E5ECF6",
              "width": 0.5
             }
            },
            "type": "bar"
           }
          ],
          "barpolar": [
           {
            "marker": {
             "line": {
              "color": "#E5ECF6",
              "width": 0.5
             }
            },
            "type": "barpolar"
           }
          ],
          "carpet": [
           {
            "aaxis": {
             "endlinecolor": "#2a3f5f",
             "gridcolor": "white",
             "linecolor": "white",
             "minorgridcolor": "white",
             "startlinecolor": "#2a3f5f"
            },
            "baxis": {
             "endlinecolor": "#2a3f5f",
             "gridcolor": "white",
             "linecolor": "white",
             "minorgridcolor": "white",
             "startlinecolor": "#2a3f5f"
            },
            "type": "carpet"
           }
          ],
          "choropleth": [
           {
            "colorbar": {
             "outlinewidth": 0,
             "ticks": ""
            },
            "type": "choropleth"
           }
          ],
          "contour": [
           {
            "colorbar": {
             "outlinewidth": 0,
             "ticks": ""
            },
            "colorscale": [
             [
              0,
              "#0d0887"
             ],
             [
              0.1111111111111111,
              "#46039f"
             ],
             [
              0.2222222222222222,
              "#7201a8"
             ],
             [
              0.3333333333333333,
              "#9c179e"
             ],
             [
              0.4444444444444444,
              "#bd3786"
             ],
             [
              0.5555555555555556,
              "#d8576b"
             ],
             [
              0.6666666666666666,
              "#ed7953"
             ],
             [
              0.7777777777777778,
              "#fb9f3a"
             ],
             [
              0.8888888888888888,
              "#fdca26"
             ],
             [
              1,
              "#f0f921"
             ]
            ],
            "type": "contour"
           }
          ],
          "contourcarpet": [
           {
            "colorbar": {
             "outlinewidth": 0,
             "ticks": ""
            },
            "type": "contourcarpet"
           }
          ],
          "heatmap": [
           {
            "colorbar": {
             "outlinewidth": 0,
             "ticks": ""
            },
            "colorscale": [
             [
              0,
              "#0d0887"
             ],
             [
              0.1111111111111111,
              "#46039f"
             ],
             [
              0.2222222222222222,
              "#7201a8"
             ],
             [
              0.3333333333333333,
              "#9c179e"
             ],
             [
              0.4444444444444444,
              "#bd3786"
             ],
             [
              0.5555555555555556,
              "#d8576b"
             ],
             [
              0.6666666666666666,
              "#ed7953"
             ],
             [
              0.7777777777777778,
              "#fb9f3a"
             ],
             [
              0.8888888888888888,
              "#fdca26"
             ],
             [
              1,
              "#f0f921"
             ]
            ],
            "type": "heatmap"
           }
          ],
          "heatmapgl": [
           {
            "colorbar": {
             "outlinewidth": 0,
             "ticks": ""
            },
            "colorscale": [
             [
              0,
              "#0d0887"
             ],
             [
              0.1111111111111111,
              "#46039f"
             ],
             [
              0.2222222222222222,
              "#7201a8"
             ],
             [
              0.3333333333333333,
              "#9c179e"
             ],
             [
              0.4444444444444444,
              "#bd3786"
             ],
             [
              0.5555555555555556,
              "#d8576b"
             ],
             [
              0.6666666666666666,
              "#ed7953"
             ],
             [
              0.7777777777777778,
              "#fb9f3a"
             ],
             [
              0.8888888888888888,
              "#fdca26"
             ],
             [
              1,
              "#f0f921"
             ]
            ],
            "type": "heatmapgl"
           }
          ],
          "histogram": [
           {
            "marker": {
             "colorbar": {
              "outlinewidth": 0,
              "ticks": ""
             }
            },
            "type": "histogram"
           }
          ],
          "histogram2d": [
           {
            "colorbar": {
             "outlinewidth": 0,
             "ticks": ""
            },
            "colorscale": [
             [
              0,
              "#0d0887"
             ],
             [
              0.1111111111111111,
              "#46039f"
             ],
             [
              0.2222222222222222,
              "#7201a8"
             ],
             [
              0.3333333333333333,
              "#9c179e"
             ],
             [
              0.4444444444444444,
              "#bd3786"
             ],
             [
              0.5555555555555556,
              "#d8576b"
             ],
             [
              0.6666666666666666,
              "#ed7953"
             ],
             [
              0.7777777777777778,
              "#fb9f3a"
             ],
             [
              0.8888888888888888,
              "#fdca26"
             ],
             [
              1,
              "#f0f921"
             ]
            ],
            "type": "histogram2d"
           }
          ],
          "histogram2dcontour": [
           {
            "colorbar": {
             "outlinewidth": 0,
             "ticks": ""
            },
            "colorscale": [
             [
              0,
              "#0d0887"
             ],
             [
              0.1111111111111111,
              "#46039f"
             ],
             [
              0.2222222222222222,
              "#7201a8"
             ],
             [
              0.3333333333333333,
              "#9c179e"
             ],
             [
              0.4444444444444444,
              "#bd3786"
             ],
             [
              0.5555555555555556,
              "#d8576b"
             ],
             [
              0.6666666666666666,
              "#ed7953"
             ],
             [
              0.7777777777777778,
              "#fb9f3a"
             ],
             [
              0.8888888888888888,
              "#fdca26"
             ],
             [
              1,
              "#f0f921"
             ]
            ],
            "type": "histogram2dcontour"
           }
          ],
          "mesh3d": [
           {
            "colorbar": {
             "outlinewidth": 0,
             "ticks": ""
            },
            "type": "mesh3d"
           }
          ],
          "parcoords": [
           {
            "line": {
             "colorbar": {
              "outlinewidth": 0,
              "ticks": ""
             }
            },
            "type": "parcoords"
           }
          ],
          "scatter": [
           {
            "marker": {
             "colorbar": {
              "outlinewidth": 0,
              "ticks": ""
             }
            },
            "type": "scatter"
           }
          ],
          "scatter3d": [
           {
            "line": {
             "colorbar": {
              "outlinewidth": 0,
              "ticks": ""
             }
            },
            "marker": {
             "colorbar": {
              "outlinewidth": 0,
              "ticks": ""
             }
            },
            "type": "scatter3d"
           }
          ],
          "scattercarpet": [
           {
            "marker": {
             "colorbar": {
              "outlinewidth": 0,
              "ticks": ""
             }
            },
            "type": "scattercarpet"
           }
          ],
          "scattergeo": [
           {
            "marker": {
             "colorbar": {
              "outlinewidth": 0,
              "ticks": ""
             }
            },
            "type": "scattergeo"
           }
          ],
          "scattergl": [
           {
            "marker": {
             "colorbar": {
              "outlinewidth": 0,
              "ticks": ""
             }
            },
            "type": "scattergl"
           }
          ],
          "scattermapbox": [
           {
            "marker": {
             "colorbar": {
              "outlinewidth": 0,
              "ticks": ""
             }
            },
            "type": "scattermapbox"
           }
          ],
          "scatterpolar": [
           {
            "marker": {
             "colorbar": {
              "outlinewidth": 0,
              "ticks": ""
             }
            },
            "type": "scatterpolar"
           }
          ],
          "scatterpolargl": [
           {
            "marker": {
             "colorbar": {
              "outlinewidth": 0,
              "ticks": ""
             }
            },
            "type": "scatterpolargl"
           }
          ],
          "scatterternary": [
           {
            "marker": {
             "colorbar": {
              "outlinewidth": 0,
              "ticks": ""
             }
            },
            "type": "scatterternary"
           }
          ],
          "surface": [
           {
            "colorbar": {
             "outlinewidth": 0,
             "ticks": ""
            },
            "colorscale": [
             [
              0,
              "#0d0887"
             ],
             [
              0.1111111111111111,
              "#46039f"
             ],
             [
              0.2222222222222222,
              "#7201a8"
             ],
             [
              0.3333333333333333,
              "#9c179e"
             ],
             [
              0.4444444444444444,
              "#bd3786"
             ],
             [
              0.5555555555555556,
              "#d8576b"
             ],
             [
              0.6666666666666666,
              "#ed7953"
             ],
             [
              0.7777777777777778,
              "#fb9f3a"
             ],
             [
              0.8888888888888888,
              "#fdca26"
             ],
             [
              1,
              "#f0f921"
             ]
            ],
            "type": "surface"
           }
          ],
          "table": [
           {
            "cells": {
             "fill": {
              "color": "#EBF0F8"
             },
             "line": {
              "color": "white"
             }
            },
            "header": {
             "fill": {
              "color": "#C8D4E3"
             },
             "line": {
              "color": "white"
             }
            },
            "type": "table"
           }
          ]
         },
         "layout": {
          "annotationdefaults": {
           "arrowcolor": "#2a3f5f",
           "arrowhead": 0,
           "arrowwidth": 1
          },
          "colorscale": {
           "diverging": [
            [
             0,
             "#8e0152"
            ],
            [
             0.1,
             "#c51b7d"
            ],
            [
             0.2,
             "#de77ae"
            ],
            [
             0.3,
             "#f1b6da"
            ],
            [
             0.4,
             "#fde0ef"
            ],
            [
             0.5,
             "#f7f7f7"
            ],
            [
             0.6,
             "#e6f5d0"
            ],
            [
             0.7,
             "#b8e186"
            ],
            [
             0.8,
             "#7fbc41"
            ],
            [
             0.9,
             "#4d9221"
            ],
            [
             1,
             "#276419"
            ]
           ],
           "sequential": [
            [
             0,
             "#0d0887"
            ],
            [
             0.1111111111111111,
             "#46039f"
            ],
            [
             0.2222222222222222,
             "#7201a8"
            ],
            [
             0.3333333333333333,
             "#9c179e"
            ],
            [
             0.4444444444444444,
             "#bd3786"
            ],
            [
             0.5555555555555556,
             "#d8576b"
            ],
            [
             0.6666666666666666,
             "#ed7953"
            ],
            [
             0.7777777777777778,
             "#fb9f3a"
            ],
            [
             0.8888888888888888,
             "#fdca26"
            ],
            [
             1,
             "#f0f921"
            ]
           ],
           "sequentialminus": [
            [
             0,
             "#0d0887"
            ],
            [
             0.1111111111111111,
             "#46039f"
            ],
            [
             0.2222222222222222,
             "#7201a8"
            ],
            [
             0.3333333333333333,
             "#9c179e"
            ],
            [
             0.4444444444444444,
             "#bd3786"
            ],
            [
             0.5555555555555556,
             "#d8576b"
            ],
            [
             0.6666666666666666,
             "#ed7953"
            ],
            [
             0.7777777777777778,
             "#fb9f3a"
            ],
            [
             0.8888888888888888,
             "#fdca26"
            ],
            [
             1,
             "#f0f921"
            ]
           ]
          },
          "colorway": [
           "#636efa",
           "#EF553B",
           "#00cc96",
           "#ab63fa",
           "#FFA15A",
           "#19d3f3",
           "#FF6692",
           "#B6E880",
           "#FF97FF",
           "#FECB52"
          ],
          "font": {
           "color": "#2a3f5f"
          },
          "geo": {
           "bgcolor": "white",
           "lakecolor": "white",
           "landcolor": "#E5ECF6",
           "showlakes": true,
           "showland": true,
           "subunitcolor": "white"
          },
          "hoverlabel": {
           "align": "left"
          },
          "hovermode": "closest",
          "mapbox": {
           "style": "light"
          },
          "paper_bgcolor": "white",
          "plot_bgcolor": "#E5ECF6",
          "polar": {
           "angularaxis": {
            "gridcolor": "white",
            "linecolor": "white",
            "ticks": ""
           },
           "bgcolor": "#E5ECF6",
           "radialaxis": {
            "gridcolor": "white",
            "linecolor": "white",
            "ticks": ""
           }
          },
          "scene": {
           "xaxis": {
            "backgroundcolor": "#E5ECF6",
            "gridcolor": "white",
            "gridwidth": 2,
            "linecolor": "white",
            "showbackground": true,
            "ticks": "",
            "zerolinecolor": "white"
           },
           "yaxis": {
            "backgroundcolor": "#E5ECF6",
            "gridcolor": "white",
            "gridwidth": 2,
            "linecolor": "white",
            "showbackground": true,
            "ticks": "",
            "zerolinecolor": "white"
           },
           "zaxis": {
            "backgroundcolor": "#E5ECF6",
            "gridcolor": "white",
            "gridwidth": 2,
            "linecolor": "white",
            "showbackground": true,
            "ticks": "",
            "zerolinecolor": "white"
           }
          },
          "shapedefaults": {
           "line": {
            "color": "#2a3f5f"
           }
          },
          "ternary": {
           "aaxis": {
            "gridcolor": "white",
            "linecolor": "white",
            "ticks": ""
           },
           "baxis": {
            "gridcolor": "white",
            "linecolor": "white",
            "ticks": ""
           },
           "bgcolor": "#E5ECF6",
           "caxis": {
            "gridcolor": "white",
            "linecolor": "white",
            "ticks": ""
           }
          },
          "title": {
           "x": 0.05
          },
          "xaxis": {
           "automargin": true,
           "gridcolor": "white",
           "linecolor": "white",
           "ticks": "",
           "zerolinecolor": "white",
           "zerolinewidth": 2
          },
          "yaxis": {
           "automargin": true,
           "gridcolor": "white",
           "linecolor": "white",
           "ticks": "",
           "zerolinecolor": "white",
           "zerolinewidth": 2
          }
         }
        },
        "title": {
         "text": "Model performances"
        },
        "xaxis": {
         "gridcolor": "rgb(255, 255, 255)",
         "gridwidth": 2,
         "ticklen": 5,
         "title": {
          "text": "metric"
         },
         "zerolinewidth": 1
        },
        "yaxis": {
         "gridcolor": "rgb(255, 255, 255)",
         "gridwidth": 2,
         "ticklen": 5,
         "zerolinewidth": 1
        }
       }
      },
      "text/html": [
       "<div>\n",
       "        \n",
       "        \n",
       "            <div id=\"13bf6edb-a65f-423b-89aa-a7aab393ca81\" class=\"plotly-graph-div\" style=\"height:780px; width:100%;\"></div>\n",
       "            <script type=\"text/javascript\">\n",
       "                require([\"plotly\"], function(Plotly) {\n",
       "                    window.PLOTLYENV=window.PLOTLYENV || {};\n",
       "                    \n",
       "                if (document.getElementById(\"13bf6edb-a65f-423b-89aa-a7aab393ca81\")) {\n",
       "                    Plotly.newPlot(\n",
       "                        '13bf6edb-a65f-423b-89aa-a7aab393ca81',\n",
       "                        [{\"marker\": {\"color\": \"#6699FF\", \"line\": {\"width\": 0.7}}, \"name\": \"Accuracy_score\", \"orientation\": \"h\", \"type\": \"bar\", \"x\": [0.7559726962457338, 0.7582480091012515, 0.7522753128555176, 0.7192832764505119], \"y\": [\"Logistic Regression\", \"Random Forest Classifier\", \"SVM Classifier Linear\", \"XGBoost Classifier\"]}, {\"marker\": {\"color\": \"red\", \"line\": {\"width\": 0.7}}, \"name\": \"Recall_score\", \"orientation\": \"h\", \"type\": \"bar\", \"x\": [0.7951167728237792, 0.7473460721868365, 0.7760084925690022, 0.8365180467091295], \"y\": [\"Logistic Regression\", \"Random Forest Classifier\", \"SVM Classifier Linear\", \"XGBoost Classifier\"]}, {\"marker\": {\"color\": \"#33CC99\", \"line\": {\"width\": 0.7}}, \"name\": \"Precision\", \"orientation\": \"h\", \"type\": \"bar\", \"x\": [0.5297029702970297, 0.5349544072948328, 0.5255212077641984, 0.486119679210364], \"y\": [\"Logistic Regression\", \"Random Forest Classifier\", \"SVM Classifier Linear\", \"XGBoost Classifier\"]}, {\"marker\": {\"color\": \"lightgrey\", \"line\": {\"width\": 0.7}}, \"name\": \"f1_score\", \"orientation\": \"h\", \"type\": \"bar\", \"x\": [0.6358234295415959, 0.6235606731620903, 0.6266609515645092, 0.6149044088958253], \"y\": [\"Logistic Regression\", \"Random Forest Classifier\", \"SVM Classifier Linear\", \"XGBoost Classifier\"]}],\n",
       "                        {\"height\": 780, \"margin\": {\"l\": 250}, \"paper_bgcolor\": \"rgb(243,243,243)\", \"plot_bgcolor\": \"rgb(243,243,243)\", \"template\": {\"data\": {\"bar\": [{\"error_x\": {\"color\": \"#2a3f5f\"}, \"error_y\": {\"color\": \"#2a3f5f\"}, \"marker\": {\"line\": {\"color\": \"#E5ECF6\", \"width\": 0.5}}, \"type\": \"bar\"}], \"barpolar\": [{\"marker\": {\"line\": {\"color\": \"#E5ECF6\", \"width\": 0.5}}, \"type\": \"barpolar\"}], \"carpet\": [{\"aaxis\": {\"endlinecolor\": \"#2a3f5f\", \"gridcolor\": \"white\", \"linecolor\": \"white\", \"minorgridcolor\": \"white\", \"startlinecolor\": \"#2a3f5f\"}, \"baxis\": {\"endlinecolor\": \"#2a3f5f\", \"gridcolor\": \"white\", \"linecolor\": \"white\", \"minorgridcolor\": \"white\", \"startlinecolor\": \"#2a3f5f\"}, \"type\": \"carpet\"}], \"choropleth\": [{\"colorbar\": {\"outlinewidth\": 0, \"ticks\": \"\"}, \"type\": \"choropleth\"}], \"contour\": [{\"colorbar\": {\"outlinewidth\": 0, \"ticks\": \"\"}, \"colorscale\": [[0.0, \"#0d0887\"], [0.1111111111111111, \"#46039f\"], [0.2222222222222222, \"#7201a8\"], [0.3333333333333333, \"#9c179e\"], [0.4444444444444444, \"#bd3786\"], [0.5555555555555556, \"#d8576b\"], [0.6666666666666666, \"#ed7953\"], [0.7777777777777778, \"#fb9f3a\"], [0.8888888888888888, \"#fdca26\"], [1.0, \"#f0f921\"]], \"type\": \"contour\"}], \"contourcarpet\": [{\"colorbar\": {\"outlinewidth\": 0, \"ticks\": \"\"}, \"type\": \"contourcarpet\"}], \"heatmap\": [{\"colorbar\": {\"outlinewidth\": 0, \"ticks\": \"\"}, \"colorscale\": [[0.0, \"#0d0887\"], [0.1111111111111111, \"#46039f\"], [0.2222222222222222, \"#7201a8\"], [0.3333333333333333, \"#9c179e\"], [0.4444444444444444, \"#bd3786\"], [0.5555555555555556, \"#d8576b\"], [0.6666666666666666, \"#ed7953\"], [0.7777777777777778, \"#fb9f3a\"], [0.8888888888888888, \"#fdca26\"], [1.0, \"#f0f921\"]], \"type\": \"heatmap\"}], \"heatmapgl\": [{\"colorbar\": {\"outlinewidth\": 0, \"ticks\": \"\"}, \"colorscale\": [[0.0, \"#0d0887\"], [0.1111111111111111, \"#46039f\"], [0.2222222222222222, \"#7201a8\"], [0.3333333333333333, \"#9c179e\"], [0.4444444444444444, \"#bd3786\"], [0.5555555555555556, \"#d8576b\"], [0.6666666666666666, \"#ed7953\"], [0.7777777777777778, \"#fb9f3a\"], [0.8888888888888888, \"#fdca26\"], [1.0, \"#f0f921\"]], \"type\": \"heatmapgl\"}], \"histogram\": [{\"marker\": {\"colorbar\": {\"outlinewidth\": 0, \"ticks\": \"\"}}, \"type\": \"histogram\"}], \"histogram2d\": [{\"colorbar\": {\"outlinewidth\": 0, \"ticks\": \"\"}, \"colorscale\": [[0.0, \"#0d0887\"], [0.1111111111111111, \"#46039f\"], [0.2222222222222222, \"#7201a8\"], [0.3333333333333333, \"#9c179e\"], [0.4444444444444444, \"#bd3786\"], [0.5555555555555556, \"#d8576b\"], [0.6666666666666666, \"#ed7953\"], [0.7777777777777778, \"#fb9f3a\"], [0.8888888888888888, \"#fdca26\"], [1.0, \"#f0f921\"]], \"type\": \"histogram2d\"}], \"histogram2dcontour\": [{\"colorbar\": {\"outlinewidth\": 0, \"ticks\": \"\"}, \"colorscale\": [[0.0, \"#0d0887\"], [0.1111111111111111, \"#46039f\"], [0.2222222222222222, \"#7201a8\"], [0.3333333333333333, \"#9c179e\"], [0.4444444444444444, \"#bd3786\"], [0.5555555555555556, \"#d8576b\"], [0.6666666666666666, \"#ed7953\"], [0.7777777777777778, \"#fb9f3a\"], [0.8888888888888888, \"#fdca26\"], [1.0, \"#f0f921\"]], \"type\": \"histogram2dcontour\"}], \"mesh3d\": [{\"colorbar\": {\"outlinewidth\": 0, \"ticks\": \"\"}, \"type\": \"mesh3d\"}], \"parcoords\": [{\"line\": {\"colorbar\": {\"outlinewidth\": 0, \"ticks\": \"\"}}, \"type\": \"parcoords\"}], \"scatter\": [{\"marker\": {\"colorbar\": {\"outlinewidth\": 0, \"ticks\": \"\"}}, \"type\": \"scatter\"}], \"scatter3d\": [{\"line\": {\"colorbar\": {\"outlinewidth\": 0, \"ticks\": \"\"}}, \"marker\": {\"colorbar\": {\"outlinewidth\": 0, \"ticks\": \"\"}}, \"type\": \"scatter3d\"}], \"scattercarpet\": [{\"marker\": {\"colorbar\": {\"outlinewidth\": 0, \"ticks\": \"\"}}, \"type\": \"scattercarpet\"}], \"scattergeo\": [{\"marker\": {\"colorbar\": {\"outlinewidth\": 0, \"ticks\": \"\"}}, \"type\": \"scattergeo\"}], \"scattergl\": [{\"marker\": {\"colorbar\": {\"outlinewidth\": 0, \"ticks\": \"\"}}, \"type\": \"scattergl\"}], \"scattermapbox\": [{\"marker\": {\"colorbar\": {\"outlinewidth\": 0, \"ticks\": \"\"}}, \"type\": \"scattermapbox\"}], \"scatterpolar\": [{\"marker\": {\"colorbar\": {\"outlinewidth\": 0, \"ticks\": \"\"}}, \"type\": \"scatterpolar\"}], \"scatterpolargl\": [{\"marker\": {\"colorbar\": {\"outlinewidth\": 0, \"ticks\": \"\"}}, \"type\": \"scatterpolargl\"}], \"scatterternary\": [{\"marker\": {\"colorbar\": {\"outlinewidth\": 0, \"ticks\": \"\"}}, \"type\": \"scatterternary\"}], \"surface\": [{\"colorbar\": {\"outlinewidth\": 0, \"ticks\": \"\"}, \"colorscale\": [[0.0, \"#0d0887\"], [0.1111111111111111, \"#46039f\"], [0.2222222222222222, \"#7201a8\"], [0.3333333333333333, \"#9c179e\"], [0.4444444444444444, \"#bd3786\"], [0.5555555555555556, \"#d8576b\"], [0.6666666666666666, \"#ed7953\"], [0.7777777777777778, \"#fb9f3a\"], [0.8888888888888888, \"#fdca26\"], [1.0, \"#f0f921\"]], \"type\": \"surface\"}], \"table\": [{\"cells\": {\"fill\": {\"color\": \"#EBF0F8\"}, \"line\": {\"color\": \"white\"}}, \"header\": {\"fill\": {\"color\": \"#C8D4E3\"}, \"line\": {\"color\": \"white\"}}, \"type\": \"table\"}]}, \"layout\": {\"annotationdefaults\": {\"arrowcolor\": \"#2a3f5f\", \"arrowhead\": 0, \"arrowwidth\": 1}, \"colorscale\": {\"diverging\": [[0, \"#8e0152\"], [0.1, \"#c51b7d\"], [0.2, \"#de77ae\"], [0.3, \"#f1b6da\"], [0.4, \"#fde0ef\"], [0.5, \"#f7f7f7\"], [0.6, \"#e6f5d0\"], [0.7, \"#b8e186\"], [0.8, \"#7fbc41\"], [0.9, \"#4d9221\"], [1, \"#276419\"]], \"sequential\": [[0.0, \"#0d0887\"], [0.1111111111111111, \"#46039f\"], [0.2222222222222222, \"#7201a8\"], [0.3333333333333333, \"#9c179e\"], [0.4444444444444444, \"#bd3786\"], [0.5555555555555556, \"#d8576b\"], [0.6666666666666666, \"#ed7953\"], [0.7777777777777778, \"#fb9f3a\"], [0.8888888888888888, \"#fdca26\"], [1.0, \"#f0f921\"]], \"sequentialminus\": [[0.0, \"#0d0887\"], [0.1111111111111111, \"#46039f\"], [0.2222222222222222, \"#7201a8\"], [0.3333333333333333, \"#9c179e\"], [0.4444444444444444, \"#bd3786\"], [0.5555555555555556, \"#d8576b\"], [0.6666666666666666, \"#ed7953\"], [0.7777777777777778, \"#fb9f3a\"], [0.8888888888888888, \"#fdca26\"], [1.0, \"#f0f921\"]]}, \"colorway\": [\"#636efa\", \"#EF553B\", \"#00cc96\", \"#ab63fa\", \"#FFA15A\", \"#19d3f3\", \"#FF6692\", \"#B6E880\", \"#FF97FF\", \"#FECB52\"], \"font\": {\"color\": \"#2a3f5f\"}, \"geo\": {\"bgcolor\": \"white\", \"lakecolor\": \"white\", \"landcolor\": \"#E5ECF6\", \"showlakes\": true, \"showland\": true, \"subunitcolor\": \"white\"}, \"hoverlabel\": {\"align\": \"left\"}, \"hovermode\": \"closest\", \"mapbox\": {\"style\": \"light\"}, \"paper_bgcolor\": \"white\", \"plot_bgcolor\": \"#E5ECF6\", \"polar\": {\"angularaxis\": {\"gridcolor\": \"white\", \"linecolor\": \"white\", \"ticks\": \"\"}, \"bgcolor\": \"#E5ECF6\", \"radialaxis\": {\"gridcolor\": \"white\", \"linecolor\": \"white\", \"ticks\": \"\"}}, \"scene\": {\"xaxis\": {\"backgroundcolor\": \"#E5ECF6\", \"gridcolor\": \"white\", \"gridwidth\": 2, \"linecolor\": \"white\", \"showbackground\": true, \"ticks\": \"\", \"zerolinecolor\": \"white\"}, \"yaxis\": {\"backgroundcolor\": \"#E5ECF6\", \"gridcolor\": \"white\", \"gridwidth\": 2, \"linecolor\": \"white\", \"showbackground\": true, \"ticks\": \"\", \"zerolinecolor\": \"white\"}, \"zaxis\": {\"backgroundcolor\": \"#E5ECF6\", \"gridcolor\": \"white\", \"gridwidth\": 2, \"linecolor\": \"white\", \"showbackground\": true, \"ticks\": \"\", \"zerolinecolor\": \"white\"}}, \"shapedefaults\": {\"line\": {\"color\": \"#2a3f5f\"}}, \"ternary\": {\"aaxis\": {\"gridcolor\": \"white\", \"linecolor\": \"white\", \"ticks\": \"\"}, \"baxis\": {\"gridcolor\": \"white\", \"linecolor\": \"white\", \"ticks\": \"\"}, \"bgcolor\": \"#E5ECF6\", \"caxis\": {\"gridcolor\": \"white\", \"linecolor\": \"white\", \"ticks\": \"\"}}, \"title\": {\"x\": 0.05}, \"xaxis\": {\"automargin\": true, \"gridcolor\": \"white\", \"linecolor\": \"white\", \"ticks\": \"\", \"zerolinecolor\": \"white\", \"zerolinewidth\": 2}, \"yaxis\": {\"automargin\": true, \"gridcolor\": \"white\", \"linecolor\": \"white\", \"ticks\": \"\", \"zerolinecolor\": \"white\", \"zerolinewidth\": 2}}}, \"title\": {\"text\": \"Model performances\"}, \"xaxis\": {\"gridcolor\": \"rgb(255, 255, 255)\", \"gridwidth\": 2, \"ticklen\": 5, \"title\": {\"text\": \"metric\"}, \"zerolinewidth\": 1}, \"yaxis\": {\"gridcolor\": \"rgb(255, 255, 255)\", \"gridwidth\": 2, \"ticklen\": 5, \"zerolinewidth\": 1}},\n",
       "                        {\"responsive\": true}\n",
       "                    ).then(function(){\n",
       "                            \n",
       "var gd = document.getElementById('13bf6edb-a65f-423b-89aa-a7aab393ca81');\n",
       "var x = new MutationObserver(function (mutations, observer) {{\n",
       "        var display = window.getComputedStyle(gd).display;\n",
       "        if (!display || display === 'none') {{\n",
       "            console.log([gd, 'removed!']);\n",
       "            Plotly.purge(gd);\n",
       "            observer.disconnect();\n",
       "        }}\n",
       "}});\n",
       "\n",
       "// Listen for the removal of the full notebook cells\n",
       "var notebookContainer = gd.closest('#notebook-container');\n",
       "if (notebookContainer) {{\n",
       "    x.observe(notebookContainer, {childList: true});\n",
       "}}\n",
       "\n",
       "// Listen for the clearing of the current output cell\n",
       "var outputEl = gd.closest('.output');\n",
       "if (outputEl) {{\n",
       "    x.observe(outputEl, {childList: true});\n",
       "}}\n",
       "\n",
       "                        })\n",
       "                };\n",
       "                });\n",
       "            </script>\n",
       "        </div>"
      ]
     },
     "metadata": {
      "tags": []
     },
     "output_type": "display_data"
    }
   ],
   "source": [
    "name = \"Logistic Regression\"\n",
    "#logit = LogisticRegression(C=10, fit_intercept= False, max_iter= 200, penalty= 'l2', \n",
    "#                              random_state= 11, solver= 'liblinear')\n",
    "logit = LogisticRegression(C=1, fit_intercept= True, max_iter= 200, penalty= 'l2', \n",
    "                              random_state= 11, solver= 'liblinear')\n",
    "model1 = model_report(logit,X_train_smote,X_test,y_train_smote,y_test,name)\n",
    "\n",
    "name = \"Random Forest Classifier\"\n",
    "#rfc = RandomForestClassifier(criterion='entropy' , max_depth =5, max_features= 0.5, \n",
    "#                                min_samples_leaf = 5, min_samples_split= 50, n_estimators=10)\n",
    "rfc = RandomForestClassifier(criterion='gini' , max_depth =5, max_features= 0.9, \n",
    "                                min_samples_leaf = 5, min_samples_split= 5, n_estimators=10, oob_score=True)\n",
    "model2 = model_report(rfc,X_train_smote,X_test,y_train_smote,y_test,name)\n",
    "\n",
    "name = \"SVM Classifier Linear\"\n",
    "svc  = SVC(kernel ='rbf', C=0.01, degree= 2,  tol = 0.0001, gamma = 'auto')\n",
    "model3 = model_report(svc,X_train_smote,X_test,y_train_smote,y_test,name)\n",
    "\n",
    "name = \"XGBoost Classifier\"\n",
    "#xgc = XGBClassifier(learning_rate=1, max_depth=3,min_child_weight=10,n_estimators=5,subsample= 0.3)\n",
    "xgc = XGBClassifier(eta=1, max_depth=3,min_child_weight=18,n_estimators=5,subsample= 0.3)\n",
    "model4 = model_report(xgc,X_train_smote,X_test,y_train_smote,y_test,name)\n",
    "\n",
    "#concat all models\n",
    "model_performances = pd.concat([model1,model2,model3,model4],axis = 0).reset_index()\n",
    "\n",
    "model_performances = model_performances.drop(columns = \"index\",axis =1)\n",
    "display(model_performances)\n",
    "\n",
    "plot_tracers(model_performances)"
   ]
  },
  {
   "cell_type": "markdown",
   "metadata": {
    "colab_type": "text",
    "id": "A7pdOG7OUMyC"
   },
   "source": [
    "## Feature engineering\n",
    "Can we change or remove columns to remove colliniarity and improve accuracy \n",
    "\n",
    "### MLE"
   ]
  },
  {
   "cell_type": "code",
   "execution_count": 0,
   "metadata": {
    "colab": {},
    "colab_type": "code",
    "id": "p3PE09p-UMyD",
    "outputId": "c0a5468d-29bf-4864-b986-3a0c7da7c709",
    "scrolled": true
   },
   "outputs": [
    {
     "name": "stdout",
     "output_type": "stream",
     "text": [
      "Optimization terminated successfully.\n",
      "         Current function value: 0.414269\n",
      "         Iterations 21\n"
     ]
    },
    {
     "name": "stderr",
     "output_type": "stream",
     "text": [
      "C:\\Anaconda3\\envs\\learn-env\\lib\\site-packages\\numpy\\core\\fromnumeric.py:2389: FutureWarning:\n",
      "\n",
      "Method .ptp is deprecated and will be removed in a future version. Use numpy.ptp instead.\n",
      "\n",
      "C:\\Anaconda3\\envs\\learn-env\\lib\\site-packages\\statsmodels\\base\\model.py:1286: RuntimeWarning:\n",
      "\n",
      "invalid value encountered in sqrt\n",
      "\n",
      "C:\\Anaconda3\\envs\\learn-env\\lib\\site-packages\\scipy\\stats\\_distn_infrastructure.py:901: RuntimeWarning:\n",
      "\n",
      "invalid value encountered in greater\n",
      "\n",
      "C:\\Anaconda3\\envs\\learn-env\\lib\\site-packages\\scipy\\stats\\_distn_infrastructure.py:901: RuntimeWarning:\n",
      "\n",
      "invalid value encountered in less\n",
      "\n",
      "C:\\Anaconda3\\envs\\learn-env\\lib\\site-packages\\scipy\\stats\\_distn_infrastructure.py:1892: RuntimeWarning:\n",
      "\n",
      "invalid value encountered in less_equal\n",
      "\n"
     ]
    },
    {
     "data": {
      "text/html": [
       "<table class=\"simpletable\">\n",
       "<caption>Logit Regression Results</caption>\n",
       "<tr>\n",
       "  <th>Dep. Variable:</th>         <td>Churn</td>      <th>  No. Observations:  </th>  <td>  7032</td> \n",
       "</tr>\n",
       "<tr>\n",
       "  <th>Model:</th>                 <td>Logit</td>      <th>  Df Residuals:      </th>  <td>  7008</td> \n",
       "</tr>\n",
       "<tr>\n",
       "  <th>Method:</th>                 <td>MLE</td>       <th>  Df Model:          </th>  <td>    23</td> \n",
       "</tr>\n",
       "<tr>\n",
       "  <th>Date:</th>            <td>Wed, 03 Jun 2020</td> <th>  Pseudo R-squ.:     </th>  <td>0.2845</td> \n",
       "</tr>\n",
       "<tr>\n",
       "  <th>Time:</th>                <td>13:54:47</td>     <th>  Log-Likelihood:    </th> <td> -2913.1</td>\n",
       "</tr>\n",
       "<tr>\n",
       "  <th>converged:</th>             <td>True</td>       <th>  LL-Null:           </th> <td> -4071.7</td>\n",
       "</tr>\n",
       "<tr>\n",
       "  <th>Covariance Type:</th>     <td>nonrobust</td>    <th>  LLR p-value:       </th>  <td> 0.000</td> \n",
       "</tr>\n",
       "</table>\n",
       "<table class=\"simpletable\">\n",
       "<tr>\n",
       "                 <td></td>                   <th>coef</th>     <th>std err</th>      <th>z</th>      <th>P>|z|</th>  <th>[0.025</th>    <th>0.975]</th>  \n",
       "</tr>\n",
       "<tr>\n",
       "  <th>const</th>                          <td>   -1.2818</td> <td>    0.232</td> <td>   -5.528</td> <td> 0.000</td> <td>   -1.736</td> <td>   -0.827</td>\n",
       "</tr>\n",
       "<tr>\n",
       "  <th>SeniorCitizen</th>                  <td>    0.2168</td> <td>    0.085</td> <td>    2.564</td> <td> 0.010</td> <td>    0.051</td> <td>    0.382</td>\n",
       "</tr>\n",
       "<tr>\n",
       "  <th>Partner</th>                        <td>   -0.0004</td> <td>    0.078</td> <td>   -0.005</td> <td> 0.996</td> <td>   -0.153</td> <td>    0.152</td>\n",
       "</tr>\n",
       "<tr>\n",
       "  <th>Dependents</th>                     <td>   -0.1485</td> <td>    0.090</td> <td>   -1.655</td> <td> 0.098</td> <td>   -0.324</td> <td>    0.027</td>\n",
       "</tr>\n",
       "<tr>\n",
       "  <th>tenure</th>                         <td>   -0.0606</td> <td>    0.006</td> <td>   -9.716</td> <td> 0.000</td> <td>   -0.073</td> <td>   -0.048</td>\n",
       "</tr>\n",
       "<tr>\n",
       "  <th>PhoneService</th>                   <td>    0.2638</td> <td> 3.08e+06</td> <td> 8.56e-08</td> <td> 1.000</td> <td>-6.04e+06</td> <td> 6.04e+06</td>\n",
       "</tr>\n",
       "<tr>\n",
       "  <th>PaperlessBilling</th>               <td>    0.3424</td> <td>    0.074</td> <td>    4.596</td> <td> 0.000</td> <td>    0.196</td> <td>    0.488</td>\n",
       "</tr>\n",
       "<tr>\n",
       "  <th>MonthlyCharges</th>                 <td>   -0.0403</td> <td>    0.032</td> <td>   -1.270</td> <td> 0.204</td> <td>   -0.103</td> <td>    0.022</td>\n",
       "</tr>\n",
       "<tr>\n",
       "  <th>TotalCharges</th>                   <td>    0.0003</td> <td> 7.06e-05</td> <td>    4.657</td> <td> 0.000</td> <td>    0.000</td> <td>    0.000</td>\n",
       "</tr>\n",
       "<tr>\n",
       "  <th>gender_Male</th>                    <td>   -0.0218</td> <td>    0.065</td> <td>   -0.337</td> <td> 0.736</td> <td>   -0.149</td> <td>    0.105</td>\n",
       "</tr>\n",
       "<tr>\n",
       "  <th>MultipleLines_No</th>               <td>   -0.0923</td> <td> 3.12e+06</td> <td>-2.96e-08</td> <td> 1.000</td> <td>-6.12e+06</td> <td> 6.12e+06</td>\n",
       "</tr>\n",
       "<tr>\n",
       "  <th>MultipleLines_Yes</th>              <td>    0.3561</td> <td> 3.06e+06</td> <td> 1.16e-07</td> <td> 1.000</td> <td>   -6e+06</td> <td>    6e+06</td>\n",
       "</tr>\n",
       "<tr>\n",
       "  <th>InternetService_DSL</th>            <td>   -0.0900</td> <td>  5.4e+06</td> <td>-1.67e-08</td> <td> 1.000</td> <td>-1.06e+07</td> <td> 1.06e+07</td>\n",
       "</tr>\n",
       "<tr>\n",
       "  <th>InternetService_Fiber_optic</th>    <td>    1.6575</td> <td> 5.44e+06</td> <td> 3.05e-07</td> <td> 1.000</td> <td>-1.07e+07</td> <td> 1.07e+07</td>\n",
       "</tr>\n",
       "<tr>\n",
       "  <th>OnlineSecurity_No</th>              <td>    0.3696</td> <td>  3.1e+06</td> <td> 1.19e-07</td> <td> 1.000</td> <td>-6.07e+06</td> <td> 6.07e+06</td>\n",
       "</tr>\n",
       "<tr>\n",
       "  <th>OnlineSecurity_Yes</th>             <td>    0.1642</td> <td>  3.2e+06</td> <td> 5.13e-08</td> <td> 1.000</td> <td>-6.27e+06</td> <td> 6.27e+06</td>\n",
       "</tr>\n",
       "<tr>\n",
       "  <th>OnlineBackup_No</th>                <td>    0.2525</td> <td> 2.08e+06</td> <td> 1.21e-07</td> <td> 1.000</td> <td>-4.08e+06</td> <td> 4.08e+06</td>\n",
       "</tr>\n",
       "<tr>\n",
       "  <th>OnlineBackup_Yes</th>               <td>    0.2786</td> <td> 1.94e+06</td> <td> 1.44e-07</td> <td> 1.000</td> <td> -3.8e+06</td> <td>  3.8e+06</td>\n",
       "</tr>\n",
       "<tr>\n",
       "  <th>DeviceProtection_No</th>            <td>    0.4726</td> <td> 2.56e+06</td> <td> 1.84e-07</td> <td> 1.000</td> <td>-5.02e+06</td> <td> 5.02e+06</td>\n",
       "</tr>\n",
       "<tr>\n",
       "  <th>DeviceProtection_Yes</th>           <td>    0.6200</td> <td> 2.85e+06</td> <td> 2.17e-07</td> <td> 1.000</td> <td>-5.59e+06</td> <td> 5.59e+06</td>\n",
       "</tr>\n",
       "<tr>\n",
       "  <th>TechSupport_No</th>                 <td>    0.4941</td> <td>      nan</td> <td>      nan</td> <td>   nan</td> <td>      nan</td> <td>      nan</td>\n",
       "</tr>\n",
       "<tr>\n",
       "  <th>TechSupport_Yes</th>                <td>    0.3136</td> <td>      nan</td> <td>      nan</td> <td>   nan</td> <td>      nan</td> <td>      nan</td>\n",
       "</tr>\n",
       "<tr>\n",
       "  <th>StreamingTV_No</th>                 <td>    0.1373</td> <td> 2.68e+06</td> <td> 5.12e-08</td> <td> 1.000</td> <td>-5.26e+06</td> <td> 5.26e+06</td>\n",
       "</tr>\n",
       "<tr>\n",
       "  <th>StreamingTV_Yes</th>                <td>    0.7278</td> <td> 2.68e+06</td> <td> 2.71e-07</td> <td> 1.000</td> <td>-5.26e+06</td> <td> 5.26e+06</td>\n",
       "</tr>\n",
       "<tr>\n",
       "  <th>StreamingMovies_No</th>             <td>    0.1502</td> <td> 2.44e+06</td> <td> 6.15e-08</td> <td> 1.000</td> <td>-4.79e+06</td> <td> 4.79e+06</td>\n",
       "</tr>\n",
       "<tr>\n",
       "  <th>StreamingMovies_Yes</th>            <td>    0.7495</td> <td> 2.44e+06</td> <td> 3.07e-07</td> <td> 1.000</td> <td>-4.79e+06</td> <td> 4.79e+06</td>\n",
       "</tr>\n",
       "<tr>\n",
       "  <th>Contract_Month_to_month</th>        <td>    0.6608</td> <td>    0.108</td> <td>    6.142</td> <td> 0.000</td> <td>    0.450</td> <td>    0.872</td>\n",
       "</tr>\n",
       "<tr>\n",
       "  <th>Contract_Two_year</th>              <td>   -0.6963</td> <td>    0.177</td> <td>   -3.944</td> <td> 0.000</td> <td>   -1.042</td> <td>   -0.350</td>\n",
       "</tr>\n",
       "<tr>\n",
       "  <th>PaymentMethod_Credit_card</th>      <td>   -0.0878</td> <td>    0.114</td> <td>   -0.770</td> <td> 0.442</td> <td>   -0.311</td> <td>    0.136</td>\n",
       "</tr>\n",
       "<tr>\n",
       "  <th>PaymentMethod_Electronic_check</th> <td>    0.3045</td> <td>    0.094</td> <td>    3.222</td> <td> 0.001</td> <td>    0.119</td> <td>    0.490</td>\n",
       "</tr>\n",
       "<tr>\n",
       "  <th>PaymentMethod_Mailed_check</th>     <td>   -0.0576</td> <td>    0.115</td> <td>   -0.501</td> <td> 0.616</td> <td>   -0.283</td> <td>    0.168</td>\n",
       "</tr>\n",
       "</table>"
      ],
      "text/plain": [
       "<class 'statsmodels.iolib.summary.Summary'>\n",
       "\"\"\"\n",
       "                           Logit Regression Results                           \n",
       "==============================================================================\n",
       "Dep. Variable:                  Churn   No. Observations:                 7032\n",
       "Model:                          Logit   Df Residuals:                     7008\n",
       "Method:                           MLE   Df Model:                           23\n",
       "Date:                Wed, 03 Jun 2020   Pseudo R-squ.:                  0.2845\n",
       "Time:                        13:54:47   Log-Likelihood:                -2913.1\n",
       "converged:                       True   LL-Null:                       -4071.7\n",
       "Covariance Type:            nonrobust   LLR p-value:                     0.000\n",
       "==================================================================================================\n",
       "                                     coef    std err          z      P>|z|      [0.025      0.975]\n",
       "--------------------------------------------------------------------------------------------------\n",
       "const                             -1.2818      0.232     -5.528      0.000      -1.736      -0.827\n",
       "SeniorCitizen                      0.2168      0.085      2.564      0.010       0.051       0.382\n",
       "Partner                           -0.0004      0.078     -0.005      0.996      -0.153       0.152\n",
       "Dependents                        -0.1485      0.090     -1.655      0.098      -0.324       0.027\n",
       "tenure                            -0.0606      0.006     -9.716      0.000      -0.073      -0.048\n",
       "PhoneService                       0.2638   3.08e+06   8.56e-08      1.000   -6.04e+06    6.04e+06\n",
       "PaperlessBilling                   0.3424      0.074      4.596      0.000       0.196       0.488\n",
       "MonthlyCharges                    -0.0403      0.032     -1.270      0.204      -0.103       0.022\n",
       "TotalCharges                       0.0003   7.06e-05      4.657      0.000       0.000       0.000\n",
       "gender_Male                       -0.0218      0.065     -0.337      0.736      -0.149       0.105\n",
       "MultipleLines_No                  -0.0923   3.12e+06  -2.96e-08      1.000   -6.12e+06    6.12e+06\n",
       "MultipleLines_Yes                  0.3561   3.06e+06   1.16e-07      1.000      -6e+06       6e+06\n",
       "InternetService_DSL               -0.0900    5.4e+06  -1.67e-08      1.000   -1.06e+07    1.06e+07\n",
       "InternetService_Fiber_optic        1.6575   5.44e+06   3.05e-07      1.000   -1.07e+07    1.07e+07\n",
       "OnlineSecurity_No                  0.3696    3.1e+06   1.19e-07      1.000   -6.07e+06    6.07e+06\n",
       "OnlineSecurity_Yes                 0.1642    3.2e+06   5.13e-08      1.000   -6.27e+06    6.27e+06\n",
       "OnlineBackup_No                    0.2525   2.08e+06   1.21e-07      1.000   -4.08e+06    4.08e+06\n",
       "OnlineBackup_Yes                   0.2786   1.94e+06   1.44e-07      1.000    -3.8e+06     3.8e+06\n",
       "DeviceProtection_No                0.4726   2.56e+06   1.84e-07      1.000   -5.02e+06    5.02e+06\n",
       "DeviceProtection_Yes               0.6200   2.85e+06   2.17e-07      1.000   -5.59e+06    5.59e+06\n",
       "TechSupport_No                     0.4941        nan        nan        nan         nan         nan\n",
       "TechSupport_Yes                    0.3136        nan        nan        nan         nan         nan\n",
       "StreamingTV_No                     0.1373   2.68e+06   5.12e-08      1.000   -5.26e+06    5.26e+06\n",
       "StreamingTV_Yes                    0.7278   2.68e+06   2.71e-07      1.000   -5.26e+06    5.26e+06\n",
       "StreamingMovies_No                 0.1502   2.44e+06   6.15e-08      1.000   -4.79e+06    4.79e+06\n",
       "StreamingMovies_Yes                0.7495   2.44e+06   3.07e-07      1.000   -4.79e+06    4.79e+06\n",
       "Contract_Month_to_month            0.6608      0.108      6.142      0.000       0.450       0.872\n",
       "Contract_Two_year                 -0.6963      0.177     -3.944      0.000      -1.042      -0.350\n",
       "PaymentMethod_Credit_card         -0.0878      0.114     -0.770      0.442      -0.311       0.136\n",
       "PaymentMethod_Electronic_check     0.3045      0.094      3.222      0.001       0.119       0.490\n",
       "PaymentMethod_Mailed_check        -0.0576      0.115     -0.501      0.616      -0.283       0.168\n",
       "==================================================================================================\n",
       "\"\"\""
      ]
     },
     "execution_count": 33,
     "metadata": {
      "tags": []
     },
     "output_type": "execute_result"
    }
   ],
   "source": [
    "import statsmodels.api as sm\n",
    "# statsmodels has inbuilt MLE methods and easy to get the most important features based on p-values\n",
    "# Create intercept term required for sm.Logit, see documentation for more information\n",
    "X_sm = X\n",
    "y_sm = y\n",
    "X_sm = sm.add_constant(X_sm)\n",
    "\n",
    "# Fit model\n",
    "logit_model = sm.Logit(y_sm, X_sm)\n",
    "\n",
    "# Get results of the fit\n",
    "result = logit_model.fit()\n",
    "result.summary()"
   ]
  },
  {
   "cell_type": "code",
   "execution_count": 0,
   "metadata": {
    "colab": {},
    "colab_type": "code",
    "id": "S8FReSACUMyF",
    "outputId": "9e431e43-6532-4393-a252-ac8c3b9edce3"
   },
   "outputs": [
    {
     "data": {
      "text/plain": [
       "Index(['const', 'SeniorCitizen', 'tenure', 'PaperlessBilling', 'TotalCharges',\n",
       "       'TechSupport_No', 'TechSupport_Yes', 'Contract_Month_to_month',\n",
       "       'Contract_Two_year', 'PaymentMethod_Electronic_check'],\n",
       "      dtype='object')"
      ]
     },
     "metadata": {
      "tags": []
     },
     "output_type": "display_data"
    }
   ],
   "source": [
    "X_sm = X_sm.drop(['gender_Male', 'Partner', 'Dependents', 'PhoneService', 'MonthlyCharges', \n",
    "             'MultipleLines_No', 'MultipleLines_Yes', 'InternetService_DSL', 'InternetService_Fiber_optic',\n",
    "             'OnlineSecurity_No', 'OnlineSecurity_Yes', 'OnlineBackup_No', 'OnlineBackup_Yes',\n",
    "             'DeviceProtection_No', 'DeviceProtection_Yes', 'StreamingTV_No', 'StreamingTV_Yes',\n",
    "             'StreamingMovies_No', 'StreamingMovies_Yes', 'PaymentMethod_Credit_card', \n",
    "             'PaymentMethod_Mailed_check'], axis = 1 )\n",
    "display(X_sm.columns)"
   ]
  },
  {
   "cell_type": "code",
   "execution_count": 0,
   "metadata": {
    "colab": {},
    "colab_type": "code",
    "id": "J3eA7seVUMyH",
    "outputId": "66d2914b-f7c8-4ece-b025-fadc48987771"
   },
   "outputs": [
    {
     "name": "stdout",
     "output_type": "stream",
     "text": [
      "1    2589\n",
      "0    2589\n",
      "dtype: int64\n"
     ]
    }
   ],
   "source": [
    "X_sm_train, X_sm_test, y_sm_train, y_sm_test = train_test_split(X_sm,y_sm,test_size=split_size,random_state=42)\n",
    "smote = SMOTE()\n",
    "X_sm_train_smote, y_sm_train_smote = smote.fit_sample(X_sm_train, y_sm_train) \n",
    "print(pd.Series(y_train_smote).value_counts())"
   ]
  },
  {
   "cell_type": "code",
   "execution_count": 0,
   "metadata": {
    "colab": {},
    "colab_type": "code",
    "id": "UfwDGnKIUMyL",
    "outputId": "ede1c85c-aee6-4339-c840-03746cae6a7b",
    "scrolled": true
   },
   "outputs": [
    {
     "name": "stderr",
     "output_type": "stream",
     "text": [
      "C:\\Anaconda3\\envs\\learn-env\\lib\\site-packages\\sklearn\\ensemble\\forest.py:460: UserWarning:\n",
      "\n",
      "Some inputs do not have OOB scores. This probably means too few trees were used to compute any reliable oob estimates.\n",
      "\n",
      "C:\\Anaconda3\\envs\\learn-env\\lib\\site-packages\\sklearn\\ensemble\\forest.py:465: RuntimeWarning:\n",
      "\n",
      "invalid value encountered in true_divide\n",
      "\n"
     ]
    },
    {
     "data": {
      "text/html": [
       "<div>\n",
       "<style scoped>\n",
       "    .dataframe tbody tr th:only-of-type {\n",
       "        vertical-align: middle;\n",
       "    }\n",
       "\n",
       "    .dataframe tbody tr th {\n",
       "        vertical-align: top;\n",
       "    }\n",
       "\n",
       "    .dataframe thead th {\n",
       "        text-align: right;\n",
       "    }\n",
       "</style>\n",
       "<table border=\"1\" class=\"dataframe\">\n",
       "  <thead>\n",
       "    <tr style=\"text-align: right;\">\n",
       "      <th></th>\n",
       "      <th>Model</th>\n",
       "      <th>Accuracy_score</th>\n",
       "      <th>Recall_score</th>\n",
       "      <th>Precision</th>\n",
       "      <th>f1_score</th>\n",
       "      <th>Area_under_curve</th>\n",
       "    </tr>\n",
       "  </thead>\n",
       "  <tbody>\n",
       "    <tr>\n",
       "      <td>0</td>\n",
       "      <td>Random Forest Classifier</td>\n",
       "      <td>0.763652</td>\n",
       "      <td>0.607219</td>\n",
       "      <td>0.553727</td>\n",
       "      <td>0.579241</td>\n",
       "      <td>0.714060</td>\n",
       "    </tr>\n",
       "    <tr>\n",
       "      <td>1</td>\n",
       "      <td>SVM Classifier Linear</td>\n",
       "      <td>0.710466</td>\n",
       "      <td>0.802548</td>\n",
       "      <td>0.476071</td>\n",
       "      <td>0.597628</td>\n",
       "      <td>0.739658</td>\n",
       "    </tr>\n",
       "  </tbody>\n",
       "</table>\n",
       "</div>"
      ],
      "text/plain": [
       "                      Model  Accuracy_score  Recall_score  Precision  \\\n",
       "0  Random Forest Classifier        0.763652      0.607219   0.553727   \n",
       "1     SVM Classifier Linear        0.710466      0.802548   0.476071   \n",
       "\n",
       "   f1_score  Area_under_curve  \n",
       "0  0.579241          0.714060  \n",
       "1  0.597628          0.739658  "
      ]
     },
     "metadata": {
      "tags": []
     },
     "output_type": "display_data"
    }
   ],
   "source": [
    "name = \"Random Forest Classifier\"\n",
    "rfc = RandomForestClassifier(criterion='gini' , max_depth =5, max_features= 0.9, \n",
    "                                min_samples_leaf = 5, min_samples_split= 5, n_estimators=10, oob_score=True)\n",
    "model1 = model_report(rfc,X_sm_train_smote,X_sm_test,y_sm_train_smote,y_sm_test,name)\n",
    "\n",
    "name = \"SVM Classifier Linear\"\n",
    "#svc  = SVC(kernel ='rbf', C=0.01, degree= 2,  tol = 0.0001, gamma = 'auto')\n",
    "svc  = SVC(kernel ='linear', C=0.001, tol = 0.001, gamma = 'auto')\n",
    "model2 = model_report(svc,X_sm_train_smote,X_sm_test,y_sm_train_smote,y_sm_test,name)\n",
    "\n",
    "\n",
    "#concat all models ,model4\n",
    "model_performances = pd.concat([model1,model2],axis = 0).reset_index()\n",
    "\n",
    "model_performances = model_performances.drop(columns = \"index\",axis =1)\n",
    "display(model_performances)\n",
    "\n",
    "#plot_tracers(model_performances)"
   ]
  },
  {
   "cell_type": "markdown",
   "metadata": {
    "colab_type": "text",
    "id": "9MQAAulNUMyN"
   },
   "source": [
    "### Recursive feature elimination"
   ]
  },
  {
   "cell_type": "code",
   "execution_count": 0,
   "metadata": {
    "colab": {},
    "colab_type": "code",
    "id": "vhb4J2TkUMyO",
    "outputId": "1a1671f7-f124-4741-ab41-291430c09c70"
   },
   "outputs": [
    {
     "data": {
      "text/plain": [
       "Index(['SeniorCitizen', 'Partner', 'Dependents', 'tenure', 'PhoneService',\n",
       "       'PaperlessBilling', 'MonthlyCharges', 'TotalCharges', 'gender_Male',\n",
       "       'MultipleLines_No', 'MultipleLines_Yes', 'InternetService_DSL',\n",
       "       'InternetService_Fiber_optic', 'OnlineSecurity_No',\n",
       "       'OnlineSecurity_Yes', 'OnlineBackup_No', 'OnlineBackup_Yes',\n",
       "       'DeviceProtection_No', 'DeviceProtection_Yes', 'TechSupport_No',\n",
       "       'TechSupport_Yes', 'StreamingTV_No', 'StreamingTV_Yes',\n",
       "       'StreamingMovies_No', 'StreamingMovies_Yes', 'Contract_Month_to_month',\n",
       "       'Contract_Two_year', 'PaymentMethod_Credit_card',\n",
       "       'PaymentMethod_Electronic_check', 'PaymentMethod_Mailed_check'],\n",
       "      dtype='object')"
      ]
     },
     "execution_count": 37,
     "metadata": {
      "tags": []
     },
     "output_type": "execute_result"
    }
   ],
   "source": [
    "X.columns"
   ]
  },
  {
   "cell_type": "code",
   "execution_count": 0,
   "metadata": {
    "colab": {},
    "colab_type": "code",
    "id": "FH_jqjxWUMyQ",
    "outputId": "87417134-36f3-45a0-aa61-bc84077fd93a"
   },
   "outputs": [
    {
     "data": {
      "text/html": [
       "<div>\n",
       "<style scoped>\n",
       "    .dataframe tbody tr th:only-of-type {\n",
       "        vertical-align: middle;\n",
       "    }\n",
       "\n",
       "    .dataframe tbody tr th {\n",
       "        vertical-align: top;\n",
       "    }\n",
       "\n",
       "    .dataframe thead th {\n",
       "        text-align: right;\n",
       "    }\n",
       "</style>\n",
       "<table border=\"1\" class=\"dataframe\">\n",
       "  <thead>\n",
       "    <tr style=\"text-align: right;\">\n",
       "      <th></th>\n",
       "      <th>rfe_support</th>\n",
       "      <th>columns</th>\n",
       "      <th>ranking</th>\n",
       "    </tr>\n",
       "  </thead>\n",
       "  <tbody>\n",
       "    <tr>\n",
       "      <td>12</td>\n",
       "      <td>True</td>\n",
       "      <td>InternetService_Fiber_optic</td>\n",
       "      <td>1</td>\n",
       "    </tr>\n",
       "    <tr>\n",
       "      <td>18</td>\n",
       "      <td>True</td>\n",
       "      <td>DeviceProtection_Yes</td>\n",
       "      <td>1</td>\n",
       "    </tr>\n",
       "    <tr>\n",
       "      <td>17</td>\n",
       "      <td>True</td>\n",
       "      <td>DeviceProtection_No</td>\n",
       "      <td>1</td>\n",
       "    </tr>\n",
       "    <tr>\n",
       "      <td>16</td>\n",
       "      <td>True</td>\n",
       "      <td>OnlineBackup_Yes</td>\n",
       "      <td>1</td>\n",
       "    </tr>\n",
       "    <tr>\n",
       "      <td>15</td>\n",
       "      <td>True</td>\n",
       "      <td>OnlineBackup_No</td>\n",
       "      <td>1</td>\n",
       "    </tr>\n",
       "    <tr>\n",
       "      <td>24</td>\n",
       "      <td>True</td>\n",
       "      <td>StreamingMovies_Yes</td>\n",
       "      <td>1</td>\n",
       "    </tr>\n",
       "    <tr>\n",
       "      <td>7</td>\n",
       "      <td>True</td>\n",
       "      <td>TotalCharges</td>\n",
       "      <td>1</td>\n",
       "    </tr>\n",
       "    <tr>\n",
       "      <td>25</td>\n",
       "      <td>True</td>\n",
       "      <td>Contract_Month_to_month</td>\n",
       "      <td>1</td>\n",
       "    </tr>\n",
       "    <tr>\n",
       "      <td>3</td>\n",
       "      <td>True</td>\n",
       "      <td>tenure</td>\n",
       "      <td>1</td>\n",
       "    </tr>\n",
       "    <tr>\n",
       "      <td>6</td>\n",
       "      <td>True</td>\n",
       "      <td>MonthlyCharges</td>\n",
       "      <td>1</td>\n",
       "    </tr>\n",
       "    <tr>\n",
       "      <td>22</td>\n",
       "      <td>False</td>\n",
       "      <td>StreamingTV_Yes</td>\n",
       "      <td>2</td>\n",
       "    </tr>\n",
       "    <tr>\n",
       "      <td>26</td>\n",
       "      <td>False</td>\n",
       "      <td>Contract_Two_year</td>\n",
       "      <td>3</td>\n",
       "    </tr>\n",
       "    <tr>\n",
       "      <td>28</td>\n",
       "      <td>False</td>\n",
       "      <td>PaymentMethod_Electronic_check</td>\n",
       "      <td>4</td>\n",
       "    </tr>\n",
       "    <tr>\n",
       "      <td>2</td>\n",
       "      <td>False</td>\n",
       "      <td>Dependents</td>\n",
       "      <td>5</td>\n",
       "    </tr>\n",
       "    <tr>\n",
       "      <td>13</td>\n",
       "      <td>False</td>\n",
       "      <td>OnlineSecurity_No</td>\n",
       "      <td>6</td>\n",
       "    </tr>\n",
       "    <tr>\n",
       "      <td>5</td>\n",
       "      <td>False</td>\n",
       "      <td>PaperlessBilling</td>\n",
       "      <td>7</td>\n",
       "    </tr>\n",
       "    <tr>\n",
       "      <td>19</td>\n",
       "      <td>False</td>\n",
       "      <td>TechSupport_No</td>\n",
       "      <td>8</td>\n",
       "    </tr>\n",
       "    <tr>\n",
       "      <td>11</td>\n",
       "      <td>False</td>\n",
       "      <td>InternetService_DSL</td>\n",
       "      <td>9</td>\n",
       "    </tr>\n",
       "    <tr>\n",
       "      <td>9</td>\n",
       "      <td>False</td>\n",
       "      <td>MultipleLines_No</td>\n",
       "      <td>10</td>\n",
       "    </tr>\n",
       "    <tr>\n",
       "      <td>4</td>\n",
       "      <td>False</td>\n",
       "      <td>PhoneService</td>\n",
       "      <td>11</td>\n",
       "    </tr>\n",
       "    <tr>\n",
       "      <td>27</td>\n",
       "      <td>False</td>\n",
       "      <td>PaymentMethod_Credit_card</td>\n",
       "      <td>12</td>\n",
       "    </tr>\n",
       "    <tr>\n",
       "      <td>21</td>\n",
       "      <td>False</td>\n",
       "      <td>StreamingTV_No</td>\n",
       "      <td>13</td>\n",
       "    </tr>\n",
       "    <tr>\n",
       "      <td>20</td>\n",
       "      <td>False</td>\n",
       "      <td>TechSupport_Yes</td>\n",
       "      <td>14</td>\n",
       "    </tr>\n",
       "    <tr>\n",
       "      <td>29</td>\n",
       "      <td>False</td>\n",
       "      <td>PaymentMethod_Mailed_check</td>\n",
       "      <td>15</td>\n",
       "    </tr>\n",
       "    <tr>\n",
       "      <td>1</td>\n",
       "      <td>False</td>\n",
       "      <td>Partner</td>\n",
       "      <td>16</td>\n",
       "    </tr>\n",
       "    <tr>\n",
       "      <td>10</td>\n",
       "      <td>False</td>\n",
       "      <td>MultipleLines_Yes</td>\n",
       "      <td>17</td>\n",
       "    </tr>\n",
       "    <tr>\n",
       "      <td>14</td>\n",
       "      <td>False</td>\n",
       "      <td>OnlineSecurity_Yes</td>\n",
       "      <td>18</td>\n",
       "    </tr>\n",
       "    <tr>\n",
       "      <td>0</td>\n",
       "      <td>False</td>\n",
       "      <td>SeniorCitizen</td>\n",
       "      <td>19</td>\n",
       "    </tr>\n",
       "    <tr>\n",
       "      <td>8</td>\n",
       "      <td>False</td>\n",
       "      <td>gender_Male</td>\n",
       "      <td>20</td>\n",
       "    </tr>\n",
       "    <tr>\n",
       "      <td>23</td>\n",
       "      <td>False</td>\n",
       "      <td>StreamingMovies_No</td>\n",
       "      <td>21</td>\n",
       "    </tr>\n",
       "  </tbody>\n",
       "</table>\n",
       "</div>"
      ],
      "text/plain": [
       "    rfe_support                         columns  ranking\n",
       "12         True     InternetService_Fiber_optic        1\n",
       "18         True            DeviceProtection_Yes        1\n",
       "17         True             DeviceProtection_No        1\n",
       "16         True                OnlineBackup_Yes        1\n",
       "15         True                 OnlineBackup_No        1\n",
       "24         True             StreamingMovies_Yes        1\n",
       "7          True                    TotalCharges        1\n",
       "25         True         Contract_Month_to_month        1\n",
       "3          True                          tenure        1\n",
       "6          True                  MonthlyCharges        1\n",
       "22        False                 StreamingTV_Yes        2\n",
       "26        False               Contract_Two_year        3\n",
       "28        False  PaymentMethod_Electronic_check        4\n",
       "2         False                      Dependents        5\n",
       "13        False               OnlineSecurity_No        6\n",
       "5         False                PaperlessBilling        7\n",
       "19        False                  TechSupport_No        8\n",
       "11        False             InternetService_DSL        9\n",
       "9         False                MultipleLines_No       10\n",
       "4         False                    PhoneService       11\n",
       "27        False       PaymentMethod_Credit_card       12\n",
       "21        False                  StreamingTV_No       13\n",
       "20        False                 TechSupport_Yes       14\n",
       "29        False      PaymentMethod_Mailed_check       15\n",
       "1         False                         Partner       16\n",
       "10        False               MultipleLines_Yes       17\n",
       "14        False              OnlineSecurity_Yes       18\n",
       "0         False                   SeniorCitizen       19\n",
       "8         False                     gender_Male       20\n",
       "23        False              StreamingMovies_No       21"
      ]
     },
     "metadata": {
      "tags": []
     },
     "output_type": "display_data"
    }
   ],
   "source": [
    "from sklearn.feature_selection import RFE\n",
    "\n",
    "logit = LogisticRegression(solver='lbfgs')\n",
    "\n",
    "rfe = RFE(logit,10)\n",
    "rfe = rfe.fit(X_train_smote, y_train_smote.ravel()) # .values.ravel()\n",
    "\n",
    "rfe.support_\n",
    "rfe.ranking_\n",
    "\n",
    "#identified columns Recursive Feature Elimination\n",
    "idc_rfe = pd.DataFrame({\"rfe_support\" :rfe.support_,\n",
    "                       \"columns\" : list(X.columns),\n",
    "                       \"ranking\" : rfe.ranking_,\n",
    "                      })\n",
    "display(idc_rfe.sort_values(by=['ranking']))\n",
    "cols = idc_rfe[idc_rfe[\"rfe_support\"] == True][\"columns\"].tolist()\n",
    "#display(X[cols])\n",
    "\n",
    "#separating train and test data for selected cols \n",
    "X_rfe = X[cols]\n",
    "                    \n",
    "X_rfe_train, X_rfe_test, y_rfe_train, y_rfe_test = train_test_split(X_rfe,y,test_size=split_size,random_state=42)\n",
    "smote = SMOTE()\n",
    "X_rfe_train_smote, y_rfe_train_smote = smote.fit_sample(X_rfe_train, y_rfe_train) \n",
    "\n",
    "#logit_rfe = LogisticRegression(C=0.001, fit_intercept= False, max_iter= 200, penalty= 'l2', \n",
    "#                              random_state= 11, solver= 'liblinear')\n",
    "#applying model\n",
    "#results(logit_rfe, X_rfe, X_rfe_train_smote, y_rfe_train_smote, X_rfe_test, y_rfe_test, 'coefficients', None)\n"
   ]
  },
  {
   "cell_type": "code",
   "execution_count": 0,
   "metadata": {
    "colab": {},
    "colab_type": "code",
    "id": "iI4DhahPUMyS",
    "outputId": "155c02c6-6813-4d66-e4e9-183ee42d75f8"
   },
   "outputs": [
    {
     "name": "stderr",
     "output_type": "stream",
     "text": [
      "C:\\Anaconda3\\envs\\learn-env\\lib\\site-packages\\sklearn\\ensemble\\forest.py:460: UserWarning:\n",
      "\n",
      "Some inputs do not have OOB scores. This probably means too few trees were used to compute any reliable oob estimates.\n",
      "\n",
      "C:\\Anaconda3\\envs\\learn-env\\lib\\site-packages\\sklearn\\ensemble\\forest.py:465: RuntimeWarning:\n",
      "\n",
      "invalid value encountered in true_divide\n",
      "\n"
     ]
    },
    {
     "data": {
      "text/html": [
       "<div>\n",
       "<style scoped>\n",
       "    .dataframe tbody tr th:only-of-type {\n",
       "        vertical-align: middle;\n",
       "    }\n",
       "\n",
       "    .dataframe tbody tr th {\n",
       "        vertical-align: top;\n",
       "    }\n",
       "\n",
       "    .dataframe thead th {\n",
       "        text-align: right;\n",
       "    }\n",
       "</style>\n",
       "<table border=\"1\" class=\"dataframe\">\n",
       "  <thead>\n",
       "    <tr style=\"text-align: right;\">\n",
       "      <th></th>\n",
       "      <th>Model</th>\n",
       "      <th>Accuracy_score</th>\n",
       "      <th>Recall_score</th>\n",
       "      <th>Precision</th>\n",
       "      <th>f1_score</th>\n",
       "      <th>Area_under_curve</th>\n",
       "    </tr>\n",
       "  </thead>\n",
       "  <tbody>\n",
       "    <tr>\n",
       "      <td>0</td>\n",
       "      <td>Random Forest Classifier</td>\n",
       "      <td>0.762799</td>\n",
       "      <td>0.745223</td>\n",
       "      <td>0.541667</td>\n",
       "      <td>0.627346</td>\n",
       "      <td>0.757227</td>\n",
       "    </tr>\n",
       "    <tr>\n",
       "      <td>1</td>\n",
       "      <td>SVM Classifier Linear</td>\n",
       "      <td>0.720990</td>\n",
       "      <td>0.780255</td>\n",
       "      <td>0.487078</td>\n",
       "      <td>0.599755</td>\n",
       "      <td>0.739778</td>\n",
       "    </tr>\n",
       "  </tbody>\n",
       "</table>\n",
       "</div>"
      ],
      "text/plain": [
       "                      Model  Accuracy_score  Recall_score  Precision  \\\n",
       "0  Random Forest Classifier        0.762799      0.745223   0.541667   \n",
       "1     SVM Classifier Linear        0.720990      0.780255   0.487078   \n",
       "\n",
       "   f1_score  Area_under_curve  \n",
       "0  0.627346          0.757227  \n",
       "1  0.599755          0.739778  "
      ]
     },
     "metadata": {
      "tags": []
     },
     "output_type": "display_data"
    }
   ],
   "source": [
    "name = \"Random Forest Classifier\"\n",
    "rfc = RandomForestClassifier(criterion='gini' , max_depth =5, max_features= 0.9, \n",
    "                                min_samples_leaf = 5, min_samples_split= 5, n_estimators=10, oob_score=True)\n",
    "model1 = model_report(rfc,X_rfe_train_smote,X_rfe_test,y_rfe_train_smote,y_rfe_test,name)\n",
    "\n",
    "name = \"SVM Classifier Linear\"\n",
    "#svc  = SVC(kernel ='rbf', C=0.01, degree= 2,  tol = 0.0001, gamma = 'auto')\n",
    "svc  = SVC(kernel ='linear', C=0.001, tol = 0.001, gamma = 'auto')\n",
    "model2 = model_report(svc,X_rfe_train_smote,X_rfe_test,y_rfe_train_smote,y_rfe_test,name)\n",
    "\n",
    "#concat all models \n",
    "model_performances = pd.concat([model1,model2],axis = 0).reset_index()\n",
    "\n",
    "model_performances = model_performances.drop(columns = \"index\",axis =1)\n",
    "display(model_performances)\n",
    "\n",
    "#plot_tracers(model_performances)\n"
   ]
  },
  {
   "cell_type": "markdown",
   "metadata": {
    "colab_type": "text",
    "id": "7HjfHPmbUMyb"
   },
   "source": [
    "## Neural Networks\n",
    "Just for fun tried out sklearns MPL Classifier. hidden layer size and alpha changed"
   ]
  },
  {
   "cell_type": "code",
   "execution_count": 0,
   "metadata": {
    "colab": {},
    "colab_type": "code",
    "id": "biRHiXREUMyc",
    "outputId": "1ae34cf8-7916-43c5-b200-c65edc272b07"
   },
   "outputs": [
    {
     "name": "stdout",
     "output_type": "stream",
     "text": [
      "------------------------------------------------------------------------------------------\n",
      "MLPClassifier(activation='relu', alpha=100, batch_size='auto', beta_1=0.9,\n",
      "              beta_2=0.999, early_stopping=False, epsilon=1e-08,\n",
      "              hidden_layer_sizes=(50, 50), learning_rate='constant',\n",
      "              learning_rate_init=0.001, max_iter=200, momentum=0.9,\n",
      "              n_iter_no_change=10, nesterovs_momentum=True, power_t=0.5,\n",
      "              random_state=1, shuffle=True, solver='lbfgs', tol=0.0001,\n",
      "              validation_fraction=0.1, verbose=False, warm_start=False)\n",
      "------------------------------------------------------------------------------------------\n",
      "Training accuracy Score: 0.7904596369254538\n",
      "Model accuracy Score: 0.7579635949943118\n",
      "------------------------------------------------------------------------------------------\n",
      "Classification Matrix:\n",
      "              precision    recall  f1-score   support\n",
      "\n",
      "           0       0.90      0.76      0.82      2574\n",
      "           1       0.53      0.76      0.63       942\n",
      "\n",
      "    accuracy                           0.76      3516\n",
      "   macro avg       0.72      0.76      0.72      3516\n",
      "weighted avg       0.80      0.76      0.77      3516\n",
      "\n",
      "------------------------------------------------------------------------------------------\n",
      "Confusion Matrix:\n",
      " Predicted     0     1   All\n",
      "Actual                     \n",
      "0          1946   628  2574\n",
      "1           223   719   942\n",
      "All        2169  1347  3516\n"
     ]
    },
    {
     "data": {
      "application/vnd.plotly.v1+json": {
       "config": {
        "plotlyServerURL": "https://plot.ly"
       },
       "data": [
        {
         "colorscale": [
          [
           0,
           "#440154"
          ],
          [
           0.1111111111111111,
           "#482878"
          ],
          [
           0.2222222222222222,
           "#3e4989"
          ],
          [
           0.3333333333333333,
           "#31688e"
          ],
          [
           0.4444444444444444,
           "#26828e"
          ],
          [
           0.5555555555555556,
           "#1f9e89"
          ],
          [
           0.6666666666666666,
           "#35b779"
          ],
          [
           0.7777777777777778,
           "#6ece58"
          ],
          [
           0.8888888888888888,
           "#b5de2b"
          ],
          [
           1,
           "#fde725"
          ]
         ],
         "reversescale": false,
         "showscale": false,
         "type": "heatmap",
         "x": [
          "not Churn",
          "churn"
         ],
         "y": [
          "Churn",
          "not churn"
         ],
         "z": [
          [
           223,
           719
          ],
          [
           1946,
           628
          ]
         ]
        }
       ],
       "layout": {
        "annotations": [
         {
          "font": {
           "color": "#FFFFFF"
          },
          "showarrow": false,
          "text": "223",
          "x": "not Churn",
          "xref": "x",
          "y": "Churn",
          "yref": "y"
         },
         {
          "font": {
           "color": "#FFFFFF"
          },
          "showarrow": false,
          "text": "719",
          "x": "churn",
          "xref": "x",
          "y": "Churn",
          "yref": "y"
         },
         {
          "font": {
           "color": "#000000"
          },
          "showarrow": false,
          "text": "1946",
          "x": "not Churn",
          "xref": "x",
          "y": "not churn",
          "yref": "y"
         },
         {
          "font": {
           "color": "#FFFFFF"
          },
          "showarrow": false,
          "text": "628",
          "x": "churn",
          "xref": "x",
          "y": "not churn",
          "yref": "y"
         }
        ],
        "autosize": false,
        "height": 350,
        "template": {
         "data": {
          "bar": [
           {
            "error_x": {
             "color": "#2a3f5f"
            },
            "error_y": {
             "color": "#2a3f5f"
            },
            "marker": {
             "line": {
              "color": "#E5ECF6",
              "width": 0.5
             }
            },
            "type": "bar"
           }
          ],
          "barpolar": [
           {
            "marker": {
             "line": {
              "color": "#E5ECF6",
              "width": 0.5
             }
            },
            "type": "barpolar"
           }
          ],
          "carpet": [
           {
            "aaxis": {
             "endlinecolor": "#2a3f5f",
             "gridcolor": "white",
             "linecolor": "white",
             "minorgridcolor": "white",
             "startlinecolor": "#2a3f5f"
            },
            "baxis": {
             "endlinecolor": "#2a3f5f",
             "gridcolor": "white",
             "linecolor": "white",
             "minorgridcolor": "white",
             "startlinecolor": "#2a3f5f"
            },
            "type": "carpet"
           }
          ],
          "choropleth": [
           {
            "colorbar": {
             "outlinewidth": 0,
             "ticks": ""
            },
            "type": "choropleth"
           }
          ],
          "contour": [
           {
            "colorbar": {
             "outlinewidth": 0,
             "ticks": ""
            },
            "colorscale": [
             [
              0,
              "#0d0887"
             ],
             [
              0.1111111111111111,
              "#46039f"
             ],
             [
              0.2222222222222222,
              "#7201a8"
             ],
             [
              0.3333333333333333,
              "#9c179e"
             ],
             [
              0.4444444444444444,
              "#bd3786"
             ],
             [
              0.5555555555555556,
              "#d8576b"
             ],
             [
              0.6666666666666666,
              "#ed7953"
             ],
             [
              0.7777777777777778,
              "#fb9f3a"
             ],
             [
              0.8888888888888888,
              "#fdca26"
             ],
             [
              1,
              "#f0f921"
             ]
            ],
            "type": "contour"
           }
          ],
          "contourcarpet": [
           {
            "colorbar": {
             "outlinewidth": 0,
             "ticks": ""
            },
            "type": "contourcarpet"
           }
          ],
          "heatmap": [
           {
            "colorbar": {
             "outlinewidth": 0,
             "ticks": ""
            },
            "colorscale": [
             [
              0,
              "#0d0887"
             ],
             [
              0.1111111111111111,
              "#46039f"
             ],
             [
              0.2222222222222222,
              "#7201a8"
             ],
             [
              0.3333333333333333,
              "#9c179e"
             ],
             [
              0.4444444444444444,
              "#bd3786"
             ],
             [
              0.5555555555555556,
              "#d8576b"
             ],
             [
              0.6666666666666666,
              "#ed7953"
             ],
             [
              0.7777777777777778,
              "#fb9f3a"
             ],
             [
              0.8888888888888888,
              "#fdca26"
             ],
             [
              1,
              "#f0f921"
             ]
            ],
            "type": "heatmap"
           }
          ],
          "heatmapgl": [
           {
            "colorbar": {
             "outlinewidth": 0,
             "ticks": ""
            },
            "colorscale": [
             [
              0,
              "#0d0887"
             ],
             [
              0.1111111111111111,
              "#46039f"
             ],
             [
              0.2222222222222222,
              "#7201a8"
             ],
             [
              0.3333333333333333,
              "#9c179e"
             ],
             [
              0.4444444444444444,
              "#bd3786"
             ],
             [
              0.5555555555555556,
              "#d8576b"
             ],
             [
              0.6666666666666666,
              "#ed7953"
             ],
             [
              0.7777777777777778,
              "#fb9f3a"
             ],
             [
              0.8888888888888888,
              "#fdca26"
             ],
             [
              1,
              "#f0f921"
             ]
            ],
            "type": "heatmapgl"
           }
          ],
          "histogram": [
           {
            "marker": {
             "colorbar": {
              "outlinewidth": 0,
              "ticks": ""
             }
            },
            "type": "histogram"
           }
          ],
          "histogram2d": [
           {
            "colorbar": {
             "outlinewidth": 0,
             "ticks": ""
            },
            "colorscale": [
             [
              0,
              "#0d0887"
             ],
             [
              0.1111111111111111,
              "#46039f"
             ],
             [
              0.2222222222222222,
              "#7201a8"
             ],
             [
              0.3333333333333333,
              "#9c179e"
             ],
             [
              0.4444444444444444,
              "#bd3786"
             ],
             [
              0.5555555555555556,
              "#d8576b"
             ],
             [
              0.6666666666666666,
              "#ed7953"
             ],
             [
              0.7777777777777778,
              "#fb9f3a"
             ],
             [
              0.8888888888888888,
              "#fdca26"
             ],
             [
              1,
              "#f0f921"
             ]
            ],
            "type": "histogram2d"
           }
          ],
          "histogram2dcontour": [
           {
            "colorbar": {
             "outlinewidth": 0,
             "ticks": ""
            },
            "colorscale": [
             [
              0,
              "#0d0887"
             ],
             [
              0.1111111111111111,
              "#46039f"
             ],
             [
              0.2222222222222222,
              "#7201a8"
             ],
             [
              0.3333333333333333,
              "#9c179e"
             ],
             [
              0.4444444444444444,
              "#bd3786"
             ],
             [
              0.5555555555555556,
              "#d8576b"
             ],
             [
              0.6666666666666666,
              "#ed7953"
             ],
             [
              0.7777777777777778,
              "#fb9f3a"
             ],
             [
              0.8888888888888888,
              "#fdca26"
             ],
             [
              1,
              "#f0f921"
             ]
            ],
            "type": "histogram2dcontour"
           }
          ],
          "mesh3d": [
           {
            "colorbar": {
             "outlinewidth": 0,
             "ticks": ""
            },
            "type": "mesh3d"
           }
          ],
          "parcoords": [
           {
            "line": {
             "colorbar": {
              "outlinewidth": 0,
              "ticks": ""
             }
            },
            "type": "parcoords"
           }
          ],
          "scatter": [
           {
            "marker": {
             "colorbar": {
              "outlinewidth": 0,
              "ticks": ""
             }
            },
            "type": "scatter"
           }
          ],
          "scatter3d": [
           {
            "line": {
             "colorbar": {
              "outlinewidth": 0,
              "ticks": ""
             }
            },
            "marker": {
             "colorbar": {
              "outlinewidth": 0,
              "ticks": ""
             }
            },
            "type": "scatter3d"
           }
          ],
          "scattercarpet": [
           {
            "marker": {
             "colorbar": {
              "outlinewidth": 0,
              "ticks": ""
             }
            },
            "type": "scattercarpet"
           }
          ],
          "scattergeo": [
           {
            "marker": {
             "colorbar": {
              "outlinewidth": 0,
              "ticks": ""
             }
            },
            "type": "scattergeo"
           }
          ],
          "scattergl": [
           {
            "marker": {
             "colorbar": {
              "outlinewidth": 0,
              "ticks": ""
             }
            },
            "type": "scattergl"
           }
          ],
          "scattermapbox": [
           {
            "marker": {
             "colorbar": {
              "outlinewidth": 0,
              "ticks": ""
             }
            },
            "type": "scattermapbox"
           }
          ],
          "scatterpolar": [
           {
            "marker": {
             "colorbar": {
              "outlinewidth": 0,
              "ticks": ""
             }
            },
            "type": "scatterpolar"
           }
          ],
          "scatterpolargl": [
           {
            "marker": {
             "colorbar": {
              "outlinewidth": 0,
              "ticks": ""
             }
            },
            "type": "scatterpolargl"
           }
          ],
          "scatterternary": [
           {
            "marker": {
             "colorbar": {
              "outlinewidth": 0,
              "ticks": ""
             }
            },
            "type": "scatterternary"
           }
          ],
          "surface": [
           {
            "colorbar": {
             "outlinewidth": 0,
             "ticks": ""
            },
            "colorscale": [
             [
              0,
              "#0d0887"
             ],
             [
              0.1111111111111111,
              "#46039f"
             ],
             [
              0.2222222222222222,
              "#7201a8"
             ],
             [
              0.3333333333333333,
              "#9c179e"
             ],
             [
              0.4444444444444444,
              "#bd3786"
             ],
             [
              0.5555555555555556,
              "#d8576b"
             ],
             [
              0.6666666666666666,
              "#ed7953"
             ],
             [
              0.7777777777777778,
              "#fb9f3a"
             ],
             [
              0.8888888888888888,
              "#fdca26"
             ],
             [
              1,
              "#f0f921"
             ]
            ],
            "type": "surface"
           }
          ],
          "table": [
           {
            "cells": {
             "fill": {
              "color": "#EBF0F8"
             },
             "line": {
              "color": "white"
             }
            },
            "header": {
             "fill": {
              "color": "#C8D4E3"
             },
             "line": {
              "color": "white"
             }
            },
            "type": "table"
           }
          ]
         },
         "layout": {
          "annotationdefaults": {
           "arrowcolor": "#2a3f5f",
           "arrowhead": 0,
           "arrowwidth": 1
          },
          "colorscale": {
           "diverging": [
            [
             0,
             "#8e0152"
            ],
            [
             0.1,
             "#c51b7d"
            ],
            [
             0.2,
             "#de77ae"
            ],
            [
             0.3,
             "#f1b6da"
            ],
            [
             0.4,
             "#fde0ef"
            ],
            [
             0.5,
             "#f7f7f7"
            ],
            [
             0.6,
             "#e6f5d0"
            ],
            [
             0.7,
             "#b8e186"
            ],
            [
             0.8,
             "#7fbc41"
            ],
            [
             0.9,
             "#4d9221"
            ],
            [
             1,
             "#276419"
            ]
           ],
           "sequential": [
            [
             0,
             "#0d0887"
            ],
            [
             0.1111111111111111,
             "#46039f"
            ],
            [
             0.2222222222222222,
             "#7201a8"
            ],
            [
             0.3333333333333333,
             "#9c179e"
            ],
            [
             0.4444444444444444,
             "#bd3786"
            ],
            [
             0.5555555555555556,
             "#d8576b"
            ],
            [
             0.6666666666666666,
             "#ed7953"
            ],
            [
             0.7777777777777778,
             "#fb9f3a"
            ],
            [
             0.8888888888888888,
             "#fdca26"
            ],
            [
             1,
             "#f0f921"
            ]
           ],
           "sequentialminus": [
            [
             0,
             "#0d0887"
            ],
            [
             0.1111111111111111,
             "#46039f"
            ],
            [
             0.2222222222222222,
             "#7201a8"
            ],
            [
             0.3333333333333333,
             "#9c179e"
            ],
            [
             0.4444444444444444,
             "#bd3786"
            ],
            [
             0.5555555555555556,
             "#d8576b"
            ],
            [
             0.6666666666666666,
             "#ed7953"
            ],
            [
             0.7777777777777778,
             "#fb9f3a"
            ],
            [
             0.8888888888888888,
             "#fdca26"
            ],
            [
             1,
             "#f0f921"
            ]
           ]
          },
          "colorway": [
           "#636efa",
           "#EF553B",
           "#00cc96",
           "#ab63fa",
           "#FFA15A",
           "#19d3f3",
           "#FF6692",
           "#B6E880",
           "#FF97FF",
           "#FECB52"
          ],
          "font": {
           "color": "#2a3f5f"
          },
          "geo": {
           "bgcolor": "white",
           "lakecolor": "white",
           "landcolor": "#E5ECF6",
           "showlakes": true,
           "showland": true,
           "subunitcolor": "white"
          },
          "hoverlabel": {
           "align": "left"
          },
          "hovermode": "closest",
          "mapbox": {
           "style": "light"
          },
          "paper_bgcolor": "white",
          "plot_bgcolor": "#E5ECF6",
          "polar": {
           "angularaxis": {
            "gridcolor": "white",
            "linecolor": "white",
            "ticks": ""
           },
           "bgcolor": "#E5ECF6",
           "radialaxis": {
            "gridcolor": "white",
            "linecolor": "white",
            "ticks": ""
           }
          },
          "scene": {
           "xaxis": {
            "backgroundcolor": "#E5ECF6",
            "gridcolor": "white",
            "gridwidth": 2,
            "linecolor": "white",
            "showbackground": true,
            "ticks": "",
            "zerolinecolor": "white"
           },
           "yaxis": {
            "backgroundcolor": "#E5ECF6",
            "gridcolor": "white",
            "gridwidth": 2,
            "linecolor": "white",
            "showbackground": true,
            "ticks": "",
            "zerolinecolor": "white"
           },
           "zaxis": {
            "backgroundcolor": "#E5ECF6",
            "gridcolor": "white",
            "gridwidth": 2,
            "linecolor": "white",
            "showbackground": true,
            "ticks": "",
            "zerolinecolor": "white"
           }
          },
          "shapedefaults": {
           "line": {
            "color": "#2a3f5f"
           }
          },
          "ternary": {
           "aaxis": {
            "gridcolor": "white",
            "linecolor": "white",
            "ticks": ""
           },
           "baxis": {
            "gridcolor": "white",
            "linecolor": "white",
            "ticks": ""
           },
           "bgcolor": "#E5ECF6",
           "caxis": {
            "gridcolor": "white",
            "linecolor": "white",
            "ticks": ""
           }
          },
          "title": {
           "x": 0.05
          },
          "xaxis": {
           "automargin": true,
           "gridcolor": "white",
           "linecolor": "white",
           "ticks": "",
           "zerolinecolor": "white",
           "zerolinewidth": 2
          },
          "yaxis": {
           "automargin": true,
           "gridcolor": "white",
           "linecolor": "white",
           "ticks": "",
           "zerolinecolor": "white",
           "zerolinewidth": 2
          }
         }
        },
        "width": 350,
        "xaxis": {
         "dtick": 1,
         "gridcolor": "rgb(0, 0, 0)",
         "side": "top",
         "tickmode": "array",
         "ticks": "",
         "title": {
          "font": {
           "size": 21
          },
          "text": "Predics"
         }
        },
        "yaxis": {
         "dtick": 1,
         "tickmode": "array",
         "ticks": "",
         "ticksuffix": "  ",
         "title": {
          "font": {
           "size": 21
          },
          "text": "Actual"
         }
        }
       }
      },
      "text/html": [
       "<div>\n",
       "        \n",
       "        \n",
       "            <div id=\"ea9c4516-6567-482c-a661-fb8193ed2900\" class=\"plotly-graph-div\" style=\"height:350px; width:350px;\"></div>\n",
       "            <script type=\"text/javascript\">\n",
       "                require([\"plotly\"], function(Plotly) {\n",
       "                    window.PLOTLYENV=window.PLOTLYENV || {};\n",
       "                    \n",
       "                if (document.getElementById(\"ea9c4516-6567-482c-a661-fb8193ed2900\")) {\n",
       "                    Plotly.newPlot(\n",
       "                        'ea9c4516-6567-482c-a661-fb8193ed2900',\n",
       "                        [{\"colorscale\": [[0.0, \"#440154\"], [0.1111111111111111, \"#482878\"], [0.2222222222222222, \"#3e4989\"], [0.3333333333333333, \"#31688e\"], [0.4444444444444444, \"#26828e\"], [0.5555555555555556, \"#1f9e89\"], [0.6666666666666666, \"#35b779\"], [0.7777777777777778, \"#6ece58\"], [0.8888888888888888, \"#b5de2b\"], [1.0, \"#fde725\"]], \"reversescale\": false, \"showscale\": false, \"type\": \"heatmap\", \"x\": [\"not Churn\", \"churn\"], \"y\": [\"Churn\", \"not churn\"], \"z\": [[223, 719], [1946, 628]]}],\n",
       "                        {\"annotations\": [{\"font\": {\"color\": \"#FFFFFF\"}, \"showarrow\": false, \"text\": \"223\", \"x\": \"not Churn\", \"xref\": \"x\", \"y\": \"Churn\", \"yref\": \"y\"}, {\"font\": {\"color\": \"#FFFFFF\"}, \"showarrow\": false, \"text\": \"719\", \"x\": \"churn\", \"xref\": \"x\", \"y\": \"Churn\", \"yref\": \"y\"}, {\"font\": {\"color\": \"#000000\"}, \"showarrow\": false, \"text\": \"1946\", \"x\": \"not Churn\", \"xref\": \"x\", \"y\": \"not churn\", \"yref\": \"y\"}, {\"font\": {\"color\": \"#FFFFFF\"}, \"showarrow\": false, \"text\": \"628\", \"x\": \"churn\", \"xref\": \"x\", \"y\": \"not churn\", \"yref\": \"y\"}], \"autosize\": false, \"height\": 350, \"template\": {\"data\": {\"bar\": [{\"error_x\": {\"color\": \"#2a3f5f\"}, \"error_y\": {\"color\": \"#2a3f5f\"}, \"marker\": {\"line\": {\"color\": \"#E5ECF6\", \"width\": 0.5}}, \"type\": \"bar\"}], \"barpolar\": [{\"marker\": {\"line\": {\"color\": \"#E5ECF6\", \"width\": 0.5}}, \"type\": \"barpolar\"}], \"carpet\": [{\"aaxis\": {\"endlinecolor\": \"#2a3f5f\", \"gridcolor\": \"white\", \"linecolor\": \"white\", \"minorgridcolor\": \"white\", \"startlinecolor\": \"#2a3f5f\"}, \"baxis\": {\"endlinecolor\": \"#2a3f5f\", \"gridcolor\": \"white\", \"linecolor\": \"white\", \"minorgridcolor\": \"white\", \"startlinecolor\": \"#2a3f5f\"}, \"type\": \"carpet\"}], \"choropleth\": [{\"colorbar\": {\"outlinewidth\": 0, \"ticks\": \"\"}, \"type\": \"choropleth\"}], \"contour\": [{\"colorbar\": {\"outlinewidth\": 0, \"ticks\": \"\"}, \"colorscale\": [[0.0, \"#0d0887\"], [0.1111111111111111, \"#46039f\"], [0.2222222222222222, \"#7201a8\"], [0.3333333333333333, \"#9c179e\"], [0.4444444444444444, \"#bd3786\"], [0.5555555555555556, \"#d8576b\"], [0.6666666666666666, \"#ed7953\"], [0.7777777777777778, \"#fb9f3a\"], [0.8888888888888888, \"#fdca26\"], [1.0, \"#f0f921\"]], \"type\": \"contour\"}], \"contourcarpet\": [{\"colorbar\": {\"outlinewidth\": 0, \"ticks\": \"\"}, \"type\": \"contourcarpet\"}], \"heatmap\": [{\"colorbar\": {\"outlinewidth\": 0, \"ticks\": \"\"}, \"colorscale\": [[0.0, \"#0d0887\"], [0.1111111111111111, \"#46039f\"], [0.2222222222222222, \"#7201a8\"], [0.3333333333333333, \"#9c179e\"], [0.4444444444444444, \"#bd3786\"], [0.5555555555555556, \"#d8576b\"], [0.6666666666666666, \"#ed7953\"], [0.7777777777777778, \"#fb9f3a\"], [0.8888888888888888, \"#fdca26\"], [1.0, \"#f0f921\"]], \"type\": \"heatmap\"}], \"heatmapgl\": [{\"colorbar\": {\"outlinewidth\": 0, \"ticks\": \"\"}, \"colorscale\": [[0.0, \"#0d0887\"], [0.1111111111111111, \"#46039f\"], [0.2222222222222222, \"#7201a8\"], [0.3333333333333333, \"#9c179e\"], [0.4444444444444444, \"#bd3786\"], [0.5555555555555556, \"#d8576b\"], [0.6666666666666666, \"#ed7953\"], [0.7777777777777778, \"#fb9f3a\"], [0.8888888888888888, \"#fdca26\"], [1.0, \"#f0f921\"]], \"type\": \"heatmapgl\"}], \"histogram\": [{\"marker\": {\"colorbar\": {\"outlinewidth\": 0, \"ticks\": \"\"}}, \"type\": \"histogram\"}], \"histogram2d\": [{\"colorbar\": {\"outlinewidth\": 0, \"ticks\": \"\"}, \"colorscale\": [[0.0, \"#0d0887\"], [0.1111111111111111, \"#46039f\"], [0.2222222222222222, \"#7201a8\"], [0.3333333333333333, \"#9c179e\"], [0.4444444444444444, \"#bd3786\"], [0.5555555555555556, \"#d8576b\"], [0.6666666666666666, \"#ed7953\"], [0.7777777777777778, \"#fb9f3a\"], [0.8888888888888888, \"#fdca26\"], [1.0, \"#f0f921\"]], \"type\": \"histogram2d\"}], \"histogram2dcontour\": [{\"colorbar\": {\"outlinewidth\": 0, \"ticks\": \"\"}, \"colorscale\": [[0.0, \"#0d0887\"], [0.1111111111111111, \"#46039f\"], [0.2222222222222222, \"#7201a8\"], [0.3333333333333333, \"#9c179e\"], [0.4444444444444444, \"#bd3786\"], [0.5555555555555556, \"#d8576b\"], [0.6666666666666666, \"#ed7953\"], [0.7777777777777778, \"#fb9f3a\"], [0.8888888888888888, \"#fdca26\"], [1.0, \"#f0f921\"]], \"type\": \"histogram2dcontour\"}], \"mesh3d\": [{\"colorbar\": {\"outlinewidth\": 0, \"ticks\": \"\"}, \"type\": \"mesh3d\"}], \"parcoords\": [{\"line\": {\"colorbar\": {\"outlinewidth\": 0, \"ticks\": \"\"}}, \"type\": \"parcoords\"}], \"scatter\": [{\"marker\": {\"colorbar\": {\"outlinewidth\": 0, \"ticks\": \"\"}}, \"type\": \"scatter\"}], \"scatter3d\": [{\"line\": {\"colorbar\": {\"outlinewidth\": 0, \"ticks\": \"\"}}, \"marker\": {\"colorbar\": {\"outlinewidth\": 0, \"ticks\": \"\"}}, \"type\": \"scatter3d\"}], \"scattercarpet\": [{\"marker\": {\"colorbar\": {\"outlinewidth\": 0, \"ticks\": \"\"}}, \"type\": \"scattercarpet\"}], \"scattergeo\": [{\"marker\": {\"colorbar\": {\"outlinewidth\": 0, \"ticks\": \"\"}}, \"type\": \"scattergeo\"}], \"scattergl\": [{\"marker\": {\"colorbar\": {\"outlinewidth\": 0, \"ticks\": \"\"}}, \"type\": \"scattergl\"}], \"scattermapbox\": [{\"marker\": {\"colorbar\": {\"outlinewidth\": 0, \"ticks\": \"\"}}, \"type\": \"scattermapbox\"}], \"scatterpolar\": [{\"marker\": {\"colorbar\": {\"outlinewidth\": 0, \"ticks\": \"\"}}, \"type\": \"scatterpolar\"}], \"scatterpolargl\": [{\"marker\": {\"colorbar\": {\"outlinewidth\": 0, \"ticks\": \"\"}}, \"type\": \"scatterpolargl\"}], \"scatterternary\": [{\"marker\": {\"colorbar\": {\"outlinewidth\": 0, \"ticks\": \"\"}}, \"type\": \"scatterternary\"}], \"surface\": [{\"colorbar\": {\"outlinewidth\": 0, \"ticks\": \"\"}, \"colorscale\": [[0.0, \"#0d0887\"], [0.1111111111111111, \"#46039f\"], [0.2222222222222222, \"#7201a8\"], [0.3333333333333333, \"#9c179e\"], [0.4444444444444444, \"#bd3786\"], [0.5555555555555556, \"#d8576b\"], [0.6666666666666666, \"#ed7953\"], [0.7777777777777778, \"#fb9f3a\"], [0.8888888888888888, \"#fdca26\"], [1.0, \"#f0f921\"]], \"type\": \"surface\"}], \"table\": [{\"cells\": {\"fill\": {\"color\": \"#EBF0F8\"}, \"line\": {\"color\": \"white\"}}, \"header\": {\"fill\": {\"color\": \"#C8D4E3\"}, \"line\": {\"color\": \"white\"}}, \"type\": \"table\"}]}, \"layout\": {\"annotationdefaults\": {\"arrowcolor\": \"#2a3f5f\", \"arrowhead\": 0, \"arrowwidth\": 1}, \"colorscale\": {\"diverging\": [[0, \"#8e0152\"], [0.1, \"#c51b7d\"], [0.2, \"#de77ae\"], [0.3, \"#f1b6da\"], [0.4, \"#fde0ef\"], [0.5, \"#f7f7f7\"], [0.6, \"#e6f5d0\"], [0.7, \"#b8e186\"], [0.8, \"#7fbc41\"], [0.9, \"#4d9221\"], [1, \"#276419\"]], \"sequential\": [[0.0, \"#0d0887\"], [0.1111111111111111, \"#46039f\"], [0.2222222222222222, \"#7201a8\"], [0.3333333333333333, \"#9c179e\"], [0.4444444444444444, \"#bd3786\"], [0.5555555555555556, \"#d8576b\"], [0.6666666666666666, \"#ed7953\"], [0.7777777777777778, \"#fb9f3a\"], [0.8888888888888888, \"#fdca26\"], [1.0, \"#f0f921\"]], \"sequentialminus\": [[0.0, \"#0d0887\"], [0.1111111111111111, \"#46039f\"], [0.2222222222222222, \"#7201a8\"], [0.3333333333333333, \"#9c179e\"], [0.4444444444444444, \"#bd3786\"], [0.5555555555555556, \"#d8576b\"], [0.6666666666666666, \"#ed7953\"], [0.7777777777777778, \"#fb9f3a\"], [0.8888888888888888, \"#fdca26\"], [1.0, \"#f0f921\"]]}, \"colorway\": [\"#636efa\", \"#EF553B\", \"#00cc96\", \"#ab63fa\", \"#FFA15A\", \"#19d3f3\", \"#FF6692\", \"#B6E880\", \"#FF97FF\", \"#FECB52\"], \"font\": {\"color\": \"#2a3f5f\"}, \"geo\": {\"bgcolor\": \"white\", \"lakecolor\": \"white\", \"landcolor\": \"#E5ECF6\", \"showlakes\": true, \"showland\": true, \"subunitcolor\": \"white\"}, \"hoverlabel\": {\"align\": \"left\"}, \"hovermode\": \"closest\", \"mapbox\": {\"style\": \"light\"}, \"paper_bgcolor\": \"white\", \"plot_bgcolor\": \"#E5ECF6\", \"polar\": {\"angularaxis\": {\"gridcolor\": \"white\", \"linecolor\": \"white\", \"ticks\": \"\"}, \"bgcolor\": \"#E5ECF6\", \"radialaxis\": {\"gridcolor\": \"white\", \"linecolor\": \"white\", \"ticks\": \"\"}}, \"scene\": {\"xaxis\": {\"backgroundcolor\": \"#E5ECF6\", \"gridcolor\": \"white\", \"gridwidth\": 2, \"linecolor\": \"white\", \"showbackground\": true, \"ticks\": \"\", \"zerolinecolor\": \"white\"}, \"yaxis\": {\"backgroundcolor\": \"#E5ECF6\", \"gridcolor\": \"white\", \"gridwidth\": 2, \"linecolor\": \"white\", \"showbackground\": true, \"ticks\": \"\", \"zerolinecolor\": \"white\"}, \"zaxis\": {\"backgroundcolor\": \"#E5ECF6\", \"gridcolor\": \"white\", \"gridwidth\": 2, \"linecolor\": \"white\", \"showbackground\": true, \"ticks\": \"\", \"zerolinecolor\": \"white\"}}, \"shapedefaults\": {\"line\": {\"color\": \"#2a3f5f\"}}, \"ternary\": {\"aaxis\": {\"gridcolor\": \"white\", \"linecolor\": \"white\", \"ticks\": \"\"}, \"baxis\": {\"gridcolor\": \"white\", \"linecolor\": \"white\", \"ticks\": \"\"}, \"bgcolor\": \"#E5ECF6\", \"caxis\": {\"gridcolor\": \"white\", \"linecolor\": \"white\", \"ticks\": \"\"}}, \"title\": {\"x\": 0.05}, \"xaxis\": {\"automargin\": true, \"gridcolor\": \"white\", \"linecolor\": \"white\", \"ticks\": \"\", \"zerolinecolor\": \"white\", \"zerolinewidth\": 2}, \"yaxis\": {\"automargin\": true, \"gridcolor\": \"white\", \"linecolor\": \"white\", \"ticks\": \"\", \"zerolinecolor\": \"white\", \"zerolinewidth\": 2}}}, \"width\": 350, \"xaxis\": {\"dtick\": 1, \"gridcolor\": \"rgb(0, 0, 0)\", \"side\": \"top\", \"tickmode\": \"array\", \"ticks\": \"\", \"title\": {\"font\": {\"size\": 21}, \"text\": \"Predics\"}}, \"yaxis\": {\"dtick\": 1, \"tickmode\": \"array\", \"ticks\": \"\", \"ticksuffix\": \"  \", \"title\": {\"font\": {\"size\": 21}, \"text\": \"Actual\"}}},\n",
       "                        {\"responsive\": true}\n",
       "                    ).then(function(){\n",
       "                            \n",
       "var gd = document.getElementById('ea9c4516-6567-482c-a661-fb8193ed2900');\n",
       "var x = new MutationObserver(function (mutations, observer) {{\n",
       "        var display = window.getComputedStyle(gd).display;\n",
       "        if (!display || display === 'none') {{\n",
       "            console.log([gd, 'removed!']);\n",
       "            Plotly.purge(gd);\n",
       "            observer.disconnect();\n",
       "        }}\n",
       "}});\n",
       "\n",
       "// Listen for the removal of the full notebook cells\n",
       "var notebookContainer = gd.closest('#notebook-container');\n",
       "if (notebookContainer) {{\n",
       "    x.observe(notebookContainer, {childList: true});\n",
       "}}\n",
       "\n",
       "// Listen for the clearing of the current output cell\n",
       "var outputEl = gd.closest('.output');\n",
       "if (outputEl) {{\n",
       "    x.observe(outputEl, {childList: true});\n",
       "}}\n",
       "\n",
       "                        })\n",
       "                };\n",
       "                });\n",
       "            </script>\n",
       "        </div>"
      ]
     },
     "metadata": {
      "tags": []
     },
     "output_type": "display_data"
    }
   ],
   "source": [
    "# let's try the  NN\n",
    "from sklearn.neural_network import MLPClassifier\n",
    "clf_NN = MLPClassifier(solver='lbfgs', alpha=100, shuffle=True,\n",
    "                       hidden_layer_sizes=(50,50), random_state=1)\n",
    "\n",
    "#results(clf_NN, X, X_train_smote, y_train_smote, X_test, y_test, 'coefficients', 'fig2')\n",
    "\n",
    "# fit model and get predictions \n",
    "clf_NN.fit(X_train_smote, y_train_smote)\n",
    "#predictions\n",
    "prediction_train = clf_NN.predict(X_train_smote)\n",
    "prediction_test = clf_NN.predict(X_test)\n",
    "\n",
    "print('-'*90)\n",
    "print(clf_NN)\n",
    "\n",
    "print('-'*90)\n",
    "print('Training accuracy Score:', accuracy_score(y_train_smote, prediction_train))\n",
    "print('Model accuracy Score:', accuracy_score(y_test, prediction_test))\n",
    "\n",
    "print('-'*90)\n",
    "print('Classification Matrix:')\n",
    "print(classification_report(y_test, prediction_test))    \n",
    "\n",
    "print('-'*90)\n",
    "#print('Confusion Matrix:\\n', confusion_matrix(y_test, prediction_test))\n",
    "print('Confusion Matrix:\\n', pd.crosstab(y_test, prediction_test, rownames=['Actual'], colnames=['Predicted'],margins = True))\n",
    "conf_matrix = confusion_matrix(y_test, prediction_test)\n",
    "z=[list(conf_matrix[i]) for i in [1,0]]\n",
    "x = [\"not Churn\", \"churn\"]\n",
    "y = [\"Churn\", \"not churn\"]\n",
    "# change each element of z to type string for annotations\n",
    "z_text = [[str(y) for y in x] for x in z]\n",
    "# set up figure \n",
    "fig1 = ff.create_annotated_heatmap(z, x=[\"not Churn\", \"churn\"], y=[\"Churn\", \"not churn\"],\n",
    "                                  annotation_text=z_text, colorscale='Viridis')\n",
    "fig1.update_layout( autosize=False, width=350, height=350,\n",
    "    yaxis=dict( title_text=\"Actual\", tickmode=\"array\", titlefont=dict(size=21)),\n",
    "    xaxis=dict(title_text=\"Predics\", tickmode=\"array\", titlefont=dict(size=21)),\n",
    "    )\n",
    "fig1.show()    "
   ]
  },
  {
   "cell_type": "code",
   "execution_count": 0,
   "metadata": {
    "colab": {},
    "colab_type": "code",
    "id": "q8tl8RbpUMyf",
    "outputId": "e1b57925-d0bf-4d43-fa09-a6c24bc271de"
   },
   "outputs": [
    {
     "name": "stderr",
     "output_type": "stream",
     "text": [
      "C:\\Anaconda3\\envs\\learn-env\\lib\\site-packages\\sklearn\\ensemble\\forest.py:460: UserWarning:\n",
      "\n",
      "Some inputs do not have OOB scores. This probably means too few trees were used to compute any reliable oob estimates.\n",
      "\n",
      "C:\\Anaconda3\\envs\\learn-env\\lib\\site-packages\\sklearn\\ensemble\\forest.py:465: RuntimeWarning:\n",
      "\n",
      "invalid value encountered in true_divide\n",
      "\n"
     ]
    },
    {
     "data": {
      "text/html": [
       "<div>\n",
       "<style scoped>\n",
       "    .dataframe tbody tr th:only-of-type {\n",
       "        vertical-align: middle;\n",
       "    }\n",
       "\n",
       "    .dataframe tbody tr th {\n",
       "        vertical-align: top;\n",
       "    }\n",
       "\n",
       "    .dataframe thead th {\n",
       "        text-align: right;\n",
       "    }\n",
       "</style>\n",
       "<table border=\"1\" class=\"dataframe\">\n",
       "  <thead>\n",
       "    <tr style=\"text-align: right;\">\n",
       "      <th></th>\n",
       "      <th>Model</th>\n",
       "      <th>Accuracy_score</th>\n",
       "      <th>Recall_score</th>\n",
       "      <th>Precision</th>\n",
       "      <th>f1_score</th>\n",
       "      <th>Area_under_curve</th>\n",
       "    </tr>\n",
       "  </thead>\n",
       "  <tbody>\n",
       "    <tr>\n",
       "      <td>0</td>\n",
       "      <td>Logistic Regression</td>\n",
       "      <td>0.755973</td>\n",
       "      <td>0.795117</td>\n",
       "      <td>0.529703</td>\n",
       "      <td>0.635823</td>\n",
       "      <td>0.768382</td>\n",
       "    </tr>\n",
       "    <tr>\n",
       "      <td>1</td>\n",
       "      <td>Random Forest Classifier</td>\n",
       "      <td>0.749431</td>\n",
       "      <td>0.781316</td>\n",
       "      <td>0.521616</td>\n",
       "      <td>0.625584</td>\n",
       "      <td>0.759539</td>\n",
       "    </tr>\n",
       "    <tr>\n",
       "      <td>2</td>\n",
       "      <td>SVM Classifier Linear</td>\n",
       "      <td>0.752275</td>\n",
       "      <td>0.776008</td>\n",
       "      <td>0.525521</td>\n",
       "      <td>0.626661</td>\n",
       "      <td>0.759799</td>\n",
       "    </tr>\n",
       "    <tr>\n",
       "      <td>3</td>\n",
       "      <td>XGBoost Classifier</td>\n",
       "      <td>0.719283</td>\n",
       "      <td>0.836518</td>\n",
       "      <td>0.486120</td>\n",
       "      <td>0.614904</td>\n",
       "      <td>0.756449</td>\n",
       "    </tr>\n",
       "    <tr>\n",
       "      <td>4</td>\n",
       "      <td>neural_network MLPClassifier</td>\n",
       "      <td>0.757964</td>\n",
       "      <td>0.763270</td>\n",
       "      <td>0.533779</td>\n",
       "      <td>0.628222</td>\n",
       "      <td>0.759646</td>\n",
       "    </tr>\n",
       "  </tbody>\n",
       "</table>\n",
       "</div>"
      ],
      "text/plain": [
       "                          Model  Accuracy_score  Recall_score  Precision  \\\n",
       "0           Logistic Regression        0.755973      0.795117   0.529703   \n",
       "1      Random Forest Classifier        0.749431      0.781316   0.521616   \n",
       "2         SVM Classifier Linear        0.752275      0.776008   0.525521   \n",
       "3            XGBoost Classifier        0.719283      0.836518   0.486120   \n",
       "4  neural_network MLPClassifier        0.757964      0.763270   0.533779   \n",
       "\n",
       "   f1_score  Area_under_curve  \n",
       "0  0.635823          0.768382  \n",
       "1  0.625584          0.759539  \n",
       "2  0.626661          0.759799  \n",
       "3  0.614904          0.756449  \n",
       "4  0.628222          0.759646  "
      ]
     },
     "metadata": {
      "tags": []
     },
     "output_type": "display_data"
    },
    {
     "data": {
      "application/vnd.plotly.v1+json": {
       "config": {
        "plotlyServerURL": "https://plot.ly"
       },
       "data": [
        {
         "marker": {
          "color": "#6699FF",
          "line": {
           "width": 0.7
          }
         },
         "name": "Accuracy_score",
         "orientation": "h",
         "type": "bar",
         "x": [
          0.7559726962457338,
          0.7494311717861206,
          0.7522753128555176,
          0.7192832764505119,
          0.7579635949943118
         ],
         "y": [
          "Logistic Regression",
          "Random Forest Classifier",
          "SVM Classifier Linear",
          "XGBoost Classifier",
          "neural_network MLPClassifier"
         ]
        },
        {
         "marker": {
          "color": "red",
          "line": {
           "width": 0.7
          }
         },
         "name": "Recall_score",
         "orientation": "h",
         "type": "bar",
         "x": [
          0.7951167728237792,
          0.7813163481953291,
          0.7760084925690022,
          0.8365180467091295,
          0.7632696390658175
         ],
         "y": [
          "Logistic Regression",
          "Random Forest Classifier",
          "SVM Classifier Linear",
          "XGBoost Classifier",
          "neural_network MLPClassifier"
         ]
        },
        {
         "marker": {
          "color": "#33CC99",
          "line": {
           "width": 0.7
          }
         },
         "name": "Precision",
         "orientation": "h",
         "type": "bar",
         "x": [
          0.5297029702970297,
          0.5216158752657689,
          0.5255212077641984,
          0.486119679210364,
          0.5337787676317743
         ],
         "y": [
          "Logistic Regression",
          "Random Forest Classifier",
          "SVM Classifier Linear",
          "XGBoost Classifier",
          "neural_network MLPClassifier"
         ]
        },
        {
         "marker": {
          "color": "lightgrey",
          "line": {
           "width": 0.7
          }
         },
         "name": "f1_score",
         "orientation": "h",
         "type": "bar",
         "x": [
          0.6358234295415959,
          0.6255843603909902,
          0.6266609515645092,
          0.6149044088958253,
          0.6282219309742246
         ],
         "y": [
          "Logistic Regression",
          "Random Forest Classifier",
          "SVM Classifier Linear",
          "XGBoost Classifier",
          "neural_network MLPClassifier"
         ]
        }
       ],
       "layout": {
        "height": 780,
        "margin": {
         "l": 250
        },
        "paper_bgcolor": "rgb(243,243,243)",
        "plot_bgcolor": "rgb(243,243,243)",
        "template": {
         "data": {
          "bar": [
           {
            "error_x": {
             "color": "#2a3f5f"
            },
            "error_y": {
             "color": "#2a3f5f"
            },
            "marker": {
             "line": {
              "color": "#E5ECF6",
              "width": 0.5
             }
            },
            "type": "bar"
           }
          ],
          "barpolar": [
           {
            "marker": {
             "line": {
              "color": "#E5ECF6",
              "width": 0.5
             }
            },
            "type": "barpolar"
           }
          ],
          "carpet": [
           {
            "aaxis": {
             "endlinecolor": "#2a3f5f",
             "gridcolor": "white",
             "linecolor": "white",
             "minorgridcolor": "white",
             "startlinecolor": "#2a3f5f"
            },
            "baxis": {
             "endlinecolor": "#2a3f5f",
             "gridcolor": "white",
             "linecolor": "white",
             "minorgridcolor": "white",
             "startlinecolor": "#2a3f5f"
            },
            "type": "carpet"
           }
          ],
          "choropleth": [
           {
            "colorbar": {
             "outlinewidth": 0,
             "ticks": ""
            },
            "type": "choropleth"
           }
          ],
          "contour": [
           {
            "colorbar": {
             "outlinewidth": 0,
             "ticks": ""
            },
            "colorscale": [
             [
              0,
              "#0d0887"
             ],
             [
              0.1111111111111111,
              "#46039f"
             ],
             [
              0.2222222222222222,
              "#7201a8"
             ],
             [
              0.3333333333333333,
              "#9c179e"
             ],
             [
              0.4444444444444444,
              "#bd3786"
             ],
             [
              0.5555555555555556,
              "#d8576b"
             ],
             [
              0.6666666666666666,
              "#ed7953"
             ],
             [
              0.7777777777777778,
              "#fb9f3a"
             ],
             [
              0.8888888888888888,
              "#fdca26"
             ],
             [
              1,
              "#f0f921"
             ]
            ],
            "type": "contour"
           }
          ],
          "contourcarpet": [
           {
            "colorbar": {
             "outlinewidth": 0,
             "ticks": ""
            },
            "type": "contourcarpet"
           }
          ],
          "heatmap": [
           {
            "colorbar": {
             "outlinewidth": 0,
             "ticks": ""
            },
            "colorscale": [
             [
              0,
              "#0d0887"
             ],
             [
              0.1111111111111111,
              "#46039f"
             ],
             [
              0.2222222222222222,
              "#7201a8"
             ],
             [
              0.3333333333333333,
              "#9c179e"
             ],
             [
              0.4444444444444444,
              "#bd3786"
             ],
             [
              0.5555555555555556,
              "#d8576b"
             ],
             [
              0.6666666666666666,
              "#ed7953"
             ],
             [
              0.7777777777777778,
              "#fb9f3a"
             ],
             [
              0.8888888888888888,
              "#fdca26"
             ],
             [
              1,
              "#f0f921"
             ]
            ],
            "type": "heatmap"
           }
          ],
          "heatmapgl": [
           {
            "colorbar": {
             "outlinewidth": 0,
             "ticks": ""
            },
            "colorscale": [
             [
              0,
              "#0d0887"
             ],
             [
              0.1111111111111111,
              "#46039f"
             ],
             [
              0.2222222222222222,
              "#7201a8"
             ],
             [
              0.3333333333333333,
              "#9c179e"
             ],
             [
              0.4444444444444444,
              "#bd3786"
             ],
             [
              0.5555555555555556,
              "#d8576b"
             ],
             [
              0.6666666666666666,
              "#ed7953"
             ],
             [
              0.7777777777777778,
              "#fb9f3a"
             ],
             [
              0.8888888888888888,
              "#fdca26"
             ],
             [
              1,
              "#f0f921"
             ]
            ],
            "type": "heatmapgl"
           }
          ],
          "histogram": [
           {
            "marker": {
             "colorbar": {
              "outlinewidth": 0,
              "ticks": ""
             }
            },
            "type": "histogram"
           }
          ],
          "histogram2d": [
           {
            "colorbar": {
             "outlinewidth": 0,
             "ticks": ""
            },
            "colorscale": [
             [
              0,
              "#0d0887"
             ],
             [
              0.1111111111111111,
              "#46039f"
             ],
             [
              0.2222222222222222,
              "#7201a8"
             ],
             [
              0.3333333333333333,
              "#9c179e"
             ],
             [
              0.4444444444444444,
              "#bd3786"
             ],
             [
              0.5555555555555556,
              "#d8576b"
             ],
             [
              0.6666666666666666,
              "#ed7953"
             ],
             [
              0.7777777777777778,
              "#fb9f3a"
             ],
             [
              0.8888888888888888,
              "#fdca26"
             ],
             [
              1,
              "#f0f921"
             ]
            ],
            "type": "histogram2d"
           }
          ],
          "histogram2dcontour": [
           {
            "colorbar": {
             "outlinewidth": 0,
             "ticks": ""
            },
            "colorscale": [
             [
              0,
              "#0d0887"
             ],
             [
              0.1111111111111111,
              "#46039f"
             ],
             [
              0.2222222222222222,
              "#7201a8"
             ],
             [
              0.3333333333333333,
              "#9c179e"
             ],
             [
              0.4444444444444444,
              "#bd3786"
             ],
             [
              0.5555555555555556,
              "#d8576b"
             ],
             [
              0.6666666666666666,
              "#ed7953"
             ],
             [
              0.7777777777777778,
              "#fb9f3a"
             ],
             [
              0.8888888888888888,
              "#fdca26"
             ],
             [
              1,
              "#f0f921"
             ]
            ],
            "type": "histogram2dcontour"
           }
          ],
          "mesh3d": [
           {
            "colorbar": {
             "outlinewidth": 0,
             "ticks": ""
            },
            "type": "mesh3d"
           }
          ],
          "parcoords": [
           {
            "line": {
             "colorbar": {
              "outlinewidth": 0,
              "ticks": ""
             }
            },
            "type": "parcoords"
           }
          ],
          "scatter": [
           {
            "marker": {
             "colorbar": {
              "outlinewidth": 0,
              "ticks": ""
             }
            },
            "type": "scatter"
           }
          ],
          "scatter3d": [
           {
            "line": {
             "colorbar": {
              "outlinewidth": 0,
              "ticks": ""
             }
            },
            "marker": {
             "colorbar": {
              "outlinewidth": 0,
              "ticks": ""
             }
            },
            "type": "scatter3d"
           }
          ],
          "scattercarpet": [
           {
            "marker": {
             "colorbar": {
              "outlinewidth": 0,
              "ticks": ""
             }
            },
            "type": "scattercarpet"
           }
          ],
          "scattergeo": [
           {
            "marker": {
             "colorbar": {
              "outlinewidth": 0,
              "ticks": ""
             }
            },
            "type": "scattergeo"
           }
          ],
          "scattergl": [
           {
            "marker": {
             "colorbar": {
              "outlinewidth": 0,
              "ticks": ""
             }
            },
            "type": "scattergl"
           }
          ],
          "scattermapbox": [
           {
            "marker": {
             "colorbar": {
              "outlinewidth": 0,
              "ticks": ""
             }
            },
            "type": "scattermapbox"
           }
          ],
          "scatterpolar": [
           {
            "marker": {
             "colorbar": {
              "outlinewidth": 0,
              "ticks": ""
             }
            },
            "type": "scatterpolar"
           }
          ],
          "scatterpolargl": [
           {
            "marker": {
             "colorbar": {
              "outlinewidth": 0,
              "ticks": ""
             }
            },
            "type": "scatterpolargl"
           }
          ],
          "scatterternary": [
           {
            "marker": {
             "colorbar": {
              "outlinewidth": 0,
              "ticks": ""
             }
            },
            "type": "scatterternary"
           }
          ],
          "surface": [
           {
            "colorbar": {
             "outlinewidth": 0,
             "ticks": ""
            },
            "colorscale": [
             [
              0,
              "#0d0887"
             ],
             [
              0.1111111111111111,
              "#46039f"
             ],
             [
              0.2222222222222222,
              "#7201a8"
             ],
             [
              0.3333333333333333,
              "#9c179e"
             ],
             [
              0.4444444444444444,
              "#bd3786"
             ],
             [
              0.5555555555555556,
              "#d8576b"
             ],
             [
              0.6666666666666666,
              "#ed7953"
             ],
             [
              0.7777777777777778,
              "#fb9f3a"
             ],
             [
              0.8888888888888888,
              "#fdca26"
             ],
             [
              1,
              "#f0f921"
             ]
            ],
            "type": "surface"
           }
          ],
          "table": [
           {
            "cells": {
             "fill": {
              "color": "#EBF0F8"
             },
             "line": {
              "color": "white"
             }
            },
            "header": {
             "fill": {
              "color": "#C8D4E3"
             },
             "line": {
              "color": "white"
             }
            },
            "type": "table"
           }
          ]
         },
         "layout": {
          "annotationdefaults": {
           "arrowcolor": "#2a3f5f",
           "arrowhead": 0,
           "arrowwidth": 1
          },
          "colorscale": {
           "diverging": [
            [
             0,
             "#8e0152"
            ],
            [
             0.1,
             "#c51b7d"
            ],
            [
             0.2,
             "#de77ae"
            ],
            [
             0.3,
             "#f1b6da"
            ],
            [
             0.4,
             "#fde0ef"
            ],
            [
             0.5,
             "#f7f7f7"
            ],
            [
             0.6,
             "#e6f5d0"
            ],
            [
             0.7,
             "#b8e186"
            ],
            [
             0.8,
             "#7fbc41"
            ],
            [
             0.9,
             "#4d9221"
            ],
            [
             1,
             "#276419"
            ]
           ],
           "sequential": [
            [
             0,
             "#0d0887"
            ],
            [
             0.1111111111111111,
             "#46039f"
            ],
            [
             0.2222222222222222,
             "#7201a8"
            ],
            [
             0.3333333333333333,
             "#9c179e"
            ],
            [
             0.4444444444444444,
             "#bd3786"
            ],
            [
             0.5555555555555556,
             "#d8576b"
            ],
            [
             0.6666666666666666,
             "#ed7953"
            ],
            [
             0.7777777777777778,
             "#fb9f3a"
            ],
            [
             0.8888888888888888,
             "#fdca26"
            ],
            [
             1,
             "#f0f921"
            ]
           ],
           "sequentialminus": [
            [
             0,
             "#0d0887"
            ],
            [
             0.1111111111111111,
             "#46039f"
            ],
            [
             0.2222222222222222,
             "#7201a8"
            ],
            [
             0.3333333333333333,
             "#9c179e"
            ],
            [
             0.4444444444444444,
             "#bd3786"
            ],
            [
             0.5555555555555556,
             "#d8576b"
            ],
            [
             0.6666666666666666,
             "#ed7953"
            ],
            [
             0.7777777777777778,
             "#fb9f3a"
            ],
            [
             0.8888888888888888,
             "#fdca26"
            ],
            [
             1,
             "#f0f921"
            ]
           ]
          },
          "colorway": [
           "#636efa",
           "#EF553B",
           "#00cc96",
           "#ab63fa",
           "#FFA15A",
           "#19d3f3",
           "#FF6692",
           "#B6E880",
           "#FF97FF",
           "#FECB52"
          ],
          "font": {
           "color": "#2a3f5f"
          },
          "geo": {
           "bgcolor": "white",
           "lakecolor": "white",
           "landcolor": "#E5ECF6",
           "showlakes": true,
           "showland": true,
           "subunitcolor": "white"
          },
          "hoverlabel": {
           "align": "left"
          },
          "hovermode": "closest",
          "mapbox": {
           "style": "light"
          },
          "paper_bgcolor": "white",
          "plot_bgcolor": "#E5ECF6",
          "polar": {
           "angularaxis": {
            "gridcolor": "white",
            "linecolor": "white",
            "ticks": ""
           },
           "bgcolor": "#E5ECF6",
           "radialaxis": {
            "gridcolor": "white",
            "linecolor": "white",
            "ticks": ""
           }
          },
          "scene": {
           "xaxis": {
            "backgroundcolor": "#E5ECF6",
            "gridcolor": "white",
            "gridwidth": 2,
            "linecolor": "white",
            "showbackground": true,
            "ticks": "",
            "zerolinecolor": "white"
           },
           "yaxis": {
            "backgroundcolor": "#E5ECF6",
            "gridcolor": "white",
            "gridwidth": 2,
            "linecolor": "white",
            "showbackground": true,
            "ticks": "",
            "zerolinecolor": "white"
           },
           "zaxis": {
            "backgroundcolor": "#E5ECF6",
            "gridcolor": "white",
            "gridwidth": 2,
            "linecolor": "white",
            "showbackground": true,
            "ticks": "",
            "zerolinecolor": "white"
           }
          },
          "shapedefaults": {
           "line": {
            "color": "#2a3f5f"
           }
          },
          "ternary": {
           "aaxis": {
            "gridcolor": "white",
            "linecolor": "white",
            "ticks": ""
           },
           "baxis": {
            "gridcolor": "white",
            "linecolor": "white",
            "ticks": ""
           },
           "bgcolor": "#E5ECF6",
           "caxis": {
            "gridcolor": "white",
            "linecolor": "white",
            "ticks": ""
           }
          },
          "title": {
           "x": 0.05
          },
          "xaxis": {
           "automargin": true,
           "gridcolor": "white",
           "linecolor": "white",
           "ticks": "",
           "zerolinecolor": "white",
           "zerolinewidth": 2
          },
          "yaxis": {
           "automargin": true,
           "gridcolor": "white",
           "linecolor": "white",
           "ticks": "",
           "zerolinecolor": "white",
           "zerolinewidth": 2
          }
         }
        },
        "title": {
         "text": "Model performances"
        },
        "xaxis": {
         "gridcolor": "rgb(255, 255, 255)",
         "gridwidth": 2,
         "ticklen": 5,
         "title": {
          "text": "metric"
         },
         "zerolinewidth": 1
        },
        "yaxis": {
         "gridcolor": "rgb(255, 255, 255)",
         "gridwidth": 2,
         "ticklen": 5,
         "zerolinewidth": 1
        }
       }
      },
      "text/html": [
       "<div>\n",
       "        \n",
       "        \n",
       "            <div id=\"5a725858-a798-4381-83f1-e8902d431d5a\" class=\"plotly-graph-div\" style=\"height:780px; width:100%;\"></div>\n",
       "            <script type=\"text/javascript\">\n",
       "                require([\"plotly\"], function(Plotly) {\n",
       "                    window.PLOTLYENV=window.PLOTLYENV || {};\n",
       "                    \n",
       "                if (document.getElementById(\"5a725858-a798-4381-83f1-e8902d431d5a\")) {\n",
       "                    Plotly.newPlot(\n",
       "                        '5a725858-a798-4381-83f1-e8902d431d5a',\n",
       "                        [{\"marker\": {\"color\": \"#6699FF\", \"line\": {\"width\": 0.7}}, \"name\": \"Accuracy_score\", \"orientation\": \"h\", \"type\": \"bar\", \"x\": [0.7559726962457338, 0.7494311717861206, 0.7522753128555176, 0.7192832764505119, 0.7579635949943118], \"y\": [\"Logistic Regression\", \"Random Forest Classifier\", \"SVM Classifier Linear\", \"XGBoost Classifier\", \"neural_network MLPClassifier\"]}, {\"marker\": {\"color\": \"red\", \"line\": {\"width\": 0.7}}, \"name\": \"Recall_score\", \"orientation\": \"h\", \"type\": \"bar\", \"x\": [0.7951167728237792, 0.7813163481953291, 0.7760084925690022, 0.8365180467091295, 0.7632696390658175], \"y\": [\"Logistic Regression\", \"Random Forest Classifier\", \"SVM Classifier Linear\", \"XGBoost Classifier\", \"neural_network MLPClassifier\"]}, {\"marker\": {\"color\": \"#33CC99\", \"line\": {\"width\": 0.7}}, \"name\": \"Precision\", \"orientation\": \"h\", \"type\": \"bar\", \"x\": [0.5297029702970297, 0.5216158752657689, 0.5255212077641984, 0.486119679210364, 0.5337787676317743], \"y\": [\"Logistic Regression\", \"Random Forest Classifier\", \"SVM Classifier Linear\", \"XGBoost Classifier\", \"neural_network MLPClassifier\"]}, {\"marker\": {\"color\": \"lightgrey\", \"line\": {\"width\": 0.7}}, \"name\": \"f1_score\", \"orientation\": \"h\", \"type\": \"bar\", \"x\": [0.6358234295415959, 0.6255843603909902, 0.6266609515645092, 0.6149044088958253, 0.6282219309742246], \"y\": [\"Logistic Regression\", \"Random Forest Classifier\", \"SVM Classifier Linear\", \"XGBoost Classifier\", \"neural_network MLPClassifier\"]}],\n",
       "                        {\"height\": 780, \"margin\": {\"l\": 250}, \"paper_bgcolor\": \"rgb(243,243,243)\", \"plot_bgcolor\": \"rgb(243,243,243)\", \"template\": {\"data\": {\"bar\": [{\"error_x\": {\"color\": \"#2a3f5f\"}, \"error_y\": {\"color\": \"#2a3f5f\"}, \"marker\": {\"line\": {\"color\": \"#E5ECF6\", \"width\": 0.5}}, \"type\": \"bar\"}], \"barpolar\": [{\"marker\": {\"line\": {\"color\": \"#E5ECF6\", \"width\": 0.5}}, \"type\": \"barpolar\"}], \"carpet\": [{\"aaxis\": {\"endlinecolor\": \"#2a3f5f\", \"gridcolor\": \"white\", \"linecolor\": \"white\", \"minorgridcolor\": \"white\", \"startlinecolor\": \"#2a3f5f\"}, \"baxis\": {\"endlinecolor\": \"#2a3f5f\", \"gridcolor\": \"white\", \"linecolor\": \"white\", \"minorgridcolor\": \"white\", \"startlinecolor\": \"#2a3f5f\"}, \"type\": \"carpet\"}], \"choropleth\": [{\"colorbar\": {\"outlinewidth\": 0, \"ticks\": \"\"}, \"type\": \"choropleth\"}], \"contour\": [{\"colorbar\": {\"outlinewidth\": 0, \"ticks\": \"\"}, \"colorscale\": [[0.0, \"#0d0887\"], [0.1111111111111111, \"#46039f\"], [0.2222222222222222, \"#7201a8\"], [0.3333333333333333, \"#9c179e\"], [0.4444444444444444, \"#bd3786\"], [0.5555555555555556, \"#d8576b\"], [0.6666666666666666, \"#ed7953\"], [0.7777777777777778, \"#fb9f3a\"], [0.8888888888888888, \"#fdca26\"], [1.0, \"#f0f921\"]], \"type\": \"contour\"}], \"contourcarpet\": [{\"colorbar\": {\"outlinewidth\": 0, \"ticks\": \"\"}, \"type\": \"contourcarpet\"}], \"heatmap\": [{\"colorbar\": {\"outlinewidth\": 0, \"ticks\": \"\"}, \"colorscale\": [[0.0, \"#0d0887\"], [0.1111111111111111, \"#46039f\"], [0.2222222222222222, \"#7201a8\"], [0.3333333333333333, \"#9c179e\"], [0.4444444444444444, \"#bd3786\"], [0.5555555555555556, \"#d8576b\"], [0.6666666666666666, \"#ed7953\"], [0.7777777777777778, \"#fb9f3a\"], [0.8888888888888888, \"#fdca26\"], [1.0, \"#f0f921\"]], \"type\": \"heatmap\"}], \"heatmapgl\": [{\"colorbar\": {\"outlinewidth\": 0, \"ticks\": \"\"}, \"colorscale\": [[0.0, \"#0d0887\"], [0.1111111111111111, \"#46039f\"], [0.2222222222222222, \"#7201a8\"], [0.3333333333333333, \"#9c179e\"], [0.4444444444444444, \"#bd3786\"], [0.5555555555555556, \"#d8576b\"], [0.6666666666666666, \"#ed7953\"], [0.7777777777777778, \"#fb9f3a\"], [0.8888888888888888, \"#fdca26\"], [1.0, \"#f0f921\"]], \"type\": \"heatmapgl\"}], \"histogram\": [{\"marker\": {\"colorbar\": {\"outlinewidth\": 0, \"ticks\": \"\"}}, \"type\": \"histogram\"}], \"histogram2d\": [{\"colorbar\": {\"outlinewidth\": 0, \"ticks\": \"\"}, \"colorscale\": [[0.0, \"#0d0887\"], [0.1111111111111111, \"#46039f\"], [0.2222222222222222, \"#7201a8\"], [0.3333333333333333, \"#9c179e\"], [0.4444444444444444, \"#bd3786\"], [0.5555555555555556, \"#d8576b\"], [0.6666666666666666, \"#ed7953\"], [0.7777777777777778, \"#fb9f3a\"], [0.8888888888888888, \"#fdca26\"], [1.0, \"#f0f921\"]], \"type\": \"histogram2d\"}], \"histogram2dcontour\": [{\"colorbar\": {\"outlinewidth\": 0, \"ticks\": \"\"}, \"colorscale\": [[0.0, \"#0d0887\"], [0.1111111111111111, \"#46039f\"], [0.2222222222222222, \"#7201a8\"], [0.3333333333333333, \"#9c179e\"], [0.4444444444444444, \"#bd3786\"], [0.5555555555555556, \"#d8576b\"], [0.6666666666666666, \"#ed7953\"], [0.7777777777777778, \"#fb9f3a\"], [0.8888888888888888, \"#fdca26\"], [1.0, \"#f0f921\"]], \"type\": \"histogram2dcontour\"}], \"mesh3d\": [{\"colorbar\": {\"outlinewidth\": 0, \"ticks\": \"\"}, \"type\": \"mesh3d\"}], \"parcoords\": [{\"line\": {\"colorbar\": {\"outlinewidth\": 0, \"ticks\": \"\"}}, \"type\": \"parcoords\"}], \"scatter\": [{\"marker\": {\"colorbar\": {\"outlinewidth\": 0, \"ticks\": \"\"}}, \"type\": \"scatter\"}], \"scatter3d\": [{\"line\": {\"colorbar\": {\"outlinewidth\": 0, \"ticks\": \"\"}}, \"marker\": {\"colorbar\": {\"outlinewidth\": 0, \"ticks\": \"\"}}, \"type\": \"scatter3d\"}], \"scattercarpet\": [{\"marker\": {\"colorbar\": {\"outlinewidth\": 0, \"ticks\": \"\"}}, \"type\": \"scattercarpet\"}], \"scattergeo\": [{\"marker\": {\"colorbar\": {\"outlinewidth\": 0, \"ticks\": \"\"}}, \"type\": \"scattergeo\"}], \"scattergl\": [{\"marker\": {\"colorbar\": {\"outlinewidth\": 0, \"ticks\": \"\"}}, \"type\": \"scattergl\"}], \"scattermapbox\": [{\"marker\": {\"colorbar\": {\"outlinewidth\": 0, \"ticks\": \"\"}}, \"type\": \"scattermapbox\"}], \"scatterpolar\": [{\"marker\": {\"colorbar\": {\"outlinewidth\": 0, \"ticks\": \"\"}}, \"type\": \"scatterpolar\"}], \"scatterpolargl\": [{\"marker\": {\"colorbar\": {\"outlinewidth\": 0, \"ticks\": \"\"}}, \"type\": \"scatterpolargl\"}], \"scatterternary\": [{\"marker\": {\"colorbar\": {\"outlinewidth\": 0, \"ticks\": \"\"}}, \"type\": \"scatterternary\"}], \"surface\": [{\"colorbar\": {\"outlinewidth\": 0, \"ticks\": \"\"}, \"colorscale\": [[0.0, \"#0d0887\"], [0.1111111111111111, \"#46039f\"], [0.2222222222222222, \"#7201a8\"], [0.3333333333333333, \"#9c179e\"], [0.4444444444444444, \"#bd3786\"], [0.5555555555555556, \"#d8576b\"], [0.6666666666666666, \"#ed7953\"], [0.7777777777777778, \"#fb9f3a\"], [0.8888888888888888, \"#fdca26\"], [1.0, \"#f0f921\"]], \"type\": \"surface\"}], \"table\": [{\"cells\": {\"fill\": {\"color\": \"#EBF0F8\"}, \"line\": {\"color\": \"white\"}}, \"header\": {\"fill\": {\"color\": \"#C8D4E3\"}, \"line\": {\"color\": \"white\"}}, \"type\": \"table\"}]}, \"layout\": {\"annotationdefaults\": {\"arrowcolor\": \"#2a3f5f\", \"arrowhead\": 0, \"arrowwidth\": 1}, \"colorscale\": {\"diverging\": [[0, \"#8e0152\"], [0.1, \"#c51b7d\"], [0.2, \"#de77ae\"], [0.3, \"#f1b6da\"], [0.4, \"#fde0ef\"], [0.5, \"#f7f7f7\"], [0.6, \"#e6f5d0\"], [0.7, \"#b8e186\"], [0.8, \"#7fbc41\"], [0.9, \"#4d9221\"], [1, \"#276419\"]], \"sequential\": [[0.0, \"#0d0887\"], [0.1111111111111111, \"#46039f\"], [0.2222222222222222, \"#7201a8\"], [0.3333333333333333, \"#9c179e\"], [0.4444444444444444, \"#bd3786\"], [0.5555555555555556, \"#d8576b\"], [0.6666666666666666, \"#ed7953\"], [0.7777777777777778, \"#fb9f3a\"], [0.8888888888888888, \"#fdca26\"], [1.0, \"#f0f921\"]], \"sequentialminus\": [[0.0, \"#0d0887\"], [0.1111111111111111, \"#46039f\"], [0.2222222222222222, \"#7201a8\"], [0.3333333333333333, \"#9c179e\"], [0.4444444444444444, \"#bd3786\"], [0.5555555555555556, \"#d8576b\"], [0.6666666666666666, \"#ed7953\"], [0.7777777777777778, \"#fb9f3a\"], [0.8888888888888888, \"#fdca26\"], [1.0, \"#f0f921\"]]}, \"colorway\": [\"#636efa\", \"#EF553B\", \"#00cc96\", \"#ab63fa\", \"#FFA15A\", \"#19d3f3\", \"#FF6692\", \"#B6E880\", \"#FF97FF\", \"#FECB52\"], \"font\": {\"color\": \"#2a3f5f\"}, \"geo\": {\"bgcolor\": \"white\", \"lakecolor\": \"white\", \"landcolor\": \"#E5ECF6\", \"showlakes\": true, \"showland\": true, \"subunitcolor\": \"white\"}, \"hoverlabel\": {\"align\": \"left\"}, \"hovermode\": \"closest\", \"mapbox\": {\"style\": \"light\"}, \"paper_bgcolor\": \"white\", \"plot_bgcolor\": \"#E5ECF6\", \"polar\": {\"angularaxis\": {\"gridcolor\": \"white\", \"linecolor\": \"white\", \"ticks\": \"\"}, \"bgcolor\": \"#E5ECF6\", \"radialaxis\": {\"gridcolor\": \"white\", \"linecolor\": \"white\", \"ticks\": \"\"}}, \"scene\": {\"xaxis\": {\"backgroundcolor\": \"#E5ECF6\", \"gridcolor\": \"white\", \"gridwidth\": 2, \"linecolor\": \"white\", \"showbackground\": true, \"ticks\": \"\", \"zerolinecolor\": \"white\"}, \"yaxis\": {\"backgroundcolor\": \"#E5ECF6\", \"gridcolor\": \"white\", \"gridwidth\": 2, \"linecolor\": \"white\", \"showbackground\": true, \"ticks\": \"\", \"zerolinecolor\": \"white\"}, \"zaxis\": {\"backgroundcolor\": \"#E5ECF6\", \"gridcolor\": \"white\", \"gridwidth\": 2, \"linecolor\": \"white\", \"showbackground\": true, \"ticks\": \"\", \"zerolinecolor\": \"white\"}}, \"shapedefaults\": {\"line\": {\"color\": \"#2a3f5f\"}}, \"ternary\": {\"aaxis\": {\"gridcolor\": \"white\", \"linecolor\": \"white\", \"ticks\": \"\"}, \"baxis\": {\"gridcolor\": \"white\", \"linecolor\": \"white\", \"ticks\": \"\"}, \"bgcolor\": \"#E5ECF6\", \"caxis\": {\"gridcolor\": \"white\", \"linecolor\": \"white\", \"ticks\": \"\"}}, \"title\": {\"x\": 0.05}, \"xaxis\": {\"automargin\": true, \"gridcolor\": \"white\", \"linecolor\": \"white\", \"ticks\": \"\", \"zerolinecolor\": \"white\", \"zerolinewidth\": 2}, \"yaxis\": {\"automargin\": true, \"gridcolor\": \"white\", \"linecolor\": \"white\", \"ticks\": \"\", \"zerolinecolor\": \"white\", \"zerolinewidth\": 2}}}, \"title\": {\"text\": \"Model performances\"}, \"xaxis\": {\"gridcolor\": \"rgb(255, 255, 255)\", \"gridwidth\": 2, \"ticklen\": 5, \"title\": {\"text\": \"metric\"}, \"zerolinewidth\": 1}, \"yaxis\": {\"gridcolor\": \"rgb(255, 255, 255)\", \"gridwidth\": 2, \"ticklen\": 5, \"zerolinewidth\": 1}},\n",
       "                        {\"responsive\": true}\n",
       "                    ).then(function(){\n",
       "                            \n",
       "var gd = document.getElementById('5a725858-a798-4381-83f1-e8902d431d5a');\n",
       "var x = new MutationObserver(function (mutations, observer) {{\n",
       "        var display = window.getComputedStyle(gd).display;\n",
       "        if (!display || display === 'none') {{\n",
       "            console.log([gd, 'removed!']);\n",
       "            Plotly.purge(gd);\n",
       "            observer.disconnect();\n",
       "        }}\n",
       "}});\n",
       "\n",
       "// Listen for the removal of the full notebook cells\n",
       "var notebookContainer = gd.closest('#notebook-container');\n",
       "if (notebookContainer) {{\n",
       "    x.observe(notebookContainer, {childList: true});\n",
       "}}\n",
       "\n",
       "// Listen for the clearing of the current output cell\n",
       "var outputEl = gd.closest('.output');\n",
       "if (outputEl) {{\n",
       "    x.observe(outputEl, {childList: true});\n",
       "}}\n",
       "\n",
       "                        })\n",
       "                };\n",
       "                });\n",
       "            </script>\n",
       "        </div>"
      ]
     },
     "metadata": {
      "tags": []
     },
     "output_type": "display_data"
    }
   ],
   "source": [
    "name = \"Logistic Regression\"\n",
    "#logit = LogisticRegression(C=10, fit_intercept= False, max_iter= 200, penalty= 'l2', \n",
    "#                              random_state= 11, solver= 'liblinear')\n",
    "logit = LogisticRegression(C=1, fit_intercept= True, max_iter= 200, penalty= 'l2', \n",
    "                              random_state= 11, solver= 'liblinear')\n",
    "model1 = model_report(logit,X_train_smote,X_test,y_train_smote,y_test,name)\n",
    "\n",
    "name = \"Random Forest Classifier\"\n",
    "#rfc = RandomForestClassifier(criterion='entropy' , max_depth =5, max_features= 0.5, \n",
    "#                                min_samples_leaf = 5, min_samples_split= 50, n_estimators=10)\n",
    "rfc = RandomForestClassifier(criterion='gini' , max_depth =5, max_features= 0.9, \n",
    "                                min_samples_leaf = 5, min_samples_split= 5, n_estimators=10, oob_score=True)\n",
    "model2 = model_report(rfc,X_train_smote,X_test,y_train_smote,y_test,name)\n",
    "\n",
    "name = \"SVM Classifier Linear\"\n",
    "svc  = SVC(kernel ='rbf', C=0.01, degree= 2,  tol = 0.0001, gamma = 'auto')\n",
    "model3 = model_report(svc,X_train_smote,X_test,y_train_smote,y_test,name)\n",
    "\n",
    "name = \"XGBoost Classifier\"\n",
    "#xgc = XGBClassifier(learning_rate=1, max_depth=3,min_child_weight=10,n_estimators=5,subsample= 0.3)\n",
    "xgc = XGBClassifier(eta=1, max_depth=3,min_child_weight=18,n_estimators=5,subsample= 0.3)\n",
    "model4 = model_report(xgc,X_train_smote,X_test,y_train_smote,y_test,name)\n",
    "\n",
    "name = \"neural_network MLPClassifier\"\n",
    "clf_NN = MLPClassifier(solver='lbfgs', alpha=100, shuffle=True,\n",
    "                       hidden_layer_sizes=(50,50), random_state=1)\n",
    "model5 = model_report(clf_NN,X_train_smote,X_test,y_train_smote,y_test,name)\n",
    "\n",
    "#concat all models\n",
    "model_performances = pd.concat([model1,model2,model3,model4, model5],axis = 0).reset_index()\n",
    "\n",
    "model_performances = model_performances.drop(columns = \"index\",axis =1)\n",
    "display(model_performances)\n",
    "\n",
    "plot_tracers(model_performances)"
   ]
  },
  {
   "cell_type": "markdown",
   "metadata": {
    "colab_type": "text",
    "id": "Fcq6042KUMyk"
   },
   "source": [
    "## Conclusion \n",
    "\n",
    "The best model is Random forest\n",
    "model parameters\n",
    "\n",
    "RandomForestClassifier(<b>criterion='gini' , max_depth =5, max_features= 0.9, \n",
    "                                min_samples_leaf = 5, min_samples_split= 5, n_estimators=10, oob_score=True</b>)"
   ]
  },
  {
   "cell_type": "code",
   "execution_count": 0,
   "metadata": {
    "colab": {},
    "colab_type": "code",
    "id": "kw1CnYRMUMyk"
   },
   "outputs": [],
   "source": []
  }
 ],
 "metadata": {
  "colab": {
   "name": "4-Model_colabs.ipynb",
   "provenance": []
  },
  "kernelspec": {
   "display_name": "Python 3",
   "language": "python",
   "name": "python3"
  },
  "language_info": {
   "codemirror_mode": {
    "name": "ipython",
    "version": 3
   },
   "file_extension": ".py",
   "mimetype": "text/x-python",
   "name": "python",
   "nbconvert_exporter": "python",
   "pygments_lexer": "ipython3",
   "version": "3.6.9"
  },
  "toc": {
   "base_numbering": 1,
   "nav_menu": {},
   "number_sections": true,
   "sideBar": true,
   "skip_h1_title": true,
   "title_cell": "Table of Contents",
   "title_sidebar": "Contents",
   "toc_cell": false,
   "toc_position": {
    "height": "calc(100% - 180px)",
    "left": "10px",
    "top": "150px",
    "width": "348.594px"
   },
   "toc_section_display": true,
   "toc_window_display": true
  }
 },
 "nbformat": 4,
 "nbformat_minor": 1
}
