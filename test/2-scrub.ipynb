{
 "cells": [
  {
   "cell_type": "markdown",
   "metadata": {},
   "source": [
    "<p style=\"font-size:300%; text-align:center\"> Telco Customer Churn modeling</p>\n",
    "<p style=\"font-size:150%; text-align:center\"> Focused customer retention programs <br> MOD3 Project - 2. Scrub</p>\n"
   ]
  },
  {
   "cell_type": "code",
   "execution_count": 1,
   "metadata": {},
   "outputs": [],
   "source": [
    "# import important libraries\n",
    "import numpy as np\n",
    "import pandas as pd\n",
    "import seaborn as sns\n",
    "import matplotlib.pyplot as plt"
   ]
  },
  {
   "cell_type": "code",
   "execution_count": 2,
   "metadata": {},
   "outputs": [
    {
     "data": {
      "text/html": [
       "<div>\n",
       "<style scoped>\n",
       "    .dataframe tbody tr th:only-of-type {\n",
       "        vertical-align: middle;\n",
       "    }\n",
       "\n",
       "    .dataframe tbody tr th {\n",
       "        vertical-align: top;\n",
       "    }\n",
       "\n",
       "    .dataframe thead th {\n",
       "        text-align: right;\n",
       "    }\n",
       "</style>\n",
       "<table border=\"1\" class=\"dataframe\">\n",
       "  <thead>\n",
       "    <tr style=\"text-align: right;\">\n",
       "      <th></th>\n",
       "      <th>1252</th>\n",
       "      <th>7018</th>\n",
       "      <th>1840</th>\n",
       "      <th>5359</th>\n",
       "      <th>2173</th>\n",
       "      <th>1024</th>\n",
       "    </tr>\n",
       "  </thead>\n",
       "  <tbody>\n",
       "    <tr>\n",
       "      <td>customerID</td>\n",
       "      <td>7617-EYGLW</td>\n",
       "      <td>1122-JWTJW</td>\n",
       "      <td>6990-YNRIO</td>\n",
       "      <td>5143-EGQFK</td>\n",
       "      <td>2038-OEQZH</td>\n",
       "      <td>7147-AYBAA</td>\n",
       "    </tr>\n",
       "    <tr>\n",
       "      <td>gender</td>\n",
       "      <td>Male</td>\n",
       "      <td>Male</td>\n",
       "      <td>Male</td>\n",
       "      <td>Female</td>\n",
       "      <td>Male</td>\n",
       "      <td>Male</td>\n",
       "    </tr>\n",
       "    <tr>\n",
       "      <td>SeniorCitizen</td>\n",
       "      <td>0</td>\n",
       "      <td>0</td>\n",
       "      <td>0</td>\n",
       "      <td>1</td>\n",
       "      <td>0</td>\n",
       "      <td>0</td>\n",
       "    </tr>\n",
       "    <tr>\n",
       "      <td>Partner</td>\n",
       "      <td>No</td>\n",
       "      <td>Yes</td>\n",
       "      <td>Yes</td>\n",
       "      <td>No</td>\n",
       "      <td>No</td>\n",
       "      <td>No</td>\n",
       "    </tr>\n",
       "    <tr>\n",
       "      <td>Dependents</td>\n",
       "      <td>No</td>\n",
       "      <td>Yes</td>\n",
       "      <td>Yes</td>\n",
       "      <td>No</td>\n",
       "      <td>No</td>\n",
       "      <td>No</td>\n",
       "    </tr>\n",
       "    <tr>\n",
       "      <td>tenure</td>\n",
       "      <td>1</td>\n",
       "      <td>1</td>\n",
       "      <td>65</td>\n",
       "      <td>10</td>\n",
       "      <td>4</td>\n",
       "      <td>37</td>\n",
       "    </tr>\n",
       "    <tr>\n",
       "      <td>PhoneService</td>\n",
       "      <td>Yes</td>\n",
       "      <td>Yes</td>\n",
       "      <td>Yes</td>\n",
       "      <td>No</td>\n",
       "      <td>Yes</td>\n",
       "      <td>Yes</td>\n",
       "    </tr>\n",
       "    <tr>\n",
       "      <td>MultipleLines</td>\n",
       "      <td>No</td>\n",
       "      <td>No</td>\n",
       "      <td>Yes</td>\n",
       "      <td>No phone service</td>\n",
       "      <td>No</td>\n",
       "      <td>No</td>\n",
       "    </tr>\n",
       "    <tr>\n",
       "      <td>InternetService</td>\n",
       "      <td>No</td>\n",
       "      <td>Fiber optic</td>\n",
       "      <td>Fiber optic</td>\n",
       "      <td>DSL</td>\n",
       "      <td>Fiber optic</td>\n",
       "      <td>Fiber optic</td>\n",
       "    </tr>\n",
       "    <tr>\n",
       "      <td>OnlineSecurity</td>\n",
       "      <td>No internet service</td>\n",
       "      <td>No</td>\n",
       "      <td>Yes</td>\n",
       "      <td>No</td>\n",
       "      <td>No</td>\n",
       "      <td>No</td>\n",
       "    </tr>\n",
       "    <tr>\n",
       "      <td>OnlineBackup</td>\n",
       "      <td>No internet service</td>\n",
       "      <td>No</td>\n",
       "      <td>No</td>\n",
       "      <td>No</td>\n",
       "      <td>No</td>\n",
       "      <td>No</td>\n",
       "    </tr>\n",
       "    <tr>\n",
       "      <td>DeviceProtection</td>\n",
       "      <td>No internet service</td>\n",
       "      <td>No</td>\n",
       "      <td>Yes</td>\n",
       "      <td>No</td>\n",
       "      <td>Yes</td>\n",
       "      <td>No</td>\n",
       "    </tr>\n",
       "    <tr>\n",
       "      <td>TechSupport</td>\n",
       "      <td>No internet service</td>\n",
       "      <td>No</td>\n",
       "      <td>Yes</td>\n",
       "      <td>Yes</td>\n",
       "      <td>No</td>\n",
       "      <td>No</td>\n",
       "    </tr>\n",
       "    <tr>\n",
       "      <td>StreamingTV</td>\n",
       "      <td>No internet service</td>\n",
       "      <td>No</td>\n",
       "      <td>Yes</td>\n",
       "      <td>No</td>\n",
       "      <td>No</td>\n",
       "      <td>No</td>\n",
       "    </tr>\n",
       "    <tr>\n",
       "      <td>StreamingMovies</td>\n",
       "      <td>No internet service</td>\n",
       "      <td>No</td>\n",
       "      <td>Yes</td>\n",
       "      <td>No</td>\n",
       "      <td>Yes</td>\n",
       "      <td>No</td>\n",
       "    </tr>\n",
       "    <tr>\n",
       "      <td>Contract</td>\n",
       "      <td>Month-to-month</td>\n",
       "      <td>Month-to-month</td>\n",
       "      <td>Two year</td>\n",
       "      <td>Month-to-month</td>\n",
       "      <td>Month-to-month</td>\n",
       "      <td>Month-to-month</td>\n",
       "    </tr>\n",
       "    <tr>\n",
       "      <td>PaperlessBilling</td>\n",
       "      <td>No</td>\n",
       "      <td>Yes</td>\n",
       "      <td>No</td>\n",
       "      <td>Yes</td>\n",
       "      <td>No</td>\n",
       "      <td>Yes</td>\n",
       "    </tr>\n",
       "    <tr>\n",
       "      <td>PaymentMethod</td>\n",
       "      <td>Electronic check</td>\n",
       "      <td>Mailed check</td>\n",
       "      <td>Bank transfer (automatic)</td>\n",
       "      <td>Electronic check</td>\n",
       "      <td>Electronic check</td>\n",
       "      <td>Mailed check</td>\n",
       "    </tr>\n",
       "    <tr>\n",
       "      <td>MonthlyCharges</td>\n",
       "      <td>19.45</td>\n",
       "      <td>70.65</td>\n",
       "      <td>108.65</td>\n",
       "      <td>29.65</td>\n",
       "      <td>86.05</td>\n",
       "      <td>70.35</td>\n",
       "    </tr>\n",
       "    <tr>\n",
       "      <td>TotalCharges</td>\n",
       "      <td>19.45</td>\n",
       "      <td>70.65</td>\n",
       "      <td>6937.95</td>\n",
       "      <td>291.4</td>\n",
       "      <td>308.1</td>\n",
       "      <td>2552.9</td>\n",
       "    </tr>\n",
       "    <tr>\n",
       "      <td>Churn</td>\n",
       "      <td>No</td>\n",
       "      <td>Yes</td>\n",
       "      <td>Yes</td>\n",
       "      <td>Yes</td>\n",
       "      <td>No</td>\n",
       "      <td>No</td>\n",
       "    </tr>\n",
       "  </tbody>\n",
       "</table>\n",
       "</div>"
      ],
      "text/plain": [
       "                                 1252            7018  \\\n",
       "customerID                 7617-EYGLW      1122-JWTJW   \n",
       "gender                           Male            Male   \n",
       "SeniorCitizen                       0               0   \n",
       "Partner                            No             Yes   \n",
       "Dependents                         No             Yes   \n",
       "tenure                              1               1   \n",
       "PhoneService                      Yes             Yes   \n",
       "MultipleLines                      No              No   \n",
       "InternetService                    No     Fiber optic   \n",
       "OnlineSecurity    No internet service              No   \n",
       "OnlineBackup      No internet service              No   \n",
       "DeviceProtection  No internet service              No   \n",
       "TechSupport       No internet service              No   \n",
       "StreamingTV       No internet service              No   \n",
       "StreamingMovies   No internet service              No   \n",
       "Contract               Month-to-month  Month-to-month   \n",
       "PaperlessBilling                   No             Yes   \n",
       "PaymentMethod        Electronic check    Mailed check   \n",
       "MonthlyCharges                  19.45           70.65   \n",
       "TotalCharges                    19.45           70.65   \n",
       "Churn                              No             Yes   \n",
       "\n",
       "                                       1840              5359  \\\n",
       "customerID                       6990-YNRIO        5143-EGQFK   \n",
       "gender                                 Male            Female   \n",
       "SeniorCitizen                             0                 1   \n",
       "Partner                                 Yes                No   \n",
       "Dependents                              Yes                No   \n",
       "tenure                                   65                10   \n",
       "PhoneService                            Yes                No   \n",
       "MultipleLines                           Yes  No phone service   \n",
       "InternetService                 Fiber optic               DSL   \n",
       "OnlineSecurity                          Yes                No   \n",
       "OnlineBackup                             No                No   \n",
       "DeviceProtection                        Yes                No   \n",
       "TechSupport                             Yes               Yes   \n",
       "StreamingTV                             Yes                No   \n",
       "StreamingMovies                         Yes                No   \n",
       "Contract                           Two year    Month-to-month   \n",
       "PaperlessBilling                         No               Yes   \n",
       "PaymentMethod     Bank transfer (automatic)  Electronic check   \n",
       "MonthlyCharges                       108.65             29.65   \n",
       "TotalCharges                        6937.95             291.4   \n",
       "Churn                                   Yes               Yes   \n",
       "\n",
       "                              2173            1024  \n",
       "customerID              2038-OEQZH      7147-AYBAA  \n",
       "gender                        Male            Male  \n",
       "SeniorCitizen                    0               0  \n",
       "Partner                         No              No  \n",
       "Dependents                      No              No  \n",
       "tenure                           4              37  \n",
       "PhoneService                   Yes             Yes  \n",
       "MultipleLines                   No              No  \n",
       "InternetService        Fiber optic     Fiber optic  \n",
       "OnlineSecurity                  No              No  \n",
       "OnlineBackup                    No              No  \n",
       "DeviceProtection               Yes              No  \n",
       "TechSupport                     No              No  \n",
       "StreamingTV                     No              No  \n",
       "StreamingMovies                Yes              No  \n",
       "Contract            Month-to-month  Month-to-month  \n",
       "PaperlessBilling                No             Yes  \n",
       "PaymentMethod     Electronic check    Mailed check  \n",
       "MonthlyCharges               86.05           70.35  \n",
       "TotalCharges                 308.1          2552.9  \n",
       "Churn                           No              No  "
      ]
     },
     "execution_count": 2,
     "metadata": {},
     "output_type": "execute_result"
    }
   ],
   "source": [
    "# import important and explore dataset\n",
    "df = pd.read_csv(\"data/WA_Fn-UseC_-Telco-Customer-Churn.csv\")\n",
    "df.sample(6).T"
   ]
  },
  {
   "cell_type": "markdown",
   "metadata": {},
   "source": [
    "## Any obvious features to eliminate? \n",
    "customerID needs to be removed for data explorationa, analysis and model building. "
   ]
  },
  {
   "cell_type": "code",
   "execution_count": 3,
   "metadata": {},
   "outputs": [],
   "source": [
    "# let's remove customer ID as it's not helpful fro data analysis and prediction\n",
    "df = df.drop(['customerID'], axis=1)"
   ]
  },
  {
   "cell_type": "code",
   "execution_count": 4,
   "metadata": {},
   "outputs": [
    {
     "name": "stdout",
     "output_type": "stream",
     "text": [
      "<class 'pandas.core.frame.DataFrame'>\n",
      "RangeIndex: 7043 entries, 0 to 7042\n",
      "Data columns (total 20 columns):\n",
      "gender              7043 non-null object\n",
      "SeniorCitizen       7043 non-null int64\n",
      "Partner             7043 non-null object\n",
      "Dependents          7043 non-null object\n",
      "tenure              7043 non-null int64\n",
      "PhoneService        7043 non-null object\n",
      "MultipleLines       7043 non-null object\n",
      "InternetService     7043 non-null object\n",
      "OnlineSecurity      7043 non-null object\n",
      "OnlineBackup        7043 non-null object\n",
      "DeviceProtection    7043 non-null object\n",
      "TechSupport         7043 non-null object\n",
      "StreamingTV         7043 non-null object\n",
      "StreamingMovies     7043 non-null object\n",
      "Contract            7043 non-null object\n",
      "PaperlessBilling    7043 non-null object\n",
      "PaymentMethod       7043 non-null object\n",
      "MonthlyCharges      7043 non-null float64\n",
      "TotalCharges        7043 non-null object\n",
      "Churn               7043 non-null object\n",
      "dtypes: float64(1), int64(2), object(17)\n",
      "memory usage: 1.1+ MB\n"
     ]
    }
   ],
   "source": [
    "df.info()"
   ]
  },
  {
   "cell_type": "markdown",
   "metadata": {},
   "source": [
    "First look at the data types show TotalCharge should be a numerical value. Let's first explore this feature. "
   ]
  },
  {
   "cell_type": "code",
   "execution_count": 5,
   "metadata": {},
   "outputs": [
    {
     "data": {
      "text/plain": [
       "          11\n",
       "20.2      11\n",
       "19.75      9\n",
       "19.9       8\n",
       "20.05      8\n",
       "          ..\n",
       "580.1      1\n",
       "221.9      1\n",
       "717.95     1\n",
       "653.25     1\n",
       "169.75     1\n",
       "Name: TotalCharges, Length: 6531, dtype: int64"
      ]
     },
     "execution_count": 5,
     "metadata": {},
     "output_type": "execute_result"
    }
   ],
   "source": [
    "df.TotalCharges.value_counts()"
   ]
  },
  {
   "cell_type": "code",
   "execution_count": 6,
   "metadata": {},
   "outputs": [],
   "source": [
    "# there appear to be 11 empty values. Let's replace them with nan. and since it's less than .2% of the data we can drop them\n",
    "df.TotalCharges = df.TotalCharges.replace(\" \",np.nan)\n",
    "df.dropna(inplace=True)"
   ]
  },
  {
   "cell_type": "code",
   "execution_count": 7,
   "metadata": {},
   "outputs": [],
   "source": [
    "# let's chack for duplicates <-- this is questionable \n",
    "#df.duplicated()\n",
    "#df[df.duplicated()]"
   ]
  },
  {
   "cell_type": "code",
   "execution_count": 8,
   "metadata": {},
   "outputs": [
    {
     "data": {
      "text/plain": [
       "Male      3549\n",
       "Female    3483\n",
       "Name: gender, dtype: int64"
      ]
     },
     "metadata": {},
     "output_type": "display_data"
    },
    {
     "data": {
      "text/plain": [
       "0    5890\n",
       "1    1142\n",
       "Name: SeniorCitizen, dtype: int64"
      ]
     },
     "metadata": {},
     "output_type": "display_data"
    },
    {
     "data": {
      "text/plain": [
       "No     3639\n",
       "Yes    3393\n",
       "Name: Partner, dtype: int64"
      ]
     },
     "metadata": {},
     "output_type": "display_data"
    },
    {
     "data": {
      "text/plain": [
       "No     4933\n",
       "Yes    2099\n",
       "Name: Dependents, dtype: int64"
      ]
     },
     "metadata": {},
     "output_type": "display_data"
    },
    {
     "data": {
      "text/plain": [
       "1     613\n",
       "72    362\n",
       "2     238\n",
       "3     200\n",
       "4     176\n",
       "     ... \n",
       "38     59\n",
       "28     57\n",
       "39     56\n",
       "44     51\n",
       "36     50\n",
       "Name: tenure, Length: 72, dtype: int64"
      ]
     },
     "metadata": {},
     "output_type": "display_data"
    },
    {
     "data": {
      "text/plain": [
       "Yes    6352\n",
       "No      680\n",
       "Name: PhoneService, dtype: int64"
      ]
     },
     "metadata": {},
     "output_type": "display_data"
    },
    {
     "data": {
      "text/plain": [
       "No                  3385\n",
       "Yes                 2967\n",
       "No phone service     680\n",
       "Name: MultipleLines, dtype: int64"
      ]
     },
     "metadata": {},
     "output_type": "display_data"
    },
    {
     "data": {
      "text/plain": [
       "Fiber optic    3096\n",
       "DSL            2416\n",
       "No             1520\n",
       "Name: InternetService, dtype: int64"
      ]
     },
     "metadata": {},
     "output_type": "display_data"
    },
    {
     "data": {
      "text/plain": [
       "No                     3497\n",
       "Yes                    2015\n",
       "No internet service    1520\n",
       "Name: OnlineSecurity, dtype: int64"
      ]
     },
     "metadata": {},
     "output_type": "display_data"
    },
    {
     "data": {
      "text/plain": [
       "No                     3087\n",
       "Yes                    2425\n",
       "No internet service    1520\n",
       "Name: OnlineBackup, dtype: int64"
      ]
     },
     "metadata": {},
     "output_type": "display_data"
    },
    {
     "data": {
      "text/plain": [
       "No                     3094\n",
       "Yes                    2418\n",
       "No internet service    1520\n",
       "Name: DeviceProtection, dtype: int64"
      ]
     },
     "metadata": {},
     "output_type": "display_data"
    },
    {
     "data": {
      "text/plain": [
       "No                     3472\n",
       "Yes                    2040\n",
       "No internet service    1520\n",
       "Name: TechSupport, dtype: int64"
      ]
     },
     "metadata": {},
     "output_type": "display_data"
    },
    {
     "data": {
      "text/plain": [
       "No                     2809\n",
       "Yes                    2703\n",
       "No internet service    1520\n",
       "Name: StreamingTV, dtype: int64"
      ]
     },
     "metadata": {},
     "output_type": "display_data"
    },
    {
     "data": {
      "text/plain": [
       "No                     2781\n",
       "Yes                    2731\n",
       "No internet service    1520\n",
       "Name: StreamingMovies, dtype: int64"
      ]
     },
     "metadata": {},
     "output_type": "display_data"
    },
    {
     "data": {
      "text/plain": [
       "Month-to-month    3875\n",
       "Two year          1685\n",
       "One year          1472\n",
       "Name: Contract, dtype: int64"
      ]
     },
     "metadata": {},
     "output_type": "display_data"
    },
    {
     "data": {
      "text/plain": [
       "Yes    4168\n",
       "No     2864\n",
       "Name: PaperlessBilling, dtype: int64"
      ]
     },
     "metadata": {},
     "output_type": "display_data"
    },
    {
     "data": {
      "text/plain": [
       "Electronic check             2365\n",
       "Mailed check                 1604\n",
       "Bank transfer (automatic)    1542\n",
       "Credit card (automatic)      1521\n",
       "Name: PaymentMethod, dtype: int64"
      ]
     },
     "metadata": {},
     "output_type": "display_data"
    },
    {
     "data": {
      "text/plain": [
       "20.05     61\n",
       "19.85     44\n",
       "19.90     44\n",
       "19.95     44\n",
       "19.65     43\n",
       "          ..\n",
       "92.35      1\n",
       "35.60      1\n",
       "72.85      1\n",
       "67.70      1\n",
       "113.30     1\n",
       "Name: MonthlyCharges, Length: 1584, dtype: int64"
      ]
     },
     "metadata": {},
     "output_type": "display_data"
    },
    {
     "data": {
      "text/plain": [
       "20.2      11\n",
       "19.75      9\n",
       "20.05      8\n",
       "19.65      8\n",
       "19.9       8\n",
       "          ..\n",
       "8166.8     1\n",
       "580.1      1\n",
       "221.9      1\n",
       "717.95     1\n",
       "169.75     1\n",
       "Name: TotalCharges, Length: 6530, dtype: int64"
      ]
     },
     "metadata": {},
     "output_type": "display_data"
    },
    {
     "data": {
      "text/plain": [
       "No     5163\n",
       "Yes    1869\n",
       "Name: Churn, dtype: int64"
      ]
     },
     "metadata": {},
     "output_type": "display_data"
    }
   ],
   "source": [
    "for col in df.columns:\n",
    "    display(df[col].value_counts())"
   ]
  },
  {
   "cell_type": "code",
   "execution_count": 9,
   "metadata": {},
   "outputs": [],
   "source": [
    "cat_cols=['gender','SeniorCitizen', 'Partner', 'PhoneService', 'MultipleLines', 'InternetService',\n",
    "          'OnlineSecurity', 'OnlineBackup', 'DeviceProtection',  'TechSupport', 'StreamingTV',\n",
    "          'StreamingMovies', 'Contract', 'PaperlessBilling', 'PaymentMethod', 'Churn']"
   ]
  },
  {
   "cell_type": "code",
   "execution_count": 10,
   "metadata": {},
   "outputs": [],
   "source": [
    "internet_cols=['InternetService', 'OnlineSecurity', 'OnlineBackup', 'DeviceProtection',\n",
    "               'TechSupport', 'StreamingTV', 'StreamingMovies']\n",
    "#for col in internet_cols:\n",
    "#    display(df[col].value_counts())"
   ]
  },
  {
   "cell_type": "code",
   "execution_count": 11,
   "metadata": {},
   "outputs": [],
   "source": [
    "#df[(df['InternetService'] == 'Fiber optic') & (df['OnlineSecurity'] == 'No')].OnlineSecurity.count()\n",
    "#df[(df['InternetService'] == 'Fiber optic') & (df['OnlineBackup'] == 'Yes')].OnlineBackup.count()"
   ]
  },
  {
   "cell_type": "code",
   "execution_count": 12,
   "metadata": {},
   "outputs": [],
   "source": [
    "df.to_csv(\"data/telco_clean_1.csv\", index=False)"
   ]
  },
  {
   "cell_type": "markdown",
   "metadata": {},
   "source": [
    "## removing redundancies\n",
    "\n",
    "* \"No phone service\" of \"MultipleLines\" means no multiple lines by definition. Thus, we can change \"no phone service\" to simply \"no\". <br>\n",
    "* Similarly \"No internet service\" in features \"OnlineSecurity\", \"OnlineBackup\", \"DeviceProtection\", \"TechSupport\", \"StreamingTV\" and \"StreamingMovies\" can be changed to \"no\" as well "
   ]
  },
  {
   "cell_type": "code",
   "execution_count": 13,
   "metadata": {},
   "outputs": [],
   "source": [
    "# Make the target and Yes/No categorical features numerical\n",
    "df.replace(to_replace=[\"No phone service\", \"No internet service\", \"Fiber optic\"], \n",
    "           value = [\"No\", \"No\", \"Fiber_optic\"], inplace=True)\n",
    "# replace Yes/No to 1/0 on all dataset \n",
    "df.replace(to_replace=[\"Yes\", \"No\"], value = [1, 0], inplace=True)\n",
    "# replace Male/Female to 1/0 \n",
    "df.gender.replace(to_replace=[\"Male\", \"Female\"], value = [1, 0], inplace=True)\n",
    "# clean the 'Contract'\n",
    "df['Contract'] = df['Contract'].apply(lambda x: x.strip().replace(\" \",\"_\").replace(\"-\",\"_\"))\n",
    "# clean the PaymentMethod\n",
    "df['PaymentMethod'] = df['PaymentMethod'].apply(lambda x: x.replace(\"automatic\", \"\").replace(\"(\", \"\").replace(\")\", \"\").strip())\n",
    "df['PaymentMethod'] = df['PaymentMethod'].apply(lambda x: x.strip().replace(\" \",\"_\").replace(\"\\(automatic\\)\", \"\"))\n",
    "#display(df['PaymentMethod'].value_counts())"
   ]
  },
  {
   "cell_type": "code",
   "execution_count": 14,
   "metadata": {},
   "outputs": [
    {
     "data": {
      "text/plain": [
       "1    3549\n",
       "0    3483\n",
       "Name: gender, dtype: int64"
      ]
     },
     "metadata": {},
     "output_type": "display_data"
    },
    {
     "data": {
      "text/plain": [
       "0    5890\n",
       "1    1142\n",
       "Name: SeniorCitizen, dtype: int64"
      ]
     },
     "metadata": {},
     "output_type": "display_data"
    },
    {
     "data": {
      "text/plain": [
       "0    3639\n",
       "1    3393\n",
       "Name: Partner, dtype: int64"
      ]
     },
     "metadata": {},
     "output_type": "display_data"
    },
    {
     "data": {
      "text/plain": [
       "1    6352\n",
       "0     680\n",
       "Name: PhoneService, dtype: int64"
      ]
     },
     "metadata": {},
     "output_type": "display_data"
    },
    {
     "data": {
      "text/plain": [
       "0    4065\n",
       "1    2967\n",
       "Name: MultipleLines, dtype: int64"
      ]
     },
     "metadata": {},
     "output_type": "display_data"
    },
    {
     "data": {
      "text/plain": [
       "Fiber_optic    3096\n",
       "DSL            2416\n",
       "0              1520\n",
       "Name: InternetService, dtype: int64"
      ]
     },
     "metadata": {},
     "output_type": "display_data"
    },
    {
     "data": {
      "text/plain": [
       "0    5017\n",
       "1    2015\n",
       "Name: OnlineSecurity, dtype: int64"
      ]
     },
     "metadata": {},
     "output_type": "display_data"
    },
    {
     "data": {
      "text/plain": [
       "0    4607\n",
       "1    2425\n",
       "Name: OnlineBackup, dtype: int64"
      ]
     },
     "metadata": {},
     "output_type": "display_data"
    },
    {
     "data": {
      "text/plain": [
       "0    4614\n",
       "1    2418\n",
       "Name: DeviceProtection, dtype: int64"
      ]
     },
     "metadata": {},
     "output_type": "display_data"
    },
    {
     "data": {
      "text/plain": [
       "0    4992\n",
       "1    2040\n",
       "Name: TechSupport, dtype: int64"
      ]
     },
     "metadata": {},
     "output_type": "display_data"
    },
    {
     "data": {
      "text/plain": [
       "0    4329\n",
       "1    2703\n",
       "Name: StreamingTV, dtype: int64"
      ]
     },
     "metadata": {},
     "output_type": "display_data"
    },
    {
     "data": {
      "text/plain": [
       "0    4301\n",
       "1    2731\n",
       "Name: StreamingMovies, dtype: int64"
      ]
     },
     "metadata": {},
     "output_type": "display_data"
    },
    {
     "data": {
      "text/plain": [
       "Month_to_month    3875\n",
       "Two_year          1685\n",
       "One_year          1472\n",
       "Name: Contract, dtype: int64"
      ]
     },
     "metadata": {},
     "output_type": "display_data"
    },
    {
     "data": {
      "text/plain": [
       "1    4168\n",
       "0    2864\n",
       "Name: PaperlessBilling, dtype: int64"
      ]
     },
     "metadata": {},
     "output_type": "display_data"
    },
    {
     "data": {
      "text/plain": [
       "Electronic_check    2365\n",
       "Mailed_check        1604\n",
       "Bank_transfer       1542\n",
       "Credit_card         1521\n",
       "Name: PaymentMethod, dtype: int64"
      ]
     },
     "metadata": {},
     "output_type": "display_data"
    },
    {
     "data": {
      "text/plain": [
       "0    5163\n",
       "1    1869\n",
       "Name: Churn, dtype: int64"
      ]
     },
     "metadata": {},
     "output_type": "display_data"
    }
   ],
   "source": [
    "for col in cat_cols:\n",
    "    display(df[col].value_counts())"
   ]
  },
  {
   "cell_type": "markdown",
   "metadata": {},
   "source": [
    "## Scrubbing done\n",
    "save file \n"
   ]
  },
  {
   "cell_type": "code",
   "execution_count": 15,
   "metadata": {},
   "outputs": [],
   "source": [
    "df.to_csv(\"data/telco_clean.csv\", index=False)"
   ]
  }
 ],
 "metadata": {
  "kernelspec": {
   "display_name": "Python [conda env:learn-env] *",
   "language": "python",
   "name": "conda-env-learn-env-py"
  },
  "language_info": {
   "codemirror_mode": {
    "name": "ipython",
    "version": 3
   },
   "file_extension": ".py",
   "mimetype": "text/x-python",
   "name": "python",
   "nbconvert_exporter": "python",
   "pygments_lexer": "ipython3",
   "version": "3.6.9"
  },
  "toc": {
   "base_numbering": 1,
   "nav_menu": {},
   "number_sections": true,
   "sideBar": true,
   "skip_h1_title": true,
   "title_cell": "Table of Contents",
   "title_sidebar": "Contents",
   "toc_cell": false,
   "toc_position": {},
   "toc_section_display": true,
   "toc_window_display": false
  }
 },
 "nbformat": 4,
 "nbformat_minor": 2
}
