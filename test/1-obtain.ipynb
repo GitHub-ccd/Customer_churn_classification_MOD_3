{
 "cells": [
  {
   "cell_type": "markdown",
   "metadata": {},
   "source": [
    "<p style=\"font-size:300%; text-align:center\"> Telco Customer Churn modeling</p>\n",
    "<p style=\"font-size:150%; text-align:center\"> Focused customer retention programs <br> MOD3 Project - 1. Obtain</p>\n",
    "\n",
    "\n",
    "<b>Project objective:</b>\n",
    "Predict behavior to retain customers. You can analyze all relevant customer data and develop focused customer retention programs <br> \n",
    "<b>Data: </b>\n",
    "Data for this project is obtained from the [kaggel](https://www.kaggle.com/blastchar/telco-customer-churn) competition \n",
    "<br>\n",
    "<b>1. What is the customer churn distribution ?</b> <br>\n",
    "<b>2. What factors affects the churn ? </b> <br>\n",
    "<b>3. What are the important features ? </b> <br>\n",
    "<b>4. What models to be considered ? </b> <br>"
   ]
  },
  {
   "cell_type": "code",
   "execution_count": null,
   "metadata": {},
   "outputs": [],
   "source": [
    "# import important libraries\n",
    "import numpy as np\n",
    "import pandas as pd\n",
    "import seaborn as sns\n",
    "import matplotlib.pyplot as plt"
   ]
  },
  {
   "cell_type": "code",
   "execution_count": null,
   "metadata": {},
   "outputs": [],
   "source": [
    "# import important and explore dataset\n",
    "\n",
    "df = pd.read_csv(\"data/WA_Fn-UseC_-Telco-Customer-Churn.csv\")\n",
    "df.sample(6).T"
   ]
  },
  {
   "cell_type": "markdown",
   "metadata": {},
   "source": [
    "## How does the target (churn) look like ? "
   ]
  },
  {
   "cell_type": "code",
   "execution_count": null,
   "metadata": {},
   "outputs": [],
   "source": [
    "plt.pie(df[\"Churn\"].value_counts(),labels=('not churn','churn'), autopct ='%1.1f%%', startangle = 90,labeldistance = 1.1)\n",
    "plt.show()"
   ]
  },
  {
   "cell_type": "markdown",
   "metadata": {},
   "source": [
    "There are only 26.5% of churn customers. Thus, class imballenced problem. This has to be accounted for in the modeling stage"
   ]
  },
  {
   "cell_type": "markdown",
   "metadata": {},
   "source": [
    "## What are the features and their definitions ? "
   ]
  },
  {
   "cell_type": "code",
   "execution_count": null,
   "metadata": {},
   "outputs": [],
   "source": [
    "df.columns"
   ]
  },
  {
   "cell_type": "markdown",
   "metadata": {},
   "source": [
    "Information from [Kaggle](https://www.kaggle.com/blastchar/telco-customer-churn) about columns:\n",
    "\n",
    "1.  <b>customerID</b>: Customer ID, it is unique value and has 7043 inputs. (this is removed from analysis)<br>\n",
    "2.  <b>Catagorical variables</b>:<br>\n",
    "3.  <b>gender</b>: Whether the customer is a male or a female.<br>\n",
    "4.  <b>SeniorCitizen</b>: Whether the customer is a senior citizen or not (1, 0)<br>\n",
    "5.  <b>Partner</b>: Whether the customer has a partner or not (Yes, No)<br>\n",
    "6.  <b>Dependents</b>: Whether the customer has dependents or not (Yes, No)<br>\n",
    "7.  <b>PhoneService</b>: Whether the customer has a phone service or not (Yes, No)<br>\n",
    "8.  <b>MultipleLines</b>: Whether the customer has multiple lines or not (Yes, No, No phone service)<br>\n",
    "9.  <b>InternetService</b>: Customer’s internet service provider (DSL, Fiber optic, No)<br>\n",
    "10. <b>OnlineSecurity</b>: Whether the customer has online security or not (Yes, No, No internet service)<br>\n",
    "11. <b>OnlineBackup</b>: Whether the customer has online backup or not (Yes, No, No internet service)<br>\n",
    "12. <b>DeviceProtection</b>: Whether the customer has device protection or not (Yes, No, No internet service)<br>\n",
    "13. <b>TechSupport</b>: Whether the customer has tech support or not (Yes, No, No internet service)<br>\n",
    "14. <b>StreamingTV</b>: Whether the customer has streaming TV or not (Yes, No, No internet service)<br>\n",
    "15. <b>StreamingMovies</b>: Whether the customer has streaming movies or not (Yes, No, No internet service)<br>\n",
    "16. <b>Contract</b>: The contract term of the customer (Month-to-month, One year, Two year)<br>\n",
    "17. <b>PaperlessBilling</b>: Whether the customer has paperless billing or not (Yes, No)<br>\n",
    "18. <b>PaymentMethod</b>: The customer’s payment method (Electronic check, Mailed check, Bank transfer (automatic), Credit card (automatic))<br>\n",
    "\n",
    "\n",
    "<b>Numerical variables</b>:<br>\n",
    "1.  <b>tenure</b>: Number of months the customer has stayed with the company<br>\n",
    "2.  <b>MonthlyCharges</b>: The amount charged to the customer monthly<br>\n",
    "3.  <b>TotalCharges</b>: The total amount charged to the customer<br>\n",
    "\n",
    "<b>Target variable</b>:<br>\n",
    "<b>Churn</b>: Whether the customer churned or not (Yes or No) <br>"
   ]
  },
  {
   "cell_type": "code",
   "execution_count": null,
   "metadata": {},
   "outputs": [],
   "source": []
  }
 ],
 "metadata": {
  "kernelspec": {
   "display_name": "Python [conda env:learn-env] *",
   "language": "python",
   "name": "conda-env-learn-env-py"
  },
  "language_info": {
   "codemirror_mode": {
    "name": "ipython",
    "version": 3
   },
   "file_extension": ".py",
   "mimetype": "text/x-python",
   "name": "python",
   "nbconvert_exporter": "python",
   "pygments_lexer": "ipython3",
   "version": "3.6.9"
  },
  "toc": {
   "base_numbering": 1,
   "nav_menu": {},
   "number_sections": true,
   "sideBar": true,
   "skip_h1_title": true,
   "title_cell": "Table of Contents",
   "title_sidebar": "Contents",
   "toc_cell": false,
   "toc_position": {},
   "toc_section_display": true,
   "toc_window_display": false
  }
 },
 "nbformat": 4,
 "nbformat_minor": 2
}
